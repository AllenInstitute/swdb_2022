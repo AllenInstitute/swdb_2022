{
 "cells": [
  {
   "attachments": {},
   "cell_type": "markdown",
   "metadata": {},
   "source": [
    "<h2>Creating New Meshwork Files</h2>\n",
    "<div style=\"border-left: padding-left: 1px; background:#f9fdff \" >\n",
    "<img src=\"../resources/skel_header.png\">  \n",
    "    "
   ]
  },
  {
   "cell_type": "markdown",
   "metadata": {},
   "source": [
    "<div style=\"border-left: 3px solid #000; padding: 1px; padding-left: 10px; background: #F0FAFF; \">\n",
    "<h2>Creating New Meshwork Files</h2>\n",
    "\n",
    "Meshworks are objects that contains and links the mesh, skeleton, and annotations of a neuron. More information on what a meshwork is can be found at the end of the notebook and in the <code>EM_Connectome_Intro</code> notebook, but put simply, a meshwork seamlessly integrates a mesh, and skeleton, and annotations of a neuron. \n",
    "    \n",
    "You may want to create your own meshwork files on neurons that are not included in the s3 bucket. This notebook will show you examples on how to \n",
    "- create a meshwork using different arguments \n",
    "- visualise the skeleton with synapse annotations \n",
    "- crete an annotation to mask axons out of our meshwork \n",
    "- export the meshwork \n",
    "\n",
    "<h3> Prerequisites:</h3>\n",
    "To run this notebook please be sure to have pcg_skel (<code>pip install pcg_skel</code>) installed."
   ]
  },
  {
   "cell_type": "markdown",
   "metadata": {},
   "source": [
    "<div style=\"border-left: 3px solid #000; padding: 1px; padding-left: 10px; background: #F0FAFF; \">\n",
    "<h2>Basic Imports</h2>"
   ]
  },
  {
   "cell_type": "code",
   "execution_count": 37,
   "metadata": {},
   "outputs": [],
   "source": [
    "from meshparty import meshwork\n",
    "import pcg_skel\n",
    "import matplotlib.pyplot as plt\n",
    "from caveclient import CAVEclient\n",
    "\n",
    "# This function will make it easy to check our work as we go.\n",
    "def simple_neuron_plot(nrn, projection='xy', color='k', vertices='skeleton', synapses=False, highlight_root=False):\n",
    "    \"\"\"\n",
    "    Parameters:\n",
    "    nrn : meshwork object\n",
    "    projection : one of \"xy\", \"yz\", or \"zx\" determining which projection to show in the simple plot\n",
    "    color : matplotlib-accepted color value\n",
    "    vertices : one of \"skeleton\" or \"mesh\" to determine which values are shown. Skeleton is default.\n",
    "    synapses : True to show both pre and post, False to show neither, and \"pre\" or \"post\" to show only pre or post respectively.\n",
    "    highlight_root : boolean. True if you want to show the root vertices with a big red dot.\n",
    "    \"\"\"\n",
    "    if projection=='xy' or projection==\"yx\":\n",
    "        ind1 = 0\n",
    "        ind2 = 1\n",
    "        flip = True\n",
    "    elif projection == 'yz' or projection == \"zy\":\n",
    "        ind1 = 2\n",
    "        ind2 = 1\n",
    "        flip = True\n",
    "    elif projection == 'zx' or projection == \"xz\":\n",
    "        ind1 = 0\n",
    "        ind2 = 2\n",
    "        flip = False\n",
    "    else:\n",
    "        raise ValueError('Projection must be one of \"xy\", \"yz\", or \"zx\"')\n",
    "        \n",
    "    fig, ax = plt.subplots(figsize=(4,4), dpi=150)\n",
    "    if vertices == \"skeleton\":\n",
    "        v1 = nrn.skeleton.vertices[:,ind1]\n",
    "        v2 = nrn.skeleton.vertices[:,ind2]\n",
    "        rid = nrn.skeleton.root\n",
    "    elif vertices == \"mesh\":\n",
    "        v1 = nrn.mesh.vertices[:,ind1]\n",
    "        v2 = nrn.mesh.vertices[:,ind2]\n",
    "        rid = nrn.root_region\n",
    "    else:\n",
    "        raise ValueError('vertices must be one of \"skeleton\" or \"mesh\"')\n",
    "\n",
    "    ax.scatter(\n",
    "        v1,\n",
    "        v2,\n",
    "        s=1,\n",
    "        color=color,\n",
    "    )\n",
    "    \n",
    "        \n",
    "    if synapses:\n",
    "        try:\n",
    "            v1_pre = nrn.anno.pre_syn.points[:,ind1]\n",
    "            v2_pre = nrn.anno.pre_syn.points[:,ind2]\n",
    "            v1_post = nrn.anno.post_syn.points[:,ind1]\n",
    "            v2_post = nrn.anno.post_syn.points[:,ind2]\n",
    "        except:\n",
    "            v1_pre = []\n",
    "            v1_post = []\n",
    "            v2_pre = []\n",
    "            v2_post = []\n",
    "        if synapses == True or synapses == 'pre':\n",
    "            ax.scatter(\n",
    "                v1_pre,\n",
    "                v2_pre,\n",
    "                s=2,\n",
    "                color='tomato',\n",
    "                alpha=0.7,\n",
    "            )\n",
    "        if synapses == True or synapses == \"post\":\n",
    "            ax.scatter(\n",
    "                v1_post,\n",
    "                v2_post,\n",
    "                s=2,\n",
    "                color='turquoise',\n",
    "                alpha=0.2,\n",
    "            )\n",
    "            \n",
    "    if highlight_root:\n",
    "        ax.scatter(\n",
    "            v1[rid],\n",
    "            v2[rid],\n",
    "            s=25,\n",
    "            color='violet',\n",
    "        )\n",
    "\n",
    "    ax.set_aspect('equal')\n",
    "    if flip:\n",
    "        ax.invert_yaxis()\n",
    "    return fig, ax\n"
   ]
  },
  {
   "cell_type": "markdown",
   "metadata": {},
   "source": [
    "<div style=\"border-left: 3px solid #000; padding: 1px; padding-left: 10px; background: #F0FAFF; \">\n",
    "<h2> Selecting Neurons </h2>\n",
    "to create a meshwork of a neuron, you will need to have said neuron's root id.\n",
    "<h4>This Example: Selecting Bipolar cells</h4>\n",
    "we are going to run through how we would pick out neurons of a specific cell type from the 'allen_v1_column_types_slanted' table and get their root ids\n",
    "    \n",
    "Here, we are going to use the CAVEclient (Connectome Annotation Versioning Engine) to find the root ids of Bipolar Cells. "
   ]
  },
  {
   "cell_type": "markdown",
   "metadata": {},
   "source": [
    "<div style=\"border-left: 3px solid #000; padding: 1px; padding-left: 10px; background: #F0FAFF; \">\n",
    "<h2>1. Set up Caveclient</h2>\n",
    "CAVEclient is out proofrading/data annotation tool for largescale connectomics data\n",
    "<br />First we set up caveclient so we can 'allen_v1_column_types_slanted' for our neurons of interest\n",
    "<br>See https://github.com/seung-lab/CAVEclient for more information on CAVEclient<br />"
   ]
  },
  {
   "cell_type": "code",
   "execution_count": 2,
   "metadata": {},
   "outputs": [],
   "source": [
    "datastack_name = 'minnie65_public_v343' \n",
    "client = CAVEclient(datastack_name)\n",
    "client.materialize.version = 343"
   ]
  },
  {
   "cell_type": "markdown",
   "metadata": {},
   "source": [
    "<div style=\"border-left: 3px solid #000; padding: 1px; padding-left: 10px; background: #F0FAFF; \">\n",
    "we want to pick Bipolar neurons from the highly-proofread column, so we can query the 'allen_v1_column_types_slanted' table which contains all the cells in the slanted column and their predicted cell type"
   ]
  },
  {
   "cell_type": "code",
   "execution_count": 3,
   "metadata": {},
   "outputs": [
    {
     "name": "stdout",
     "output_type": "stream",
     "text": [
      "['synapses_pni_2', 'nucleus_neuron_svm', 'nucleus_detection_v0', 'functional_coreg', 'allen_v1_column_types_slanted', 'aibs_column_nonneuronal', 'func_unit_em_match_release', 'proofreading_status_public_release', 'aibs_soma_nuc_metamodel_preds_v117']\n"
     ]
    },
    {
     "data": {
      "text/html": [
       "<div>\n",
       "<style scoped>\n",
       "    .dataframe tbody tr th:only-of-type {\n",
       "        vertical-align: middle;\n",
       "    }\n",
       "\n",
       "    .dataframe tbody tr th {\n",
       "        vertical-align: top;\n",
       "    }\n",
       "\n",
       "    .dataframe thead th {\n",
       "        text-align: right;\n",
       "    }\n",
       "</style>\n",
       "<table border=\"1\" class=\"dataframe\">\n",
       "  <thead>\n",
       "    <tr style=\"text-align: right;\">\n",
       "      <th></th>\n",
       "      <th>id</th>\n",
       "      <th>valid</th>\n",
       "      <th>classification_system</th>\n",
       "      <th>cell_type</th>\n",
       "      <th>pt_supervoxel_id</th>\n",
       "      <th>pt_root_id</th>\n",
       "      <th>pt_position</th>\n",
       "    </tr>\n",
       "  </thead>\n",
       "  <tbody>\n",
       "    <tr>\n",
       "      <th>0</th>\n",
       "      <td>1379</td>\n",
       "      <td>t</td>\n",
       "      <td>aibs_coarse_excitatory</td>\n",
       "      <td>4P</td>\n",
       "      <td>89242892866409455</td>\n",
       "      <td>864691135687112672</td>\n",
       "      <td>[178160, 175136, 21428]</td>\n",
       "    </tr>\n",
       "    <tr>\n",
       "      <th>1</th>\n",
       "      <td>1382</td>\n",
       "      <td>t</td>\n",
       "      <td>aibs_coarse_excitatory</td>\n",
       "      <td>5P-IT</td>\n",
       "      <td>89594805373727621</td>\n",
       "      <td>864691135162584621</td>\n",
       "      <td>[180624, 175696, 21782]</td>\n",
       "    </tr>\n",
       "    <tr>\n",
       "      <th>2</th>\n",
       "      <td>1383</td>\n",
       "      <td>t</td>\n",
       "      <td>aibs_coarse_excitatory</td>\n",
       "      <td>5P-IT</td>\n",
       "      <td>91142986263977276</td>\n",
       "      <td>864691135988284416</td>\n",
       "      <td>[191776, 175824, 20404]</td>\n",
       "    </tr>\n",
       "  </tbody>\n",
       "</table>\n",
       "</div>"
      ],
      "text/plain": [
       "     id valid   classification_system cell_type   pt_supervoxel_id  \\\n",
       "0  1379     t  aibs_coarse_excitatory        4P  89242892866409455   \n",
       "1  1382     t  aibs_coarse_excitatory     5P-IT  89594805373727621   \n",
       "2  1383     t  aibs_coarse_excitatory     5P-IT  91142986263977276   \n",
       "\n",
       "           pt_root_id              pt_position  \n",
       "0  864691135687112672  [178160, 175136, 21428]  \n",
       "1  864691135162584621  [180624, 175696, 21782]  \n",
       "2  864691135988284416  [191776, 175824, 20404]  "
      ]
     },
     "execution_count": 3,
     "metadata": {},
     "output_type": "execute_result"
    }
   ],
   "source": [
    "print(client.materialize.get_tables()) # show all the tables availible to be queried \n",
    "column_type_df = client.materialize.query_table('allen_v1_column_types_slanted')\n",
    "column_type_df.head(3)\n"
   ]
  },
  {
   "cell_type": "markdown",
   "metadata": {},
   "source": [
    "<div style=\"border-left: 3px solid #000; padding: 1px; padding-left: 10px; background: #F0FAFF; \">\n",
    "get familiar with the naming convention for cells in this table by looking at the unique entries in the 'cell_type' column\n",
    "<br />'BPC' is Bipolar cells. Ask an instructor if you are not sure about your cell type of interest "
   ]
  },
  {
   "cell_type": "code",
   "execution_count": 4,
   "metadata": {},
   "outputs": [
    {
     "data": {
      "text/plain": [
       "array(['4P', '5P-IT', '23P', 'Unsure E', 'BC', 'NGC', 'BPC', 'MC',\n",
       "       '6P-IT', '5P-PT', '6P-U', 'Unsure', '5P-NP', '6P-CT', 'WM-P',\n",
       "       'Unsure I'], dtype=object)"
      ]
     },
     "execution_count": 4,
     "metadata": {},
     "output_type": "execute_result"
    }
   ],
   "source": [
    "column_type_df['cell_type'].unique()"
   ]
  },
  {
   "cell_type": "markdown",
   "metadata": {},
   "source": [
    "<div style=\"border-left: 3px solid #000; padding: 1px; padding-left: 10px; background: #F0FAFF; \">\n",
    "We can create a new dataframe that just contains cells of predicted type 'BPC' \n",
    "<br />We can also pull out a list of the root ids of the BPCs "
   ]
  },
  {
   "cell_type": "code",
   "execution_count": 5,
   "metadata": {},
   "outputs": [
    {
     "data": {
      "text/plain": [
       "33"
      ]
     },
     "execution_count": 5,
     "metadata": {},
     "output_type": "execute_result"
    }
   ],
   "source": [
    "bpc_df = column_type_df[column_type_df['cell_type']=='BPC'].reset_index(drop = True)\n",
    "bpc_root_ids = bpc_df['pt_root_id'].values\n",
    "len(bpc_root_ids)"
   ]
  },
  {
   "cell_type": "markdown",
   "metadata": {},
   "source": [
    "<div style=\"border-left: 3px solid #000; padding: 1px; padding-left: 10px; background: #F0FAFF; \">\n",
    "<h2>2. Create a Meshwork object</h2>\n",
    "We can use our root id list to create simple meshwork objects\n",
    "<br />At a minimum, we need a root id and a CAVEclient in order to produce a skeleton.\n",
    "While there are several functions in pcg_skel to create meshwork objects, the best one to use for this dataset is <code>coord_space_meshwork</code>.\n",
    "You shouldn't need to use other functions for this course."
   ]
  },
  {
   "cell_type": "code",
   "execution_count": 6,
   "metadata": {
    "scrolled": true
   },
   "outputs": [
    {
     "name": "stderr",
     "output_type": "stream",
     "text": [
      "/opt/anaconda3/envs/friday-harbor/lib/python3.10/site-packages/caveclient/l2cache.py:78: UserWarning: L2Cache is in an experimental stage\n",
      "  warnings.warn(\"L2Cache is in an experimental stage\", UserWarning)\n",
      "100%|█████████████████████████████████████████████████████████| 4132/4132 [00:00<00:00, 12899.32it/s]\n"
     ]
    }
   ],
   "source": [
    "root_id = bpc_root_ids[5]\n",
    "\n",
    "bpc_mw = pcg_skel.coord_space_meshwork(\n",
    "    root_id=root_id,\n",
    "    client=client\n",
    ")"
   ]
  },
  {
   "cell_type": "code",
   "execution_count": 7,
   "metadata": {},
   "outputs": [
    {
     "data": {
      "text/plain": [
       "(<Figure size 600x600 with 1 Axes>, <AxesSubplot:>)"
      ]
     },
     "execution_count": 7,
     "metadata": {},
     "output_type": "execute_result"
    },
    {
     "data": {
      "image/png": "[encoded data removed]",
      "text/plain": [
       "<Figure size 600x600 with 1 Axes>"
      ]
     },
     "metadata": {
      "needs_background": "light"
     },
     "output_type": "display_data"
    }
   ],
   "source": [
    "simple_neuron_plot(bpc_mw)"
   ]
  },
  {
   "cell_type": "markdown",
   "metadata": {},
   "source": [
    "<div style=\"border-left: 3px solid #000; padding: 1px; padding-left: 10px; background: #F0FAFF; \">\n",
    "\n",
    "However, you will notice that the root location isn't actually where you would expect it, at the cell body. See the magenta dot below."
   ]
  },
  {
   "cell_type": "code",
   "execution_count": 8,
   "metadata": {},
   "outputs": [
    {
     "data": {
      "text/plain": [
       "(<Figure size 600x600 with 1 Axes>, <AxesSubplot:>)"
      ]
     },
     "execution_count": 8,
     "metadata": {},
     "output_type": "execute_result"
    },
    {
     "data": {
      "image/png": "[encoded data removed]",
      "text/plain": [
       "<Figure size 600x600 with 1 Axes>"
      ]
     },
     "metadata": {
      "needs_background": "light"
     },
     "output_type": "display_data"
    }
   ],
   "source": [
    "simple_neuron_plot(bpc_mw, highlight_root=True)"
   ]
  },
  {
   "cell_type": "markdown",
   "metadata": {},
   "source": [
    "<div style=\"border-left: 3px solid #000; padding: 1px; padding-left: 10px; background: #F0FAFF; \">\n",
    "\n",
    "You also won't see any additional annotations, like in the pre-computed files:"
   ]
  },
  {
   "cell_type": "code",
   "execution_count": 9,
   "metadata": {},
   "outputs": [
    {
     "data": {
      "text/plain": [
       "Data tables: ['lvl2_ids']"
      ]
     },
     "execution_count": 9,
     "metadata": {},
     "output_type": "execute_result"
    }
   ],
   "source": [
    "bpc_mw.anno"
   ]
  },
  {
   "cell_type": "markdown",
   "metadata": {},
   "source": [
    "<div style=\"border-left: 3px solid #000; padding: 1px; padding-left: 10px; background: #F0FAFF; \">\n",
    "    <h2>Building a meshwork with additional properties</h2>\n",
    "   \n",
    "The <code>coord_space_meshwork</code> has a number of parameters which allow us to create a richer file, for example with the root at the cell body and synapses added to the data. Here, we'll cover the ones that you might want to use here."
   ]
  },
  {
   "cell_type": "markdown",
   "metadata": {},
   "source": [
    "<table style=\"float: left; background-color: #5fa5cd\">\n",
    "    <tr>\n",
    "        <td><h2>Parameter</h2></td>\n",
    "        <td><h2>Description</h2></td>\n",
    "    </tr> \n",
    "    <tr>\n",
    "        <td>root_id</td>\n",
    "        <td>Root id of the neuron to skeletonize</td>\n",
    "    </tr>\n",
    "    <tr>\n",
    "        <td>client</td>\n",
    "        <td>A caveclient initialized with the `minnie_public_v343` datastack, as above</td>\n",
    "    </tr>\n",
    "    <tr>\n",
    "        <td>root_point</td>\n",
    "        <td>If specified, the closest vertex to this point will be set as root. If not specified, a random end point will be chosen.</td>\n",
    "    </tr>\n",
    "    <tr>\n",
    "        <td>root_point_resolution</td>\n",
    "        <td>The resolution in nm/voxel that the root point is specified in. If you are using neuroglancer or annotation tables, this value is [4,4,40].</td>\n",
    "    </tr> \n",
    "    <tr>\n",
    "        <td>collapse_soma</td>\n",
    "        <td>If set to True, collapses all mesh vertices within collapse_radius into a single root vertex at the location given in <code>root_point</code>. If you are specifying a root point that corresponds to a cell body, set this to True.</td>\n",
    "    </tr>\n",
    "    <tr>\n",
    "        <td>collapse_radius</td>\n",
    "        <td>Vertices within this radius are collapsed into the root vertex. The default value, 7500 nm, is a good general radius size.</td>\n",
    "    </tr>\n",
    "    <tr>\n",
    "        <td>synapses</td>\n",
    "        <td>'pre', 'post', 'all', or None. If pre, there will be an attempt to look up the presynaptic synapses on this neuron's root id. The table used to look this information up is specified in the next parameter - synapse table. The resulting table will be saved as an annotation on this meshwork object under the name 'pre_syn'. If argument is 'post', the same will be done but for postsynaptic sites. 'all' will look up and add annotation tables for both pre and postsynaptic sites. </td>\n",
    "    </tr>\n",
    "    <tr>\n",
    "        <td>synapse_table</td>\n",
    "        <td>The CAVEclient annotation table from which the synapses will be queried. For this dataset, use <code>synapses_pni_2</code>. </td>\n",
    "    </tr>\n",
    "    <tr>\n",
    "        <td>remove_self_synapse</td>\n",
    "        <td>True by default. If True, synapses where the pre- and post-synaptic root ids are the same are ignored. Most of the time, this occures due to errors in synapse prediction or segmentation, but such biological autapses are possible and are omitted as well.</td>\n",
    "    </tr>\n",
    "</table>\n"
   ]
  },
  {
   "cell_type": "markdown",
   "metadata": {},
   "source": [
    "<div style=\"border-left: 3px solid #000; padding: 1px; padding-left: 10px; background: #F0FAFF; \">\n",
    "<h3>Let's create another meshwork with synapses included and with the root_point set to the soma location</h3>   \n",
    "Here we will use the neuron in the 5th row of our dataframe containing information on our Bipolar Cells. \n",
    "<br> We need to use the data in the pt_root_id column and the pt_position (soma position).\n",
    "You could also get the root location from a point in Neuroglancer.\n"
   ]
  },
  {
   "cell_type": "code",
   "execution_count": 10,
   "metadata": {},
   "outputs": [
    {
     "name": "stdout",
     "output_type": "stream",
     "text": [
      "id                                           475\n",
      "valid                                          t\n",
      "classification_system     aibs_coarse_inhibitory\n",
      "cell_type                                    BPC\n",
      "pt_supervoxel_id               88046624148372048\n",
      "pt_root_id                    864691136008567724\n",
      "pt_position              [169488, 174880, 20977]\n",
      "Name: 5, dtype: object\n"
     ]
    }
   ],
   "source": [
    "print(bpc_df.loc[5])\n",
    "\n",
    "bpc_root_id = bpc_df.loc[5, 'pt_root_id']\n",
    "bpc_soma_location = bpc_df.loc[5, 'pt_position']"
   ]
  },
  {
   "cell_type": "code",
   "execution_count": 11,
   "metadata": {},
   "outputs": [
    {
     "data": {
      "text/plain": [
       "array([169488, 174880,  20977])"
      ]
     },
     "execution_count": 11,
     "metadata": {},
     "output_type": "execute_result"
    }
   ],
   "source": [
    "bpc_soma_location"
   ]
  },
  {
   "cell_type": "markdown",
   "metadata": {},
   "source": [
    "<div style=\"border-left: 3px solid #000; padding: 1px; padding-left: 10px; background: #F0FAFF; \">\n",
    "Now we can use that data to create another meshwork"
   ]
  },
  {
   "cell_type": "code",
   "execution_count": 21,
   "metadata": {},
   "outputs": [
    {
     "name": "stderr",
     "output_type": "stream",
     "text": [
      "100%|█████████████████████████████████████████████████████████| 4132/4132 [00:00<00:00, 13940.39it/s]\n"
     ]
    }
   ],
   "source": [
    "bpc_mw_2 = pcg_skel.coord_space_meshwork(\n",
    "    root_id=bpc_root_id,\n",
    "    client=client,\n",
    "    root_point=bpc_soma_location,\n",
    "    root_point_resolution=[4, 4, 40],\n",
    "    collapse_soma=True,\n",
    "    synapses=\"all\",\n",
    "    synapse_table=\"synapses_pni_2\",\n",
    ")"
   ]
  },
  {
   "cell_type": "markdown",
   "metadata": {},
   "source": [
    "<div style=\"border-left: 3px solid #000; padding: 1px; padding-left: 10px; background: #F0FAFF; \">\n",
    "We can plot our neuron and root location as we did before and see that the root is at the soma location"
   ]
  },
  {
   "cell_type": "code",
   "execution_count": 24,
   "metadata": {},
   "outputs": [
    {
     "data": {
      "text/plain": [
       "(<Figure size 600x600 with 1 Axes>, <AxesSubplot:>)"
      ]
     },
     "execution_count": 24,
     "metadata": {},
     "output_type": "execute_result"
    },
    {
     "data": {
      "image/png": "[encoded data removed]",
      "text/plain": [
       "<Figure size 600x600 with 1 Axes>"
      ]
     },
     "metadata": {
      "needs_background": "light"
     },
     "output_type": "display_data"
    }
   ],
   "source": [
    "simple_neuron_plot(bpc_mw_2, highlight_root=True)"
   ]
  },
  {
   "cell_type": "markdown",
   "metadata": {},
   "source": [
    "<div style=\"border-left: 3px solid #000; padding: 1px; padding-left: 10px; background: #F0FAFF; \">\n",
    "This new meshwork has pre and postsynaptic sites stored as annotations. Let's check out the 'pre_syn' table\n",
    "\n",
    "This table stores information on all the presynaptic sites of our neuron"
   ]
  },
  {
   "cell_type": "code",
   "execution_count": 30,
   "metadata": {},
   "outputs": [
    {
     "data": {
      "text/html": [
       "<div>\n",
       "<style scoped>\n",
       "    .dataframe tbody tr th:only-of-type {\n",
       "        vertical-align: middle;\n",
       "    }\n",
       "\n",
       "    .dataframe tbody tr th {\n",
       "        vertical-align: top;\n",
       "    }\n",
       "\n",
       "    .dataframe thead th {\n",
       "        text-align: right;\n",
       "    }\n",
       "</style>\n",
       "<table border=\"1\" class=\"dataframe\">\n",
       "  <thead>\n",
       "    <tr style=\"text-align: right;\">\n",
       "      <th></th>\n",
       "      <th>id</th>\n",
       "      <th>valid</th>\n",
       "      <th>pre_pt_supervoxel_id</th>\n",
       "      <th>pre_pt_root_id</th>\n",
       "      <th>post_pt_supervoxel_id</th>\n",
       "      <th>post_pt_root_id</th>\n",
       "      <th>size</th>\n",
       "      <th>pre_pt_position</th>\n",
       "      <th>post_pt_position</th>\n",
       "      <th>ctr_pt_position</th>\n",
       "      <th>pre_pt_level2_id</th>\n",
       "      <th>pre_pt_mesh_ind</th>\n",
       "      <th>pre_pt_mesh_ind_filt</th>\n",
       "    </tr>\n",
       "  </thead>\n",
       "  <tbody>\n",
       "    <tr>\n",
       "      <th>0</th>\n",
       "      <td>169411613</td>\n",
       "      <td>t</td>\n",
       "      <td>89952008945522952</td>\n",
       "      <td>864691136008567724</td>\n",
       "      <td>89952008945530947</td>\n",
       "      <td>864691135575425822</td>\n",
       "      <td>5600</td>\n",
       "      <td>[183016, 215342, 19910]</td>\n",
       "      <td>[183016, 215362, 19915]</td>\n",
       "      <td>[183002, 215376, 19912]</td>\n",
       "      <td>162009602982937459</td>\n",
       "      <td>3347</td>\n",
       "      <td>3347</td>\n",
       "    </tr>\n",
       "    <tr>\n",
       "      <th>1</th>\n",
       "      <td>161737441</td>\n",
       "      <td>t</td>\n",
       "      <td>89320546009288816</td>\n",
       "      <td>864691136008567724</td>\n",
       "      <td>89250108545587649</td>\n",
       "      <td>864691135531813496</td>\n",
       "      <td>1712</td>\n",
       "      <td>[178258, 229090, 22376]</td>\n",
       "      <td>[178166, 228970, 22377]</td>\n",
       "      <td>[178232, 229050, 22376]</td>\n",
       "      <td>161378140046754441</td>\n",
       "      <td>2832</td>\n",
       "      <td>2832</td>\n",
       "    </tr>\n",
       "    <tr>\n",
       "      <th>2</th>\n",
       "      <td>153622929</td>\n",
       "      <td>t</td>\n",
       "      <td>88686196519161316</td>\n",
       "      <td>864691136008567724</td>\n",
       "      <td>88686196519162950</td>\n",
       "      <td>864691135651012927</td>\n",
       "      <td>3524</td>\n",
       "      <td>[173852, 221454, 22049]</td>\n",
       "      <td>[173860, 221538, 22053]</td>\n",
       "      <td>[173850, 221498, 22055]</td>\n",
       "      <td>160743790557003846</td>\n",
       "      <td>1967</td>\n",
       "      <td>1967</td>\n",
       "    </tr>\n",
       "    <tr>\n",
       "      <th>3</th>\n",
       "      <td>153811033</td>\n",
       "      <td>t</td>\n",
       "      <td>88896271959708509</td>\n",
       "      <td>864691136008567724</td>\n",
       "      <td>88896271959716029</td>\n",
       "      <td>864691135367415033</td>\n",
       "      <td>4980</td>\n",
       "      <td>[175410, 214070, 22223]</td>\n",
       "      <td>[175370, 213968, 22229]</td>\n",
       "      <td>[175394, 214029, 22231]</td>\n",
       "      <td>160953865997386099</td>\n",
       "      <td>2306</td>\n",
       "      <td>2306</td>\n",
       "    </tr>\n",
       "    <tr>\n",
       "      <th>4</th>\n",
       "      <td>162590553</td>\n",
       "      <td>t</td>\n",
       "      <td>89037284258902966</td>\n",
       "      <td>864691136008567724</td>\n",
       "      <td>89037215539452843</td>\n",
       "      <td>864691135571546917</td>\n",
       "      <td>6640</td>\n",
       "      <td>[176304, 215824, 21744]</td>\n",
       "      <td>[176404, 215730, 21742]</td>\n",
       "      <td>[176395, 215723, 21747]</td>\n",
       "      <td>161094878296539456</td>\n",
       "      <td>2521</td>\n",
       "      <td>2521</td>\n",
       "    </tr>\n",
       "    <tr>\n",
       "      <th>...</th>\n",
       "      <td>...</td>\n",
       "      <td>...</td>\n",
       "      <td>...</td>\n",
       "      <td>...</td>\n",
       "      <td>...</td>\n",
       "      <td>...</td>\n",
       "      <td>...</td>\n",
       "      <td>...</td>\n",
       "      <td>...</td>\n",
       "      <td>...</td>\n",
       "      <td>...</td>\n",
       "      <td>...</td>\n",
       "      <td>...</td>\n",
       "    </tr>\n",
       "    <tr>\n",
       "      <th>232</th>\n",
       "      <td>152392326</td>\n",
       "      <td>t</td>\n",
       "      <td>88473440885138000</td>\n",
       "      <td>864691136008567724</td>\n",
       "      <td>88473440885144588</td>\n",
       "      <td>864691135433489650</td>\n",
       "      <td>3596</td>\n",
       "      <td>[172504, 209444, 21201]</td>\n",
       "      <td>[172562, 209416, 21210]</td>\n",
       "      <td>[172514, 209424, 21210]</td>\n",
       "      <td>160531034922811782</td>\n",
       "      <td>1567</td>\n",
       "      <td>1567</td>\n",
       "    </tr>\n",
       "    <tr>\n",
       "      <th>233</th>\n",
       "      <td>160786945</td>\n",
       "      <td>t</td>\n",
       "      <td>89457641297917968</td>\n",
       "      <td>864691136008567724</td>\n",
       "      <td>89457641297930283</td>\n",
       "      <td>864691135052165046</td>\n",
       "      <td>2200</td>\n",
       "      <td>[179528, 202170, 21580]</td>\n",
       "      <td>[179428, 202198, 21592]</td>\n",
       "      <td>[179472, 202230, 21589]</td>\n",
       "      <td>161515235335733356</td>\n",
       "      <td>2935</td>\n",
       "      <td>2935</td>\n",
       "    </tr>\n",
       "    <tr>\n",
       "      <th>234</th>\n",
       "      <td>162764134</td>\n",
       "      <td>t</td>\n",
       "      <td>88966915581632466</td>\n",
       "      <td>864691136008567724</td>\n",
       "      <td>88966984301101037</td>\n",
       "      <td>864691135323072156</td>\n",
       "      <td>4064</td>\n",
       "      <td>[175874, 216214, 22067]</td>\n",
       "      <td>[175752, 216286, 22059]</td>\n",
       "      <td>[175796, 216290, 22063]</td>\n",
       "      <td>161024509619470479</td>\n",
       "      <td>2444</td>\n",
       "      <td>2444</td>\n",
       "    </tr>\n",
       "    <tr>\n",
       "      <th>235</th>\n",
       "      <td>161586694</td>\n",
       "      <td>t</td>\n",
       "      <td>88967740215711974</td>\n",
       "      <td>864691136008567724</td>\n",
       "      <td>88967740215708006</td>\n",
       "      <td>864691135941345140</td>\n",
       "      <td>3416</td>\n",
       "      <td>[176002, 222066, 22396]</td>\n",
       "      <td>[176084, 222056, 22398]</td>\n",
       "      <td>[176078, 222088, 22394]</td>\n",
       "      <td>161025334253192148</td>\n",
       "      <td>2468</td>\n",
       "      <td>2468</td>\n",
       "    </tr>\n",
       "    <tr>\n",
       "      <th>236</th>\n",
       "      <td>142293589</td>\n",
       "      <td>t</td>\n",
       "      <td>87700621851300512</td>\n",
       "      <td>864691136008567724</td>\n",
       "      <td>87700621851301400</td>\n",
       "      <td>864691135510791888</td>\n",
       "      <td>220</td>\n",
       "      <td>[166454, 218704, 22923]</td>\n",
       "      <td>[166512, 218634, 22919]</td>\n",
       "      <td>[166492, 218634, 22922]</td>\n",
       "      <td>159758215888765685</td>\n",
       "      <td>883</td>\n",
       "      <td>883</td>\n",
       "    </tr>\n",
       "  </tbody>\n",
       "</table>\n",
       "<p>237 rows × 13 columns</p>\n",
       "</div>"
      ],
      "text/plain": [
       "            id valid  pre_pt_supervoxel_id      pre_pt_root_id  \\\n",
       "0    169411613     t     89952008945522952  864691136008567724   \n",
       "1    161737441     t     89320546009288816  864691136008567724   \n",
       "2    153622929     t     88686196519161316  864691136008567724   \n",
       "3    153811033     t     88896271959708509  864691136008567724   \n",
       "4    162590553     t     89037284258902966  864691136008567724   \n",
       "..         ...   ...                   ...                 ...   \n",
       "232  152392326     t     88473440885138000  864691136008567724   \n",
       "233  160786945     t     89457641297917968  864691136008567724   \n",
       "234  162764134     t     88966915581632466  864691136008567724   \n",
       "235  161586694     t     88967740215711974  864691136008567724   \n",
       "236  142293589     t     87700621851300512  864691136008567724   \n",
       "\n",
       "     post_pt_supervoxel_id     post_pt_root_id  size          pre_pt_position  \\\n",
       "0        89952008945530947  864691135575425822  5600  [183016, 215342, 19910]   \n",
       "1        89250108545587649  864691135531813496  1712  [178258, 229090, 22376]   \n",
       "2        88686196519162950  864691135651012927  3524  [173852, 221454, 22049]   \n",
       "3        88896271959716029  864691135367415033  4980  [175410, 214070, 22223]   \n",
       "4        89037215539452843  864691135571546917  6640  [176304, 215824, 21744]   \n",
       "..                     ...                 ...   ...                      ...   \n",
       "232      88473440885144588  864691135433489650  3596  [172504, 209444, 21201]   \n",
       "233      89457641297930283  864691135052165046  2200  [179528, 202170, 21580]   \n",
       "234      88966984301101037  864691135323072156  4064  [175874, 216214, 22067]   \n",
       "235      88967740215708006  864691135941345140  3416  [176002, 222066, 22396]   \n",
       "236      87700621851301400  864691135510791888   220  [166454, 218704, 22923]   \n",
       "\n",
       "            post_pt_position          ctr_pt_position    pre_pt_level2_id  \\\n",
       "0    [183016, 215362, 19915]  [183002, 215376, 19912]  162009602982937459   \n",
       "1    [178166, 228970, 22377]  [178232, 229050, 22376]  161378140046754441   \n",
       "2    [173860, 221538, 22053]  [173850, 221498, 22055]  160743790557003846   \n",
       "3    [175370, 213968, 22229]  [175394, 214029, 22231]  160953865997386099   \n",
       "4    [176404, 215730, 21742]  [176395, 215723, 21747]  161094878296539456   \n",
       "..                       ...                      ...                 ...   \n",
       "232  [172562, 209416, 21210]  [172514, 209424, 21210]  160531034922811782   \n",
       "233  [179428, 202198, 21592]  [179472, 202230, 21589]  161515235335733356   \n",
       "234  [175752, 216286, 22059]  [175796, 216290, 22063]  161024509619470479   \n",
       "235  [176084, 222056, 22398]  [176078, 222088, 22394]  161025334253192148   \n",
       "236  [166512, 218634, 22919]  [166492, 218634, 22922]  159758215888765685   \n",
       "\n",
       "     pre_pt_mesh_ind  pre_pt_mesh_ind_filt  \n",
       "0               3347                  3347  \n",
       "1               2832                  2832  \n",
       "2               1967                  1967  \n",
       "3               2306                  2306  \n",
       "4               2521                  2521  \n",
       "..               ...                   ...  \n",
       "232             1567                  1567  \n",
       "233             2935                  2935  \n",
       "234             2444                  2444  \n",
       "235             2468                  2468  \n",
       "236              883                   883  \n",
       "\n",
       "[237 rows x 13 columns]"
      ]
     },
     "execution_count": 30,
     "metadata": {},
     "output_type": "execute_result"
    }
   ],
   "source": [
    "bpc_mw_2.anno.pre_syn.df"
   ]
  },
  {
   "cell_type": "markdown",
   "metadata": {},
   "source": [
    "<div style=\"border-left: 3px solid #000; padding: 1px; padding-left: 10px; background: #F0FAFF; \">\n",
    "This new meshwork has pre and postsynaptic sites stored as annotations. Let's check out the 'pre_syn' table\n",
    "\n",
    "We can visualize our synapses on our skeleton "
   ]
  },
  {
   "cell_type": "code",
   "execution_count": 31,
   "metadata": {},
   "outputs": [
    {
     "data": {
      "text/plain": [
       "(<Figure size 600x600 with 1 Axes>, <AxesSubplot:>)"
      ]
     },
     "execution_count": 31,
     "metadata": {},
     "output_type": "execute_result"
    },
    {
     "data": {
      "image/png": "[encoded data removed]",
      "text/plain": [
       "<Figure size 600x600 with 1 Axes>"
      ]
     },
     "metadata": {
      "needs_background": "light"
     },
     "output_type": "display_data"
    }
   ],
   "source": [
    "simple_neuron_plot(bpc_mw_2, synapses=True, highlight_root=True)"
   ]
  },
  {
   "cell_type": "markdown",
   "metadata": {},
   "source": [
    "<div style=\"border-left: 3px solid #000; padding: 1px; padding-left: 10px; background: #F0FAFF; \">\n",
    "<h2>3. Creating mask annotations</h2>   \n",
    "In the pre-computed files, there are a number of annotations like `is_axon` that are useful for filtering the data.\n",
    "Here's an example for how to generate one of those.\n",
    "\n",
    "The <code>meshwork.algorithms</code> package has a few useful algorithms, including one that finds where to split axon and dendrite to optimally segregate synaptic inputs and outputs. We will use that to make our own `is_axon` annotation.\n"
   ]
  },
  {
   "cell_type": "markdown",
   "metadata": {},
   "source": [
    "<div style=\"border-left: 3px solid #000; padding: 1px; padding-left: 10px; background: #F0FAFF; \">\n",
    "Q is a quality score, generally values above 0.7 are clear splits."
   ]
  },
  {
   "cell_type": "code",
   "execution_count": 33,
   "metadata": {},
   "outputs": [],
   "source": [
    "axon_inds, Q = meshwork.algorithms.split_axon_by_annotation(bpc_mw_2, pre_anno='pre_syn', post_anno='post_syn')"
   ]
  },
  {
   "cell_type": "markdown",
   "metadata": {},
   "source": [
    "<div style=\"border-left: 3px solid #000; padding: 1px; padding-left: 10px; background: #F0FAFF; \">\n",
    "\n",
    "The easiest type of annotation to add is a 'mask' annotation, which just needs a name (here, \"is_axon\"), a list of mesh indices, and the argument `mask=True`."
   ]
  },
  {
   "cell_type": "code",
   "execution_count": 34,
   "metadata": {},
   "outputs": [],
   "source": [
    "bpc_mw_2.anno.add_annotations('is_axon', axon_inds, mask=True)"
   ]
  },
  {
   "cell_type": "markdown",
   "metadata": {},
   "source": [
    "<div style=\"border-left: 3px solid #000; padding: 1px; padding-left: 10px; background: #F0FAFF; \">\n",
    "\n",
    "Now let's double check that this works by plotting the dendrite only. If it works, we should see only cyan inputs, and the part of the arbor with red dots will be masked out."
   ]
  },
  {
   "cell_type": "code",
   "execution_count": 35,
   "metadata": {},
   "outputs": [
    {
     "data": {
      "image/png": "[encoded data removed]",
      "text/plain": [
       "<Figure size 600x600 with 1 Axes>"
      ]
     },
     "metadata": {
      "needs_background": "light"
     },
     "output_type": "display_data"
    }
   ],
   "source": [
    "with bpc_mw_2.mask_context( ~bpc_mw_2.anno.is_axon.mesh_mask ):\n",
    "    simple_neuron_plot(bpc_mw_2, synapses=True, highlight_root=True)"
   ]
  },
  {
   "cell_type": "markdown",
   "metadata": {},
   "source": [
    "<div style=\"border-left: 3px solid #000; padding: 1px; padding-left: 10px; background: #F0FAFF; \">\n",
    "<h2>4. Export our masked meshwork as a .h5 file</h2>   \n",
    "If you'd like to specify a destination folder for your file, put it in my_local_path\n"
   ]
  },
  {
   "cell_type": "code",
   "execution_count": 40,
   "metadata": {},
   "outputs": [],
   "source": [
    "import os\n",
    "my_local_path = ''\n",
    "bpc_mw_2.save_meshwork(filename = os.path.join(my_local_path, 'bipolar_cell_1.h5'))"
   ]
  },
  {
   "cell_type": "code",
   "execution_count": null,
   "metadata": {},
   "outputs": [],
   "source": []
  }
 ],
 "metadata": {
  "kernelspec": {
   "display_name": "friday-harbor",
   "language": "python",
   "name": "friday-harbor"
  },
  "language_info": {
   "codemirror_mode": {
    "name": "ipython",
    "version": 3
   },
   "file_extension": ".py",
   "mimetype": "text/x-python",
   "name": "python",
   "nbconvert_exporter": "python",
   "pygments_lexer": "ipython3",
   "version": "3.10.4"
  }
 },
 "nbformat": 4,
 "nbformat_minor": 4
}
