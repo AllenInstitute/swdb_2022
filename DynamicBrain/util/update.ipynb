{
 "cells": [
  {
   "cell_type": "code",
   "execution_count": null,
   "id": "f4c0d1bd-ecfe-41e5-95f5-c4b34c322567",
   "metadata": {},
   "outputs": [],
   "source": [
    "from swdb_util import run_update"
   ]
  },
  {
   "cell_type": "code",
   "execution_count": null,
   "id": "2271cb8b-a8d6-4525-a8fc-5cec284b5049",
   "metadata": {},
   "outputs": [],
   "source": [
    "run_update('test')"
   ]
  }
 ],
 "metadata": {
  "kernelspec": {
   "display_name": "Python 3 (ipykernel)",
   "language": "python",
   "name": "python3"
  },
  "language_info": {
   "codemirror_mode": {
    "name": "ipython",
    "version": 3
   },
   "file_extension": ".py",
   "mimetype": "text/x-python",
   "name": "python",
   "nbconvert_exporter": "python",
   "pygments_lexer": "ipython3",
   "version": "3.10.4"
  }
 },
 "nbformat": 4,
 "nbformat_minor": 5
}
