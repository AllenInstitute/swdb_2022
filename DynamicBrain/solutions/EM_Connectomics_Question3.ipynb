{
 "cells": [
  {
   "cell_type": "markdown",
   "metadata": {},
   "source": [
    "<center>\n",
    "    <h1>EM Connectomics - Question 3</h1>\n",
    "    <h2>Summer Workshop on the Dynamic Brain</h2>\n",
    "    <h3>Wednesday, August 25, 2021</h3>\n",
    "</center>"
   ]
  },
  {
   "cell_type": "markdown",
   "metadata": {},
   "source": [
    "**Task 3:** Do the targets of a pyramidal cell differ as you get farther away from the soma?\n",
    "\n",
    "Various studies have found that cortical excitatory neurons exhibit targeting preferences that change with distance along the axon. For example, in medial entorhinal cortex, [Schmidt et al.](https://pubmed.ncbi.nlm.nih.gov/28959971/) found that, closer to the soma, there was a bias toward targeting inhibitory neurons. We're going to look at this question from our EM dataset. This question will extend the target analysis from Task 2 and add in spatial information about the synapse locations from skeletons."
   ]
  },
  {
   "cell_type": "markdown",
   "metadata": {},
   "source": [
    "**Task 3.0:** Import the key modules and initialize a client"
   ]
  },
  {
   "cell_type": "code",
   "execution_count": 1,
   "metadata": {},
   "outputs": [],
   "source": [
    "# Import modules\n",
    "\n",
    "import numpy as np\n",
    "import pandas as pd\n",
    "import matplotlib.pyplot as plt\n",
    "import seaborn as sns\n",
    "from meshparty import meshwork\n",
    "from caveclient import CAVEclient\n",
    "\n",
    "# Initialize a client for the \"minnie65_public_v343\" datastack.\n",
    "\n",
    "client = CAVEclient('minnie65_public_v343')"
   ]
  },
  {
   "cell_type": "markdown",
   "metadata": {},
   "source": [
    "**Task 3.1:** Find where the output synapses are on our neuron relative to the soma in both physical space and as a path along the arbor.\n",
    "\n",
    "For this step, for each axonal presynaptic site synapse compute the distance to the soma as both a euclidean value and a distance along the axon. As a check at the end, visualize the distribution of the two distances. For this example, use `root_id = 864691134884807418`, which is a proofread L2/3 pyramidal cell in one of the HVAs. If you have time, feel free to look at the same analysis with other neurons."
   ]
  },
  {
   "cell_type": "code",
   "execution_count": 2,
   "metadata": {},
   "outputs": [],
   "source": [
    "root_id = 864691134884807418\n",
    "\n",
    "# Get nucleus id to look up the filename:\n",
    "soma_df = client.materialize.query_table('nucleus_neuron_svm', filter_equal_dict={'pt_root_id': root_id})\n",
    "nucleus_id = soma_df.loc[0].id"
   ]
  },
  {
   "cell_type": "code",
   "execution_count": 3,
   "metadata": {},
   "outputs": [],
   "source": [
    "# Load the h5 file for the root id specified\n",
    "\n",
    "filename = f'{root_id}_{nucleus_id}'\n",
    "\n",
    "# Set the correct path for the setup you are using\n",
    "import platform\n",
    "import os\n",
    "\n",
    "platstring = platform.platform()\n",
    "if ('Darwin' in platstring) or ('macOS' in platstring):\n",
    "    # macOS \n",
    "    data_root = \"/Volumes/Brain2022/em-connectomics\"\n",
    "elif 'Windows'  in platstring:\n",
    "    # Windows (replace with the drive letter of USB drive)\n",
    "    data_root = \"E:/em-connectomics\"\n",
    "elif ('amzn' in platstring):\n",
    "    # then on AWS\n",
    "    data_root = \"/data/em-connectomics-data/\"\n",
    "else:\n",
    "    # then your own linux platform\n",
    "    # EDIT location where you mounted hard drive\n",
    "    data_root = \"/media/$USERNAME/Brain2022/em-connectomics\"\n",
    "# or just set this manually if somewhere else\n",
    "# data_root = \n",
    "nrn = meshwork.load_meshwork(f\"{data_root}/{filename}.h5\")"
   ]
  },
  {
   "cell_type": "code",
   "execution_count": 4,
   "metadata": {},
   "outputs": [
    {
     "data": {
      "text/html": [
       "<div>\n",
       "<style scoped>\n",
       "    .dataframe tbody tr th:only-of-type {\n",
       "        vertical-align: middle;\n",
       "    }\n",
       "\n",
       "    .dataframe tbody tr th {\n",
       "        vertical-align: top;\n",
       "    }\n",
       "\n",
       "    .dataframe thead th {\n",
       "        text-align: right;\n",
       "    }\n",
       "</style>\n",
       "<table border=\"1\" class=\"dataframe\">\n",
       "  <thead>\n",
       "    <tr style=\"text-align: right;\">\n",
       "      <th></th>\n",
       "      <th>ctr_pt_position</th>\n",
       "      <th>id</th>\n",
       "      <th>post_pt_position</th>\n",
       "      <th>post_pt_root_id</th>\n",
       "      <th>post_pt_supervoxel_id</th>\n",
       "      <th>pre_pt_level2_id</th>\n",
       "      <th>pre_pt_mesh_ind</th>\n",
       "      <th>pre_pt_position</th>\n",
       "      <th>pre_pt_root_id</th>\n",
       "      <th>pre_pt_supervoxel_id</th>\n",
       "      <th>size</th>\n",
       "      <th>valid</th>\n",
       "      <th>pre_pt_mesh_ind_filt</th>\n",
       "    </tr>\n",
       "  </thead>\n",
       "  <tbody>\n",
       "    <tr>\n",
       "      <th>0</th>\n",
       "      <td>[299538, 172674, 25072]</td>\n",
       "      <td>367491011</td>\n",
       "      <td>[299510, 172600, 25076]</td>\n",
       "      <td>864691136902999474</td>\n",
       "      <td>105919942108953181</td>\n",
       "      <td>177977536146310148</td>\n",
       "      <td>8269</td>\n",
       "      <td>[299484, 172656, 25069]</td>\n",
       "      <td>864691134884807418</td>\n",
       "      <td>105919942108940243</td>\n",
       "      <td>204</td>\n",
       "      <td>t</td>\n",
       "      <td>8269</td>\n",
       "    </tr>\n",
       "    <tr>\n",
       "      <th>1</th>\n",
       "      <td>[292052, 89740, 21712]</td>\n",
       "      <td>349918265</td>\n",
       "      <td>[292042, 89696, 21708]</td>\n",
       "      <td>864691135366983673</td>\n",
       "      <td>104923646732264599</td>\n",
       "      <td>176981240769938029</td>\n",
       "      <td>4276</td>\n",
       "      <td>[292042, 89778, 21703]</td>\n",
       "      <td>864691134884807418</td>\n",
       "      <td>104923646732265649</td>\n",
       "      <td>29736</td>\n",
       "      <td>t</td>\n",
       "      <td>4276</td>\n",
       "    </tr>\n",
       "    <tr>\n",
       "      <th>2</th>\n",
       "      <td>[292726, 104054, 21763]</td>\n",
       "      <td>349004550</td>\n",
       "      <td>[292774, 104004, 21763]</td>\n",
       "      <td>864691135777517245</td>\n",
       "      <td>104995939621873749</td>\n",
       "      <td>177053533659464093</td>\n",
       "      <td>4518</td>\n",
       "      <td>[292646, 104048, 21763]</td>\n",
       "      <td>864691134884807418</td>\n",
       "      <td>104995939621871890</td>\n",
       "      <td>6056</td>\n",
       "      <td>t</td>\n",
       "      <td>4518</td>\n",
       "    </tr>\n",
       "    <tr>\n",
       "      <th>3</th>\n",
       "      <td>[329024, 184816, 17849]</td>\n",
       "      <td>413771412</td>\n",
       "      <td>[329056, 184772, 17850]</td>\n",
       "      <td>864691132507877415</td>\n",
       "      <td>110002977599122950</td>\n",
       "      <td>182060571636532070</td>\n",
       "      <td>16302</td>\n",
       "      <td>[329026, 184822, 17847]</td>\n",
       "      <td>864691134884807418</td>\n",
       "      <td>110002977599122947</td>\n",
       "      <td>2664</td>\n",
       "      <td>t</td>\n",
       "      <td>16302</td>\n",
       "    </tr>\n",
       "    <tr>\n",
       "      <th>4</th>\n",
       "      <td>[311514, 146516, 26638]</td>\n",
       "      <td>385542086</td>\n",
       "      <td>[311504, 146540, 26640]</td>\n",
       "      <td>864691135736337812</td>\n",
       "      <td>107605287543821502</td>\n",
       "      <td>179662881581695035</td>\n",
       "      <td>13365</td>\n",
       "      <td>[311534, 146538, 26642]</td>\n",
       "      <td>864691134884807418</td>\n",
       "      <td>107605287543822688</td>\n",
       "      <td>1804</td>\n",
       "      <td>t</td>\n",
       "      <td>13365</td>\n",
       "    </tr>\n",
       "    <tr>\n",
       "      <th>...</th>\n",
       "      <td>...</td>\n",
       "      <td>...</td>\n",
       "      <td>...</td>\n",
       "      <td>...</td>\n",
       "      <td>...</td>\n",
       "      <td>...</td>\n",
       "      <td>...</td>\n",
       "      <td>...</td>\n",
       "      <td>...</td>\n",
       "      <td>...</td>\n",
       "      <td>...</td>\n",
       "      <td>...</td>\n",
       "      <td>...</td>\n",
       "    </tr>\n",
       "    <tr>\n",
       "      <th>565</th>\n",
       "      <td>[302362, 175236, 22825]</td>\n",
       "      <td>366653509</td>\n",
       "      <td>[302408, 175268, 22827]</td>\n",
       "      <td>864691135382467290</td>\n",
       "      <td>106342497902742172</td>\n",
       "      <td>178400091940323756</td>\n",
       "      <td>9929</td>\n",
       "      <td>[302330, 175252, 22831]</td>\n",
       "      <td>864691134884807418</td>\n",
       "      <td>106342497902761349</td>\n",
       "      <td>7248</td>\n",
       "      <td>t</td>\n",
       "      <td>9929</td>\n",
       "    </tr>\n",
       "    <tr>\n",
       "      <th>566</th>\n",
       "      <td>[300870, 143964, 25010]</td>\n",
       "      <td>364580390</td>\n",
       "      <td>[300840, 143940, 25008]</td>\n",
       "      <td>864691135925897486</td>\n",
       "      <td>106127200050714035</td>\n",
       "      <td>178184794088145665</td>\n",
       "      <td>9012</td>\n",
       "      <td>[300864, 144012, 25011]</td>\n",
       "      <td>864691134884807418</td>\n",
       "      <td>106127200050719538</td>\n",
       "      <td>1160</td>\n",
       "      <td>t</td>\n",
       "      <td>9012</td>\n",
       "    </tr>\n",
       "    <tr>\n",
       "      <th>567</th>\n",
       "      <td>[309358, 140720, 19438]</td>\n",
       "      <td>378567708</td>\n",
       "      <td>[309314, 140704, 19435]</td>\n",
       "      <td>864691132827980314</td>\n",
       "      <td>107323055646764866</td>\n",
       "      <td>179380649684108403</td>\n",
       "      <td>12785</td>\n",
       "      <td>[309368, 140670, 19446]</td>\n",
       "      <td>864691134884807418</td>\n",
       "      <td>107323055646782027</td>\n",
       "      <td>2920</td>\n",
       "      <td>t</td>\n",
       "      <td>12785</td>\n",
       "    </tr>\n",
       "    <tr>\n",
       "      <th>568</th>\n",
       "      <td>[291894, 90454, 21577]</td>\n",
       "      <td>349918164</td>\n",
       "      <td>[291886, 90416, 21581]</td>\n",
       "      <td>864691135334077456</td>\n",
       "      <td>104923784171083838</td>\n",
       "      <td>176981378208891058</td>\n",
       "      <td>4279</td>\n",
       "      <td>[291938, 90436, 21580]</td>\n",
       "      <td>864691134884807418</td>\n",
       "      <td>104923784171081662</td>\n",
       "      <td>4652</td>\n",
       "      <td>t</td>\n",
       "      <td>4279</td>\n",
       "    </tr>\n",
       "    <tr>\n",
       "      <th>570</th>\n",
       "      <td>[317446, 118734, 21356]</td>\n",
       "      <td>391237475</td>\n",
       "      <td>[317394, 118712, 21352]</td>\n",
       "      <td>864691135915509094</td>\n",
       "      <td>108375632140253335</td>\n",
       "      <td>180433226177708255</td>\n",
       "      <td>14718</td>\n",
       "      <td>[317436, 118788, 21352]</td>\n",
       "      <td>864691134884807418</td>\n",
       "      <td>108375632140247667</td>\n",
       "      <td>16764</td>\n",
       "      <td>t</td>\n",
       "      <td>14718</td>\n",
       "    </tr>\n",
       "  </tbody>\n",
       "</table>\n",
       "<p>553 rows × 13 columns</p>\n",
       "</div>"
      ],
      "text/plain": [
       "             ctr_pt_position         id         post_pt_position  \\\n",
       "0    [299538, 172674, 25072]  367491011  [299510, 172600, 25076]   \n",
       "1     [292052, 89740, 21712]  349918265   [292042, 89696, 21708]   \n",
       "2    [292726, 104054, 21763]  349004550  [292774, 104004, 21763]   \n",
       "3    [329024, 184816, 17849]  413771412  [329056, 184772, 17850]   \n",
       "4    [311514, 146516, 26638]  385542086  [311504, 146540, 26640]   \n",
       "..                       ...        ...                      ...   \n",
       "565  [302362, 175236, 22825]  366653509  [302408, 175268, 22827]   \n",
       "566  [300870, 143964, 25010]  364580390  [300840, 143940, 25008]   \n",
       "567  [309358, 140720, 19438]  378567708  [309314, 140704, 19435]   \n",
       "568   [291894, 90454, 21577]  349918164   [291886, 90416, 21581]   \n",
       "570  [317446, 118734, 21356]  391237475  [317394, 118712, 21352]   \n",
       "\n",
       "        post_pt_root_id  post_pt_supervoxel_id    pre_pt_level2_id  \\\n",
       "0    864691136902999474     105919942108953181  177977536146310148   \n",
       "1    864691135366983673     104923646732264599  176981240769938029   \n",
       "2    864691135777517245     104995939621873749  177053533659464093   \n",
       "3    864691132507877415     110002977599122950  182060571636532070   \n",
       "4    864691135736337812     107605287543821502  179662881581695035   \n",
       "..                  ...                    ...                 ...   \n",
       "565  864691135382467290     106342497902742172  178400091940323756   \n",
       "566  864691135925897486     106127200050714035  178184794088145665   \n",
       "567  864691132827980314     107323055646764866  179380649684108403   \n",
       "568  864691135334077456     104923784171083838  176981378208891058   \n",
       "570  864691135915509094     108375632140253335  180433226177708255   \n",
       "\n",
       "     pre_pt_mesh_ind          pre_pt_position      pre_pt_root_id  \\\n",
       "0               8269  [299484, 172656, 25069]  864691134884807418   \n",
       "1               4276   [292042, 89778, 21703]  864691134884807418   \n",
       "2               4518  [292646, 104048, 21763]  864691134884807418   \n",
       "3              16302  [329026, 184822, 17847]  864691134884807418   \n",
       "4              13365  [311534, 146538, 26642]  864691134884807418   \n",
       "..               ...                      ...                 ...   \n",
       "565             9929  [302330, 175252, 22831]  864691134884807418   \n",
       "566             9012  [300864, 144012, 25011]  864691134884807418   \n",
       "567            12785  [309368, 140670, 19446]  864691134884807418   \n",
       "568             4279   [291938, 90436, 21580]  864691134884807418   \n",
       "570            14718  [317436, 118788, 21352]  864691134884807418   \n",
       "\n",
       "     pre_pt_supervoxel_id   size valid  pre_pt_mesh_ind_filt  \n",
       "0      105919942108940243    204     t                  8269  \n",
       "1      104923646732265649  29736     t                  4276  \n",
       "2      104995939621871890   6056     t                  4518  \n",
       "3      110002977599122947   2664     t                 16302  \n",
       "4      107605287543822688   1804     t                 13365  \n",
       "..                    ...    ...   ...                   ...  \n",
       "565    106342497902761349   7248     t                  9929  \n",
       "566    106127200050719538   1160     t                  9012  \n",
       "567    107323055646782027   2920     t                 12785  \n",
       "568    104923784171081662   4652     t                  4279  \n",
       "570    108375632140247667  16764     t                 14718  \n",
       "\n",
       "[553 rows x 13 columns]"
      ]
     },
     "execution_count": 4,
     "metadata": {},
     "output_type": "execute_result"
    }
   ],
   "source": [
    "# Extract synapse info into a dataframe\n",
    "\n",
    "# Basic version — acceptable\n",
    "pre_syn_df = nrn.anno.pre_syn.df\n",
    "\n",
    "# Better version — to be careful, restrict to only outputs on the axon.\n",
    "axon_filter = nrn.anno.pre_syn.filter_query(nrn.anno.is_axon.mesh_mask)\n",
    "pre_syn_df = axon_filter.df\n",
    "\n",
    "pre_syn_df"
   ]
  },
  {
   "cell_type": "code",
   "execution_count": 5,
   "metadata": {},
   "outputs": [],
   "source": [
    "# Get euclidean distance for each synapse\n",
    "voxel_resolution = np.array([4,4,40])\n",
    "\n",
    "soma_loc_nm = soma_df.loc[0]['pt_position'] * voxel_resolution\n",
    "syn_loc_nm = np.vstack(pre_syn_df['ctr_pt_position'].values) * voxel_resolution\n",
    "\n",
    "# Simpler version using the filter query object:\n",
    "# syn_loc_nm = axon_filter.points\n",
    "\n",
    "d_syn_euc_um = np.linalg.norm(syn_loc_nm - soma_loc_nm, axis=1) / 1_000 # Convert to microns"
   ]
  },
  {
   "cell_type": "code",
   "execution_count": 6,
   "metadata": {},
   "outputs": [],
   "source": [
    "# Get on-arbor distance for each synapse\n",
    "\n",
    "# Direct approach:\n",
    "d_syn_path_um = nrn.distance_to_root( pre_syn_df['pre_pt_mesh_ind'] ) / 1_000\n",
    "\n",
    "# Simpler version using the filter_query:\n",
    "# d_syn_path_um = nrn.distance_to_root(axon_filter.mesh_index) / 1_000"
   ]
  },
  {
   "cell_type": "code",
   "execution_count": 7,
   "metadata": {},
   "outputs": [
    {
     "data": {
      "text/plain": [
       "<matplotlib.legend.Legend at 0x7fa4aa482bb0>"
      ]
     },
     "execution_count": 7,
     "metadata": {},
     "output_type": "execute_result"
    },
    {
     "data": {
      "image/png": "[encoded data removed]",
      "text/plain": [
       "<Figure size 600x450 with 1 Axes>"
      ]
     },
     "metadata": {
      "needs_background": "light"
     },
     "output_type": "display_data"
    }
   ],
   "source": [
    "# Visualize the two distances as a histogram\n",
    "# For bins, use 50 micron bins up to a distance of 1000 microns.\n",
    "\n",
    "pre_syn_df['d_syn_euc_um'] = d_syn_euc_um\n",
    "pre_syn_df['d_syn_path_um'] = d_syn_path_um\n",
    "\n",
    "bins = np.arange(0, 1000, 50)\n",
    "\n",
    "fig, ax = plt.subplots(figsize=(4,3), dpi=150)\n",
    "sns.histplot(\n",
    "    x='d_syn_euc_um',\n",
    "    data=pre_syn_df,\n",
    "    bins=bins,\n",
    "    ax=ax,\n",
    "    stat='count',\n",
    "    element='step',\n",
    "    fill=False,\n",
    ")\n",
    "\n",
    "sns.histplot(\n",
    "    x='d_syn_path_um',\n",
    "    data=pre_syn_df,\n",
    "    bins=bins,\n",
    "    ax=ax,\n",
    "    stat='count',\n",
    "    element='step',\n",
    "    fill=False,\n",
    ")\n",
    "\n",
    "ax.legend(['Euclidean', 'Path'])"
   ]
  },
  {
   "cell_type": "markdown",
   "metadata": {},
   "source": [
    "**Task 3.2:** Compute what cell type (if known) does each synapse target.\n",
    "\n",
    "For this step, for each axonal presynaptic site synapse compute the target cell type if it is a single soma, or else label it 'unclassified'."
   ]
  },
  {
   "cell_type": "code",
   "execution_count": 8,
   "metadata": {},
   "outputs": [],
   "source": [
    "# Get the soma table and compute single soma root ids\n",
    "\n",
    "soma_all_df = client.materialize.query_table('nucleus_neuron_svm', filter_equal_dict={'cell_type': 'neuron'})\n",
    "soma_all_df['n_soma'] = soma_all_df.groupby('pt_root_id')['id'].transform('count')\n",
    "soma_all_df['is_single'] = soma_all_df['n_soma']==1"
   ]
  },
  {
   "cell_type": "code",
   "execution_count": 9,
   "metadata": {},
   "outputs": [],
   "source": [
    "# Find which targets of our cell are onto single-soma neurons.\n",
    "\n",
    "# There are a lot of ways to do this step — here is one\n",
    "pre_syn_df_ct = (\n",
    "    pre_syn_df.merge(\n",
    "        soma_all_df.query(\"is_single == True\")[[\"pt_root_id\", \"is_single\"]],\n",
    "        how=\"left\",\n",
    "        left_on=\"post_pt_root_id\",\n",
    "        right_on=\"pt_root_id\",\n",
    "    )\n",
    "    .drop(columns=\"pt_root_id\")\n",
    "    .fillna(False)\n",
    ")\n",
    "\n",
    "single_soma_ids = np.unique(pre_syn_df_ct.query('is_single==True')['post_pt_root_id'])"
   ]
  },
  {
   "cell_type": "code",
   "execution_count": 10,
   "metadata": {},
   "outputs": [],
   "source": [
    "# Get the cell type of those single soma targets and add them as a labeled column\n",
    "\n",
    "ct_table = \"aibs_soma_nuc_metamodel_preds_v117\"\n",
    "ct_all_df = client.materialize.query_table(ct_table)\n",
    "single_soma_cell_type_df = ct_all_df.query(\"pt_root_id in @single_soma_ids and classification_system=='aibs_neuronal'\")\n",
    "\n",
    "pre_syn_df_ct = pre_syn_df_ct.merge(\n",
    "    single_soma_cell_type_df[[\"pt_root_id\", \"cell_type\"]],\n",
    "    how=\"left\",\n",
    "    left_on=\"post_pt_root_id\",\n",
    "    right_on=\"pt_root_id\",\n",
    ").drop(columns=\"pt_root_id\")"
   ]
  },
  {
   "cell_type": "code",
   "execution_count": 11,
   "metadata": {},
   "outputs": [],
   "source": [
    "valence_map = {\n",
    "    'MC': 'Inh',\n",
    "    'BC': 'Inh',\n",
    "    'BPC': 'Inh',\n",
    "    'NGC': 'Inh',\n",
    "    '23P': \"Exc\",\n",
    "    '4P': \"Exc\",\n",
    "    '5P-IT': \"Exc\",\n",
    "    '5P-ET': \"Exc\",\n",
    "    '5P-NP': \"Exc\",\n",
    "    '6P-IT': \"Exc\",\n",
    "    '6P-CT': \"Exc\",\n",
    "}\n",
    "\n",
    "pre_syn_df_ct['valence'] = pre_syn_df_ct['cell_type'].replace(valence_map)"
   ]
  },
  {
   "cell_type": "code",
   "execution_count": 12,
   "metadata": {},
   "outputs": [
    {
     "data": {
      "text/plain": [
       "True"
      ]
     },
     "execution_count": 12,
     "metadata": {},
     "output_type": "execute_result"
    }
   ],
   "source": [
    "### After all this merging, it is useful to double check that you haven't accidentally introduced extra rows, so let's check that the original length and the cell-typed lengths are the same\n",
    "len(pre_syn_df_ct) == len(pre_syn_df)"
   ]
  },
  {
   "cell_type": "markdown",
   "metadata": {},
   "source": [
    "**Task 3.3:** Measure how the target cell type change with distance.\n",
    "\n",
    "Here, look at the distribution of target preference as a function of distance from soma. First, make histograms of targeting by cell type and distance from soma using both distances. How do they differ? Next, bin the data by distance and compute the fraction of targets that are excitatory, and plot this value as a function of distance. For bins, use a 50 micron bin width."
   ]
  },
  {
   "cell_type": "code",
   "execution_count": 13,
   "metadata": {},
   "outputs": [
    {
     "data": {
      "text/plain": [
       "Text(0.5, 0, 'Distance ($\\\\mu m$)')"
      ]
     },
     "execution_count": 13,
     "metadata": {},
     "output_type": "execute_result"
    },
    {
     "data": {
      "image/png": "[encoded data removed]",
      "text/plain": [
       "<Figure size 1050x450 with 2 Axes>"
      ]
     },
     "metadata": {
      "needs_background": "light"
     },
     "output_type": "display_data"
    }
   ],
   "source": [
    "# Visualize the two distances as a histogram\n",
    "\n",
    "bins = np.arange(0, 1000+1, 50)\n",
    "\n",
    "fig, axes = plt.subplots(figsize=(7,3), ncols=2, dpi=150)\n",
    "\n",
    "ax= axes[0]\n",
    "sns.histplot(\n",
    "    x='d_syn_euc_um',\n",
    "    hue='valence',\n",
    "    data=pre_syn_df_ct,\n",
    "    bins=bins,\n",
    "    ax=ax,\n",
    "    stat='count',\n",
    "    element='step',\n",
    "    fill=False,\n",
    ")\n",
    "ax.set_title('Euclidean distance')\n",
    "ax.set_xlabel('Distance ($\\mu m$)')\n",
    "\n",
    "ax= axes[1]\n",
    "sns.histplot(\n",
    "    x='d_syn_path_um',\n",
    "    hue='valence',\n",
    "    data=pre_syn_df_ct,\n",
    "    bins=bins,\n",
    "    ax=ax,\n",
    "    stat='count',\n",
    "    element='step',\n",
    "    fill=False,\n",
    ")\n",
    "ax.set_title('Path distance')\n",
    "ax.set_xlabel('Distance ($\\mu m$)')\n"
   ]
  },
  {
   "cell_type": "code",
   "execution_count": 15,
   "metadata": {},
   "outputs": [],
   "source": [
    "# Now we bin the data:\n",
    "\n",
    "# Find the fraction of synpases that are excitatory for that are excitatory in each bin.\n",
    "# If you want to get a confidence interval as well, look at the function `proportion_confint` in the statsmodels python package\n",
    "\n",
    "pre_syn_df_ct['euc_bin'] = np.digitize(pre_syn_df_ct['d_syn_euc_um'], bins)\n",
    "pre_syn_df_ct['path_bin'] = np.digitize(pre_syn_df_ct['d_syn_path_um'], bins)"
   ]
  },
  {
   "cell_type": "code",
   "execution_count": 16,
   "metadata": {},
   "outputs": [],
   "source": [
    "# A solution is only shown for the path-distance, but everything is the same for path vs euclidean.\n",
    "\n",
    "path_bin_count_df = pre_syn_df_ct.pivot_table(\n",
    "    index='path_bin',\n",
    "    columns='valence',\n",
    "    values='id',\n",
    "    aggfunc='count',\n",
    "    fill_value=0,\n",
    ")\n",
    "\n",
    "path_bin_count_df['Total'] = path_bin_count_df['Exc']+path_bin_count_df['Inh']\n",
    "path_bin_count_df['inh_frac'] = path_bin_count_df['Inh']/path_bin_count_df['Total']"
   ]
  },
  {
   "cell_type": "code",
   "execution_count": 17,
   "metadata": {},
   "outputs": [],
   "source": [
    "import statsmodels.api as sm\n",
    "\n",
    "lower_bound, upper_bound = sm.stats.proportion_confint(\n",
    "    path_bin_count_df[\"Inh\"], path_bin_count_df[\"Total\"], method=\"wilson\"\n",
    ")\n",
    "\n",
    "path_bin_count_df[\"inf_frac_lb\"] = lower_bound\n",
    "path_bin_count_df[\"inf_frac_ub\"] = upper_bound"
   ]
  },
  {
   "cell_type": "code",
   "execution_count": 18,
   "metadata": {},
   "outputs": [
    {
     "data": {
      "text/plain": [
       "Text(0, 0.5, 'Fraction inhibitory')"
      ]
     },
     "execution_count": 18,
     "metadata": {},
     "output_type": "execute_result"
    },
    {
     "data": {
      "image/png": "[encoded data removed]",
      "text/plain": [
       "<Figure size 750x600 with 1 Axes>"
      ]
     },
     "metadata": {
      "needs_background": "light"
     },
     "output_type": "display_data"
    }
   ],
   "source": [
    "# Visualize fraction of synpases that excitatory as a function of distance bins (with errorbars if you computed confidence intervals)\n",
    "\n",
    "# Generate a list of the locations for each bin\n",
    "bin_center = bins+np.diff(bins).mean()/2\n",
    "path_bin_count_df['bin_location'] = bin_center[path_bin_count_df.index]\n",
    "\n",
    "# Build the error bar matrix that matplotlib expects\n",
    "err = np.vstack(\n",
    "    (\n",
    "        np.abs(path_bin_count_df['inf_frac_lb']-path_bin_count_df['inh_frac']),\n",
    "        np.abs(path_bin_count_df['inf_frac_ub']-path_bin_count_df['inh_frac']),\n",
    "    )\n",
    ")\n",
    "\n",
    "fig, ax = plt.subplots(figsize=(5,4), dpi=150)\n",
    "ax.errorbar(\n",
    "    path_bin_count_df['bin_location'],\n",
    "    path_bin_count_df['inh_frac'],\n",
    "    err,\n",
    "    marker='s',\n",
    "    color='k',\n",
    "    linestyle='none',\n",
    ")\n",
    "\n",
    "ax.set_xlim(bins[0], bins[-1])\n",
    "ax.set_xlabel('Distance ($\\mu m$)')\n",
    "ax.set_ylabel('Fraction inhibitory')"
   ]
  }
 ],
 "metadata": {
  "kernelspec": {
   "display_name": "Python 3 (ipykernel)",
   "language": "python",
   "name": "python3"
  },
  "language_info": {
   "codemirror_mode": {
    "name": "ipython",
    "version": 3
   },
   "file_extension": ".py",
   "mimetype": "text/x-python",
   "name": "python",
   "nbconvert_exporter": "python",
   "pygments_lexer": "ipython3",
   "version": "3.7.7"
  },
  "vscode": {
   "interpreter": {
    "hash": "6348add125c5400b441ebe6e2f6837b450806cc742b4da300b670773e8110c2d"
   }
  }
 },
 "nbformat": 4,
 "nbformat_minor": 4
}
