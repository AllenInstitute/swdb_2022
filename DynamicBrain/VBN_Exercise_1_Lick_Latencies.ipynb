{
 "cells": [
  {
   "cell_type": "markdown",
   "id": "02f411ab",
   "metadata": {},
   "source": [
    "<img src=\"../resources/cropped-SummerWorkshop_Header.png\">  \n",
    "\n",
    "<h1 align=\"center\">Visual Behavior Neuropixels Dataset Exercises</h1> \n",
    "<h2 align=\"center\">Summer Workshop on the Dynamic Brain</h2> "
   ]
  },
  {
   "cell_type": "code",
   "execution_count": null,
   "id": "82adc382",
   "metadata": {},
   "outputs": [],
   "source": [
    "import os\n",
    "import numpy as np\n",
    "import pandas as pd\n",
    "import matplotlib.pyplot as plt\n",
    "import seaborn as sns\n",
    "\n",
    "%matplotlib inline"
   ]
  },
  {
   "cell_type": "code",
   "execution_count": null,
   "id": "ffee893b",
   "metadata": {},
   "outputs": [],
   "source": [
    "import platform\n",
    "platstring = platform.platform()\n",
    "\n",
    "data_dirname = 'visual-behavior-neuropixels'\n",
    "use_static = False\n",
    "if 'Darwin' in platstring or 'macOS' in platstring:\n",
    "    # macOS \n",
    "    data_root = \"/Volumes/Brain2022/\"\n",
    "elif 'Windows'  in platstring:\n",
    "    # Windows (replace with the drive letter of USB drive)\n",
    "    data_root = \"E:/\"\n",
    "elif ('amzn' in platstring):\n",
    "    # then on AWS\n",
    "    data_root = \"/data/\"\n",
    "    data_dirname = 'visual-behavior-neuropixels-data'\n",
    "    use_static = True\n",
    "else:\n",
    "    # then your own linux platform\n",
    "    # EDIT location where you mounted hard drive\n",
    "    data_root = \"/media/$USERNAME/Brain2022/\""
   ]
  },
  {
   "cell_type": "code",
   "execution_count": null,
   "id": "60d6f8d5",
   "metadata": {},
   "outputs": [],
   "source": [
    "from allensdk.brain_observatory.behavior.behavior_project_cache.\\\n",
    "    behavior_neuropixels_project_cache \\\n",
    "    import VisualBehaviorNeuropixelsProjectCache\n",
    "\n",
    "# this path should point to the location of the dataset on your platform\n",
    "cache_dir = os.path.join(data_root, data_dirname)\n",
    "\n",
    "cache = VisualBehaviorNeuropixelsProjectCache.from_local_cache(\n",
    "            cache_dir=cache_dir, use_static_cache=use_static)"
   ]
  },
  {
   "cell_type": "markdown",
   "id": "3b982af9",
   "metadata": {},
   "source": [
    "<div class=\"alert alert-block alert-success\">\n",
    "\n",
    "## Exercise 1: Playing with the trials table and examining licking behavior\n",
    "\n",
    "In this starter exercise, we'll practise working with the trials table and examine the licking behavior of one of the mice in the dataset. For this exercise, there are comments with detailed prompts that act as guiderails.\n",
    "    \n",
    "The tasks we'll undertake are:\n",
    "\n",
    "1. Creating a new column for trial \"type\" (hit, miss, false alarm, etc.) in the trials table and plotting the number trials of each type.\n",
    "1. Comparing lick times (from start of each trial) for hit trials and aborted trials\n",
    "1. Comparing lick latency from the stimulus flash for hit, aborted and false alarm trials\n",
    "1. Computing lick bouts\n",
    "    \n",
    "**Note:** With all of these exercises, there are multiple ways of accomplishing the same end goal. For each of the tasks in Exercise 1, we've provided prompts that take you through one logical sequence of steps to complete these analyses (which we think is simple and teaches useful concepts). The objective is to give you a relatively easy algorithm you can follow, so that you can first focus on getting used to writing pandas code. But feel free to try completing the task objectives using your own algorithm first, and consulting our prompts if you get stuck.\n",
    "\n",
    "</div>"
   ]
  },
  {
   "cell_type": "code",
   "execution_count": null,
   "id": "97c3a1fd",
   "metadata": {},
   "outputs": [],
   "source": [
    "# Setup: first, let's get the relevant tables\n",
    "session_id = 1065437523  # This is a good session for looking at lick behavior\n",
    "session = cache.get_ecephys_session(ecephys_session_id=session_id)\n",
    "\n",
    "stimulus_presentations = session.stimulus_presentations\n",
    "trials = session.trials\n",
    "licks = session.licks"
   ]
  },
  {
   "cell_type": "markdown",
   "id": "aba8e67d",
   "metadata": {},
   "source": [
    "<div class=\"alert alert-block alert-success\">\n",
    "\n",
    "### 1.1 Creating a new column for trial \"type\" in the trials table, and plotting the number trials of each type\n",
    "\n",
    "The different types of trials are: `hit`, `miss`, `false_alarm`, `correct_reject`, `aborted`, and `auto_rewarded`. Each of these trial types has a separate boolean column in the `trials` table indicating whether a particular trial is of that type. For any given trial, only one of these columns will be True, and the rest will be False.\n",
    "    \n",
    "We are going to convert these boolean columns into a new column in the `trials` table called `trial_type`, which contains the trial type as a string. Then, we'll create a bar plot indicating how many trials there are of each type.\n",
    "    \n",
    "If you want to try coming up with the logic for this on your own (i.e., without following the prompts), then this is a good point to pause, think and/or try coding.\n",
    "\n",
    "</div>"
   ]
  },
  {
   "cell_type": "markdown",
   "id": "d40e851d",
   "metadata": {},
   "source": [
    "<div class=\"alert alert-block alert-success\">\n",
    "\n",
    "**Prompt 1.1.a:** Create a new column called `trial_type` filled with NaNs.\n",
    "    \n",
    "</div>"
   ]
  },
  {
   "cell_type": "code",
   "execution_count": null,
   "id": "d5affaa1",
   "metadata": {},
   "outputs": [],
   "source": []
  },
  {
   "cell_type": "markdown",
   "id": "80c77409",
   "metadata": {},
   "source": [
    "<div class=\"alert alert-block alert-success\">\n",
    "\n",
    "**Prompt 1.1.b:** Select the hit trials (rows of the trials table where the column `hit` is True), and set the `trial_type` column for those rows to be equal to the string `'hit'`.\n",
    "\n",
    "</div>"
   ]
  },
  {
   "cell_type": "code",
   "execution_count": null,
   "id": "7a339e06",
   "metadata": {},
   "outputs": [],
   "source": []
  },
  {
   "cell_type": "markdown",
   "id": "155dd8aa",
   "metadata": {},
   "source": [
    "<div class=\"alert alert-block alert-success\">\n",
    "\n",
    "We'll now repeat this action for all trial types using a for loop.\n",
    "\n",
    "**Prompt 1.1.c:** Create a python list with the names of all the different trial types (no harm in including `'hit'` again). Then, using a for loop over the list of trial types you just created, select rows of the trials table of each type, and assign the `trial_type` column for those rows to equal the name of the trial's type.\n",
    "\n",
    "</div>"
   ]
  },
  {
   "cell_type": "code",
   "execution_count": null,
   "id": "77688a23",
   "metadata": {},
   "outputs": [],
   "source": []
  },
  {
   "cell_type": "markdown",
   "id": "23b206a2",
   "metadata": {},
   "source": [
    "<div class=\"alert alert-block alert-success\">\n",
    "\n",
    "**Prompt 1.1.d:** Examine the trials table to see how that worked\n",
    "\n",
    "</div>"
   ]
  },
  {
   "cell_type": "code",
   "execution_count": null,
   "id": "0fa6e082",
   "metadata": {},
   "outputs": [],
   "source": []
  },
  {
   "cell_type": "markdown",
   "id": "8f657de4",
   "metadata": {},
   "source": [
    "<div class=\"alert alert-block alert-success\">\n",
    "\n",
    "**Prompt 1.1.e:** Now, use the `value_counts` function on the `trials` data frame to get the number of rows having each of these trial types. Rename the output Series to `'trial_type_tally'`, which makes more sense.\n",
    "\n",
    "</div>"
   ]
  },
  {
   "cell_type": "code",
   "execution_count": null,
   "id": "3eee5217",
   "metadata": {},
   "outputs": [],
   "source": []
  },
  {
   "cell_type": "markdown",
   "id": "c3744c29",
   "metadata": {},
   "source": [
    "<div class=\"alert alert-block alert-success\">\n",
    "\n",
    "**Prompt 1.1.f:** Make the index of this series a new column using `reset_index`, and rename the new column to `trial_type`.\n",
    "\n",
    "</div>"
   ]
  },
  {
   "cell_type": "code",
   "execution_count": null,
   "id": "44a9117b",
   "metadata": {},
   "outputs": [],
   "source": []
  },
  {
   "cell_type": "markdown",
   "id": "674bf421",
   "metadata": {},
   "source": [
    "<div class=\"alert alert-block alert-success\">\n",
    "\n",
    "**Prompt 1.1.g:** Finally, plot these values using a horizontal bar plot. When using matplotlib, you can use the `plt.barh` function: supply the `y`, `width` and `tick_label` parameters. Give the plot a meaningful title.\n",
    "    \n",
    "</div>"
   ]
  },
  {
   "cell_type": "code",
   "execution_count": null,
   "id": "9b4f88b4",
   "metadata": {},
   "outputs": [],
   "source": []
  },
  {
   "cell_type": "markdown",
   "id": "ed5dfd14",
   "metadata": {},
   "source": [
    "<div class=\"alert alert-block alert-success\">\n",
    "\n",
    "### 1.2 Comparing lick times for hit trials and aborted trials\n",
    "\n",
    "Next, we'll compute the time between the start of the trial and the point at which the mouse licked, and compare this time interval across aborted trials and hit trials. To do this, we'll first create a new column in the `trials` table containing the aforementioned time interval, and then plot histograms of the time interval for hit and aborted trials.\n",
    "\n",
    "Since the mouse correctly waited until the stimulus changed in hit trials, the wait time distribution should closely match the distribution of change times. On the other hand, the distribution of lick times should be much smaller in the case of aborted trials: but this will depend on how the mouse licked in aborted trials.\n",
    "\n",
    "> **Note**: Do _not_ use the 'licks' _column_ from the `trials` table to get the times at which licks occurred. Use information from the `licks` _table_ instead. This is because the `trials` table contains lick timestamps as recorded by the task control computer, while the `licks` table contains lick timestamps as recorded by the lick sensor; the latter is more accurate.\n",
    "\n",
    "If you want to try coming up with the logic for this on your own (i.e., without following the prompts), then this is a good point to pause, think and/or try coding.\n",
    "    \n",
    "</div>"
   ]
  },
  {
   "cell_type": "markdown",
   "id": "6a285c05",
   "metadata": {},
   "source": [
    "<div class=\"alert alert-block alert-success\">\n",
    "\n",
    "**Prompt 1.2.a:** First, find the initial lick in each trial. The `licks` table contains a `timestamps` column that has all time instants at which the mouse licked. Use numpy's `np.searchsorted` function to find the lick timestamps that come immediately after each trial's `start_time`. Add these indices as a new column to the `trials` table called `first_lick_indices`.\n",
    "\n",
    "</div>"
   ]
  },
  {
   "cell_type": "code",
   "execution_count": null,
   "id": "2cd8e0f6",
   "metadata": {},
   "outputs": [],
   "source": []
  },
  {
   "cell_type": "markdown",
   "id": "30957b92",
   "metadata": {},
   "source": [
    "<div class=\"alert alert-block alert-success\">\n",
    "\n",
    "**Prompt 1.2.b:** Now that we have the indices of rows in the `licks` table that correspond to the first lick in each trial, we can use these indices to find the _times_ at which the first licks occurred.\n",
    "\n",
    "But, the `first_lick_indices` we have computed cannot be used directly to index the licks table because the last trial (or the last few) may have had no licks. In this case, `searchsorted` returns an index one greater than the number of rows in the licks table (to indicate that these trials started _after_ the last lick).\n",
    "\n",
    "Examine the last few rows of the `first_lick_indices` column and you'll notice that some indices come after the last index in the `licks` table. Remove these rows and create a new dataframe of subselected trials, which only contains those `first_lick_indices` that correspond to valid licks.\n",
    "\n",
    "</div>"
   ]
  },
  {
   "cell_type": "code",
   "execution_count": null,
   "id": "5a89a045",
   "metadata": {},
   "outputs": [],
   "source": []
  },
  {
   "cell_type": "markdown",
   "id": "1240cf02",
   "metadata": {},
   "source": [
    "<div class=\"alert alert-block alert-success\">\n",
    "\n",
    "**Prompt 1.2.c:** Use the `first_lick_indices` from the subselected trials to _index_ the timestamps column of the `licks` table; store the timestamps in a new pandas Series.\n",
    "\n",
    "</div>"
   ]
  },
  {
   "cell_type": "code",
   "execution_count": null,
   "id": "a4ea75f8",
   "metadata": {},
   "outputs": [],
   "source": []
  },
  {
   "cell_type": "markdown",
   "id": "347003dc",
   "metadata": {},
   "source": [
    "<div class=\"alert alert-block alert-success\">\n",
    "\n",
    "**Prompt 1.2.d:** By default, this Series will inherit its index from the `licks` table. Change the index of this new Series to the index of the subselected trials. This is required to add the timestamps of the first licks back to the appropriate rows of the `trials` table.\n",
    "\n",
    "</div>"
   ]
  },
  {
   "cell_type": "code",
   "execution_count": null,
   "id": "0c82b63d",
   "metadata": {},
   "outputs": [],
   "source": []
  },
  {
   "cell_type": "markdown",
   "id": "d3050e0e",
   "metadata": {},
   "source": [
    "<div class=\"alert alert-block alert-success\">\n",
    "\n",
    "**Prompt 1.2.e:** Add the new Series containing the timestamps of first licks to the `trials` table, in the form of a new column.\n",
    "    \n",
    "</div>"
   ]
  },
  {
   "cell_type": "code",
   "execution_count": null,
   "id": "eb214642",
   "metadata": {},
   "outputs": [],
   "source": []
  },
  {
   "cell_type": "markdown",
   "id": "8d03efd1",
   "metadata": {},
   "source": [
    "<div class=\"alert alert-block alert-success\">\n",
    "\n",
    "**Prompt 1.2.f:** Create a new column containing the time difference between the start of the trial and the first lick\n",
    "\n",
    "</div>"
   ]
  },
  {
   "cell_type": "code",
   "execution_count": null,
   "id": "9bb385a6",
   "metadata": {},
   "outputs": [],
   "source": []
  },
  {
   "cell_type": "markdown",
   "id": "44b801af",
   "metadata": {},
   "source": [
    "<div class=\"alert alert-block alert-success\">\n",
    "\n",
    "**Prompt 1.2.g:** Sub-select only the hit trials and the aborted trials.\n",
    "\n",
    "</div>"
   ]
  },
  {
   "cell_type": "code",
   "execution_count": null,
   "id": "4caba536",
   "metadata": {},
   "outputs": [],
   "source": []
  },
  {
   "cell_type": "markdown",
   "id": "30598503",
   "metadata": {},
   "source": [
    "<div class=\"alert alert-block alert-success\">\n",
    "\n",
    "**Prompt 1.2.h:** Plot a histogram of the time from the start of the trial to the first lick, colored by trial type.\n",
    "Use bins in steps of 0.75 seconds so that each histogram column represents licks within a stimulus presentation.\n",
    "\n",
    "For plotting, you can call matplotlib's `plt.hist` function twice, once for each trial type. Supply the data, and additionally set the `bins`, `alpha` and `label` arguments. Call `plt.legend()`, which will make use of the label arguments you supplied to create a legend. Don't forget to label your x- and y-axes.\n",
    "    \n",
    "</div>"
   ]
  },
  {
   "cell_type": "code",
   "execution_count": null,
   "id": "81fe42b6",
   "metadata": {},
   "outputs": [],
   "source": []
  },
  {
   "cell_type": "markdown",
   "id": "64dad94a",
   "metadata": {},
   "source": [
    "<div class=\"alert alert-block alert-success\">\n",
    "\n",
    "Does anything about this plot look unusual? What sort of distribution should we have expected in aborted trials, if the mouse licked on each stimulus presentation uniformly at random?\n",
    "\n",
    "</div>"
   ]
  },
  {
   "cell_type": "markdown",
   "id": "cf148f13",
   "metadata": {},
   "source": [
    "<div class=\"alert alert-block alert-success\">\n",
    "\n",
    "### 1.3  Comparing lick latency from the stimulus flash for hit trials and aborted/false alarm trials\n",
    "\n",
    "Next, we'll compare the latency between the first lick in each trial and the _preceding stimulus flash_ (rather than the start of the trial), across hit, aborted and false alarm trials.\n",
    "\n",
    "To get information about stimulus presentations, we'll have to look at the `stimulus_presentations` table. Each stimulus presentation (i.e., flash) occurs within a trial: we'll associate each stimulus presentation to its trial, and then use the first lick times we computed in Exercise 1.2 to find the stimulus presentation preceding each lick.\n",
    "\n",
    "For hit trials, we expect the licks to be stimulus-locked, with a response after a clear delay. If this is also true for aborted trials, it could mean that the mice are trying to use a \"timing\" strategy: licking after a particular number of flashes, rather than licking on the flash after the image changes.\n",
    "\n",
    "</div>"
   ]
  },
  {
   "cell_type": "markdown",
   "id": "01a94083",
   "metadata": {},
   "source": [
    "<div class=\"alert alert-block alert-success\">\n",
    "\n",
    "**Prompt 1.3.a:** First, use `searchsorted` to find the trial index that starts _before_ the `start_time` of each stimulus presentation. Assign these indices to a new column of the stimulus presentation table called `trials_id`.\n",
    "\n",
    "</div>"
   ]
  },
  {
   "cell_type": "code",
   "execution_count": null,
   "id": "f88738b6",
   "metadata": {},
   "outputs": [],
   "source": []
  },
  {
   "cell_type": "markdown",
   "id": "a5c38a4a",
   "metadata": {},
   "source": [
    "<div class=\"alert alert-block alert-success\">\n",
    "\n",
    "**Prompt 1.3.b:** Next, merge the `stimulus_presentations` table with the `trials` table using the newly created `trials_id` column.\n",
    "\n",
    "While merging, note that both the `stimulus_presentations` table and the `trials` table have some columns of the same name, e.g., `start_time`. To distinguish these columns after merging, use the `suffixes` argument. The default suffixes are `('_x', '_y')`, but it's better to rename them to be more meaningful.\n",
    "\n",
    "</div>"
   ]
  },
  {
   "cell_type": "code",
   "execution_count": null,
   "id": "c991fab4",
   "metadata": {},
   "outputs": [],
   "source": []
  },
  {
   "cell_type": "markdown",
   "id": "b826b8e6",
   "metadata": {},
   "source": [
    "<div class=\"alert alert-block alert-success\">\n",
    "\n",
    "**Prompt 1.3.c:** Print out the columns of the merged table to check that everything is there.\n",
    "\n",
    "</div>"
   ]
  },
  {
   "cell_type": "code",
   "execution_count": null,
   "id": "aaf2bb8b",
   "metadata": {},
   "outputs": [],
   "source": []
  },
  {
   "cell_type": "markdown",
   "id": "df3e6ff3",
   "metadata": {},
   "source": [
    "<div class=\"alert alert-block alert-success\">\n",
    "\n",
    "**Prompt 1.3.d:** Now that we have all the info we need, subselect the hit, false alarm and aborted trials.\n",
    "\n",
    "</div>"
   ]
  },
  {
   "cell_type": "code",
   "execution_count": null,
   "id": "aa7ab63b",
   "metadata": {},
   "outputs": [],
   "source": []
  },
  {
   "cell_type": "markdown",
   "id": "6781b01a",
   "metadata": {},
   "source": [
    "<div class=\"alert alert-block alert-success\">\n",
    "\n",
    "**Prompt 1.3.e:** Next, select the stimulus presentations that precede the first lick timestamp, and create a copy of the returned data frame. We need to call `.copy()` after selecting to prevent the `SettingWithCopy` warning later.\n",
    "\n",
    "</div>"
   ]
  },
  {
   "cell_type": "code",
   "execution_count": null,
   "id": "2e6b3de5",
   "metadata": {},
   "outputs": [],
   "source": []
  },
  {
   "cell_type": "markdown",
   "id": "dd2d0a94",
   "metadata": {},
   "source": [
    "<div class=\"alert alert-block alert-success\">\n",
    "\n",
    "To find the stimulus presentation *just* before the first lick timestamp, we can group the data frame (of all stimulus presentations preceding the first lick timestamp) by trial index and select the stimulus presentation with the largest stimulus presentation index.\n",
    "\n",
    "**Prompt 1.3.f:** First, create a new column called `stim_id` to contain the stimulus presentation index (move the index to a column using `reset_index`).\n",
    "\n",
    "</div>"
   ]
  },
  {
   "cell_type": "code",
   "execution_count": null,
   "id": "b7eba7bc",
   "metadata": {},
   "outputs": [],
   "source": []
  },
  {
   "cell_type": "markdown",
   "id": "8ecef277",
   "metadata": {},
   "source": [
    "<div class=\"alert alert-block alert-success\">\n",
    "\n",
    "**Prompt 1.3.g:** Then, group rows by `trials_id`, and find the maximum `stim_id` in each trial.\n",
    "    \n",
    "The resulting data frame will associate every trial with a `stim_id`, which is the last stimulus presentation preceding the first lick in that trial.\n",
    "\n",
    "</div>"
   ]
  },
  {
   "cell_type": "code",
   "execution_count": null,
   "id": "27596edb",
   "metadata": {},
   "outputs": [],
   "source": []
  },
  {
   "cell_type": "markdown",
   "id": "897b188a",
   "metadata": {},
   "source": [
    "<div class=\"alert alert-block alert-success\">\n",
    "\n",
    "**Prompt 1.3.h:** Now, choose those rows from the merged `stimulus_presentation`-`trials` table that have these `stim_id`s.\n",
    "\n",
    "</div>"
   ]
  },
  {
   "cell_type": "code",
   "execution_count": null,
   "id": "d40eba36",
   "metadata": {},
   "outputs": [],
   "source": []
  },
  {
   "cell_type": "markdown",
   "id": "c3ec36bb",
   "metadata": {},
   "source": [
    "<div class=\"alert alert-block alert-success\">\n",
    "\n",
    "**Prompt 1.3.i:** Finally, compute the latency between the first lick in each trial and the start of the preceding stimulus flash. Add this to a new column.\n",
    "\n",
    "</div>"
   ]
  },
  {
   "cell_type": "code",
   "execution_count": null,
   "id": "74036d82",
   "metadata": {},
   "outputs": [],
   "source": []
  },
  {
   "cell_type": "markdown",
   "id": "73e27294",
   "metadata": {},
   "source": [
    "<div class=\"alert alert-block alert-success\">\n",
    "\n",
    "**Prompt 1.3.j:** Plot a histogram of lick latencies, colored by trial type.\n",
    "\n",
    "</div>"
   ]
  },
  {
   "cell_type": "code",
   "execution_count": null,
   "id": "43a77ab1",
   "metadata": {},
   "outputs": [],
   "source": []
  },
  {
   "cell_type": "markdown",
   "id": "cdc58765",
   "metadata": {},
   "source": [
    "<div class=\"alert alert-block alert-success\">\n",
    "\n",
    "Since both hit trials and aborted trials appear to be stimulus-locked, it would appear that this mouse is using a timing strategy.\n",
    "    \n",
    "> **Note:** We could have gone about Exercise 1.3 in many other ways too. The reason we chose this method was to practise using `merge` and `groupby`. For instance, here are some other possible algorithms:\n",
    "> 1. We could have used `searchsorted` to directly find the stimulus presentations preceding the first lick in each trial.\n",
    "> 2. Or, we could have computed the `lick_latency` column after 1.3.d, and then selected the rows with smallest positive lick latencies, which would have avoided the `groupby`.\n",
    "\n",
    "</div>"
   ]
  },
  {
   "cell_type": "markdown",
   "id": "6bf7b358",
   "metadata": {},
   "source": [
    "<div class=\"alert alert-block alert-success\">\n",
    "\n",
    "### 1.4  Computing lick bouts\n",
    "\n",
    "Mice tend to lick quickly in rapid succession. In this exercise, we'll examine how to separate these licks into lick \"bouts\".\n",
    "    \n",
    "We'll compute the inter-lick interval from the `licks` table, and use a histogram of these intervals to find a suitable lick bout \"threshold\". This will be a cut-off time interval (>100ms and &lt;1 second) within which two licks will be considered part of a bout.\n",
    "    \n",
    "Then, we'll add a column to the licks table to indicate the lick bout number that each lick is part of. Finally, we'll plot a histogram of inter-bout intervals.\n",
    "    \n",
    "</div>"
   ]
  },
  {
   "cell_type": "markdown",
   "id": "fe34d83f",
   "metadata": {},
   "source": [
    "<div class=\"alert alert-block alert-success\">\n",
    "\n",
    "**Prompt 1.4.a:** Compute the inter-lick interval from the `licks` table. You can use the `np.diff` function from numpy to compute differences of adjacent elements.\n",
    "\n",
    "</div>"
   ]
  },
  {
   "cell_type": "code",
   "execution_count": null,
   "id": "6e29ec53",
   "metadata": {},
   "outputs": [],
   "source": []
  },
  {
   "cell_type": "markdown",
   "id": "a583d0a0",
   "metadata": {},
   "source": [
    "<div class=\"alert alert-block alert-success\">\n",
    "\n",
    "**Prompt 1.4.b:** Plot a histogram of the inter-lick interval to find a reasonable threshold for lick bouts (use 1000 bins and log scaling on the y-axis to better evaluate where the lick bout cuts off).\n",
    "\n",
    "</div>"
   ]
  },
  {
   "cell_type": "code",
   "execution_count": null,
   "id": "a935c948",
   "metadata": {},
   "outputs": [],
   "source": []
  },
  {
   "cell_type": "markdown",
   "id": "128a2170",
   "metadata": {
    "scrolled": true
   },
   "source": [
    "<div class=\"alert alert-block alert-success\">\n",
    "\n",
    "**Prompt 1.4.c:** Set the lick bout threshold based on where the histogram clips off (roughly)\n",
    "\n",
    "</div>"
   ]
  },
  {
   "cell_type": "code",
   "execution_count": null,
   "id": "d526b2b0",
   "metadata": {},
   "outputs": [],
   "source": []
  },
  {
   "cell_type": "markdown",
   "id": "70cd3aca",
   "metadata": {
    "scrolled": true
   },
   "source": [
    "<div class=\"alert alert-block alert-success\">\n",
    "\n",
    "**Prompt 1.4.d:** (This step is not needed for what follows) Add the inter-lick intervals to the `licks` table. There is now one row fewer than needed, since the inter-lick interval is not defined for the very first lick: make that row either `inf` or `NaN`.\n",
    "\n",
    "</div>"
   ]
  },
  {
   "cell_type": "code",
   "execution_count": null,
   "id": "bfac48ce",
   "metadata": {},
   "outputs": [],
   "source": []
  },
  {
   "cell_type": "markdown",
   "id": "c3ac2cda",
   "metadata": {
    "scrolled": true
   },
   "source": [
    "<div class=\"alert alert-block alert-success\">\n",
    "\n",
    "**Prompt 1.4.e:** Create a `lick_bout` column in the `licks` table, to contain the \"bout index\" that each lick is part of: to compute the bout index, we need to increment a counter every time the inter-lick interval exceeds the lick bout threshold that we defined above. `np.cumsum` computes a cumulative sum, and can be used do this efficiently.\n",
    "\n",
    "</div>"
   ]
  },
  {
   "cell_type": "code",
   "execution_count": null,
   "id": "8efcb527",
   "metadata": {
    "scrolled": true
   },
   "outputs": [],
   "source": []
  },
  {
   "cell_type": "markdown",
   "id": "bd3cb784",
   "metadata": {},
   "source": [
    "<div class=\"alert alert-block alert-success\">\n",
    "\n",
    "**Prompt 1.4.f:** Create a table with the timestamps of lick bouts, i.e., timestamps of the first lick in each bout. You could use a `groupby` to do this.\n",
    "\n",
    "</div>"
   ]
  },
  {
   "cell_type": "code",
   "execution_count": null,
   "id": "f4bc0e9f",
   "metadata": {},
   "outputs": [],
   "source": []
  },
  {
   "cell_type": "markdown",
   "id": "5c9f8c00",
   "metadata": {},
   "source": [
    "<div class=\"alert alert-block alert-success\">\n",
    "\n",
    "**Prompt 1.4.g:** Check what the histogram of inter-bout intervals looks like (leaving out intervals >=1 minute in length)\n",
    "\n",
    "</div>"
   ]
  },
  {
   "cell_type": "code",
   "execution_count": null,
   "id": "ca32e580",
   "metadata": {},
   "outputs": [],
   "source": []
  }
 ],
 "metadata": {
  "kernelspec": {
   "display_name": "Python 3 (ipykernel)",
   "language": "python",
   "name": "python3"
  },
  "language_info": {
   "codemirror_mode": {
    "name": "ipython",
    "version": 3
   },
   "file_extension": ".py",
   "mimetype": "text/x-python",
   "name": "python",
   "nbconvert_exporter": "python",
   "pygments_lexer": "ipython3",
   "version": "3.8.13"
  }
 },
 "nbformat": 4,
 "nbformat_minor": 5
}
