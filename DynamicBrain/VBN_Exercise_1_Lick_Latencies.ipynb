{
 "cells": [
  {
   "cell_type": "markdown",
   "id": "02f411ab",
   "metadata": {},
   "source": [
    "<img src=\"../resources/cropped-SummerWorkshop_Header.png\">  \n",
    "\n",
    "<h1 align=\"center\">Visual Behavior Neuropixels Dataset Exercises</h1> \n",
    "<h2 align=\"center\">Summer Workshop on the Dynamic Brain</h2> "
   ]
  },
  {
   "cell_type": "code",
   "execution_count": null,
   "id": "82adc382",
   "metadata": {},
   "outputs": [],
   "source": [
    "import os\n",
    "import numpy as np\n",
    "import pandas as pd\n",
    "import matplotlib.pyplot as plt\n",
    "import seaborn as sns\n",
    "\n",
    "%matplotlib inline"
   ]
  },
  {
   "cell_type": "code",
   "execution_count": null,
   "id": "ffee893b",
   "metadata": {},
   "outputs": [],
   "source": [
    "import platform\n",
    "platstring = platform.platform()\n",
    "\n",
    "data_dirname = 'visual-behavior-neuropixels'\n",
    "use_static = False\n",
    "if 'Darwin' in platstring or 'macOS' in platstring:\n",
    "    # macOS \n",
    "    data_root = \"/Volumes/Brain2022/\"\n",
    "elif 'Windows'  in platstring:\n",
    "    # Windows (replace with the drive letter of USB drive)\n",
    "    data_root = \"E:/\"\n",
    "elif ('amzn' in platstring):\n",
    "    # then on AWS\n",
    "    data_root = \"/data/\"\n",
    "    data_dirname = 'visual-behavior-neuropixels-data'\n",
    "    use_static = True\n",
    "else:\n",
    "    # then your own linux platform\n",
    "    # EDIT location where you mounted hard drive\n",
    "    data_root = \"/media/$USERNAME/Brain2022/\""
   ]
  },
  {
   "cell_type": "code",
   "execution_count": null,
   "id": "60d6f8d5",
   "metadata": {},
   "outputs": [],
   "source": [
    "from allensdk.brain_observatory.behavior.behavior_project_cache.\\\n",
    "    behavior_neuropixels_project_cache \\\n",
    "    import VisualBehaviorNeuropixelsProjectCache\n",
    "\n",
    "# this path should point to the location of the dataset on your platform\n",
    "cache_dir = os.path.join(data_root, data_dirname)\n",
    "\n",
    "cache = VisualBehaviorNeuropixelsProjectCache.from_local_cache(\n",
    "            cache_dir=cache_dir, use_static_cache=use_static)"
   ]
  },
  {
   "cell_type": "markdown",
   "id": "3b982af9",
   "metadata": {},
   "source": [
    "<div class=\"alert alert-block alert-success\">\n",
    "\n",
    "<h2>Exercise 1: Playing with the trials table and examining licking behavior</h2>\n",
    "\n",
    "<p>\n",
    "In this starter exercise, we'll practise working with the trials table and examine the licking behavior of one of the mice in the dataset. For this exercise, there are comments with detailed prompts that act as guiderails.\n",
    "</p>\n",
    "\n",
    "<p>\n",
    "The tasks we'll undertake are:\n",
    "</p>\n",
    "<ol>\n",
    "<li>Creating a new column for trial \"type\" (hit, miss, false alarm, etc.) in the trials table and plotting the number trials of each type.</li>\n",
    "<li>Comparing lick times (from start of each trial) for hit trials and aborted trials</li>\n",
    "<li>Comparing lick latency from the stimulus flash for hit, aborted and false alarm trials</li>\n",
    "<li>Computing lick bouts</li>\n",
    "</ol>\n",
    "    \n",
    "<p>\n",
    "<strong>Note:</strong> With all of these exercises, there are multiple ways of accomplishing the same end goal. For each of the tasks in Exercise 1, we've provided prompts that take you through one logical sequence of steps to complete these analyses (which we think is simple and teaches useful concepts). The objective is to give you a relatively easy algorithm you can follow, so that you can first focus on getting used to writing pandas code. But feel free to try completing the task objectives using your own algorithm first, and consulting our prompts if you get stuck.\n",
    "</p>\n",
    "\n",
    "</div>"
   ]
  },
  {
   "cell_type": "code",
   "execution_count": null,
   "id": "97c3a1fd",
   "metadata": {
    "scrolled": true
   },
   "outputs": [],
   "source": [
    "# Setup: first, let's get the relevant tables\n",
    "session_id = 1065437523  # This is a good session for looking at lick behavior\n",
    "session = cache.get_ecephys_session(ecephys_session_id=session_id)\n",
    "\n",
    "stimulus_presentations = session.stimulus_presentations\n",
    "trials = session.trials\n",
    "licks = session.licks"
   ]
  },
  {
   "cell_type": "markdown",
   "id": "aba8e67d",
   "metadata": {},
   "source": [
    "<div class=\"alert alert-block alert-success\">\n",
    "\n",
    "<h3>1.1 Creating a new column for trial \"type\" in the trials table, and plotting the number trials of each type</h3>\n",
    "\n",
    "<p>\n",
    "The different types of trials are: <code>hit</code>, <code>miss</code>, <code>false_alarm</code>, <code>correct_reject</code>, <code>aborted</code>, and <code>auto_rewarded</code>. Each of these trial types has a separate boolean column in the <code>trials</code> table indicating whether a particular trial is of that type. For any given trial, only one of these columns will be True, and the rest will be False.\n",
    "</p>\n",
    "\n",
    "<p>\n",
    "We are going to convert these boolean columns into a new column in the <code>trials</code> table called <code>trial_type</code>, which contains the trial type as a string. Then, we'll create a bar plot indicating how many trials there are of each type.\n",
    "</p>\n",
    "\n",
    "<p>\n",
    "If you want to try coming up with the logic for this on your own (i.e., without following the prompts), then this is a good point to pause, think and/or try coding.\n",
    "</p>\n",
    "\n",
    "</div>"
   ]
  },
  {
   "cell_type": "markdown",
   "id": "d40e851d",
   "metadata": {},
   "source": [
    "<div class=\"alert alert-block alert-success\">\n",
    "\n",
    "<strong>Prompt 1.1.a:</strong> Create a new column called <code>trial_type</code> filled with NaNs.\n",
    "\n",
    "</div>"
   ]
  },
  {
   "cell_type": "code",
   "execution_count": null,
   "id": "d5affaa1",
   "metadata": {},
   "outputs": [],
   "source": []
  },
  {
   "cell_type": "markdown",
   "id": "80c77409",
   "metadata": {},
   "source": [
    "<div class=\"alert alert-block alert-success\">\n",
    "\n",
    "<strong>Prompt 1.1.b:</strong> Select the hit trials (rows of the trials table where the column <code>hit</code> is True), and set the <code>trial_type</code> column for those rows to be equal to the string <code>'hit'</code>.\n",
    "\n",
    "</div>"
   ]
  },
  {
   "cell_type": "code",
   "execution_count": null,
   "id": "7a339e06",
   "metadata": {},
   "outputs": [],
   "source": []
  },
  {
   "cell_type": "markdown",
   "id": "155dd8aa",
   "metadata": {},
   "source": [
    "<div class=\"alert alert-block alert-success\">\n",
    "\n",
    "<p>\n",
    "We'll now repeat this action for all trial types using a for loop.\n",
    "</p>\n",
    "\n",
    "<p>\n",
    "<strong>Prompt 1.1.c:</strong> Create a python list with the names of all the different trial types (no harm in including <code>'hit'</code> again). Then, using a for loop over the list of trial types you just created, select rows of the trials table of each type, and assign the <code>trial_type</code> column for those rows to equal the name of the trial's type.\n",
    "</p>\n",
    "\n",
    "</div>"
   ]
  },
  {
   "cell_type": "code",
   "execution_count": null,
   "id": "77688a23",
   "metadata": {},
   "outputs": [],
   "source": []
  },
  {
   "cell_type": "markdown",
   "id": "23b206a2",
   "metadata": {},
   "source": [
    "<div class=\"alert alert-block alert-success\">\n",
    "\n",
    "<strong>Prompt 1.1.d:</strong> Examine the trials table to see how that worked\n",
    "\n",
    "</div>"
   ]
  },
  {
   "cell_type": "code",
   "execution_count": null,
   "id": "0fa6e082",
   "metadata": {},
   "outputs": [],
   "source": []
  },
  {
   "cell_type": "markdown",
   "id": "8f657de4",
   "metadata": {},
   "source": [
    "<div class=\"alert alert-block alert-success\">\n",
    "\n",
    "<strong>Prompt 1.1.e:</strong> Now, use the <code>value_counts</code> function on the <code>trials</code> data frame to get the number of rows having each of these trial types. Rename the output Series to <code>'trial_type_tally'</code>, which makes more sense.\n",
    "\n",
    "</div>"
   ]
  },
  {
   "cell_type": "code",
   "execution_count": null,
   "id": "3eee5217",
   "metadata": {},
   "outputs": [],
   "source": []
  },
  {
   "cell_type": "markdown",
   "id": "c3744c29",
   "metadata": {},
   "source": [
    "<div class=\"alert alert-block alert-success\">\n",
    "\n",
    "<strong>Prompt 1.1.f:</strong> Make the index of this series a new column using <code>reset_index</code>, and rename the new column to <code>trial_type</code>.\n",
    "\n",
    "</div>"
   ]
  },
  {
   "cell_type": "code",
   "execution_count": null,
   "id": "44a9117b",
   "metadata": {},
   "outputs": [],
   "source": []
  },
  {
   "cell_type": "markdown",
   "id": "674bf421",
   "metadata": {},
   "source": [
    "<div class=\"alert alert-block alert-success\">\n",
    "\n",
    "<strong>Prompt 1.1.g:</strong> Finally, plot these values using a horizontal bar plot. When using matplotlib, you can use the <code>plt.barh</code> function: supply the <code>y</code>, <code>width</code> and <code>tick_label</code> parameters. Give the plot a meaningful title.\n",
    "    \n",
    "</div>"
   ]
  },
  {
   "cell_type": "code",
   "execution_count": null,
   "id": "9b4f88b4",
   "metadata": {},
   "outputs": [],
   "source": []
  },
  {
   "cell_type": "markdown",
   "id": "ed5dfd14",
   "metadata": {},
   "source": [
    "<div class=\"alert alert-block alert-success\">\n",
    "\n",
    "<h3>1.2 Comparing lick times for hit trials and aborted trials</h3>\n",
    "\n",
    "<p>\n",
    "Next, we'll compute the time interval between the start of the trial and the point at which the mouse licked, and compare this time interval across aborted trials and hit trials. To do this, we'll first create a new column in the <code>trials</code> table containing the aforementioned time interval, and then plot histograms of the time interval for hit and aborted trials.\n",
    "</p>\n",
    "\n",
    "<p>\n",
    "Since the mouse correctly waited until the stimulus changed in hit trials, the wait time distribution should closely match the distribution of change times. On the other hand, the distribution of lick times should be much smaller in the case of aborted trials: but this will depend on how the mouse licked in aborted trials.\n",
    "</p>\n",
    "\n",
    "<blockquote>\n",
    "<p>\n",
    "<strong>Note</strong>: Do <em>not</em> use the 'licks' <em>column</em> from the <code>trials</code> table to get the times at which licks occurred. Use information from the <code>licks</code> <em>table</em> instead. This is because the <code>trials</code> table contains lick timestamps as recorded by the task control computer, while the <code>licks</code> table contains lick timestamps as recorded by the lick sensor; the latter is more accurate.\n",
    "</p>\n",
    "\n",
    "<p>\n",
    "<strong>Hint</strong>: The first step in this exercise is to find the initial lick in every trial. That is, for every <code>start_time</code> in the <code>trials</code> table, we need to find the first lick timestamp in the <code>licks</code> table coming immediately after it. To do this efficiently, we'll use the numpy function <a href=\"https://numpy.org/doc/stable/reference/generated/numpy.searchsorted.html\"><code>np.searchsorted</code></a>: more information on using this function is available in the first prompt for this exercise.\n",
    "</p>\n",
    "</blockquote>\n",
    "\n",
    "<p>\n",
    "If you want to try coming up with the logic for this on your own (i.e., without following the prompts), then this is a good point to pause, think and/or try coding.\n",
    "</p>\n",
    "\n",
    "</div>"
   ]
  },
  {
   "cell_type": "markdown",
   "id": "6a285c05",
   "metadata": {},
   "source": [
    "<div class=\"alert alert-block alert-success\">\n",
    "\n",
    "<p>\n",
    "<strong>Prompt 1.2.a:</strong> First, find the initial lick in each trial. The <code>licks</code> table contains a <code>timestamps</code> column that has all time instants at which the mouse licked. Use numpy's <code>np.searchsorted</code> function to find the indices of the licks that come immediately after each trial's <code>start_time</code>. (These indices may not make sense for trials where the mouse did not lick, but later, we will be considering only hit and aborted trials, in which we know for sure that the mouse did lick.) You should have one lick index for each trial: add these indices as a new column to the <code>trials</code> table called <code>first_lick_indices</code>.\n",
    "</p>\n",
    "\n",
    "<blockquote>\n",
    "<p>\n",
    "<a href=\"https://numpy.org/doc/stable/reference/generated/numpy.searchsorted.html\"><code>np.searchsorted</code></a> can efficiently find the index at which a number <code>v</code> must be inserted into a sorted array <code>a</code> to maintain sorted order. <code>v</code> can also be an array, in which case <code>searchsorted</code> returns one index for each element of <code>v</code>.\n",
    "</p>\n",
    "<p>\n",
    "To take an example, let's consider a sorted array, <code>a = [1, 4, 7, 9]</code> and suppose <code>v = [5, 0, 10]</code>. Then, <code>r = np.searchsorted(a, v)</code> would produce <code>r = [2, 0, 4]</code>. Observe that <code>v[0] = 5</code> needs to be inserted into <code>a</code> before <code>7</code>, which is at <code>a[2]</code>. Thus, <code>r[0] = 2</code> because that is the index in <code>a</code> before which <code>v[0]</code> needs to be inserted.\n",
    "</p>\n",
    "<p>\n",
    "Similarly, <code>v[1] = 0</code> needs to be inserted before <code>a[0] = 1</code>, so <code>r[1] = 0</code>. Finally, <code>v[2] = 10</code> needs to be inserted at the end of the array, i.e., at index <code>r[2] = 4</code> (even though this is <em>currently</em> not a valid index for <code>a</code> &mdash; valid indices run from 0 through 3 &mdash; it would be valid after the insertion).\n",
    "</p>\n",
    "<p>\n",
    "Note that the <em>length</em> of the returned array <code>r</code> is equal to the length of <code>v</code>, while the <em>elements</em> of <code>r</code> are between <code>0</code> and <code>len(a)</code> (inclusive).\n",
    "</p>\n",
    "</blockquote>\n",
    "\n",
    "</div>"
   ]
  },
  {
   "cell_type": "code",
   "execution_count": null,
   "id": "2cd8e0f6",
   "metadata": {},
   "outputs": [],
   "source": []
  },
  {
   "cell_type": "markdown",
   "id": "30957b92",
   "metadata": {},
   "source": [
    "<div class=\"alert alert-block alert-success\">\n",
    "\n",
    "<p>\n",
    "<strong>Prompt 1.2.b:</strong> Now that we have the indices of rows in the <code>licks</code> table that correspond to the first lick in each trial, we can use these indices to find the <em>times</em> at which the first licks occurred.\n",
    "</p>\n",
    "\n",
    "<p>\n",
    "But, the <code>first_lick_indices</code> we have computed cannot be used directly to index the licks table because the last trial (or the last few) may have had no licks. In this case, <code>searchsorted</code> returns an index one greater than the number of rows in the licks table (to indicate that these trials started <em>after</em> the last lick).\n",
    "</p>\n",
    "\n",
    "<p>\n",
    "Examine the last few rows of the <code>first_lick_indices</code> column and you'll notice that some indices come after the last index in the <code>licks</code> table. Remove these rows and create a new dataframe of subselected trials, which only contains those <code>first_lick_indices</code> that correspond to valid licks.\n",
    "</p>\n",
    "\n",
    "</div>"
   ]
  },
  {
   "cell_type": "code",
   "execution_count": null,
   "id": "5a89a045",
   "metadata": {},
   "outputs": [],
   "source": []
  },
  {
   "cell_type": "markdown",
   "id": "1240cf02",
   "metadata": {},
   "source": [
    "<div class=\"alert alert-block alert-success\">\n",
    "\n",
    "<strong>Prompt 1.2.c:</strong> Use the <code>first_lick_indices</code> from the subselected trials to _index_ the timestamps column of the <code>licks</code> table; store the timestamps in a new pandas Series.\n",
    "\n",
    "</div>"
   ]
  },
  {
   "cell_type": "code",
   "execution_count": null,
   "id": "a4ea75f8",
   "metadata": {},
   "outputs": [],
   "source": []
  },
  {
   "cell_type": "markdown",
   "id": "347003dc",
   "metadata": {},
   "source": [
    "<div class=\"alert alert-block alert-success\">\n",
    "\n",
    "<strong>Prompt 1.2.d:</strong> By default, this Series will inherit its index from the <code>licks</code> table. Change the index of this new Series to the index of the subselected trials. This is required to add the timestamps of the first licks back to the appropriate rows of the <code>trials</code> table.\n",
    "\n",
    "</div>"
   ]
  },
  {
   "cell_type": "code",
   "execution_count": null,
   "id": "0c82b63d",
   "metadata": {},
   "outputs": [],
   "source": []
  },
  {
   "cell_type": "markdown",
   "id": "d3050e0e",
   "metadata": {},
   "source": [
    "<div class=\"alert alert-block alert-success\">\n",
    "\n",
    "<strong>Prompt 1.2.e:</strong> Add the new Series containing the timestamps of first licks to the <code>trials</code> table, in the form of a new column.\n",
    "    \n",
    "</div>"
   ]
  },
  {
   "cell_type": "code",
   "execution_count": null,
   "id": "eb214642",
   "metadata": {},
   "outputs": [],
   "source": []
  },
  {
   "cell_type": "markdown",
   "id": "8d03efd1",
   "metadata": {},
   "source": [
    "<div class=\"alert alert-block alert-success\">\n",
    "\n",
    "<strong>Prompt 1.2.f:</strong> Create a new column containing the time difference between the start of the trial and the first lick\n",
    "\n",
    "</div>"
   ]
  },
  {
   "cell_type": "code",
   "execution_count": null,
   "id": "9bb385a6",
   "metadata": {},
   "outputs": [],
   "source": []
  },
  {
   "cell_type": "markdown",
   "id": "44b801af",
   "metadata": {},
   "source": [
    "<div class=\"alert alert-block alert-success\">\n",
    "\n",
    "<strong>Prompt 1.2.g:</strong> Sub-select only the hit trials and the aborted trials.\n",
    "\n",
    "</div>"
   ]
  },
  {
   "cell_type": "code",
   "execution_count": null,
   "id": "4caba536",
   "metadata": {},
   "outputs": [],
   "source": []
  },
  {
   "cell_type": "markdown",
   "id": "30598503",
   "metadata": {},
   "source": [
    "<div class=\"alert alert-block alert-success\">\n",
    "\n",
    "<p>\n",
    "<strong>Prompt 1.2.h:</strong> Plot a histogram of the time from the start of the trial to the first lick, colored by trial type.\n",
    "Use bins in steps of 0.75 seconds so that each histogram column represents licks within a stimulus presentation.\n",
    "</p>\n",
    "\n",
    "<p>\n",
    "For plotting, you can call matplotlib's <code>plt.hist</code> function twice, once for each trial type. Supply the data, and additionally set the <code>bins</code>, <code>alpha</code> and <code>label</code> arguments. Call <code>plt.legend()</code>, which will make use of the label arguments you supplied to create a legend. Don't forget to label your x- and y-axes.\n",
    "</p>\n",
    "\n",
    "</div>"
   ]
  },
  {
   "cell_type": "code",
   "execution_count": null,
   "id": "81fe42b6",
   "metadata": {},
   "outputs": [],
   "source": []
  },
  {
   "cell_type": "markdown",
   "id": "64dad94a",
   "metadata": {},
   "source": [
    "<div class=\"alert alert-block alert-success\">\n",
    "\n",
    "Does anything about this plot look unusual? What sort of distribution should we have expected in aborted trials, if the mouse licked on each stimulus presentation uniformly at random?\n",
    "\n",
    "</div>"
   ]
  },
  {
   "cell_type": "markdown",
   "id": "cf148f13",
   "metadata": {},
   "source": [
    "<div class=\"alert alert-block alert-success\">\n",
    "\n",
    "<h3>1.3  Comparing lick latency from the stimulus flash for hit trials and aborted/false alarm trials</h3>\n",
    "\n",
    "<p>\n",
    "Next, we'll compare the latency between the first lick in each trial and the start of the <em>preceding stimulus flash</em> (rather than the start of the trial), across hit, aborted and false alarm trials.\n",
    "</p>\n",
    "\n",
    "<p>    \n",
    "To get information about stimulus presentations, we'll have to look at the <code>stimulus_presentations</code> table. Recall that every trial consists of multiple stimulus presentations (i.e., image flashes). We'll associate each stimulus presentation with the trial it falls within: this will involve merging the <code>stimulus_presentations</code> and <code>trials</code> tables. Then, we'll use the first lick times that we computed for each trial in Exercise 1.2 to find the stimulus presentation preceding each lick. Finally, we'll plot histograms of the lick latency for hit, aborted and false alarm trials.\n",
    "</p>\n",
    "\n",
    "<p>\n",
    "For hit trials, we expect the licks to be stimulus-locked, with a response after a clear delay. Based on the histograms we plotted in Exercise 1.2, this mouse appears to be licking in aborted trials at time intervals that are similar to how it licks on hit trials. This suggests that its licks are not impulsive or random, rather, they might be visually evoked. In this exercise, we'll see whether the mouse's licking is stimulus-locked on aborted trials too.\n",
    "</p>\n",
    "\n",
    "<p>\n",
    "If you want to try coming up with the logic for this on your own (i.e., without following the prompts), then this is a good point to pause, think and/or try coding.\n",
    "</p>\n",
    "\n",
    "</div>"
   ]
  },
  {
   "cell_type": "markdown",
   "id": "01a94083",
   "metadata": {},
   "source": [
    "<div class=\"alert alert-block alert-success\">\n",
    "\n",
    "<p>\n",
    "<strong>Prompt 1.3.a:</strong> First, use <code>searchsorted</code> to find the trial index that starts _before_ the <code>start_time</code> of each stimulus presentation. Assign these indices to a new column of the stimulus presentations table called <code>trials_id</code>.\n",
    "</p>\n",
    "\n",
    "<p>\n",
    "Examine the stimulus presentations table to see how this looks. The new <code>trials_id</code> column should tell us which trial each stimulus presentation was part of, so that we can merge the <code>stimulus_presentations</code> table with the <code>trials</code> table in the next step.\n",
    "</p>\n",
    "\n",
    "</div>"
   ]
  },
  {
   "cell_type": "code",
   "execution_count": null,
   "id": "f88738b6",
   "metadata": {},
   "outputs": [],
   "source": []
  },
  {
   "cell_type": "markdown",
   "id": "a5c38a4a",
   "metadata": {},
   "source": [
    "<div class=\"alert alert-block alert-success\">\n",
    "\n",
    "<p>\n",
    "<strong>Prompt 1.3.b:</strong> Next, merge the <code>stimulus_presentations</code> table with the <code>trials</code> table using the newly created <code>trials_id</code> column.\n",
    "</p>\n",
    "\n",
    "<p>\n",
    "While merging, note that both the <code>stimulus_presentations</code> table and the <code>trials</code> table have some columns of the same name, e.g., <code>start_time</code>. To distinguish these columns after merging, use the <code>suffixes</code> argument. The default suffixes are <code>('_x', '_y')</code>, but it's better to rename them to be more meaningful.\n",
    "</p>\n",
    "\n",
    "</div>"
   ]
  },
  {
   "cell_type": "code",
   "execution_count": null,
   "id": "c991fab4",
   "metadata": {},
   "outputs": [],
   "source": []
  },
  {
   "cell_type": "markdown",
   "id": "b826b8e6",
   "metadata": {},
   "source": [
    "<div class=\"alert alert-block alert-success\">\n",
    "\n",
    "<strong>Prompt 1.3.c:</strong> Print out the columns of the merged table to check that everything is there.\n",
    "\n",
    "</div>"
   ]
  },
  {
   "cell_type": "code",
   "execution_count": null,
   "id": "aaf2bb8b",
   "metadata": {},
   "outputs": [],
   "source": []
  },
  {
   "cell_type": "markdown",
   "id": "df3e6ff3",
   "metadata": {},
   "source": [
    "<div class=\"alert alert-block alert-success\">\n",
    "\n",
    "<strong>Prompt 1.3.d:</strong> Now that we have all the info we need, subselect the hit, false alarm and aborted trials.\n",
    "\n",
    "</div>"
   ]
  },
  {
   "cell_type": "code",
   "execution_count": null,
   "id": "aa7ab63b",
   "metadata": {},
   "outputs": [],
   "source": []
  },
  {
   "cell_type": "markdown",
   "id": "6781b01a",
   "metadata": {},
   "source": [
    "<div class=\"alert alert-block alert-success\">\n",
    "\n",
    "<strong>Prompt 1.3.e:</strong> Next, select the stimulus presentations that precede the first lick timestamp, and create a copy of the returned data frame. We need to call <code>.copy()</code> after selecting to prevent the <code>SettingWithCopy</code> warning later.\n",
    "\n",
    "</div>"
   ]
  },
  {
   "cell_type": "code",
   "execution_count": null,
   "id": "2e6b3de5",
   "metadata": {},
   "outputs": [],
   "source": []
  },
  {
   "cell_type": "markdown",
   "id": "dd2d0a94",
   "metadata": {},
   "source": [
    "<div class=\"alert alert-block alert-success\">\n",
    "\n",
    "<p>\n",
    "To find the stimulus presentation *just* before the first lick timestamp, we can group the data frame (of all stimulus presentations preceding the first lick timestamp) by trial index and select the stimulus presentation with the largest stimulus presentation index.\n",
    "</p>\n",
    "\n",
    "<p>\n",
    "<strong>Prompt 1.3.f:</strong> First, create a new column called <code>stim_id</code> to contain the stimulus presentation index (move the index to a column using <code>reset_index</code>).\n",
    "</p>\n",
    "\n",
    "</div>"
   ]
  },
  {
   "cell_type": "code",
   "execution_count": null,
   "id": "b7eba7bc",
   "metadata": {},
   "outputs": [],
   "source": []
  },
  {
   "cell_type": "markdown",
   "id": "8ecef277",
   "metadata": {},
   "source": [
    "<div class=\"alert alert-block alert-success\">\n",
    "\n",
    "<p>\n",
    "<strong>Prompt 1.3.g:</strong> Then, group rows by <code>trials_id</code>, and find the maximum <code>stim_id</code> in each trial.\n",
    "</p>\n",
    "\n",
    "<p>\n",
    "The resulting data frame will associate every trial with a <code>stim_id</code>, which is the last stimulus presentation preceding the first lick in that trial.\n",
    "</p>\n",
    "\n",
    "</div>"
   ]
  },
  {
   "cell_type": "code",
   "execution_count": null,
   "id": "27596edb",
   "metadata": {},
   "outputs": [],
   "source": []
  },
  {
   "cell_type": "markdown",
   "id": "897b188a",
   "metadata": {},
   "source": [
    "<div class=\"alert alert-block alert-success\">\n",
    "\n",
    "<strong>Prompt 1.3.h:</strong> Now, choose those rows from the merged <code>stimulus_presentations</code>-<code>trials</code> table that have these <code>stim_id</code>s.\n",
    "\n",
    "</div>"
   ]
  },
  {
   "cell_type": "code",
   "execution_count": null,
   "id": "d40eba36",
   "metadata": {},
   "outputs": [],
   "source": []
  },
  {
   "cell_type": "markdown",
   "id": "c3ec36bb",
   "metadata": {},
   "source": [
    "<div class=\"alert alert-block alert-success\">\n",
    "\n",
    "<strong>Prompt 1.3.i:</strong> Finally, compute the latency between the first lick in each trial and the start of the preceding stimulus flash. Add this to a new column.\n",
    "\n",
    "</div>"
   ]
  },
  {
   "cell_type": "code",
   "execution_count": null,
   "id": "74036d82",
   "metadata": {},
   "outputs": [],
   "source": []
  },
  {
   "cell_type": "markdown",
   "id": "73e27294",
   "metadata": {},
   "source": [
    "<div class=\"alert alert-block alert-success\">\n",
    "\n",
    "<strong>Prompt 1.3.j:</strong> Plot a histogram of lick latencies, colored by trial type.\n",
    "\n",
    "</div>"
   ]
  },
  {
   "cell_type": "code",
   "execution_count": null,
   "id": "43a77ab1",
   "metadata": {},
   "outputs": [],
   "source": []
  },
  {
   "cell_type": "markdown",
   "id": "cdc58765",
   "metadata": {},
   "source": [
    "<div class=\"alert alert-block alert-success\">\n",
    "\n",
    "<blockquote>\n",
    "<strong>Note:</strong> We could have gone about Exercise 1.3 in many other ways too. The reason we chose this method was to practise using <code>merge</code> and <code>groupby</code>. For instance, here are some other possible algorithms:\n",
    "<ol>\n",
    "<li>We could have used <code>searchsorted</code> to directly find the stimulus presentations preceding the first lick in each trial.</li>\n",
    "<li>Or, we could have computed the <code>lick_latency</code> column after 1.3.d, and then selected the rows with smallest positive lick latencies, which would have avoided the <code>groupby</code>.</li>\n",
    "</ol>\n",
    "</blockquote>\n",
    "\n",
    "</div>"
   ]
  },
  {
   "cell_type": "markdown",
   "id": "6bf7b358",
   "metadata": {},
   "source": [
    "<div class=\"alert alert-block alert-success\">\n",
    "\n",
    "<h3>1.4  Computing lick bouts</h3>\n",
    "\n",
    "<p>\n",
    "Mice tend to lick quickly in rapid succession. In this exercise, we'll examine how to separate these licks into lick \"bouts\".\n",
    "</p>\n",
    "\n",
    "<p>    \n",
    "We'll compute the inter-lick interval from the <code>licks</code> table, and use a histogram of these intervals to find a suitable lick bout \"threshold\". This will be a cut-off time interval (&gt;100ms and &lt;1 second) within which two licks will be considered part of a bout.\n",
    "</p>\n",
    "\n",
    "<p>\n",
    "Then, we'll add a column to the licks table to indicate the lick bout number that each lick is part of. Finally, we'll plot a histogram of inter-bout intervals.\n",
    "</p>\n",
    "\n",
    "</div>"
   ]
  },
  {
   "cell_type": "markdown",
   "id": "fe34d83f",
   "metadata": {},
   "source": [
    "<div class=\"alert alert-block alert-success\">\n",
    "\n",
    "<strong>Prompt 1.4.a:</strong> Compute the inter-lick interval from the <code>licks</code> table. You can use the <code>np.diff</code> function from numpy to compute differences of adjacent elements.\n",
    "\n",
    "</div>"
   ]
  },
  {
   "cell_type": "code",
   "execution_count": null,
   "id": "6e29ec53",
   "metadata": {},
   "outputs": [],
   "source": []
  },
  {
   "cell_type": "markdown",
   "id": "a583d0a0",
   "metadata": {},
   "source": [
    "<div class=\"alert alert-block alert-success\">\n",
    "\n",
    "<strong>Prompt 1.4.b:</strong> Plot a histogram of the inter-lick interval to find a reasonable threshold for lick bouts (use 1000 bins and log scaling on the y-axis to better evaluate where the lick bout cuts off).\n",
    "\n",
    "</div>"
   ]
  },
  {
   "cell_type": "code",
   "execution_count": null,
   "id": "a935c948",
   "metadata": {},
   "outputs": [],
   "source": []
  },
  {
   "cell_type": "markdown",
   "id": "128a2170",
   "metadata": {
    "scrolled": true
   },
   "source": [
    "<div class=\"alert alert-block alert-success\">\n",
    "\n",
    "<strong>Prompt 1.4.c:</strong> Set the lick bout threshold based on where the histogram clips off (roughly)\n",
    "\n",
    "</div>"
   ]
  },
  {
   "cell_type": "code",
   "execution_count": null,
   "id": "d526b2b0",
   "metadata": {},
   "outputs": [],
   "source": []
  },
  {
   "cell_type": "markdown",
   "id": "70cd3aca",
   "metadata": {
    "scrolled": true
   },
   "source": [
    "<div class=\"alert alert-block alert-success\">\n",
    "\n",
    "<strong>Prompt 1.4.d:</strong> (This step is not needed for what follows) Add the inter-lick intervals to the <code>licks</code> table. There is now one row fewer than needed, since the inter-lick interval is not defined for the very first lick: make that row either <code>inf</code> or <code>NaN</code>.\n",
    "\n",
    "</div>"
   ]
  },
  {
   "cell_type": "code",
   "execution_count": null,
   "id": "bfac48ce",
   "metadata": {},
   "outputs": [],
   "source": []
  },
  {
   "cell_type": "markdown",
   "id": "c3ac2cda",
   "metadata": {
    "scrolled": true
   },
   "source": [
    "<div class=\"alert alert-block alert-success\">\n",
    "\n",
    "<strong>Prompt 1.4.e:</strong> Create a <code>lick_bout</code> column in the <code>licks</code> table, to contain the \"bout index\" that each lick is part of: to compute the bout index, we need to increment a counter every time the inter-lick interval exceeds the lick bout threshold that we defined above. <code>np.cumsum</code> computes a cumulative sum, and can be used do this efficiently.\n",
    "\n",
    "</div>"
   ]
  },
  {
   "cell_type": "code",
   "execution_count": null,
   "id": "8efcb527",
   "metadata": {
    "scrolled": true
   },
   "outputs": [],
   "source": []
  },
  {
   "cell_type": "markdown",
   "id": "bd3cb784",
   "metadata": {},
   "source": [
    "<div class=\"alert alert-block alert-success\">\n",
    "\n",
    "<strong>Prompt 1.4.f:</strong> Create a table with the timestamps of lick bouts, i.e., timestamps of the first lick in each bout. You could use a <code>groupby</code> to do this.\n",
    "\n",
    "</div>"
   ]
  },
  {
   "cell_type": "code",
   "execution_count": null,
   "id": "f4bc0e9f",
   "metadata": {},
   "outputs": [],
   "source": []
  },
  {
   "cell_type": "markdown",
   "id": "5c9f8c00",
   "metadata": {},
   "source": [
    "<div class=\"alert alert-block alert-success\">\n",
    "\n",
    "<strong>Prompt 1.4.g:</strong> Check what the histogram of inter-bout intervals looks like (leaving out intervals &gt;=1 minute in length)\n",
    "\n",
    "</div>"
   ]
  },
  {
   "cell_type": "code",
   "execution_count": null,
   "id": "ca32e580",
   "metadata": {},
   "outputs": [],
   "source": []
  }
 ],
 "metadata": {
  "kernelspec": {
   "display_name": "Python 3 (ipykernel)",
   "language": "python",
   "name": "python3"
  },
  "language_info": {
   "codemirror_mode": {
    "name": "ipython",
    "version": 3
   },
   "file_extension": ".py",
   "mimetype": "text/x-python",
   "name": "python",
   "nbconvert_exporter": "python",
   "pygments_lexer": "ipython3",
   "version": "3.8.13"
  }
 },
 "nbformat": 4,
 "nbformat_minor": 5
}
