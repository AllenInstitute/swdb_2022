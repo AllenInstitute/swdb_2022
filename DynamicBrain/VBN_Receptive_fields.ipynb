{
 "cells": [
  {
   "cell_type": "markdown",
   "id": "5bb1a15a",
   "metadata": {},
   "source": [
    "<img src=\"../resources/cropped-SummerWorkshop_Header.png\">  \n",
    "\n",
    "<h1 align=\"center\">Visual Behavior Neuropixels Workshop SWDB 2022 </h1> \n",
    "<h3 align=\"center\">Tuesday, August 23rd, 2022</h3> "
   ]
  },
  {
   "cell_type": "markdown",
   "id": "e28e547b",
   "metadata": {},
   "source": [
    "\n",
    "<div style=\"border-left: 3px solid #000; padding: 1px; padding-left: 10px; background: #F0FAFF; \">\n",
    "\n",
    "<h2> Receptive Field Analysis </h2>\n",
    "\n",
    "This notebook will demonstrate how to get receptive field information for the units in the Visual Behavior Neuropixels dataset. In the visual system, a neuron's receptive field is the region of visual space where a stimulus will drive spiking activity. Because this is a fundamental property of visual neurons, we have included a tool to help characterize the receptive fields of neurons in this dataset. \n",
    "\n",
    "</div>"
   ]
  },
  {
   "cell_type": "code",
   "execution_count": 1,
   "id": "3c19f6e0",
   "metadata": {},
   "outputs": [],
   "source": [
    "import os\n",
    "import numpy as np\n",
    "import pandas as pd\n",
    "import matplotlib.pyplot as plt\n",
    "from matplotlib.gridspec import GridSpec #Useful tool to arrange multiple plots in one figure (https://matplotlib.org/stable/api/_as_gen/matplotlib.gridspec.GridSpec.html)\n",
    "\n",
    "%matplotlib inline"
   ]
  },
  {
   "cell_type": "code",
   "execution_count": 2,
   "id": "134c6ffa",
   "metadata": {},
   "outputs": [],
   "source": [
    "import platform\n",
    "platstring = platform.platform()\n",
    "\n",
    "data_dirname = 'visual-behavior-neuropixels'\n",
    "use_static = False\n",
    "if 'Darwin' in platstring or 'macOS' in platstring:\n",
    "    # macOS \n",
    "    data_root = \"/Volumes/Brain2022/\"\n",
    "elif 'Windows'  in platstring:\n",
    "    # Windows (replace with the drive letter of USB drive)\n",
    "    data_root = \"E:/\"\n",
    "elif ('amzn' in platstring):\n",
    "    # then on AWS\n",
    "    data_root = \"/data/\"\n",
    "    data_dirname = 'visual-behavior-neuropixels-data'\n",
    "    use_static = True\n",
    "else:\n",
    "    # then your own linux platform\n",
    "    # EDIT location where you mounted hard drive\n",
    "    data_root = \"/media/$USERNAME/Brain2022/\""
   ]
  },
  {
   "cell_type": "code",
   "execution_count": 3,
   "id": "b2ec2757",
   "metadata": {},
   "outputs": [
    {
     "name": "stderr",
     "output_type": "stream",
     "text": [
      "C:\\Users\\svc_ccg\\AppData\\Local\\Continuum\\anaconda3\\envs\\allensdk_38\\lib\\site-packages\\tqdm\\auto.py:22: TqdmWarning: IProgress not found. Please update jupyter and ipywidgets. See https://ipywidgets.readthedocs.io/en/stable/user_install.html\n",
      "  from .autonotebook import tqdm as notebook_tqdm\n"
     ]
    }
   ],
   "source": [
    "from allensdk.brain_observatory.behavior.behavior_project_cache.\\\n",
    "    behavior_neuropixels_project_cache \\\n",
    "    import VisualBehaviorNeuropixelsProjectCache"
   ]
  },
  {
   "cell_type": "code",
   "execution_count": 4,
   "id": "166af555",
   "metadata": {},
   "outputs": [],
   "source": [
    "# this path should point to the location of the dataset on your platform\n",
    "cache_dir = os.path.join(data_root, data_dirname)\n",
    "\n",
    "cache = VisualBehaviorNeuropixelsProjectCache.from_local_cache(\n",
    "            cache_dir=cache_dir, use_static_cache=use_static)"
   ]
  },
  {
   "cell_type": "code",
   "execution_count": 261,
   "id": "b31742df",
   "metadata": {
    "scrolled": true
   },
   "outputs": [],
   "source": [
    "session_id = 1053941483\n",
    "session = cache.get_ecephys_session(\n",
    "            ecephys_session_id=session_id)"
   ]
  },
  {
   "cell_type": "markdown",
   "id": "20b15d08",
   "metadata": {},
   "source": [
    "<div style=\"border-left: 3px solid #000; padding: 1px; padding-left: 10px; background: #F0FAFF; \">\n",
    "\n",
    "<h2> How do we define a receptive field for this dataset? </h2>\n",
    "\n",
    "To characterize receptive fields, we presented gabor stimuli in a 9x9 grid as depicted below. Further analysis followed the convention described for the <a href=\"https://www.nature.com/articles/s41586-020-03171-x/figures/10\">Visual Coding Neuropixels paper</a>, which used the same stimulus (with minor differences in the temporal and spatial frequency of the gabors). This workflow is diagrammed below. See also the <a href=\"https://allensdk.readthedocs.io/en/latest/_static/examples/nb/ecephys_receptive_fields.html\">Visual Coding receptive field tutorial</a> for more info about the stimulus.\n",
    "    \n",
    "</div>"
   ]
  },
  {
   "cell_type": "markdown",
   "id": "bddf19e6",
   "metadata": {},
   "source": [
    "<img src=\"../resources/rf_explanation.PNG\"/>"
   ]
  },
  {
   "cell_type": "markdown",
   "id": "aa76ae72",
   "metadata": {},
   "source": [
    "<div style=\"border-left: 3px solid #000; padding: 1px; padding-left: 10px; background: #F0FAFF; \">\n",
    "\n",
    "We've made a convenience class to handle calculating the RFs for each unit, as well as metrics describing RF shape, position and significance. \n",
    "    \n",
    "</div>"
   ]
  },
  {
   "cell_type": "code",
   "execution_count": 262,
   "id": "3d419fab",
   "metadata": {},
   "outputs": [],
   "source": [
    "from brain_observatory_utilities.datasets.electrophysiology.receptive_field_mapping import ReceptiveFieldMapping_VBN"
   ]
  },
  {
   "cell_type": "markdown",
   "id": "b78369a8",
   "metadata": {},
   "source": [
    "<div style=\"border-left: 3px solid #000; padding: 1px; padding-left: 10px; background: #F0FAFF; \">\n",
    "\n",
    "You can filter which units you'd like to calculate rf metrics for by using the <code>filter</code> argument.\n",
    "    \n",
    "</div>"
   ]
  },
  {
   "cell_type": "code",
   "execution_count": 263,
   "id": "045058bb",
   "metadata": {},
   "outputs": [],
   "source": [
    "#grab rf info for specific units by passing a list of unit_ids\n",
    "rf = ReceptiveFieldMapping_VBN(session, filter=[1061854534,])"
   ]
  },
  {
   "cell_type": "code",
   "execution_count": 264,
   "id": "0f0fcfc2",
   "metadata": {},
   "outputs": [],
   "source": [
    "#you can also pass in a dictionary. We can replicate the cell above using the 'unit_id' key:\n",
    "rf = ReceptiveFieldMapping_VBN(session, filter={'unit_id': [1061854534,]})"
   ]
  },
  {
   "cell_type": "code",
   "execution_count": 265,
   "id": "e51d75a3",
   "metadata": {},
   "outputs": [],
   "source": [
    "#you can also filter by brain area (structure_acronym), or any column in the session.get_units() dataframe\n",
    "#the following will return rf info for 'good' units in VISp\n",
    "rf = ReceptiveFieldMapping_VBN(session, filter={'structure_acronym': 'VISp', 'quality':'good'})"
   ]
  },
  {
   "cell_type": "markdown",
   "id": "6203a3ff",
   "metadata": {},
   "source": [
    "<div style=\"border-left: 3px solid #000; padding: 1px; padding-left: 10px; background: #F0FAFF; \">\n",
    "\n",
    "We can use this object to compute a dataframe with a number of helpful metrics that describe the receptive field for each unit (note: if you're passing in a long list of units this will take a few minutes to run):\n",
    "    \n",
    "</div>"
   ]
  },
  {
   "cell_type": "code",
   "execution_count": 266,
   "id": "65c674ec",
   "metadata": {},
   "outputs": [
    {
     "name": "stderr",
     "output_type": "stream",
     "text": [
      "c:\\users\\svc_ccg\\documents\\github\\allensdk\\allensdk\\brain_observatory\\ecephys\\stimulus_analysis\\receptive_field_mapping.py:105: SettingWithCopyWarning: \n",
      "A value is trying to be set on a copy of a slice from a DataFrame.\n",
      "Try using .loc[row_indexer,col_indexer] = value instead\n",
      "\n",
      "See the caveats in the documentation: https://pandas.pydata.org/pandas-docs/stable/user_guide/indexing.html#returning-a-view-versus-a-copy\n",
      "  self.stim_table.loc[:, self._col_pos_y] = 40.0 - self.stim_table[self._col_pos_y]\n"
     ]
    },
    {
     "data": {
      "text/html": [
       "<div>\n",
       "<style scoped>\n",
       "    .dataframe tbody tr th:only-of-type {\n",
       "        vertical-align: middle;\n",
       "    }\n",
       "\n",
       "    .dataframe tbody tr th {\n",
       "        vertical-align: top;\n",
       "    }\n",
       "\n",
       "    .dataframe thead th {\n",
       "        text-align: right;\n",
       "    }\n",
       "</style>\n",
       "<table border=\"1\" class=\"dataframe\">\n",
       "  <thead>\n",
       "    <tr style=\"text-align: right;\">\n",
       "      <th></th>\n",
       "      <th>azimuth_rf</th>\n",
       "      <th>elevation_rf</th>\n",
       "      <th>width_rf</th>\n",
       "      <th>height_rf</th>\n",
       "      <th>area_rf</th>\n",
       "      <th>p_value_rf</th>\n",
       "      <th>on_screen_rf</th>\n",
       "      <th>is_inverted</th>\n",
       "    </tr>\n",
       "    <tr>\n",
       "      <th>unit_id</th>\n",
       "      <th></th>\n",
       "      <th></th>\n",
       "      <th></th>\n",
       "      <th></th>\n",
       "      <th></th>\n",
       "      <th></th>\n",
       "      <th></th>\n",
       "      <th></th>\n",
       "    </tr>\n",
       "  </thead>\n",
       "  <tbody>\n",
       "    <tr>\n",
       "      <th>1061854534</th>\n",
       "      <td>55.0</td>\n",
       "      <td>15.0</td>\n",
       "      <td>11.389664</td>\n",
       "      <td>17.895142</td>\n",
       "      <td>400.0</td>\n",
       "      <td>0.0</td>\n",
       "      <td>True</td>\n",
       "      <td>False</td>\n",
       "    </tr>\n",
       "    <tr>\n",
       "      <th>1061854526</th>\n",
       "      <td>51.0</td>\n",
       "      <td>30.0</td>\n",
       "      <td>23.659511</td>\n",
       "      <td>16.982601</td>\n",
       "      <td>1000.0</td>\n",
       "      <td>0.0</td>\n",
       "      <td>True</td>\n",
       "      <td>False</td>\n",
       "    </tr>\n",
       "    <tr>\n",
       "      <th>1061854501</th>\n",
       "      <td>50.0</td>\n",
       "      <td>20.0</td>\n",
       "      <td>13.767715</td>\n",
       "      <td>17.064479</td>\n",
       "      <td>100.0</td>\n",
       "      <td>0.0</td>\n",
       "      <td>True</td>\n",
       "      <td>False</td>\n",
       "    </tr>\n",
       "  </tbody>\n",
       "</table>\n",
       "</div>"
      ],
      "text/plain": [
       "            azimuth_rf  elevation_rf   width_rf  height_rf  area_rf  \\\n",
       "unit_id                                                               \n",
       "1061854534        55.0          15.0  11.389664  17.895142    400.0   \n",
       "1061854526        51.0          30.0  23.659511  16.982601   1000.0   \n",
       "1061854501        50.0          20.0  13.767715  17.064479    100.0   \n",
       "\n",
       "            p_value_rf  on_screen_rf  is_inverted  \n",
       "unit_id                                            \n",
       "1061854534         0.0          True        False  \n",
       "1061854526         0.0          True        False  \n",
       "1061854501         0.0          True        False  "
      ]
     },
     "execution_count": 266,
     "metadata": {},
     "output_type": "execute_result"
    }
   ],
   "source": [
    "rf_metrics = rf.metrics\n",
    "rf_metrics.head(3)"
   ]
  },
  {
   "cell_type": "markdown",
   "id": "9aa56667",
   "metadata": {},
   "source": [
    "<div style=\"border-left: 3px solid #000; padding: 1px; padding-left: 10px; background: #F0FAFF; \">\n",
    "\n",
    "Let's look at what each of these columns means:\n",
    "\n",
    "<b>The following metrics are based on a thresholded receptive field</b>: to get the thresholded rf, the following steps are taken:\n",
    "<ol>\n",
    "    <li> the raw receptive field (rf) is calculated by summing the spikes evoked by each spatial position of the gabor stimulus. This yields a 9X9 matrix of spike counts. </li>\n",
    "    <li> the raw rf is filtered with a gaussian (sigma of 10 degrees or one pixel) to produce rf_smooth </li> \n",
    "    <li> a threshold is determined as max(rf_smooth) - standard_deviation(rf_smooth)*0.5 </li> \n",
    "    <li> rf_smooth is binarized by setting values below threshold to False and above to True, producing rf_thresh </li> \n",
    "    <li> rf_thresh is labeled (scipy.ndimage.label) and the label over which rf_smooth is maximized is found. Pixels associated with this label are set to 1, and all other labeled regions are set to 0. This step produces the final rf_thresh used for analysis. </li> \n",
    "</ol>   \n",
    "<p><code>azimuth_rf</code>: The location of the center of mass of rf_thresh in azimuth. Units are degrees.  \n",
    "<p><code>elevation_rf</code>: The location of the center of mass of rf_thresh in elevation. Units are degrees.  \n",
    "<p><code>area_rf</code>: The count of non-zero elements in rf_thresh multiplied by 100 degrees<sup>2</sup>. Units are degrees<sup>2</sup>.  \n",
    "\n",
    "<p><b>The following metrics are based on a 2D gaussian fit to the raw rf:</b>  \n",
    "<p><code>width_rf</code> : the sigma of the 2D gaussian fit in the azimuth dimension in degrees  \n",
    "<p><code>height_rf</code>: the sigma of the 2D gaussian fit in the elevation dimension in degrees  \n",
    "<p><code>on_screen_rf</code>: True if the center of the 2D gaussian fit fell within the region of visual space spanned by the gabor stimuli. False if the center of the 2D gaussian fell outside this region.  \n",
    "<p><code>is_inverted</code>:  True if the peak of the gaussian fit is negative, indicating a neuron that is suppressed by visual contrast. For these neurons, the rf is inverted and metrics are recalculated. \n",
    "\n",
    "<p>The `p_value` was calculated by a chi-square test as described <a href=\"https://www.nature.com/articles/s41586-020-03171-x?WT.ec_id=NATURE-202101&sap-outbound-id=4E195E023D51C73B5BD9070E527199209B14C6B0#Sec5\">here</a>  \n",
    "\n",
    "</div>"
   ]
  },
  {
   "cell_type": "markdown",
   "id": "1b8f8f14",
   "metadata": {},
   "source": [
    "<div style=\"border-left: 3px solid #000; padding: 1px; padding-left: 10px; background: #F0FAFF; \">\n",
    "\n",
    "We can also use this object to get a receptive field for an individual unit. This will come back as a 9x9 numpy array with spike counts for all 81 possible positions for the gabor stimulus.\n",
    "    \n",
    "</div>"
   ]
  },
  {
   "cell_type": "code",
   "execution_count": 248,
   "id": "45c8b394",
   "metadata": {},
   "outputs": [
    {
     "data": {
      "text/plain": [
       "<matplotlib.patches.Circle at 0x216afe7f4c0>"
      ]
     },
     "execution_count": 248,
     "metadata": {},
     "output_type": "execute_result"
    },
    {
     "data": {
      "image/png": "[encoded data removed]",
      "text/plain": [
       "<Figure size 432x288 with 2 Axes>"
      ]
     },
     "metadata": {
      "needs_background": "light"
     },
     "output_type": "display_data"
    }
   ],
   "source": [
    "# get the rf for the first unit\n",
    "unit_id = 1061854534\n",
    "unit_rf = rf.get_receptive_field(unit_id)\n",
    "\n",
    "# plot it\n",
    "fig, ax = plt.subplots()\n",
    "im = ax.imshow(unit_rf)\n",
    "plt.colorbar(im, label='spike count')\n",
    "\n",
    "# convert ticks to degrees: the center of the screen is at 50 degrees azimuth and 10 degrees elevation\n",
    "tick_positions = np.arange(0, 10, 2)\n",
    "ax.set_xticks(tick_positions)\n",
    "ax.set_yticks(tick_positions)\n",
    "ax.set_xticklabels(tick_positions*10 + 10)\n",
    "ax.set_yticklabels(tick_positions[::-1]*10-30) #invert elevation labels for imshow origin convention\n",
    "ax.set_xlabel('Azimuth (degrees)')\n",
    "ax.set_ylabel('Elevation (degrees)')\n",
    "\n",
    "# now let's plot the center of the rf from the rf metrics table\n",
    "# first we need to get the azimuth and elevation coords\n",
    "unit_metrics = rf_metrics.loc[unit_id]\n",
    "azi = unit_metrics.azimuth_rf\n",
    "ele = unit_metrics.elevation_rf\n",
    "\n",
    "# then we need to convert these to pixels to plot\n",
    "azi_coord = lambda x: (x-50)/10 + 4\n",
    "ele_coord = lambda x: 8 - ((x-10)/10 + 4)\n",
    "\n",
    "# and plot the center\n",
    "ax.plot(azi_coord(azi), ele_coord(ele), 'ro')\n",
    "\n",
    "# as a sanity check, let's plot a circle with the same area as our rf for comparison\n",
    "unit_rf_area = unit_metrics.area_rf\n",
    "radius = (0.01*unit_rf_area/np.pi)**0.5\n",
    "area_circle = plt.Circle((azi_coord(azi), ele_coord(ele)), radius=radius, fill=False, color='r')\n",
    "ax.add_patch(area_circle)"
   ]
  },
  {
   "cell_type": "markdown",
   "id": "7277d431",
   "metadata": {},
   "source": [
    "<div style=\"border-left: 3px solid #000; padding: 1px; padding-left: 10px; background: #F0FAFF; \">\n",
    "\n",
    "Now let's loop through our units and plot all of their RFs:\n",
    "    \n",
    "</div>"
   ]
  },
  {
   "cell_type": "code",
   "execution_count": 254,
   "id": "d74dc649",
   "metadata": {},
   "outputs": [
    {
     "data": {
      "image/png": "[encoded data removed]",
      "text/plain": [
       "<Figure size 864x576 with 90 Axes>"
      ]
     },
     "metadata": {
      "needs_background": "light"
     },
     "output_type": "display_data"
    }
   ],
   "source": [
    "fig, axes = plt.subplots(int(len(rf_metrics)/10)+1, 10)\n",
    "fig.set_size_inches(12, 8)\n",
    "for uind, uid in enumerate(rf_metrics.index.values):\n",
    "    unitrf = rf.get_receptive_field(uid)\n",
    "    pval = rf_metrics.loc[uid]['p_value_rf']\n",
    "    ax_row = int(uind/10)\n",
    "    ax_col = uind%10\n",
    "    axes[ax_row][ax_col].imshow(unitrf)\n",
    "    axes[ax_row][ax_col].set_title(f\"p:{pval}\")\n",
    "                         \n",
    "for ax in axes.flat:\n",
    "    ax.axis('off')\n",
    "plt.tight_layout()"
   ]
  },
  {
   "cell_type": "markdown",
   "id": "e1f6d6f1",
   "metadata": {},
   "source": [
    "<div style=\"border-left: 3px solid #000; padding: 1px; padding-left: 10px; background: #F0FAFF; \">\n",
    "\n",
    "Now we can merge our receptive field stats into the units dataframe. This will make it easy to run subsequent analysis that might require units to meet RF criteria\n",
    "    \n",
    "</div>"
   ]
  },
  {
   "cell_type": "code",
   "execution_count": 257,
   "id": "084532f2",
   "metadata": {},
   "outputs": [],
   "source": [
    "units = session.get_units()\n",
    "units_with_rfstats = units.merge(rf_metrics, left_index=True, right_on='unit_id')"
   ]
  },
  {
   "cell_type": "markdown",
   "id": "a54ca9ab",
   "metadata": {},
   "source": [
    "<div style=\"border-left: 3px solid #000; padding: 1px; padding-left: 10px; background: #F0FAFF; \">\n",
    "\n",
    "For example, we could use this new dataframe to get a list of units with a <code>good</code> quality label and a significant rf p value:\n",
    "    \n",
    "</div>"
   ]
  },
  {
   "cell_type": "code",
   "execution_count": 260,
   "id": "1b9a09a4",
   "metadata": {},
   "outputs": [
    {
     "data": {
      "text/html": [
       "<div>\n",
       "<style scoped>\n",
       "    .dataframe tbody tr th:only-of-type {\n",
       "        vertical-align: middle;\n",
       "    }\n",
       "\n",
       "    .dataframe tbody tr th {\n",
       "        vertical-align: top;\n",
       "    }\n",
       "\n",
       "    .dataframe thead th {\n",
       "        text-align: right;\n",
       "    }\n",
       "</style>\n",
       "<table border=\"1\" class=\"dataframe\">\n",
       "  <thead>\n",
       "    <tr style=\"text-align: right;\">\n",
       "      <th></th>\n",
       "      <th>PT_ratio</th>\n",
       "      <th>amplitude</th>\n",
       "      <th>amplitude_cutoff</th>\n",
       "      <th>cluster_id</th>\n",
       "      <th>cumulative_drift</th>\n",
       "      <th>d_prime</th>\n",
       "      <th>firing_rate</th>\n",
       "      <th>isi_violations</th>\n",
       "      <th>isolation_distance</th>\n",
       "      <th>l_ratio</th>\n",
       "      <th>...</th>\n",
       "      <th>velocity_below</th>\n",
       "      <th>waveform_duration</th>\n",
       "      <th>azimuth_rf</th>\n",
       "      <th>elevation_rf</th>\n",
       "      <th>width_rf</th>\n",
       "      <th>height_rf</th>\n",
       "      <th>area_rf</th>\n",
       "      <th>p_value_rf</th>\n",
       "      <th>on_screen_rf</th>\n",
       "      <th>is_inverted</th>\n",
       "    </tr>\n",
       "    <tr>\n",
       "      <th>unit_id</th>\n",
       "      <th></th>\n",
       "      <th></th>\n",
       "      <th></th>\n",
       "      <th></th>\n",
       "      <th></th>\n",
       "      <th></th>\n",
       "      <th></th>\n",
       "      <th></th>\n",
       "      <th></th>\n",
       "      <th></th>\n",
       "      <th></th>\n",
       "      <th></th>\n",
       "      <th></th>\n",
       "      <th></th>\n",
       "      <th></th>\n",
       "      <th></th>\n",
       "      <th></th>\n",
       "      <th></th>\n",
       "      <th></th>\n",
       "      <th></th>\n",
       "      <th></th>\n",
       "    </tr>\n",
       "  </thead>\n",
       "  <tbody>\n",
       "    <tr>\n",
       "      <th>1068224066</th>\n",
       "      <td>0.505749</td>\n",
       "      <td>427.309350</td>\n",
       "      <td>0.001876</td>\n",
       "      <td>176</td>\n",
       "      <td>111.67</td>\n",
       "      <td>4.153344</td>\n",
       "      <td>11.634204</td>\n",
       "      <td>0.010059</td>\n",
       "      <td>57.525935</td>\n",
       "      <td>0.021061</td>\n",
       "      <td>...</td>\n",
       "      <td>0.206030</td>\n",
       "      <td>0.206030</td>\n",
       "      <td>46.667</td>\n",
       "      <td>6.667</td>\n",
       "      <td>9.965685</td>\n",
       "      <td>13.607393</td>\n",
       "      <td>300.0</td>\n",
       "      <td>0.0</td>\n",
       "      <td>True</td>\n",
       "      <td>False</td>\n",
       "    </tr>\n",
       "    <tr>\n",
       "      <th>1068224050</th>\n",
       "      <td>0.362399</td>\n",
       "      <td>196.753830</td>\n",
       "      <td>0.168506</td>\n",
       "      <td>162</td>\n",
       "      <td>176.80</td>\n",
       "      <td>3.473079</td>\n",
       "      <td>6.773801</td>\n",
       "      <td>0.031370</td>\n",
       "      <td>70.104553</td>\n",
       "      <td>0.001629</td>\n",
       "      <td>...</td>\n",
       "      <td>-0.343384</td>\n",
       "      <td>0.508208</td>\n",
       "      <td>45.000</td>\n",
       "      <td>50.000</td>\n",
       "      <td>2.715169</td>\n",
       "      <td>18.272095</td>\n",
       "      <td>200.0</td>\n",
       "      <td>0.0</td>\n",
       "      <td>True</td>\n",
       "      <td>False</td>\n",
       "    </tr>\n",
       "    <tr>\n",
       "      <th>1068224099</th>\n",
       "      <td>0.312275</td>\n",
       "      <td>141.384750</td>\n",
       "      <td>0.436553</td>\n",
       "      <td>209</td>\n",
       "      <td>275.06</td>\n",
       "      <td>3.262882</td>\n",
       "      <td>4.710847</td>\n",
       "      <td>0.201591</td>\n",
       "      <td>64.974523</td>\n",
       "      <td>0.005909</td>\n",
       "      <td>...</td>\n",
       "      <td>0.412060</td>\n",
       "      <td>0.810385</td>\n",
       "      <td>73.333</td>\n",
       "      <td>13.333</td>\n",
       "      <td>14.446510</td>\n",
       "      <td>9.641028</td>\n",
       "      <td>300.0</td>\n",
       "      <td>0.0</td>\n",
       "      <td>True</td>\n",
       "      <td>False</td>\n",
       "    </tr>\n",
       "    <tr>\n",
       "      <th>1068224098</th>\n",
       "      <td>0.389366</td>\n",
       "      <td>289.158285</td>\n",
       "      <td>0.000157</td>\n",
       "      <td>208</td>\n",
       "      <td>213.50</td>\n",
       "      <td>5.903763</td>\n",
       "      <td>2.549296</td>\n",
       "      <td>0.065853</td>\n",
       "      <td>60.218737</td>\n",
       "      <td>0.004454</td>\n",
       "      <td>...</td>\n",
       "      <td>0.206030</td>\n",
       "      <td>0.700503</td>\n",
       "      <td>55.000</td>\n",
       "      <td>15.000</td>\n",
       "      <td>6.478704</td>\n",
       "      <td>8.235246</td>\n",
       "      <td>400.0</td>\n",
       "      <td>0.0</td>\n",
       "      <td>True</td>\n",
       "      <td>False</td>\n",
       "    </tr>\n",
       "    <tr>\n",
       "      <th>1068224054</th>\n",
       "      <td>0.547314</td>\n",
       "      <td>168.887745</td>\n",
       "      <td>0.500000</td>\n",
       "      <td>165</td>\n",
       "      <td>274.75</td>\n",
       "      <td>2.202116</td>\n",
       "      <td>5.284472</td>\n",
       "      <td>0.488961</td>\n",
       "      <td>51.062796</td>\n",
       "      <td>0.012287</td>\n",
       "      <td>...</td>\n",
       "      <td>0.073582</td>\n",
       "      <td>0.645561</td>\n",
       "      <td>56.667</td>\n",
       "      <td>13.333</td>\n",
       "      <td>14.601747</td>\n",
       "      <td>15.530920</td>\n",
       "      <td>300.0</td>\n",
       "      <td>0.0</td>\n",
       "      <td>True</td>\n",
       "      <td>False</td>\n",
       "    </tr>\n",
       "  </tbody>\n",
       "</table>\n",
       "<p>5 rows × 33 columns</p>\n",
       "</div>"
      ],
      "text/plain": [
       "            PT_ratio   amplitude  amplitude_cutoff  cluster_id  \\\n",
       "unit_id                                                          \n",
       "1068224066  0.505749  427.309350          0.001876         176   \n",
       "1068224050  0.362399  196.753830          0.168506         162   \n",
       "1068224099  0.312275  141.384750          0.436553         209   \n",
       "1068224098  0.389366  289.158285          0.000157         208   \n",
       "1068224054  0.547314  168.887745          0.500000         165   \n",
       "\n",
       "            cumulative_drift   d_prime  firing_rate  isi_violations  \\\n",
       "unit_id                                                               \n",
       "1068224066            111.67  4.153344    11.634204        0.010059   \n",
       "1068224050            176.80  3.473079     6.773801        0.031370   \n",
       "1068224099            275.06  3.262882     4.710847        0.201591   \n",
       "1068224098            213.50  5.903763     2.549296        0.065853   \n",
       "1068224054            274.75  2.202116     5.284472        0.488961   \n",
       "\n",
       "            isolation_distance   l_ratio  ...  velocity_below  \\\n",
       "unit_id                                   ...                   \n",
       "1068224066           57.525935  0.021061  ...        0.206030   \n",
       "1068224050           70.104553  0.001629  ...       -0.343384   \n",
       "1068224099           64.974523  0.005909  ...        0.412060   \n",
       "1068224098           60.218737  0.004454  ...        0.206030   \n",
       "1068224054           51.062796  0.012287  ...        0.073582   \n",
       "\n",
       "            waveform_duration  azimuth_rf  elevation_rf   width_rf  height_rf  \\\n",
       "unit_id                                                                         \n",
       "1068224066           0.206030      46.667         6.667   9.965685  13.607393   \n",
       "1068224050           0.508208      45.000        50.000   2.715169  18.272095   \n",
       "1068224099           0.810385      73.333        13.333  14.446510   9.641028   \n",
       "1068224098           0.700503      55.000        15.000   6.478704   8.235246   \n",
       "1068224054           0.645561      56.667        13.333  14.601747  15.530920   \n",
       "\n",
       "           area_rf  p_value_rf  on_screen_rf  is_inverted  \n",
       "unit_id                                                    \n",
       "1068224066   300.0         0.0          True        False  \n",
       "1068224050   200.0         0.0          True        False  \n",
       "1068224099   300.0         0.0          True        False  \n",
       "1068224098   400.0         0.0          True        False  \n",
       "1068224054   300.0         0.0          True        False  \n",
       "\n",
       "[5 rows x 33 columns]"
      ]
     },
     "execution_count": 260,
     "metadata": {},
     "output_type": "execute_result"
    }
   ],
   "source": [
    "good_rf_units = units_with_rfstats[(units_with_rfstats.quality=='good') &\n",
    "                                  (units_with_rfstats.p_value_rf<0.01)]\n",
    "good_rf_units.head()"
   ]
  }
 ],
 "metadata": {
  "kernelspec": {
   "display_name": "Python 3",
   "language": "python",
   "name": "python3"
  },
  "language_info": {
   "codemirror_mode": {
    "name": "ipython",
    "version": 3
   },
   "file_extension": ".py",
   "mimetype": "text/x-python",
   "name": "python",
   "nbconvert_exporter": "python",
   "pygments_lexer": "ipython3",
   "version": "3.7.2"
  }
 },
 "nbformat": 4,
 "nbformat_minor": 5
}
