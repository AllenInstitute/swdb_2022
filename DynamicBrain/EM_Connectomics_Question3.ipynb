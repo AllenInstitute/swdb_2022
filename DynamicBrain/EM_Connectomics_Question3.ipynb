{
 "cells": [
  {
   "cell_type": "markdown",
   "metadata": {},
   "source": [
    "<center>\n",
    "    <h1>EM Connectomics - Question 3</h1>\n",
    "    <h2>Summer Workshop on the Dynamic Brain</h2>\n",
    "    <h3>Wednesday, August 25, 2021</h3>\n",
    "</center>"
   ]
  },
  {
   "cell_type": "markdown",
   "metadata": {},
   "source": [
    "**Task 3:** Do the targets of a pyramidal cell differ as you get farther away from the soma?\n",
    "\n",
    "Various studies have found that cortical excitatory neurons exhibit targeting preferences that change with distance along the axon. For example, in medial entorhinal cortex, [Schmidt et al.](https://pubmed.ncbi.nlm.nih.gov/28959971/) found that, closer to the soma, there was a bias toward targeting inhibitory neurons. We're going to look at this question from our EM dataset. This question will extend the E/I target analysis from Task 2 and add in spatial information about the synapse locations."
   ]
  },
  {
   "cell_type": "markdown",
   "metadata": {},
   "source": [
    "**Task 3.0:** Import the key modules and initialize a client"
   ]
  },
  {
   "cell_type": "code",
   "execution_count": null,
   "metadata": {},
   "outputs": [],
   "source": [
    "# Import modules\n",
    "\n",
    "# Initialize a client for the \"minnie65_public_v117\" datastack."
   ]
  },
  {
   "cell_type": "markdown",
   "metadata": {},
   "source": [
    "**Task 3.1:** Find where the output synapses are on our neuron relative to the soma in both physical space and as a path along the arbor.\n",
    "\n",
    "For this step, for each axonal presynaptic site synapse compute the distance to the soma as both a euclidean value and a distance along the axon. As a check at the end, visualize the distribution of the two distances. For this example, use `root_id = 864691134884807418`, which is a proofread L2/3 pyramidal cell in one of the HVAs. If you have time, feel free to look at the same analysis with other neurons."
   ]
  },
  {
   "cell_type": "code",
   "execution_count": null,
   "metadata": {},
   "outputs": [],
   "source": [
    "# Load the h5 file for the root id specified"
   ]
  },
  {
   "cell_type": "code",
   "execution_count": null,
   "metadata": {},
   "outputs": [],
   "source": [
    "# Extract synapse info into a dataframe"
   ]
  },
  {
   "cell_type": "code",
   "execution_count": null,
   "metadata": {},
   "outputs": [],
   "source": [
    "# Get euclidean distance for each synapse"
   ]
  },
  {
   "cell_type": "code",
   "execution_count": null,
   "metadata": {},
   "outputs": [],
   "source": [
    "# Get on-arbor distance for each synapse"
   ]
  },
  {
   "cell_type": "code",
   "execution_count": null,
   "metadata": {},
   "outputs": [],
   "source": [
    "# Visualize the two distances as a histogram\n",
    "# For bins, use 50 micron bins up to a distance of 1000 microns."
   ]
  },
  {
   "cell_type": "markdown",
   "metadata": {},
   "source": [
    "**Task 3.2:** Compute what cell type (if known) does each synapse target.\n",
    "\n",
    "For this step, for each axonal presynaptic site synapse compute the target cell type if it is a single soma, or else label it 'unclassified'."
   ]
  },
  {
   "cell_type": "code",
   "execution_count": null,
   "metadata": {},
   "outputs": [],
   "source": [
    "# Get the soma table and compute single soma root ids"
   ]
  },
  {
   "cell_type": "code",
   "execution_count": null,
   "metadata": {},
   "outputs": [],
   "source": [
    "# Find which targets of our cell are onto single-soma neurons."
   ]
  },
  {
   "cell_type": "code",
   "execution_count": null,
   "metadata": {},
   "outputs": [],
   "source": [
    "# Get the cell type of those single soma targets and add them as a labeled column"
   ]
  },
  {
   "cell_type": "markdown",
   "metadata": {},
   "source": [
    "**Task 3.3:** Measure how the target cell type change with distance.\n",
    "\n",
    "Here, look at the distribution of target preference as a function of distance from soma. First, make histograms of targeting by cell type and distance from soma using both distances. How do they differ? Next, bin the data by distance and compute the fraction of targets that are excitatory, and plot this value as a function of distance. For bins, use a 50 micron bin width."
   ]
  },
  {
   "cell_type": "code",
   "execution_count": null,
   "metadata": {},
   "outputs": [],
   "source": [
    "# Visualize the two distances as a histogram"
   ]
  },
  {
   "cell_type": "code",
   "execution_count": null,
   "metadata": {},
   "outputs": [],
   "source": [
    "# Now we bin the data:"
   ]
  },
  {
   "cell_type": "code",
   "execution_count": null,
   "metadata": {},
   "outputs": [],
   "source": [
    "# Find the fraction of synpases that are excitatory for that are excitatory in each bin.\n",
    "# If you want to get a confidence interval as well, look at the function `proportion_confint` in the statsmodels python package"
   ]
  },
  {
   "cell_type": "code",
   "execution_count": null,
   "metadata": {},
   "outputs": [],
   "source": [
    "# Visualize fraction of synpases that excitatory as a function of distance bins (with errorbars if you computed confidence intervals)"
   ]
  }
 ],
 "metadata": {
  "kernelspec": {
   "display_name": "analysis",
   "language": "python",
   "name": "analysis"
  },
  "language_info": {
   "codemirror_mode": {
    "name": "ipython",
    "version": 3
   },
   "file_extension": ".py",
   "mimetype": "text/x-python",
   "name": "python",
   "nbconvert_exporter": "python",
   "pygments_lexer": "ipython3",
   "version": "3.8.6"
  }
 },
 "nbformat": 4,
 "nbformat_minor": 4
}
