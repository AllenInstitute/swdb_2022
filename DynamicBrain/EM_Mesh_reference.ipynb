{
 "cells": [
  {
   "cell_type": "markdown",
   "id": "3a5f1142",
   "metadata": {},
   "source": [
    "<div style=\"border-left: 3px solid #000; padding: 1px; padding-left: 10px; background: #F0FAFF; \">\n",
    "\n",
    "#### Meshes\n",
    "\n",
    "If you are interested in the detailed 3d morphology of neurons as meshes, you should use meshparty to download them, using the MeshMeta object to cache them as you will likely read the same meshes many times.\n",
    "</div>"
   ]
  },
  {
   "cell_type": "code",
   "execution_count": null,
   "id": "3a84c9e7",
   "metadata": {},
   "outputs": [],
   "source": [
    "from meshparty import trimesh_io\n",
    "\n",
    "# you should pick a location to save meshes, MeshMeta will cache them there so you don't \n",
    "# load them over and over.\n",
    "# this will make a directory in the current directory of this notebook called meshes\n",
    "mesh_folder = 'meshes'\n",
    "\n",
    "mm = trimesh_io.MeshMeta(cv_path =\"precomputed://gs://iarpa_microns/minnie/minnie65/seg_m343\",\n",
    "                         disk_cache_path=mesh_folder,\n",
    "                         cache_size=0)\n",
    "# load the meshes\n",
    "# meshes are available at different resolutions (called level_of_detail from 0-3)\n",
    "# 0 being most details, 3 being least detailed (i know it's backwards linguistically)\n",
    "level_of_detail = 2\n",
    "post_mesh = mm.mesh(seg_id = neuron_id, lod=2)\n",
    "pre_mesh = mm.mesh(seg_id= max_input_neuron, lod=2)\n",
    "post_mesh.vertices.shape, post_mesh.faces.shape"
   ]
  },
  {
   "cell_type": "markdown",
   "id": "720672c8",
   "metadata": {},
   "source": [
    "<div style=\"border-left: 3px solid #000; padding: 1px; padding-left: 10px; background: #F0FAFF; \">\n",
    "    \n",
    "Meshes are triangular meshes, that are composed of vertices (N,3) and faces (N,3) which are indices into the vertex list\n",
    "    \n",
    "\n",
    "The Mesh class is based upon trimesh (<a href=\"https://github.com/mikedh/trimesh\"> https://github.com/mikedh/trimesh</a>), with some added features for doing graphs\n",
    "\n",
    "You can find the source code and documentation for mesh party here .. <a href=\"https://github.com/sdorkenw/MeshParty\">https://github.com/sdorkenw/MeshParty </a>\n",
    "\n",
    "We are not going to spend a lot of time today working on mesh analysis, but the data is available if you want to work on a project that uses them. \n",
    "    </div>"
   ]
  },
  {
   "cell_type": "code",
   "execution_count": null,
   "id": "118860fb",
   "metadata": {},
   "outputs": [],
   "source": []
  }
 ],
 "metadata": {
  "kernelspec": {
   "display_name": "Python 3 (ipykernel)",
   "language": "python",
   "name": "python3"
  },
  "language_info": {
   "codemirror_mode": {
    "name": "ipython",
    "version": 3
   },
   "file_extension": ".py",
   "mimetype": "text/x-python",
   "name": "python",
   "nbconvert_exporter": "python",
   "pygments_lexer": "ipython3",
   "version": "3.8.10"
  }
 },
 "nbformat": 4,
 "nbformat_minor": 5
}
