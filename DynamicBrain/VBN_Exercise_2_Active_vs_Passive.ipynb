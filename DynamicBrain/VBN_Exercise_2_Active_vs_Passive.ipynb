{
 "cells": [
  {
   "cell_type": "markdown",
   "metadata": {},
   "source": [
    "<img src=\"../resources/cropped-SummerWorkshop_Header.png\">  \n",
    "\n",
    "<h1 align=\"center\">Visual Behavior Neuropixels Exercise 2: Active vs. Passive </h1> "
   ]
  },
  {
   "cell_type": "code",
   "execution_count": null,
   "metadata": {},
   "outputs": [],
   "source": [
    "import os\n",
    "import numpy as np\n",
    "import pandas as pd\n",
    "import matplotlib.pyplot as plt\n",
    "from matplotlib.gridspec import GridSpec\n",
    "\n",
    "%matplotlib inline"
   ]
  },
  {
   "cell_type": "markdown",
   "metadata": {},
   "source": [
    "<div style=\"border-left: 3px solid #000; padding: 1px; padding-left: 10px; background: #F0FAFF; \">\n",
    "\n",
    "### Visual stimuli refresher\n",
    "\n",
    "As a reminder, every recording session consisted of three major visual stimulus epochs in the following order (diagrammed below):\n",
    "- An active behavior session during which the mouse performed the change detection task\n",
    "- Receptive field mapping and full-field flash stimuli\n",
    "- 'Passive' replay of stimulus shown during active behavior, but without the lickspout so the mouse can no longer respond.\n",
    "    \n",
    "</div>"
   ]
  },
  {
   "cell_type": "markdown",
   "metadata": {},
   "source": [
    "<div>\n",
    "<img src=\"https://brainmapportal-live-4cc80a57cd6e400d854-f7fdcae.divio-media.net/filer_public_thumbnails/filer_public/65/58/6558f0eb-c3c5-45e6-b645-b2e432200804/active_passive_diagram.png__710x291_q90_subsampling-2.png\", width=\"900\"/>\n",
    "</div>"
   ]
  },
  {
   "cell_type": "markdown",
   "metadata": {},
   "source": [
    "<div style=\"border-left: 3px solid #000; padding: 1px; padding-left: 10px; background: #F0FAFF; \">\n",
    "\n",
    "Descriptions of each stimulus block in <code>stimulus_presentations['stimulus_block']</code>\n",
    "\n",
    "**block 0**: Change detection task. Natural images are flashed repeatedly and the mouse is rewarded for licking when the identity of the image changes. You can find more info about this task [here](http://portal.brain-map.org/explore/circuits/visual-behavior-neuropixels?edit&language=en).\n",
    "\n",
    "**block 1**: Brief gray screen\n",
    "\n",
    "**block 2**: Receptive field mapping using gabor stimuli. For more details on this stimulus consult [this notebook](https://allensdk.readthedocs.io/en/latest/_static/examples/nb/ecephys_receptive_fields.html).\n",
    "\n",
    "**block 3**: Longer gray screen\n",
    "\n",
    "**block 4**: Full-field flashes, shown at 80% contrast. Flashes can be black (color = -1) or white (color = 1).\n",
    "\n",
    "**block 5**: Passive replay. Frame-for-frame replay of the stimulus shown during the change detection task (block 0), but now with the lick spout retracted so the animal can no longer engage in the task.\n",
    "\n",
    "    \n",
    "For this exercise, we will focus on **block 0** and **block 5**, the **active behavior** and the **passive replay** of the same images.\n",
    "    \n",
    "</div>"
   ]
  },
  {
   "cell_type": "markdown",
   "metadata": {},
   "source": [
    "<div style=\"background: #DFF0D8; border-radius: 3px; padding: 10px;\">\n",
    "    \n",
    "**Exercise 2.1: Plot neural activity from VISp averaged across Active vs. Passive image changes from one ephys session**\n",
    "\n",
    "* 2.1.1: Load an ephys session\n",
    "* 2.1.2: Load neural data\n",
    "* 2.1.3: Filter for good quality VISp units \n",
    "* 2.1.4: Find timepoints of image changes\n",
    "* 2.1.5: Align VISp activity to changes\n",
    "* 2.1.6: Find indices of Active and Passive changes\n",
    "* 2.1.7: Take the mean across units and Active vs. Passive trials\n",
    "* 2.1.8: Plot mean VISp activity for Active vs. Passive changes\n",
    "    \n",
    "Hint: we did something similar during the Tutorial, but for Novel vs. Familiar image changes\n",
    "    \n",
    "    \n",
    "Bonus: Plot baseline-subtracted Active vs. Passive change responses\n",
    "    \n",
    "</div>"
   ]
  },
  {
   "cell_type": "markdown",
   "metadata": {},
   "source": [
    "<div style=\"background: #DFF0D8; border-radius: 3px; padding: 10px;\">\n",
    "    \n",
    "**2.1.1: Load an ephys session**\n",
    "\n",
    "Feel free to load the same session from the tutorial. Or if you're feeling adventurous, load a different one!\n",
    "    \n",
    "Hint: First, initialize the cache. Next, load the ecephys_session_table, choose a session, and load it.\n",
    "    \n",
    "</div>"
   ]
  },
  {
   "cell_type": "code",
   "execution_count": null,
   "metadata": {},
   "outputs": [],
   "source": []
  },
  {
   "cell_type": "code",
   "execution_count": null,
   "metadata": {},
   "outputs": [],
   "source": []
  },
  {
   "cell_type": "markdown",
   "metadata": {},
   "source": [
    "<div style=\"background: #DFF0D8; border-radius: 3px; padding: 10px;\">\n",
    "    \n",
    "**2.1.2: Load neural data**\n",
    "\n",
    "What do we need to load from the session object in order to plot the spiking activity of units from VISp?\n",
    "    \n",
    "Hint: we need information about what area they are in, along with information about what times they spiked.\n",
    "    \n",
    "</div>"
   ]
  },
  {
   "cell_type": "code",
   "execution_count": null,
   "metadata": {},
   "outputs": [],
   "source": []
  },
  {
   "cell_type": "markdown",
   "metadata": {},
   "source": [
    "<div style=\"background: #DFF0D8; border-radius: 3px; padding: 10px;\">\n",
    "    \n",
    "**2.1.3: Filter for good quality VISp units**\n",
    "    \n",
    "Reminder: the index of the units table is the unit_id    \n",
    "\n",
    "</div>"
   ]
  },
  {
   "cell_type": "code",
   "execution_count": null,
   "metadata": {},
   "outputs": [],
   "source": []
  },
  {
   "cell_type": "markdown",
   "metadata": {},
   "source": [
    "<div style=\"background: #DFF0D8; border-radius: 3px; padding: 10px;\">\n",
    "\n",
    "**2.1.4: Find timepoints of image changes**\n",
    "\n",
    "Hint: most stimulus presentations are not changes. Make a new table that consists of only image changes.\n",
    "    \n",
    "</div>"
   ]
  },
  {
   "cell_type": "code",
   "execution_count": null,
   "metadata": {},
   "outputs": [],
   "source": []
  },
  {
   "cell_type": "code",
   "execution_count": null,
   "metadata": {},
   "outputs": [],
   "source": []
  },
  {
   "cell_type": "markdown",
   "metadata": {},
   "source": [
    "<div style=\"background: #DFF0D8; border-radius: 3px; padding: 10px;\">\n",
    "\n",
    "**2.1.5: Align VISp activity to image changes**\n",
    "\n",
    "We will use the <code>makePSTH</code> and <code>make_neuron_time_trials_array</code> functions, so we should define them here or import them.\n",
    "\n",
    "</div>"
   ]
  },
  {
   "cell_type": "code",
   "execution_count": null,
   "metadata": {},
   "outputs": [],
   "source": []
  },
  {
   "cell_type": "code",
   "execution_count": null,
   "metadata": {},
   "outputs": [],
   "source": []
  },
  {
   "cell_type": "markdown",
   "metadata": {},
   "source": [
    "<div style=\"background: #DFF0D8; border-radius: 3px; padding: 10px;\">\n",
    "    \n",
    "**2.1.6: Find indices of Active and Passive changes**\n",
    "\n",
    "Hint: remember to use your new table of image changes, otherwise you might find the wrong indices\n",
    "    \n",
    "</div>"
   ]
  },
  {
   "cell_type": "code",
   "execution_count": null,
   "metadata": {},
   "outputs": [],
   "source": []
  },
  {
   "cell_type": "code",
   "execution_count": null,
   "metadata": {},
   "outputs": [],
   "source": []
  },
  {
   "cell_type": "markdown",
   "metadata": {},
   "source": [
    "<div style=\"background: #DFF0D8; border-radius: 3px; padding: 10px;\">\n",
    "    \n",
    "**2.1.7: Take the mean across units and Active vs. Passive trials**\n",
    "    \n",
    "</div>"
   ]
  },
  {
   "cell_type": "code",
   "execution_count": null,
   "metadata": {},
   "outputs": [],
   "source": []
  },
  {
   "cell_type": "markdown",
   "metadata": {},
   "source": [
    "<div style=\"background: #DFF0D8; border-radius: 3px; padding: 10px;\">\n",
    "    \n",
    "**2.1.8: Plot mean VISp activity for Active vs. Passive changes**\n",
    "    \n",
    "</div>"
   ]
  },
  {
   "cell_type": "code",
   "execution_count": null,
   "metadata": {},
   "outputs": [],
   "source": []
  },
  {
   "cell_type": "markdown",
   "metadata": {},
   "source": [
    "* You should see a difference between VISp responses to Active vs. Passive changes\n",
    "* The largest difference is an overall shift in firing rate. What if we want to know whether the evoked firing rate relative to the baseline is the same or different in Active vs. Passive conditions?"
   ]
  },
  {
   "cell_type": "markdown",
   "metadata": {},
   "source": [
    "<div style=\"background: #DFF0D8; border-radius: 3px; padding: 10px;\">\n",
    "\n",
    "**Bonus: baseline-subtracted PSTHs**\n",
    "\n",
    "* If what we are interested in is the stimulus-evoked changes in firing rate, we need to correct for the baseline.\n",
    "    \n",
    "* Now, before averaging over neurons, first subtract each neuron's baseline firing rate (0.2 - 0 sec before the change).\n",
    "\n",
    "</div>"
   ]
  },
  {
   "cell_type": "code",
   "execution_count": null,
   "metadata": {},
   "outputs": [],
   "source": []
  },
  {
   "cell_type": "markdown",
   "metadata": {},
   "source": [
    "<div style=\"background: #DFF0D8; border-radius: 3px; padding: 10px;\">\n",
    "\n",
    "**Exercise 2.2: Plot running and pupil area averaged across Active vs. Passive image changes from the same session**\n",
    "\n",
    "The lick spout is retracted, so mice are no longer performing behavior and there are no licks. Let's look at other measures of behavior, running and pupil size.\n",
    "    \n",
    "* 2.2.1: Get running speed and eye tracking tables\n",
    "* 2.2.2: Align running and pupil data to Active vs. Passive changes\n",
    "* 2.2.3: Average across trials\n",
    "* 2.2.4: Plot these averages\n",
    "    \n",
    "</div>"
   ]
  },
  {
   "cell_type": "markdown",
   "metadata": {},
   "source": [
    "<div style=\"background: #DFF0D8; border-radius: 3px; padding: 10px;\">\n",
    "    \n",
    "**2.2.1: Get runnning speed and eye tracking tables**\n",
    "    \n",
    "</div>"
   ]
  },
  {
   "cell_type": "code",
   "execution_count": null,
   "metadata": {},
   "outputs": [],
   "source": []
  },
  {
   "cell_type": "markdown",
   "metadata": {},
   "source": [
    "<div style=\"background: #DFF0D8; border-radius: 3px; padding: 10px;\">\n",
    "\n",
    "**2.2.2: Align running and pupil data to Active changes**\n",
    "    \n",
    "</div>"
   ]
  },
  {
   "cell_type": "code",
   "execution_count": null,
   "metadata": {},
   "outputs": [],
   "source": []
  },
  {
   "cell_type": "markdown",
   "metadata": {},
   "source": [
    "<div style=\"background: #DFF0D8; border-radius: 3px; padding: 10px;\">\n",
    "\n",
    "**2.2.3: Align running and pupil data to Passive changes**\n",
    "    \n",
    "</div>"
   ]
  },
  {
   "cell_type": "code",
   "execution_count": null,
   "metadata": {},
   "outputs": [],
   "source": []
  },
  {
   "cell_type": "markdown",
   "metadata": {},
   "source": [
    "<div style=\"background: #DFF0D8; border-radius: 3px; padding: 10px;\">\n",
    "\n",
    "**2.2.4: Average across trials and plot**\n",
    "    \n",
    "</div>"
   ]
  },
  {
   "cell_type": "code",
   "execution_count": null,
   "metadata": {},
   "outputs": [],
   "source": []
  }
 ],
 "metadata": {
  "kernelspec": {
   "display_name": "allensdk_38",
   "language": "python",
   "name": "allensdk_38"
  },
  "language_info": {
   "codemirror_mode": {
    "name": "ipython",
    "version": 3
   },
   "file_extension": ".py",
   "mimetype": "text/x-python",
   "name": "python",
   "nbconvert_exporter": "python",
   "pygments_lexer": "ipython3",
   "version": "3.8.13"
  }
 },
 "nbformat": 4,
 "nbformat_minor": 2
}
