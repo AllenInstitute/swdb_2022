{
 "cells": [
  {
   "cell_type": "markdown",
   "metadata": {},
   "source": [
    "<img src=\"resources/cropped-SummerWorkshop_Header.png\">  \n",
    "\n",
    "<h1 align=\"center\">Collaborative Coding with Git/Github Demo SWDB 2022 </h1> \n",
    "<h3 align=\"center\"></h3> "
   ]
  },
  {
   "cell_type": "markdown",
   "metadata": {},
   "source": [
    "<div style=\"border-left: 3px solid #000; padding: 1px; padding-left: 10px; background: #F0FAFF; \">\n",
    "<h2>Versioning your code</h2>\n",
    "<br>\n",
    "Now that we have a working package, let's start talking about version control. We are going to use `git` to record a history of all changes to all files in this package. `git` the de-facto industry standard tool for collaborative software development. This will enable us to do several important things:\n",
    "\n",
    "<ul>\n",
    "<li>Compare the differences between versions of the code\n",
    "<li>Temporarily run other versions of the code, or revert back to an earlier version if we encounter problems\n",
    "<li>Publish our code on websites like github or bitbucket\n",
    "<li>Collaborate with others by automatically merging their changes with ours\n",
    "</ul>\n",
    "\n",
    "Managing code changes with a team of people all developing in parallel is really difficult! Version control systems like git make this easier, but still come with a steep learning curve. We want you to lean some basic concepts today, but becoming comfortable with git will just take practice.\n",
    "</div>"
   ]
  },
  {
   "cell_type": "markdown",
   "metadata": {},
   "source": [
    "<div style=\"border-left: 3px solid #000; padding: 1px; padding-left: 10px; background: #F0FAFF; \">\n",
    "<h3>Tools for working with git</h3>\n",
    "<br>\n",
    "There are three major tools we will introduce for interacting with git\n",
    "\n",
    "<ol>\n",
    "    <li><b>git</b> itself. This is the software that runs under the hood to keep track of our code changes. We will rarely interact with git <i>directly</i> during this session, but it may be required later.\n",
    "    <li><b>GitHub.com</b> is a commercial service + web application (free for open source projects) that allows us to store and publish code on the web. It implements some very nice tools for online collaboration that will be introduced later in the course.\n",
    "    <li><b>GitAhead</b> is a free graphical tool for interacting with git. There are many other options to pick from, but this tool provides a simpler introduction for today.\n",
    "</ol>\n",
    "\n",
    "</div>"
   ]
  },
  {
   "cell_type": "markdown",
   "metadata": {},
   "source": [
    "<div style=\"border-left: 3px solid #000; padding: 1px; padding-left: 10px; background: #F0FAFF; \">\n",
    "<h3>Getting started with GitAhead</h3>\n",
    "\n",
    "<div style='color: #000; background-color: #CCD; font-family: monospace; padding: 15px; margin: 10px; margin-left: 30px; border-radius: 3px'>\n",
    "<ol>\n",
    "<li>First: fire up GitAhead on your laptop!\n",
    "\n",
    "<li>In order to begin tracking code changes in our new package, we need to <i>initialize</i> a git repository in the package folder.\n",
    "\n",
    "<ul>\n",
    "    <li>Click \"Initialize new repository\"\n",
    "    <ul>\n",
    "        <li><b>Name:</b> \"my_package\"\n",
    "        <li><b>Directory:</b> Select your \"PythonBootcamp\" folder\n",
    "    </ul>\n",
    "    <li>Click \"Initialize\"\n",
    "</ul>\n",
    "\n",
    "    \n",
    "</ol>\n",
    "<img src=\"support_files/gitahead/01_init.png\">\n",
    "</div>\n",
    "\n",
    "\n",
    "    \n",
    "<h3>What has changed?</h3>\n",
    "\n",
    "<ul>\n",
    "    <li>A subfolder \"my_package/.git\" has been created by <b>git</b>, which is where it will store all code version information.\n",
    "    <li>GitAhead now shows us the contents of my_package:\n",
    "</ul>\n",
    "    \n",
    "<img src=\"support_files/gitahead/02_initial_state.png\">\n",
    "\n",
    "<div> <!-- NOTE: this div is a workaround for a jupyter HTML export bug --> </div>\n",
    "</div>"
   ]
  },
  {
   "cell_type": "markdown",
   "metadata": {},
   "source": [
    "\n",
    "<h2>Definitions:</h2>\n",
    "\n",
    "<p><b>Repository (n)</b> A folder that contains all of the files associated with a project and the history of changes made to each file. A git repository contains a `.git` subfolder that stores all data about the history of commits and the configuration of the repository.\n",
    "\n",
    "<p><b>Commit (n)</b> A snapshot of the state of all files in your repository at one point in time. A commit includes some metadata:\n",
    "<ul>\n",
    "    <li>Author\n",
    "    <li>Creation date\n",
    "    <li>A short description (written by the developer)\n",
    "    <li>A unique ID (also called a \"hash\")\n",
    "    <li>Parent ID (which commit came before this one)\n",
    "</ul>\n",
    "\n",
    "<p><b>Commit (v)</b> To create a new commit. \n",
    "    \n",
    "<div> <!-- NOTE: this div is a workaround for a jupyter HTML export bug --> </div>"
   ]
  },
  {
   "cell_type": "markdown",
   "metadata": {},
   "source": [
    "<div style=\"border-left: 3px solid #000; padding: 1px; padding-left: 10px; background: #F0FAFF; \">\n",
    "<h3>Adding files to the repository</h3>\n",
    "In GitAhead, we see three files inside my_package with `?` next to them. This means that the files are <i>untracked</i> by git. Our next task is to create an initial <i>commit</i> that contains the two python files we wrote (the `__pycache__` folder was automatically created by python and can be ignored for now). \n",
    "\n",
    "But first, we need to tell git who you are. \n",
    "    \n",
    "<div style='color: #000; background-color: #CCD; font-family: monospace; padding: 15px; margin: 10px; margin-left: 30px; border-radius: 3px'>\n",
    "\n",
    "Click the gear icon at the top of the window and enter your name and email address. This information will be recorded along with all commits you make so that future generations will know who to thank.\n",
    "\n",
    "<img src=\"support_files/gitahead/03_config.png\">\n",
    "    \n",
    "</div>"
   ]
  },
  {
   "cell_type": "markdown",
   "metadata": {},
   "source": [
    "<div style=\"border-left: 3px solid #000; padding: 1px; padding-left: 10px; background: #F0FAFF; \">\n",
    "\n",
    "Now let's make our first commit:\n",
    "\n",
    "<div style='color: #000; background-color: #CCD; font-family: monospace; padding: 15px; margin: 10px; margin-left: 30px; border-radius: 3px'>\n",
    "\n",
    "<ul>\n",
    "    <li>Click the check boxes next to `__init__.py` and `my_module.py`\n",
    "    <li>Change the <I>commit message</i> to something like \"Added init and module files\"\n",
    "    <li>Click \"Commit\"\n",
    "</ul>\n",
    "\n",
    "<img src=\"support_files/gitahead/04_add_files.png\">\n",
    "\n",
    "</div>    \n",
    "    \n",
    "</div>\n",
    "\n",
    "<div> <!-- NOTE: this div is a workaround for a jupyter HTML export bug --> </div>\n",
    "</div>"
   ]
  },
  {
   "cell_type": "markdown",
   "metadata": {},
   "source": [
    "<div style=\"border-left: 3px solid #000; padding: 1px; padding-left: 10px; background: #F0FAFF; \">\n",
    "\n",
    "You should now see something important has changed: In the middle column, we now have two entries:\n",
    "    \n",
    "\n",
    "<img src=\"support_files/gitahead/05_after_add.png\">\n",
    "    \n",
    "Each small circle represents a <i>commit</i>:\n",
    "<ul>\n",
    "    <li>On the bottom is the commit we just created--it is a snapshot of just the two files that we added to the repository. Whatever we do to those files from now on, it will always be possible to return them to this state.\n",
    "    <li>On the top is an imaginary future commit--one that we have not created yet.\n",
    "</ul>\n",
    "</div>\n",
    "\n",
    "<div> <!-- NOTE: this div is a workaround for a jupyter HTML export bug --> </div>\n",
    "</div>"
   ]
  },
  {
   "cell_type": "markdown",
   "metadata": {},
   "source": [
    "<div style=\"border-left: 3px solid #000; padding: 1px; padding-left: 10px; background: #F0FAFF; \">\n",
    "<h3>Practice: adding more commits</h3>\n",
    "\n",
    "We will now go through the motions of editing and committing code changes a few times. The basic workflow will be:\n",
    "\n",
    "<div style='color: #000; background-color: #CCD; font-family: monospace; padding: 15px; margin: 10px; margin-left: 30px; border-radius: 3px'>\n",
    "    <ol>\n",
    "        <li>Make code changes\n",
    "        <li>Select the \"Uncommitted changes\" in GitAhead\n",
    "        <li>Review the changes shown on the right side of the window\n",
    "        <li>Select changes to be added to the next commit\n",
    "        <li>Create a new commit\n",
    "    </ol>\n",
    "</div>\n",
    "\n",
    "<h4>Change set 1:</h4>\n",
    "\n",
    "<div style='color: #000; background-color: #CCD; font-family: monospace; padding: 15px; margin: 10px; margin-left: 30px; border-radius: 3px'>\n",
    "    In your code editor, go back to `my_module.py` and add some more detail to the docstring:\n",
    "    <pre>\n",
    "    Parameters\n",
    "    ----------\n",
    "    data : array\n",
    "        The input array to be downsampled.\n",
    "    n : int\n",
    "        Downsampling factor; this is the number of raw samples that will be averaged\n",
    "        together for each new sample.\n",
    "    axis : int\n",
    "        The array axis that should be downsampled (default=0).\n",
    "    </pre>\n",
    "</div>\n",
    "<div> <!-- NOTE: this div is a workaround for a jupyter HTML export bug --> </div>\n",
    "</div>"
   ]
  },
  {
   "cell_type": "markdown",
   "metadata": {},
   "source": [
    "<div>\n",
    "<h3>Git good practice #1: Make clean commits.</h3>\n",
    "<br>\n",
    "    <i>Staging</i> gives us finer control over which changes are included in each commit. First we tell git which changes will be included in the next commit, and then we commit all staged changes at once. In this simple example, it may seem like an unnecessary extra step. If git already knows which files have changed, why not just commit all changes automatically?\n",
    "\n",
    "<p>When working with any version control system, it is helpful for each code snapshot to introduce changes that are <i>complete</i> and <i>related</i>. Ideally, each new commit should add one new feature, or bugfix, or concept, and the commit should not contain unfinished ideas. Why is this good practice? Sometimes we need to go back through the history of changes to find where a bug was introduced, or to revert a set of changes, or even just to understand the structure of the commit history (which can become quite complex).\n",
    "\n",
    "<p>But many of us don't program that way--we like to plow through the code, making many unrelated changes here and there. In practice, it is very easy (and common) to lose track of which files you have changed in between commits. Perhaps you added some temporary debugging code that you forgot to remove, or started a new file but forgot to ask git to track it, or forgot about an unfinished piece of code. \n",
    "\n",
    "<p><b>Get into the habit of checking the state of your repository before each commit.</b> Carefully review your work before you stage and commit it--errors will be much easier to catch and resolve at this time, while you still remember why you made these changes. Make an effort to organize your changes into logical, complete commits.\n",
    "\n",
    "<p><b>BUT:</b> at the same time, balance this with the need to develop quickly; sometimes the extra organization really isn't worth the extra effort, especially when you are prototyping a new project (my commit frequency varies between once per day and several times per hour, depending on the task). Over time you will learn what works for you.\n",
    "<div> <!-- NOTE: this div is a workaround for a jupyter HTML export bug --> </div>\n",
    "</div>"
   ]
  },
  {
   "cell_type": "markdown",
   "metadata": {},
   "source": [
    "<div style=\"border-left: 3px solid #000; border-top: 1px solid #DDD; padding: 20px; padding-left: 10px; background: #F0FAFF; \">\n",
    "<h3>A little more commit practice</h3>\n",
    "<br>\n",
    "Let's make a few more changes:\n",
    "\n",
    "<div style='color: #000; background-color: #CCD; font-family: monospace; padding: 15px; margin: 10px; margin-left: 30px; border-radius: 3px'>\n",
    "    <ul>\n",
    "    <li>Add more documentation to the `downsample()` docstring:\n",
    "    <pre>\n",
    "      Returns\n",
    "      -------\n",
    "      array\n",
    "          An array in which each item is the average of *n* items\n",
    "          from the input *data* array.\n",
    "    </pre>\n",
    "    <li>Add a `README` file to contain a description of your package (just make something up).\n",
    "    <li>Create a `.gitignore` file that contains just the text: `__pycache__`. Notice that immediately after you create this file, the `__pycache__` file no longer appears in the list of untracked changes (but you may need to click the \"refresh\" button).\n",
    "    </ul>\n",
    "    \n",
    "After doing the steps above, go through the process of reviewing, staging, and committing each of these changes one at a time (you should end up with 3 new commits). Notice that you can click on each modified file to see what has changed before staging it. \n",
    "<br><br>\n",
    "\n",
    "If you select any of the commits in the list, you should see the changes that were introduced at that commit.\n",
    "    \n",
    "</div>\n",
    "\n",
    "\n",
    "\n",
    "<div> <!-- NOTE: this div is a workaround for a jupyter HTML export bug --> </div>\n",
    "</div>"
   ]
  },
  {
   "cell_type": "markdown",
   "metadata": {},
   "source": [
    "<div style=\"border-left: 3px solid #000; border-top: 1px solid #DDD; padding: 20px; padding-left: 10px; background: #F0FAFF; \">\n",
    "\n",
    "<h2>Checking out old commits</h2>\n",
    "    \n",
    "Let's return the repository briefly to an older state:\n",
    "    \n",
    "<div style='color: #000; background-color: #CCD; font-family: monospace; padding: 15px; margin: 10px; margin-left: 30px; border-radius: 3px'>\n",
    "    <ol>\n",
    "        <li>Right click on the <i>oldest</i> commit in the list\n",
    "        <li>Select \"Checkout ...\", notice the green \"HEAD detached\" -- green here indicates that this commit is currently checked out.\n",
    "        <li>Go back to your code editor, notice that the documentation change we made is gone. (If it isn't, something went wrong or you might need to use a different code editor!)\n",
    "        <li>In GitAhead, right click on \"master\" -> \"checkout master\"\n",
    "    </ol>\n",
    "</div>\n",
    "    \n",
    "    \n",
    "</div>"
   ]
  },
  {
   "cell_type": "markdown",
   "metadata": {},
   "source": [
    "<div style=\"border-left: 3px solid #000; border-top: 1px solid #DDD; padding: 20px; padding-left: 10px; background: #F0FAFF; \">\n",
    "<h2>Branch and Merge</h2>\n",
    "\n",
    "The commits we have made so far make a linear sequence--in GitAhead we see the commits connecting along a straight line from the initial commit to the most recent. This is often what we see when we develop code alone, and in this simple case, the tools we are showing you (git, github, GitAhead) are overkill; all we really get so far is a history of code versions.\n",
    "\n",
    "All this changes when we begin working with other people. The immediate difference is that two people can work in parallel, so it no longer makes sense to think of code development as a single linear chain. Instead, we have at least two parallel chains in which code changes are periodically shared from one to another. This new workflow introduces a lot of complexity, and managing that complexity is the primary purpose of git.\n",
    "\n",
    "Git enables parallel, collaborative coding using two tools: <i>branching</i> and <i>merging</i>.\n",
    "\n",
    "<img src=\"support_files/parallel_commits.png\">\n",
    "<div> <!-- NOTE: this div is a workaround for a jupyter HTML export bug --> </div>\n",
    "</div>"
   ]
  },
  {
   "cell_type": "markdown",
   "metadata": {},
   "source": [
    "<h2>Definitions:</h2>\n",
    "\n",
    "<p><b>Branch (n)</b> \n",
    "<ol>\n",
    "<li>A chain of related commits. This is <b>not</b> the definition understood by git.\n",
    "<li>A named pointer to a specific commit. Unlike tags, branches have special property: when a branch is checked out, creating a new commit will cause the branch to point to the newly created commit. In this way, branches usually point to the most recent commit in any chain of commits.\n",
    "</ol>\n",
    "\n",
    "<p><b>Branch (v)</b> To create a new branch.\n",
    "    \n",
    "<p><b>Merge (v)</b> To create a new commit that combines all changes from two branches.\n",
    "    \n",
    "<p><b>Checkout (v)</b> To <i>replace</i> the contents of the files that are currently present in the repository with the contents stored in a specific commit. Git has the capability to check out <i>any</i> commit, which lets you temporarily run other versions of the code.\n",
    "    \n",
    "<div> <!-- NOTE: this div is a workaround for a jupyter HTML export bug --> </div>"
   ]
  },
  {
   "cell_type": "markdown",
   "metadata": {},
   "source": [
    "<div style=\"border-left: 3px solid #000; border-top: 1px solid #DDD; padding: 20px; padding-left: 10px; background: #F0FAFF; \">\n",
    "We will talk about collaborative development later in the course. For now, let's just practice making branches and merging them back together. Here is a common scenario: You have some code that is working and produces good results. You would like to add on a new feature, but that requires you to temporarily break some things in order to refactor your code. Half way through this process, your PI asks if you can re-run the working analysis with some small changes. Now you have two parallel development pathways--your working code with small changes, and your broken new-feature code. \n",
    "\n",
    "There are many ways you can handle this situation with git. The one we will introduce today is the most commonly used:\n",
    "<ol>\n",
    "    <li>Your `master` branch shoould always point to the latest <i>working</i> copy of your code.\n",
    "    <li>New features are developed in <i>topic branches</i> until they are ready to be merged back into the master branch.\n",
    "</ol>\n",
    "\n",
    "<img src=\"support_files/topic_branches.png\">\n",
    "\n",
    "With this workflow, our topic branches keep unrelated code changes separate from each other until they are complete. Each topic branch serves as a reminder about a feature you were working on and how it was progressing. After a topic branch is merged into `master`, you can delete the topic branch (this does not delete the code changes; remember that a git branch is just a <i>pointer</i> to a particular commit. Deleting the branch does not necessarily affect the commit).\n",
    "\n",
    "<div> <!-- NOTE: this div is a workaround for a jupyter HTML export bug --> </div>\n",
    "</div>\n"
   ]
  },
  {
   "cell_type": "markdown",
   "metadata": {},
   "source": [
    "<div style=\"border-left: 3px solid #000; border-top: 1px solid #DDD; padding: 20px; padding-left: 10px; background: #F0FAFF; \">\n",
    "<h4>Add a couple of commits in a new branch</h4>\n",
    "\n",
    "<div style='color: #000; background-color: #CCD; font-family: monospace; padding: 15px; margin: 10px; margin-left: 30px; border-radius: 3px'>\n",
    "<ol>\n",
    "    <li>Notice that we already have a branch: master, and that it points to the latest commit\n",
    "    <li>Right-click on this commit and select \"New Branch\".\n",
    "    <li>Type in a name for the new branch (I used \"new-feature\"), check \"checkout branch\", and click \"Create branch\".\n",
    "    <li>Notice that \"new-feature\" and \"master\" now appear side-by-side, because both branches point to the same commit. Notice also that \"new-feature\" is colored in green, because this branch is currently <i>checked out</i>. \n",
    "    <li>Edit `my_module.py` and add a new function (it doesn't need to do anything)\n",
    "    <li>Make a commit. Notice that new-feature now points to the latest commit, but master does not (because master is not checked out).\n",
    "    <li>Repeat: edit some code and make another commit.\n",
    "</ol>\n",
    "</div>\n",
    "<div> <!-- NOTE: this div is a workaround for a jupyter HTML export bug --> </div>\n",
    "</div>"
   ]
  },
  {
   "cell_type": "markdown",
   "metadata": {},
   "source": [
    "<div style=\"border-left: 3px solid #000; border-top: 1px solid #DDD; padding: 20px; padding-left: 10px; background: #F0FAFF; \">\n",
    "<h4>Switch between branches</h4>\n",
    "\n",
    "<div style='color: #000; background-color: #CCD; font-family: monospace; padding: 15px; margin: 10px; margin-left: 30px; border-radius: 3px'>\n",
    "<ol>\n",
    "    <li>Check out the master branch by right-clicking on \"master\" -> \"checkout master\". Note that \"master\" is now green, and note also that the code in my_module.py has reverted back to its original state. \n",
    "    <li>Make a change to the README file and add a commit. Look at the commit tree again--it should now be more apparent that you have two parallel development paths in progress (you may need to resize the commit tree panel to see this--find the vertical line between the commit circles and their descriptons, drag that line to the right as far as it will go).\n",
    "    <li>Check out the new-feature branch. Again notice that your code has reverted back to where we left off. Commit one more change to `my_module.py`.\n",
    "</div>\n",
    "<div> <!-- NOTE: this div is a workaround for a jupyter HTML export bug --> </div>\n",
    "</div>\n"
   ]
  },
  {
   "cell_type": "markdown",
   "metadata": {},
   "source": [
    "<div style=\"border-left: 3px solid #000; border-top: 1px solid #DDD; padding: 20px; padding-left: 10px; background: #F0FAFF; \">\n",
    "<h4>Merge branches</h4>\n",
    "\n",
    "<div style='color: #000; background-color: #CCD; font-family: monospace; padding: 15px; margin: 10px; margin-left: 30px; border-radius: 3px'>\n",
    "<ol>\n",
    "    <li>Check out the master branch. \n",
    "    <li>Right-click on `new-feature` and then select \"Merge..\"\n",
    "    <li>Set the <i>reference</i> to new-feature and click Merge.\n",
    "    <li>Confirm that all of your changes are present in `my_module.py` and `README.md`.\n",
    "    <li>Delete the new-feature branch.\n",
    "</ol>\n",
    "</div>\n",
    "\n",
    "The final state of your commit history should look something like this:\n",
    "\n",
    "<img src=\"support_files/gitahead/06_after_merge.png\">\n",
    "<div> <!-- NOTE: this div is a workaround for a jupyter HTML export bug --> </div>\n",
    "</div>\n"
   ]
  },
  {
   "cell_type": "markdown",
   "metadata": {},
   "source": [
    "<div style=\"border-left: 3px solid #000; border-top: 1px solid #DDD; padding: 20px; padding-left: 10px; background: #F0FAFF; \">\n",
    "\n",
    "Some parting thoughts:\n",
    "\n",
    "<ul>\n",
    "    <li>If you are finding yourself confused, don't worry. Learning to use version control effectively will take time and practice.\n",
    "    <li>If this seems more complicated than it needs to be, hold on. When we start doing real collaborative development, the benefit should become more apparent.\n",
    "    <li>An obvious question you may have is: what happens if you change the same file from two different branches? Often merging just works magically in these situations. When it fails, there is a merge conflict and we have many tools (to be discussed later) for dealing with this situation.\n",
    "</ul>\n",
    "<div> <!-- NOTE: this div is a workaround for a jupyter HTML export bug --> </div>\n",
    "</div>"
   ]
  },
  {
   "cell_type": "markdown",
   "metadata": {},
   "source": [
    "<div style=\"border-left: 3px solid #000; padding: 1px; padding-left: 10px; background: #F0FAFF; \">\n",
    "    \n",
    "<h2> Using branches and pull requests to code collaboratively</h2>\n",
    "\n",
    "\n",
    "<ol>\n",
    "<h3>Steps in your development environment</h3>\n",
    "\n",
    "<li><strong>Check status</strong>: <code>git status</code> (check what branch you are on, see if up to date with main)</li>\n",
    "<li><strong>Sync with main branch on remote</strong>: <code>git pull origin main</code></li>\n",
    "<li><strong>Create feature branch</strong>: <code>git checkout -b feature1</code></li>\n",
    "<li>Make changes to code</li>\n",
    "<li><strong>Stage changes</strong>: <code>git add --all</code> </li>\n",
    "<li><strong>Commit changes</strong>: `git commit -m &quot;add descriptive message&quot;</li>\n",
    "<li><strong>Pull from main again (and maybe merge)</strong>:<ul>\n",
    "<li><code>git checkout main</code></li>\n",
    "<li><code>git pull</code></li>\n",
    "<li>(if new change then merge)</li>\n",
    "<li><code>git checkout feature1</code></li>\n",
    "<li><code>git merge main</code></li>\n",
    "</ul>\n",
    "</li>\n",
    "<li><strong>Push branch to remote</strong>: <code>git push origin feature1</code></li>\n",
    "\n",
    "\n",
    "<h3>GitHub steps</h3>\n",
    "\n",
    "<li>Move to Github. Create a Pull request</li>\n",
    "<li>Review changes (team can review files/commits, comment on the code, recommend additional changes)</li>\n",
    "<li><strong>Optional: implement revised changes</strong>: repeat steps 4-7</li>\n",
    "<li>Merge pull request into main (Github will tell you if OK to merge, if not it will mention there are Merge Conflicts, discussed later)</li>\n",
    "\n",
    "\n",
    "<h3>Back to development environment</h3>\n",
    "\n",
    "\n",
    "<li><strong>Switch to main</strong>: <code>git checkout main</code></li>\n",
    "<li><strong>Merge remote main to local</strong>: <code>git pull origin main</code></li>\n",
    "<li><strong>Good job!</strong></li>\n",
    "</ol>\n",
    "\n",
    "<h3>Dealing with Conflicts</h3>\n",
    "\n",
    "Let's say two developers branch off of main to work on different feature branches. Let's say developer1 modified file1 and merged that modification into the main branch. In the meantime, developer2 also made changes to file1. If developer2 tries to merge their changes into main, git will refuse to merge until the merge conflicts are resolved. To resolve conflicts, developer2 will have to perform step 7 and then:\n",
    "<p>\n",
    "Git will throw an error saying there are merge conflicts that need to be resolved and list the conflicted files. Developer2 will have to figure which changes to keep and which to discard. Once the conflicts are resolved, developer2 can perform steps 6 and 8-12.\n",
    "</div>"
   ]
  },
  {
   "cell_type": "markdown",
   "metadata": {},
   "source": [
    "<h2>One developer working on a feature</h2>"
   ]
  },
  {
   "cell_type": "markdown",
   "metadata": {},
   "source": [
    "<img src=\"resources/git-demo-single.png\">"
   ]
  },
  {
   "cell_type": "markdown",
   "metadata": {},
   "source": [
    "<h2>Collaboration with multiple features</h2>"
   ]
  },
  {
   "cell_type": "markdown",
   "metadata": {},
   "source": [
    "<img src=\"resources/git-demo-collab.png\">"
   ]
  },
  {
   "cell_type": "markdown",
   "metadata": {},
   "source": [
    "# Demo1: add multiple features (no conflicts)"
   ]
  },
  {
   "cell_type": "code",
   "execution_count": null,
   "metadata": {},
   "outputs": [],
   "source": [
    "# Feature1 --> Add to file1.py\n",
    "\n",
    "def normalize_image(image, min_value=0, max_value=1):\n",
    "    \"\"\" normalize image to min and max\n",
    "    Inputs:\n",
    "        image: 3D numpy array\n",
    "        min_value: float: minimum value to normalize to\n",
    "        max_value: float: maximum value to normalize to\n",
    "    Return:\n",
    "        normalized_image: 3D numpy array\n",
    "    \"\"\"\n",
    "    normalized_image = (image - image.min()) / (image.max() - image.min())\n",
    "    normalized_image = normalized_image * (max_value - min_value) + min_value\n",
    "    return normalized_image\n"
   ]
  },
  {
   "cell_type": "code",
   "execution_count": null,
   "metadata": {},
   "outputs": [],
   "source": [
    "# Feature 2 --> add to file2.py\n",
    "\n",
    "import numpy as np\n",
    "from colorsys import hls_to_rgb\n",
    "\n",
    "def generate_random_colors(n, lightness_range=(0, 1), saturation_range=(0, 1), random_seed=0, order_colors=False):\n",
    "    '''Get n distinct colors specified in HLS (Hue, Lightness, Saturation) colorspace. Hue is random.\n",
    "\n",
    "    Inputs:\n",
    "        n (int) - number of desired colors\n",
    "        lightness_range (2 value tuple) - desired range of lightness values (from 0 to 1)\n",
    "        saturation_range (2 value tuple) - desired range of saturation values (from 0 to 1)\n",
    "        random_seed (int) - seed for random number generator (ensures repeatability)\n",
    "        order_colors (bool) - if True, colors will be ordered by hue, if False, hue order will be random\n",
    "\n",
    "    Returns:\n",
    "        list of tuples containing RGB values (which can be used as a matplotlib palette)\n",
    "    '''\n",
    "    np.random.seed(random_seed)\n",
    "    colors = []\n",
    "\n",
    "    hues = np.random.rand(n)\n",
    "    if order_colors:\n",
    "        hues = np.sort(hues)\n",
    "\n",
    "    for hue in hues:\n",
    "        lightness = np.random.uniform(lightness_range[0], lightness_range[1])\n",
    "        saturation = np.random.uniform(saturation_range[0], saturation_range[1])\n",
    "        colors.append(hls_to_rgb(hue, lightness, saturation))\n",
    "\n",
    "    return colors\n"
   ]
  },
  {
   "cell_type": "markdown",
   "metadata": {},
   "source": [
    "# Demo 2: Add features (with conflicts)"
   ]
  },
  {
   "cell_type": "code",
   "execution_count": null,
   "metadata": {},
   "outputs": [],
   "source": [
    "# Developer1 Adds function to file1.py\n",
    "\n",
    "import os \n",
    "from pathlib import Path\n",
    "\n",
    "def find_files_with_string(base_dir):\n",
    "    \"\"\"Search all subfolders for files with Average in name\"\"\"\n",
    "    all_files = []\n",
    "    for root, dirs, files in os.walk(base_dir):\n",
    "        for file in files:\n",
    "            if \"average\" in file:\n",
    "                all_files.append(Path(os.path.join(root, file)))\n",
    "    return all_files\n"
   ]
  },
  {
   "cell_type": "code",
   "execution_count": null,
   "metadata": {},
   "outputs": [],
   "source": [
    "# Developer2 ALSO works on the same function and adds to file1.py\n",
    "\n",
    "def find_files_with_string(base_dir, string=\"average\"):\n",
    "    \"\"\"Find all files with string in name in all subfolders of base_dir.\n",
    "\n",
    "    Parameters:\n",
    "    -----------\n",
    "    base_dir : str\n",
    "        path to base directory\n",
    "    string : str\n",
    "        string to search for in file names\n",
    "    \n",
    "    Returns:\n",
    "    --------\n",
    "    all_files : list of str\n",
    "    \"\"\"\n",
    "    all_files = []\n",
    "    # search all subfolders for files with string in name\n",
    "    for root, dirs, files in os.walk(base_dir):\n",
    "        for file in files:\n",
    "            if string in file:\n",
    "                all_files.append(Path(os.path.join(root, file)))\n",
    "    return all_files"
   ]
  }
 ],
 "metadata": {
  "kernelspec": {
   "display_name": "Python 3 (ipykernel)",
   "language": "python",
   "name": "python3"
  },
  "language_info": {
   "codemirror_mode": {
    "name": "ipython",
    "version": 3
   },
   "file_extension": ".py",
   "mimetype": "text/x-python",
   "name": "python",
   "nbconvert_exporter": "python",
   "pygments_lexer": "ipython3",
   "version": "3.8.13"
  },
  "vscode": {
   "interpreter": {
    "hash": "78317d31f00423c19d7de96a53b10e98bbd020936ca21b1bcba5599b7b724f64"
   }
  }
 },
 "nbformat": 4,
 "nbformat_minor": 4
}
