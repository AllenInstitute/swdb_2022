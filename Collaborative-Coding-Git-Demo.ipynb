{
 "cells": [
  {
   "cell_type": "markdown",
   "metadata": {},
   "source": [
    "<img src=\"resources/cropped-SummerWorkshop_Header.png\">  \n",
    "\n",
    "<h1 align=\"center\">Collaborative Coding with Git/Github Demo SWDB 2022 </h1> \n",
    "<h3 align=\"center\"></h3> "
   ]
  },
  {
   "cell_type": "markdown",
   "metadata": {},
   "source": [
    "<div style=\"border-left: 3px solid #000; padding: 1px; padding-left: 10px; background: #F0FAFF; \">\n",
    "    \n",
    "<h2> Using branches and pull requests to code collaboratively</h2>\n",
    "\n",
    "<h3>Steps in your development environment</h3>\n",
    "\n",
    "<ol>\n",
    "<li><strong>Check status</strong>: <code>git status</code> (check what branch you are on, see if up to date with main)</li>\n",
    "<li><strong>Sync with main branch on remote</strong>: <code>git pull origin main</code></li>\n",
    "<li><strong>Create feature branch</strong>: <code>git checkout -b feature1</code></li>\n",
    "<li>Make changes to code</li>\n",
    "<li><strong>Stage changes</strong>: <code>git add --all</code> </li>\n",
    "<li><strong>Commit changes</strong>: `git commit -m &quot;add descriptive message&quot;</li>\n",
    "<li><strong>Pull from main again (and maybe merge)</strong>:<ul>\n",
    "<li><code>git checkout main</code></li>\n",
    "<li><code>git pull</code></li>\n",
    "<li>(if new change then merge)</li>\n",
    "<li><code>git checkout feature1</code></li>\n",
    "<li><code>git merge main</code></li>\n",
    "</ul>\n",
    "</li>\n",
    "<li><strong>Push branch to remote</strong>: <code>git push origin feature1</code></li>\n",
    "</ol>\n",
    "\n",
    "<h3>GitHub steps</h3>\n",
    "\n",
    "<ol>\n",
    "<li>Move to Github. Create a Pull request</li>\n",
    "<li>Review changes (team can review files/commits, comment on the code, recommend additional changes)</li>\n",
    "<li><strong>Optional: implement revised changes</strong>: repeat steps 4-7</li>\n",
    "<li>Merge pull request into main (Github will tell you if OK to merge, if not it will mention there are Merge Conflicts, discussed later)</li>\n",
    "</ol>\n",
    "\n",
    "<h3>Back to development environment</h3>\n",
    "\n",
    "<ol>\n",
    "<li><strong>Switch to main</strong>: <code>git checkout main</code></li>\n",
    "<li><strong>Merge remote main to local</strong>: <code>git pull origin main</code></li>\n",
    "<li><strong>Good job!</strong></li>\n",
    "</ol>\n",
    "\n",
    "<h3>Dealing with Conflicts</h3>\n",
    "\n",
    "Let's say two developers branch off of main to work on different feature branches. Let's say developer1 modified file1 and merged that modification into the main branch. In the meantime, developer2 also made changes to file1. If developer2 tries to merge their changes into main, git will refuse to merge until the merge conflicts are resolved. To resolve conflicts, developer2 will have to perform step 7 and then:\n",
    "    \n",
    "15. Git will throw an error saying there are merge conflicts that need to be resolved and list the conflicted files. Developer2 will have to figure which changes to keep and which to discard. Once the conflicts are resolved, developer2 can perform steps 6 and 8-12.\n",
    "</div>"
   ]
  },
  {
   "cell_type": "markdown",
   "metadata": {},
   "source": [
    "<h2>One developer working on a feature</h2>"
   ]
  },
  {
   "cell_type": "markdown",
   "metadata": {},
   "source": [
    "<img src=\"resources/git-demo-single.png\">"
   ]
  },
  {
   "cell_type": "markdown",
   "metadata": {},
   "source": [
    "<h2>Collaboration with multiple features</h2>"
   ]
  },
  {
   "cell_type": "markdown",
   "metadata": {},
   "source": [
    "<img src=\"resources/git-demo-collab.png\">"
   ]
  },
  {
   "cell_type": "markdown",
   "metadata": {},
   "source": [
    "# Demo1: add multiple features (no conflicts)"
   ]
  },
  {
   "cell_type": "code",
   "execution_count": null,
   "metadata": {},
   "outputs": [],
   "source": [
    "# Feature1 --> Add to file1.py\n",
    "\n",
    "def normalize_image(image, min_value=0, max_value=1):\n",
    "    \"\"\" normalize image to min and max\n",
    "    Inputs:\n",
    "        image: 3D numpy array\n",
    "        min_value: float: minimum value to normalize to\n",
    "        max_value: float: maximum value to normalize to\n",
    "    Return:\n",
    "        normalized_image: 3D numpy array\n",
    "    \"\"\"\n",
    "    normalized_image = (image - image.min()) / (image.max() - image.min())\n",
    "    normalized_image = normalized_image * (max_value - min_value) + min_value\n",
    "    return normalized_image\n"
   ]
  },
  {
   "cell_type": "code",
   "execution_count": 2,
   "metadata": {},
   "outputs": [],
   "source": [
    "# Feature 2 --> add to file2.py\n",
    "\n",
    "import numpy as np\n",
    "from colorsys import hls_to_rgb\n",
    "\n",
    "def generate_random_colors(n, lightness_range=(0, 1), saturation_range=(0, 1), random_seed=0, order_colors=False):\n",
    "    '''Get n distinct colors specified in HLS (Hue, Lightness, Saturation) colorspace. Hue is random.\n",
    "\n",
    "    Inputs:\n",
    "        n (int) - number of desired colors\n",
    "        lightness_range (2 value tuple) - desired range of lightness values (from 0 to 1)\n",
    "        saturation_range (2 value tuple) - desired range of saturation values (from 0 to 1)\n",
    "        random_seed (int) - seed for random number generator (ensures repeatability)\n",
    "        order_colors (bool) - if True, colors will be ordered by hue, if False, hue order will be random\n",
    "\n",
    "    Returns:\n",
    "        list of tuples containing RGB values (which can be used as a matplotlib palette)\n",
    "    '''\n",
    "    np.random.seed(random_seed)\n",
    "    colors = []\n",
    "\n",
    "    hues = np.random.rand(n)\n",
    "    if order_colors:\n",
    "        hues = np.sort(hues)\n",
    "\n",
    "    for hue in hues:\n",
    "        lightness = np.random.uniform(lightness_range[0], lightness_range[1])\n",
    "        saturation = np.random.uniform(saturation_range[0], saturation_range[1])\n",
    "        colors.append(hls_to_rgb(hue, lightness, saturation))\n",
    "\n",
    "    return colors\n"
   ]
  },
  {
   "cell_type": "markdown",
   "metadata": {},
   "source": [
    "# Demo 2: Add features (with conflicts)"
   ]
  },
  {
   "cell_type": "code",
   "execution_count": null,
   "metadata": {},
   "outputs": [],
   "source": [
    "# Developer1 Adds function to file1.py\n",
    "\n",
    "import os \n",
    "from pathlib import Path\n",
    "\n",
    "def find_files_with_string(base_dir):\n",
    "    \"\"\"Search all subfolders for files with Average in name\"\"\"\n",
    "    all_files = []\n",
    "    for root, dirs, files in os.walk(base_dir):\n",
    "        for file in files:\n",
    "            if \"average\" in file:\n",
    "                all_files.append(Path(os.path.join(root, file)))\n",
    "    return all_files\n"
   ]
  },
  {
   "cell_type": "code",
   "execution_count": null,
   "metadata": {},
   "outputs": [],
   "source": [
    "# Developer2 ALSO works on the same function and adds to file1.py\n",
    "\n",
    "def find_files_with_string(base_dir, string=\"average\"):\n",
    "    \"\"\"Find all files with string in name in all subfolders of base_dir.\n",
    "\n",
    "    Parameters:\n",
    "    -----------\n",
    "    base_dir : str\n",
    "        path to base directory\n",
    "    string : str\n",
    "        string to search for in file names\n",
    "    \n",
    "    Returns:\n",
    "    --------\n",
    "    all_files : list of str\n",
    "    \"\"\"\n",
    "    all_files = []\n",
    "    # search all subfolders for files with string in name\n",
    "    for root, dirs, files in os.walk(base_dir):\n",
    "        for file in files:\n",
    "            if string in file:\n",
    "                all_files.append(Path(os.path.join(root, file)))\n",
    "    return all_files"
   ]
  }
 ],
 "metadata": {
  "kernelspec": {
   "display_name": "Python 3 (ipykernel)",
   "language": "python",
   "name": "python3"
  },
  "language_info": {
   "codemirror_mode": {
    "name": "ipython",
    "version": 3
   },
   "file_extension": ".py",
   "mimetype": "text/x-python",
   "name": "python",
   "nbconvert_exporter": "python",
   "pygments_lexer": "ipython3",
   "version": "3.8.13"
  },
  "vscode": {
   "interpreter": {
    "hash": "78317d31f00423c19d7de96a53b10e98bbd020936ca21b1bcba5599b7b724f64"
   }
  }
 },
 "nbformat": 4,
 "nbformat_minor": 4
}
