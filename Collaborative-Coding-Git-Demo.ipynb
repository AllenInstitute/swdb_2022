{
 "cells": [
  {
   "cell_type": "markdown",
   "metadata": {},
   "source": [
    "<img src=\"resources/cropped-SummerWorkshop_Header.png\">  \n",
    "\n",
    "<h1 align=\"center\">Collaborative Coding with Git/Github Demo SWDB 2022 </h1> \n",
    "<h3 align=\"center\"></h3> "
   ]
  },
  {
   "cell_type": "markdown",
   "metadata": {},
   "source": [
    "<div style=\"border-left: 3px solid #000; padding: 1px; padding-left: 10px; background: #F0FAFF; \">\n",
    "<h2>Introduction to Git</h2>\n",
    "<br>\n",
    "<p> Git is an open source, version control tool. It allows a developer to record a history of all changes to all files in a project. `git` the de-facto industry standard tool for collaborative software development. This will enable us to do several important things:\n",
    "\n",
    "<ul>\n",
    "<li> Compare the differences between versions of the code\n",
    "<li> Temporarily run other versions of the code, or revert back to an earlier version if we encounter problems\n",
    "<li> Publish our code on websites like github or bitbucket\n",
    "<li> Collaborate with others by automatically merging their changes with ours\n",
    "</ul>\n",
    "\n",
    "Managing code changes with a team of people all developing in parallel is really difficult! Version control systems like git make this easier, but still come with a steep learning curve. We want you to lean some basic concepts today, but becoming comfortable with git will just take practice.\n",
    "</div>\n",
    "</div>"
   ]
  },
  {
   "cell_type": "markdown",
   "metadata": {},
   "source": [
    "<div style=\"border-left: 3px solid #000; padding: 1px; padding-left: 10px; background: #F0FAFF; \">\n",
    "<h3>Tools for working with git</h3>\n",
    "<br>\n",
    "There are three major tools we will introduce for interacting with git\n",
    "\n",
    "<ol>\n",
    "    <li><b>git</b> itself. This is the software that runs under the hood to keep track of our code changes. We will rarely interact with git <i>directly</i> during this session, but it may be required later.\n",
    "    <li><b>GitHub.com</b> is a commercial service + web application (free for open source projects) that allows us to store and publish code on the web. It implements some very nice tools for online collaboration that will be introduced later in the course.\n",
    "    <li><b>GitHub Desktop</b> is an application that enables you to interact with GitHub using a GUI instead of the command line or a web browser.\n",
    "</ol>\n",
    "\n",
    "</div>"
   ]
  },
  {
   "cell_type": "markdown",
   "metadata": {},
   "source": [
    "<div style=\"border-left: 3px solid #000; padding: 1px; padding-left: 10px; background: #F0FAFF; \">\n",
    "<h3>Getting started with GitHub Desktop</h3>\n",
    "\n",
    "<div style='color: #000; background-color: #CCD; font-family: monospace; padding: 15px; margin: 10px; margin-left: 30px; border-radius: 3px'>\n",
    "<ol>\n",
    "<li>First: fire up GitHub Desktop on your laptop!\n",
    "\n",
    "<li>In order to begin tracking code changes, we need to <i>initialize</i> a git repository in the package folder.\n",
    "\n",
    "<ul>\n",
    "    <li>From \"File\", select \"New repository...\"\n",
    "    <ul>\n",
    "        <li><b>Name:</b> \"my_repo\"\n",
    "        <li><b>Description:</b> \"A Test Repository\"\n",
    "        <li><b>Local Path:</b> Select your \"GitHub\" folder\n",
    "        <li><b>Initialize this repositoru with a README:</b> Select this option\n",
    "        <li><b>Git ignore:</b> \"Python\"\n",
    "        <li><b>License:</b> \"MIT License\"\n",
    "    </ul>\n",
    "    <li>Click \"Create repository\"\n",
    "</ul>\n",
    "    \n",
    "<h3>What has changed?</h3>\n",
    "\n",
    "<ul>\n",
    "    <li>A subfolder \"my_repo/.git\" has been created by <b>git</b>, which is where it will store all code version information\n",
    "    <li>A \".gitattributes\" file was created with some basic GitHub Desktop configs\n",
    "    <li>A boilerplate README.md file was created\n",
    "</ul>\n",
    "\n",
    "<div> <!-- NOTE: this div is a workaround for a jupyter HTML export bug --> </div>\n",
    "</div>"
   ]
  },
  {
   "cell_type": "markdown",
   "metadata": {},
   "source": [
    "\n",
    "<h2>Definitions:</h2>\n",
    "\n",
    "<p><b>Repository (n):</b> A folder that contains all of the files associated with a project and the history of changes made to each file. A git repository contains a `.git` subfolder that stores all data about the history of commits and the configuration of the repository.\n",
    "\n",
    "<p><b>Commit (n):</b> A snapshot of the state of all files in your repository at one point in time. A commit includes some metadata:\n",
    "<ul>\n",
    "    <li>Author\n",
    "    <li>Creation date\n",
    "    <li>A short description (written by the developer)\n",
    "    <li>A unique ID (also called a \"hash\")\n",
    "    <li>Parent ID (which commit came before this one)\n",
    "</ul>\n",
    "\n",
    "<p><b>Commit (v):</b> To create a new commit.\n",
    "    \n",
    "<div> <!-- NOTE: this div is a workaround for a jupyter HTML export bug --> </div>"
   ]
  },
  {
   "cell_type": "markdown",
   "metadata": {},
   "source": [
    "<div style=\"border-left: 3px solid #000; padding: 1px; padding-left: 10px; background: #F0FAFF; \">\n",
    "<h3>Our First Commit</h3>\n",
    "\n",
    "<p> Open the newly created README.md file in your favorite text editor. At the end of the file add a Hello World message and save, so your file looks like:\n",
    "<pre><code>\n",
    "# my_repo\n",
    " A Test Repo\n",
    "\n",
    "\\#\\# Hello World!\n",
    "\n",
    "</code></pre>\n",
    "\n",
    "<p> In GitHub Desktop, navigate make sure the Current repository is set to my_repo. We can see that our README.md file has changes from our previous commit. We can commit this change to main by clicking the Commit to main button. We can track the history of our changes in the Project in the History column. It's important to note that we can revert back to any commit whenever we want! It's like a Super Control-Z.\n",
    "</div>"
   ]
  },
  {
   "cell_type": "markdown",
   "metadata": {},
   "source": [
    "<div style=\"border-left: 3px solid #000; padding: 1px; padding-left: 10px; background: #F0FAFF; \">\n",
    "<h3>Creating Branches</h3>\n",
    "\n",
    "<p> Great, we have a way to track changes in a project. How does that help with collaboration? Luckily, git has another feature that allows you to work and commit changes without affecting a main source of truth. In GitHub Desktop, in the Current branch tab, pull the drop-down menu and select \"New branch.\" Call the new branch `feature-branch`.\n",
    "\n",
    "<p> Let's add a new feature to this branch. Create a new python file called `my_module.py` with the contents:\n",
    "<pre><code>\n",
    "def hello_world():\n",
    "    print(\"Hello World!\")\n",
    "</code></pre>\n",
    "In GitHub Desktop, we see one file has changed together with the changed contents. Let's commit these changes to the feature branch as we did before. Cool, so what? Haven't we already done this? The cool thing about branches is that you can checkout the main branch without altering anything in your feature-branch. In the Current branch tab, go ahead and open up main again. If you look in your my_repo directory, the my_module.py file is gone! But don't worry, we commited the changes in the feature-branch, so we can pull it up whenever we want.\n",
    "\n",
    "<p> Let's do this exercise one more time to show how git helps with collaboration. Make sure your Current branch is set to main. Now create a new branch called feature2-branch. In this branch, create a file called goodbye.py with the following contents:\n",
    "<pre><code>\n",
    "def goodbye():\n",
    "    print(\"Goodbye!\")\n",
    "</code></pre>\n",
    "\n",
    "<p> In GitHub Desktop, go ahead and commit the changes to the feature2-branch. Now we're ready to merge everything together...\n",
    "</div>"
   ]
  },
  {
   "cell_type": "markdown",
   "metadata": {},
   "source": [
    "<div style=\"border-left: 3px solid #000; padding: 1px; padding-left: 10px; background: #F0FAFF; \">\n",
    "<h3>Merging Branches</h3>\n",
    "\n",
    "<p> We have two pieces of code, but right now, they exist in separate branches. Go ahead and checkout the main branch again. Once the Current branch tab is set to main, from the very top menu, select Squash and merge into current branch. Select feature-branch, and hit the Squash and merge button. Perfect! Now we have the hello_world.py file in main. Repeat the process with feature2-branch. Now we have the goodbye.py file in main. Branch and merging allows different people to work on modifying a source of truth and merging the changes once they're finished. You should also delete your feature branches once they've been merged. You can open the Branch tab from the top menu, and then right click on the feautre branches you want to delete.\n",
    "</div>"
   ]
  },
  {
   "cell_type": "markdown",
   "metadata": {},
   "source": [
    "<h2>Definitions:</h2>\n",
    "\n",
    "<p><b>Branch (n)</b> \n",
    "<ol>\n",
    "<li>A chain of related commits. This is <b>not</b> the definition understood by git.\n",
    "<li>A named pointer to a specific commit. Unlike tags, branches have special property: when a branch is checked out, creating a new commit will cause the branch to point to the newly created commit. In this way, branches usually point to the most recent commit in any chain of commits.\n",
    "</ol>\n",
    "\n",
    "<p><b>Branch (v)</b> To create a new branch.\n",
    "    \n",
    "<p><b>Merge (v)</b> To create a new commit that combines all changes from two branches.\n",
    "    \n",
    "<p><b>Checkout (v)</b> To <i>replace</i> the contents of the files that are currently present in the repository with the contents stored in a specific commit. Git has the capability to check out <i>any</i> commit, which lets you temporarily run other versions of the code.\n",
    "    \n",
    "<div> <!-- NOTE: this div is a workaround for a jupyter HTML export bug --> </div>"
   ]
  },
  {
   "cell_type": "markdown",
   "metadata": {},
   "source": [
    "<div>\n",
    "<h3>Git good practice #1: Make clean commits.</h3>\n",
    "<br>\n",
    "    <i>Staging</i> gives us finer control over which changes are included in each commit. First we tell git which changes will be included in the next commit, and then we commit all staged changes at once. In this simple example, it may seem like an unnecessary extra step. If git already knows which files have changed, why not just commit all changes automatically?\n",
    "\n",
    "<p>When working with any version control system, it is helpful for each code snapshot to introduce changes that are <i>complete</i> and <i>related</i>. Ideally, each new commit should add one new feature, or bugfix, or concept, and the commit should not contain unfinished ideas. Why is this good practice? Sometimes we need to go back through the history of changes to find where a bug was introduced, or to revert a set of changes, or even just to understand the structure of the commit history (which can become quite complex).\n",
    "\n",
    "<p>But many of us don't program that way--we like to plow through the code, making many unrelated changes here and there. In practice, it is very easy (and common) to lose track of which files you have changed in between commits. Perhaps you added some temporary debugging code that you forgot to remove, or started a new file but forgot to ask git to track it, or forgot about an unfinished piece of code. \n",
    "\n",
    "<p><b>Get into the habit of checking the state of your repository before each commit.</b> Carefully review your work before you stage and commit it--errors will be much easier to catch and resolve at this time, while you still remember why you made these changes. Make an effort to organize your changes into logical, complete commits.\n",
    "\n",
    "<p><b>BUT:</b> at the same time, balance this with the need to develop quickly; sometimes the extra organization really isn't worth the extra effort, especially when you are prototyping a new project (my commit frequency varies between once per day and several times per hour, depending on the task). Over time you will learn what works for you.\n",
    "<div> <!-- NOTE: this div is a workaround for a jupyter HTML export bug --> </div>\n",
    "</div>"
   ]
  },
  {
   "cell_type": "markdown",
   "metadata": {},
   "source": [
    "<div style=\"border-left: 3px solid #000; padding: 1px; padding-left: 10px; background: #F0FAFF; \">\n",
    "<h3>Revert commits</h3>\n",
    "\n",
    "<p> It's possible to revert a particular commit, or to return to any point in the commit history. In the main branch, go to History. Right click on the most recent commit and select \"Revert Commit.\" The goodbye.py file that we added when we merged the feature2-branch is now gone. But don't worry, reverts themselves are commits in the history. So we can revert the revert if we need to. Go ahead and Right Click on the most recent commit (the revert commit) and click revert. We now added another commit in our history that reverts the revert. If we inspect the my_repo folder, we see that the goodbye.py file has returned.\n",
    "</div>"
   ]
  },
  {
   "cell_type": "markdown",
   "metadata": {},
   "source": [
    "<div style=\"border-left: 3px solid #000; border-top: 1px solid #DDD; padding: 20px; padding-left: 10px; background: #F0FAFF; \">\n",
    "\n",
    "A few quick thoughts:\n",
    "\n",
    "<ul>\n",
    "    <li>If you are finding yourself confused, don't worry. Learning to use version control effectively will take time and practice.\n",
    "    <li>If this seems more complicated than it needs to be, hold on. When we start doing real collaborative development, the benefit should become more apparent.\n",
    "    <li>An obvious question you may have is: what happens if you change the same file from two different branches? Often merging just works magically in these situations. When it fails, there is a merge conflict and we have many tools (to be discussed next) for dealing with this situation.\n",
    "</ul>\n",
    "<div> <!-- NOTE: this div is a workaround for a jupyter HTML export bug --> </div>\n",
    "</div>"
   ]
  },
  {
   "cell_type": "markdown",
   "metadata": {},
   "source": [
    "<div style=\"border-left: 3px solid #000; padding: 1px; padding-left: 10px; background: #F0FAFF; \">\n",
    "    \n",
    "<h2> Using branches and pull requests to code collaboratively</h2>\n",
    "\n",
    "\n",
    "<ol>\n",
    "<h3>Steps in your development environment</h3>\n",
    "\n",
    "<li><strong>Check status</strong>: <code>git status</code> (check what branch you are on, see if up to date with main)</li>\n",
    "<li><strong>Sync with main branch on remote</strong>: <code>git pull origin main</code></li>\n",
    "<li><strong>Create feature branch</strong>: <code>git checkout -b feature1</code></li>\n",
    "<li>Make changes to code</li>\n",
    "<li><strong>Stage changes</strong>: <code>git add --all</code> </li>\n",
    "<li><strong>Commit changes</strong>: `git commit -m &quot;add descriptive message&quot;</li>\n",
    "<li><strong>Pull from main again (and maybe merge)</strong>:<ul>\n",
    "<li><code>git checkout main</code></li>\n",
    "<li><code>git pull</code></li>\n",
    "<li>(if new change then merge)</li>\n",
    "<li><code>git checkout feature1</code></li>\n",
    "<li><code>git merge main</code></li>\n",
    "</ul>\n",
    "</li>\n",
    "<li><strong>Push branch to remote</strong>: <code>git push origin feature1</code></li>\n",
    "\n",
    "\n",
    "<h3>GitHub steps</h3>\n",
    "\n",
    "<li>Move to Github. Create a Pull request</li>\n",
    "<li>Review changes (team can review files/commits, comment on the code, recommend additional changes)</li>\n",
    "<li><strong>Optional: implement revised changes</strong>: repeat steps 4-7</li>\n",
    "<li>Merge pull request into main (Github will tell you if OK to merge, if not it will mention there are Merge Conflicts, discussed later)</li>\n",
    "\n",
    "\n",
    "<h3>Back to development environment</h3>\n",
    "\n",
    "\n",
    "<li><strong>Switch to main</strong>: <code>git checkout main</code></li>\n",
    "<li><strong>Merge remote main to local</strong>: <code>git pull origin main</code></li>\n",
    "<li><strong>Good job!</strong></li>\n",
    "</ol>\n",
    "\n",
    "<h3>Dealing with Conflicts</h3>\n",
    "\n",
    "Let's say two developers branch off of main to work on different feature branches. Let's say developer1 modified file1 and merged that modification into the main branch. In the meantime, developer2 also made changes to file1. If developer2 tries to merge their changes into main, git will refuse to merge until the merge conflicts are resolved. To resolve conflicts, developer2 will have to perform step 7 and then:\n",
    "<p>\n",
    "Git will throw an error saying there are merge conflicts that need to be resolved and list the conflicted files. Developer2 will have to figure which changes to keep and which to discard. Once the conflicts are resolved, developer2 can perform steps 6 and 8-12.\n",
    "</div>"
   ]
  },
  {
   "cell_type": "markdown",
   "metadata": {},
   "source": [
    "<h2>One developer working on a feature</h2>"
   ]
  },
  {
   "cell_type": "markdown",
   "metadata": {},
   "source": [
    "<img src=\"resources/git-demo-single.png\">"
   ]
  },
  {
   "cell_type": "markdown",
   "metadata": {},
   "source": [
    "<h2>Collaboration with multiple features</h2>"
   ]
  },
  {
   "cell_type": "markdown",
   "metadata": {},
   "source": [
    "<img src=\"resources/git-demo-collab.png\">"
   ]
  },
  {
   "cell_type": "markdown",
   "metadata": {},
   "source": [
    "# Demo1: add multiple features (no conflicts)"
   ]
  },
  {
   "cell_type": "code",
   "execution_count": null,
   "metadata": {},
   "outputs": [],
   "source": [
    "# Feature1 --> Add to file1.py\n",
    "\n",
    "def normalize_image(image, min_value=0, max_value=1):\n",
    "    \"\"\" normalize image to min and max\n",
    "    Inputs:\n",
    "        image: 3D numpy array\n",
    "        min_value: float: minimum value to normalize to\n",
    "        max_value: float: maximum value to normalize to\n",
    "    Return:\n",
    "        normalized_image: 3D numpy array\n",
    "    \"\"\"\n",
    "    normalized_image = (image - image.min()) / (image.max() - image.min())\n",
    "    normalized_image = normalized_image * (max_value - min_value) + min_value\n",
    "    return normalized_image\n"
   ]
  },
  {
   "cell_type": "code",
   "execution_count": null,
   "metadata": {},
   "outputs": [],
   "source": [
    "# Feature 2 --> add to file2.py\n",
    "\n",
    "import numpy as np\n",
    "from colorsys import hls_to_rgb\n",
    "\n",
    "def generate_random_colors(n, lightness_range=(0, 1), saturation_range=(0, 1), random_seed=0, order_colors=False):\n",
    "    '''Get n distinct colors specified in HLS (Hue, Lightness, Saturation) colorspace. Hue is random.\n",
    "\n",
    "    Inputs:\n",
    "        n (int) - number of desired colors\n",
    "        lightness_range (2 value tuple) - desired range of lightness values (from 0 to 1)\n",
    "        saturation_range (2 value tuple) - desired range of saturation values (from 0 to 1)\n",
    "        random_seed (int) - seed for random number generator (ensures repeatability)\n",
    "        order_colors (bool) - if True, colors will be ordered by hue, if False, hue order will be random\n",
    "\n",
    "    Returns:\n",
    "        list of tuples containing RGB values (which can be used as a matplotlib palette)\n",
    "    '''\n",
    "    np.random.seed(random_seed)\n",
    "    colors = []\n",
    "\n",
    "    hues = np.random.rand(n)\n",
    "    if order_colors:\n",
    "        hues = np.sort(hues)\n",
    "\n",
    "    for hue in hues:\n",
    "        lightness = np.random.uniform(lightness_range[0], lightness_range[1])\n",
    "        saturation = np.random.uniform(saturation_range[0], saturation_range[1])\n",
    "        colors.append(hls_to_rgb(hue, lightness, saturation))\n",
    "\n",
    "    return colors\n"
   ]
  },
  {
   "cell_type": "markdown",
   "metadata": {},
   "source": [
    "# Demo 2: Add features (with conflicts)"
   ]
  },
  {
   "cell_type": "code",
   "execution_count": null,
   "metadata": {},
   "outputs": [],
   "source": [
    "# Developer1 Adds function to file1.py\n",
    "\n",
    "import os \n",
    "from pathlib import Path\n",
    "\n",
    "def find_files_with_string(base_dir):\n",
    "    \"\"\"Search all subfolders for files with Average in name\"\"\"\n",
    "    all_files = []\n",
    "    for root, dirs, files in os.walk(base_dir):\n",
    "        for file in files:\n",
    "            if \"average\" in file:\n",
    "                all_files.append(Path(os.path.join(root, file)))\n",
    "    return all_files\n"
   ]
  },
  {
   "cell_type": "code",
   "execution_count": null,
   "metadata": {},
   "outputs": [],
   "source": [
    "# Developer2 ALSO works on the same function and adds to file1.py\n",
    "\n",
    "def find_files_with_string(base_dir, string=\"average\"):\n",
    "    \"\"\"Find all files with string in name in all subfolders of base_dir.\n",
    "\n",
    "    Parameters:\n",
    "    -----------\n",
    "    base_dir : str\n",
    "        path to base directory\n",
    "    string : str\n",
    "        string to search for in file names\n",
    "    \n",
    "    Returns:\n",
    "    --------\n",
    "    all_files : list of str\n",
    "    \"\"\"\n",
    "    all_files = []\n",
    "    # search all subfolders for files with string in name\n",
    "    for root, dirs, files in os.walk(base_dir):\n",
    "        for file in files:\n",
    "            if string in file:\n",
    "                all_files.append(Path(os.path.join(root, file)))\n",
    "    return all_files"
   ]
  }
 ],
 "metadata": {
  "kernelspec": {
   "display_name": "Python 3 (ipykernel)",
   "language": "python",
   "name": "python3"
  },
  "language_info": {
   "codemirror_mode": {
    "name": "ipython",
    "version": 3
   },
   "file_extension": ".py",
   "mimetype": "text/x-python",
   "name": "python",
   "nbconvert_exporter": "python",
   "pygments_lexer": "ipython3",
   "version": "3.8.13"
  },
  "vscode": {
   "interpreter": {
    "hash": "78317d31f00423c19d7de96a53b10e98bbd020936ca21b1bcba5599b7b724f64"
   }
  }
 },
 "nbformat": 4,
 "nbformat_minor": 4
}
