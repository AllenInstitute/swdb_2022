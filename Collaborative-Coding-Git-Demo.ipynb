{
 "cells": [
  {
   "cell_type": "markdown",
   "metadata": {},
   "source": [
    "<img src=\"resources/cropped-SummerWorkshop_Header.png\">  \n",
    "\n",
    "<h1 align=\"center\">Collaborative Coding with Git/Github Demo SWDB 2022 </h1> \n",
    "<h3 align=\"center\"></h3> "
   ]
  },
  {
   "cell_type": "markdown",
   "metadata": {},
   "source": [
    "<div style=\"border-left: 3px solid #000; padding: 1px; padding-left: 10px; background: #F0FAFF; \">\n",
    "<h2>Introduction to Git</h2>\n",
    "</div>"
   ]
  },
  {
   "cell_type": "markdown",
   "metadata": {},
   "source": [
    "<div style=\"border-left: 3px solid #000; padding: 1px; padding-left: 10px; background: #F0FAFF; \">\n",
    "<br>\n",
    "<p> Git is an open source, version control tool. It allows a developer to record a history of all changes to all files in a project. `git` the de-facto industry standard tool for collaborative software development. This will enable us to do several important things:\n",
    "\n",
    "<ul>\n",
    "<li> Compare the differences between versions of the code\n",
    "<li> Temporarily run other versions of the code, or revert back to an earlier version if we encounter problems\n",
    "<li> Publish our code on websites like github or bitbucket\n",
    "<li> Collaborate with others by automatically merging their changes with ours\n",
    "</ul>\n",
    "\n",
    "Managing code changes with a team of people all developing in parallel is really difficult! Version control systems like git make this easier, but still come with a steep learning curve. We want you to lean some basic concepts today, but becoming comfortable with git will just take practice.\n",
    "</div>\n",
    "</div>"
   ]
  },
  {
   "cell_type": "markdown",
   "metadata": {},
   "source": [
    "<div style=\"border-left: 3px solid #000; padding: 1px; padding-left: 10px; background: #F0FAFF; \">\n",
    "<h3>Tools for working with git</h3>\n",
    "There are three major tools we will introduce for interacting with git\n",
    "\n",
    "<ol>\n",
    "    <li><b>git</b> itself. This is the software that runs under the hood to keep track of our code changes. We will rarely interact with git <i>directly</i> during this session, but it may be required later.\n",
    "    <li><b>GitHub.com</b> is a commercial service + web application (free for open source projects) that allows us to store and publish code on the web. It implements some very nice tools for online collaboration that will be introduced later in the course.\n",
    "    <li><b>GitHub Desktop</b> is an application that enables you to interact with GitHub using a GUI instead of the command line or a web browser.\n",
    "</ol>\n",
    "\n",
    "</div>"
   ]
  },
  {
   "cell_type": "markdown",
   "metadata": {},
   "source": [
    "<div style=\"border-left: 3px solid #000; padding: 1px; padding-left: 10px; background: #F0FAFF; \">\n",
    "<h2>Demo 1: Single developer modifying codebase</h2>\n",
    "</div>"
   ]
  },
  {
   "cell_type": "markdown",
   "metadata": {},
   "source": [
    "<div style=\"border-left: 3px solid #000; padding: 1px; padding-left: 10px; background: #F0FAFF; \">\n",
    "<h3>Demo 1.1: First, let's create a folder that will contain our project</h3>\n",
    "\n",
    "<ul>\n",
    "<li> The exact location isn't important. For our purposes, let's create a folder in Documents/GitHub called <b>my_repo</b>.\n",
    "<li> Let's create a simple file in that folder called README.md and add some content. The exact file also doesn't matter.\n",
    "<li> Now let's try to make that folder a git repo.\n",
    "</ul>\n",
    "\n",
    "<p>\n",
    "<img src=\"resources/my_repo.png\" width=\"40%\">\n",
    "<p>\n",
    "<img src=\"resources/readme.png\" width=\"40%\">\n",
    "\n",
    "</div>"
   ]
  },
  {
   "cell_type": "markdown",
   "metadata": {},
   "source": [
    "<div style=\"border-left: 3px solid #000; padding: 1px; padding-left: 10px; background: #F0FAFF; \">\n",
    "<h3>Demo 1.2: Getting started with GitHub Desktop (GUI)</h3>\n",
    "\n",
    "<div style='color: #000; background-color: #CCD; font-family: monospace; padding: 15px; margin: 10px; margin-left: 30px; border-radius: 3px'>\n",
    "<ol>\n",
    "<li>First: fire up GitHub Desktop on your laptop!\n",
    "\n",
    "<li>In order to begin tracking code changes, we need to <i>initialize</i> a git repository in the my_repo folder.\n",
    "\n",
    "<ul>\n",
    "    <li>From \"File\", select \"New repository...\"\n",
    "    <ul>\n",
    "        <li>\n",
    "        <li><b>Name:</b> \"my_repo\"\n",
    "        <li><b>Local Path:</b> Select your \"GitHub\" folder (or whichever parent folder is for my_repo)\n",
    "        <li> You can ignore the other options for now\n",
    "    </ul>\n",
    "    <li>Click \"Create repository\"\n",
    "</ul>\n",
    "    \n",
    "<h3>What has changed?</h3>\n",
    "\n",
    "<ul>\n",
    "    <li>A subfolder \"my_repo/.git\" has been created by <b>git</b>, which is where it will store all code version information\n",
    "    <li>A \".gitattributes\" file was created with some basic GitHub Desktop configs\n",
    "</ul>\n",
    "\n",
    "<div> <!-- NOTE: this div is a workaround for a jupyter HTML export bug --> </div>\n",
    "</div>"
   ]
  },
  {
   "cell_type": "markdown",
   "metadata": {},
   "source": [
    "\n",
    "<h3>[Definitions Box 1]</h3>\n",
    "\n",
    "<p><b>Repository (n):</b> A folder that contains all of the files associated with a project and the history of changes made to each file. A git repository contains a `.git` subfolder that stores all data about the history of commits and the configuration of the repository.\n",
    "\n",
    "<p><b>Commit (n):</b> A snapshot of the state of all files in your repository at one point in time. A commit includes some metadata:\n",
    "<ul>\n",
    "    <li>Author\n",
    "    <li>Creation date\n",
    "    <li>A short description (written by the developer)\n",
    "    <li>A unique ID (also called a \"hash\")\n",
    "    <li>Parent ID (which commit came before this one)\n",
    "</ul>\n",
    "\n",
    "<p><b>Commit (v):</b> To create a new commit.\n",
    "    \n",
    "<div> <!-- NOTE: this div is a workaround for a jupyter HTML export bug --> </div>"
   ]
  },
  {
   "cell_type": "markdown",
   "metadata": {},
   "source": [
    "<div style=\"border-left: 3px solid #000; padding: 1px; padding-left: 10px; background: #F0FAFF; \">\n",
    "<h3>Demo 1.3: Adding Code to repo & our first commit</h3>\n",
    "\n",
    "<p><b> ACTION LIST:</b>\n",
    "<ul> \n",
    "<li> Open the <code>README.md</code> file in your favorite text editor.\n",
    "<li> Add some text to the README (e.g. \"My first commit\")\n",
    "<li> In GitHub Desktop, make sure the Current repository is set to <b>my_repo</b>\n",
    "<li> Notice README.md file has changes from the previous commit\n",
    "<li> Commit this change to main by clicking the \"Commit to main\" button\n",
    "<li> Click \"History\" button to see the whole list of commits/changes in the project\n",
    "</ul>\n",
    "<p>It's important to note that we can revert back to any commit whenever we want! It's like a Super Control-Z. We'll demo that feature in a bit.\n",
    "<p>\n",
    "<img src=\"resources/demo1-3.png\" width=\"35%\">\n",
    "</div>"
   ]
  },
  {
   "cell_type": "markdown",
   "metadata": {},
   "source": [
    "<div style=\"border-left: 3px solid #000; padding: 1px; padding-left: 10px; background: #F0FAFF; \">\n",
    "<h3>Demo 1.4: Creating branches to add new features</h3>\n",
    "\n",
    "<p> Great, we have a way to track changes in a project. Git has another feature, branching, that allows you to work and commit changes without affecting a main source of truth. In GitHub Desktop, in the Current branch tab, pull the drop-down menu and select \"New branch.\" Call the new branch `feature-branch`.\n",
    "\n",
    "<p> Let's add a new feature to this branch. Create a new python file called `hello.py` with the contents:\n",
    "<pre><code>\n",
    "def hello_world():\n",
    "    print(\"Hello World!\")\n",
    "</code></pre>\n",
    "In GitHub Desktop, we see one file has changed together with the changed contents. Let's commit these changes to the feature branch as we did before. Cool, so what? Haven't we already done this? The cool thing about branches is that you can checkout the main branch without altering anything in your feature-branch. In the Current branch tab, go ahead and open up main again. If you look in your my_repo directory, the hello.py file is gone! But don't worry, we commited the changes in the feature-branch, so we can pull it up whenever we want.\n",
    "\n",
    "<p>\n",
    "<img src=\"resources/demo1-4.png\" width=\"35%\">\n",
    "\n",
    "<p> Let's do this exercise one more time to show how we can work in different branches. Make sure your Current branch is set to main. Now create a new branch called feature2-branch. In this branch, create a file called goodbye.py with the following contents:\n",
    "<pre><code>\n",
    "def goodbye():\n",
    "    print(\"Goodbye!\")\n",
    "</code></pre>\n",
    "\n",
    "<p>\n",
    "<img src=\"resources/demo1-4-B.png\" width=\"35%\">\n",
    "\n",
    "<p> In GitHub Desktop, go ahead and commit the changes to the feature2-branch. Now we're ready to merge everything together...\n",
    "</div>"
   ]
  },
  {
   "cell_type": "markdown",
   "metadata": {},
   "source": [
    "<div style=\"border-left: 3px solid #000; padding: 1px; padding-left: 10px; background: #F0FAFF; \">\n",
    "<h3>Demo 1.5: Merging Branches</h3>\n",
    "\n",
    "<p> We have two pieces of code, but right now, they exist in separate branches. Lets get them into the <code>main</code> branch.\n",
    "<p><b> ACTION LIST:</b>\n",
    "<ul> \n",
    "<li> In GitHub Desktop....\n",
    "<li>Checkout to the <code>main</code> branch. <b>Always check your current branch before doing anything!!!</b>\n",
    "<li>Select \"Merge into current branch\" from \"Branch\" on the top menu bar\n",
    "<li>Select <code>feature-branch</code> and press \"Merge\" button\n",
    "<li>Perfect! Now we have the hello.py file in <code>main</code> branch\n",
    "<li>Repeat the process with <code>feature2-branch</code>\n",
    "<li>Excellent! Now we have the goodbye.py file in <code>main</code> branch\n",
    "</ul>\n",
    "\n",
    " Branch and merging allows the developer (or collaborators) to work on the code without modifying a source of truth (<code>main</code> branch). Once the developer is satisfied with their work, they can merge the changes into the <code>main</code> branch. Pro-tip: delete your feature branches once they've been merged. You can open the \"Branch\" tab from the top menu, and then right click on the feautre branches you want to delete.\n",
    "\n",
    "\n",
    " <p>\n",
    " <h4>Merging feature-branch to main</h4>\n",
    "<img src=\"resources/demo1-5-A.png\" width=\"35%\">\n",
    "\n",
    " <p>\n",
    " <h4>Merging feature2-branch to main</h4>\n",
    "<img src=\"resources/demo1-5-B-new.png\" width=\"35%\">\n",
    "\n",
    " <p>\n",
    " <h4>New state of main</h4>\n",
    "<img src=\"resources/demo1-5-C.png\" width=\"35%\">\n",
    "</div>"
   ]
  },
  {
   "cell_type": "markdown",
   "metadata": {},
   "source": [
    "<h3>[Definitions Box 2]</h3>\n",
    "\n",
    "<p><b>Branch (n)</b> \n",
    "<ol>\n",
    "<li>A chain of related commits. Human concept, <b>not</b> the definition understood by git.\n",
    "<li>Git definition: a named pointer to a specific commit. Unlike tags, branches have special property: when a branch is checked out, creating a new commit will cause the branch to point to the newly created commit. In this way, branches usually point to the most recent commit in any chain of commits.\n",
    "</ol>\n",
    "\n",
    "<p><b>Branch (v)</b> To create a new branch.\n",
    "    \n",
    "<p><b>Merge (v)</b> To create a new commit that combines all changes from two branches.\n",
    "    \n",
    "<p><b>Checkout (v)</b> To <i>replace</i> the contents of the files that are currently present in the repository with the contents stored in a specific commit. Git has the capability to check out <i>any</i> commit, which lets you temporarily run other versions of the code.\n",
    "    \n",
    "<div> <!-- NOTE: this div is a workaround for a jupyter HTML export bug --> </div>"
   ]
  },
  {
   "cell_type": "markdown",
   "metadata": {},
   "source": [
    "<div style=\"border-left: 3px solid #000; padding: 1px; padding-left: 10px; background: #F0FAFF; \">\n",
    "<h3>Git good practice: Make clean commits.</h3>\n",
    "<i>Staging</i> gives us finer control over which changes are included in each commit. First we tell git which changes will be included in the next commit, and then we commit all staged changes at once. In this simple example, it may seem like an unnecessary extra step. If git already knows which files have changed, why not just commit all changes automatically?\n",
    "\n",
    "<p>When working with any version control system, it is helpful for each code snapshot to introduce changes that are <i>complete</i> and <i>related</i>. Ideally, each new commit should add one new feature, or bugfix, or concept, and the commit should not contain unfinished ideas. Why is this good practice? Sometimes we need to go back through the history of changes to find where a bug was introduced, or to revert a set of changes, or even just to understand the structure of the commit history (which can become quite complex).\n",
    "\n",
    "<p>But many of us don't program that way--we like to plow through the code, making many unrelated changes here and there. In practice, it is very easy (and common) to lose track of which files you have changed in between commits. Perhaps you added some temporary debugging code that you forgot to remove, or started a new file but forgot to ask git to track it, or forgot about an unfinished piece of code. \n",
    "\n",
    "<p><b>Get into the habit of checking the state of your repository before each commit.</b> Carefully review your work before you stage and commit it--errors will be much easier to catch and resolve at this time, while you still remember why you made these changes. Make an effort to organize your changes into logical, complete commits.\n",
    "\n",
    "<p><b>BUT:</b> at the same time, balance this with the need to develop quickly; sometimes the extra organization really isn't worth the extra effort, especially when you are prototyping a new project (my commit frequency varies between once per day and several times per hour, depending on the task). Over time you will learn what works for you.\n",
    "<div> <!-- NOTE: this div is a workaround for a jupyter HTML export bug --> </div>\n",
    "</div>"
   ]
  },
  {
   "cell_type": "markdown",
   "metadata": {},
   "source": [
    "<div style=\"border-left: 3px solid #000; padding: 1px; padding-left: 10px; background: #F0FAFF; \">\n",
    "<h3>Revert commits</h3>\n",
    "\n",
    "<p> It's possible to revert a particular commit, or to return to any point in the commit history. In the main branch, go to History. Right click on the most recent commit and select \"Revert Commit.\" The goodbye.py file that we added when we merged the feature2-branch is now gone. But don't worry, reverts themselves are commits in the history. So we can revert the revert if we need to. Go ahead and Right Click on the most recent commit (the revert commit) and click revert. We now added another commit in our history that reverts the revert. If we inspect the my_repo folder, we see that the goodbye.py file has returned.\n",
    "</div>"
   ]
  },
  {
   "cell_type": "markdown",
   "metadata": {},
   "source": [
    "<div style=\"border-left: 3px solid #000; border-top: 1px solid #DDD; padding: 20px; padding-left: 10px; background: #F0FAFF; \">\n",
    "\n",
    "<h3>A few quick thoughts...</h3>\n",
    "\n",
    "<ul>\n",
    "    <li>If you are finding yourself confused, don't worry. Learning to use version control effectively will take time and practice.\n",
    "    <li>If this seems more complicated than it needs to be, hold on. When we start doing real collaborative development, the benefit should become more apparent.\n",
    "    <li>An obvious question you may have is: what happens if you change the same file from two different branches? Often merging just works magically in these situations. When it fails, there is a merge conflict and we have many tools (to be discussed next) for dealing with this situation.\n",
    "</ul>\n",
    "\n",
    "\n",
    "<h3>Reminder: check which branch are you on!!!</h3>\n",
    "<div> <!-- NOTE: this div is a workaround for a jupyter HTML export bug --> </div>\n",
    "</div>"
   ]
  },
  {
   "cell_type": "markdown",
   "metadata": {},
   "source": [
    "<div style=\"border-left: 3px solid #000; padding: 1px; padding-left: 10px; background: #F0FAFF; \">\n",
    "<h2>Demo 2: Collaborative coding with multiple developers </h3>\n",
    "</div>"
   ]
  },
  {
   "cell_type": "markdown",
   "metadata": {},
   "source": [
    "<h3>[Definitions Box 3]</h3>\n",
    "\n",
    "<p><b>Push (v): </b> Update (often remote) branch with commits made to current branch\n",
    "\n",
    "<p><b>Pull (v) </b> A fetch and merge from a (often remote) branch\n",
    "    \n",
    "<p><b>Pull request (n)</b>Pull requests ask the repo maintainers (or team mates) to review the commits made, and then, if acceptable merge the changes.\n",
    "\n",
    "<p><b>Remote (n) </b> A copy of the branch/repo (typically found on a cloud service like GitHub)\n",
    "\n",
    "<p><b>Local (n): </b> The branch/repo on your hard drive\n",
    "\n",
    "    \n",
    "<div> <!-- NOTE: this div is a workaround for a jupyter HTML export bug --> </div>"
   ]
  },
  {
   "cell_type": "markdown",
   "metadata": {},
   "source": [
    "<div style=\"border-left: 3px solid #000; padding: 1px; padding-left: 10px; background: #F0FAFF; \">\n",
    "<h3>Demo 2.1: Developer #1: Publishing code to the cloud (GitHub)</h3>\n",
    "\n",
    "\n",
    "<p><b> ACTION LIST :</b>\n",
    "<ul> \n",
    "<li> In GitHub Desktop....\n",
    "<li> Click \"Publish your repository to GitHub\". This is a <code>push</code> action.\n",
    "<li> <code>my_repo</code> has just been uploaded to the cloud!\n",
    "<li> Go to GitHub (cloud), fund <code>my_repo</code> in your respositories list\n",
    "</ul>\n",
    "\n",
    " <p>\n",
    " <h4>Pushing to GitHub</h4>\n",
    "<img src=\"resources/demo2-1.png\" width=\"35%\">\n",
    "\n",
    "<div> <!-- NOTE: this div is a workaround for a jupyter HTML export bug --> </div>\n",
    "</div>"
   ]
  },
  {
   "cell_type": "markdown",
   "metadata": {},
   "source": [
    "<div style=\"border-left: 3px solid #000; padding: 1px; padding-left: 10px; background: #F0FAFF; \">\n",
    "<h3>Demo 2.2: Developer #2: Grab code from cloud </h3>\n",
    "\n",
    "\n",
    "<p><b> ACTION LIST:</b>\n",
    "<ul> \n",
    "<li> On Github (Cloud), click green \"Code\" button and copy HTTPS url\n",
    "<li> On GitHub Desktop, click \"Clone repository...\" then \"url\", paste url in. Click contribute to parent project (1st option)\n",
    "<li> <code>my_repo</code> in now on your computer! See the files on your hardrive where you cloned the repo.\n",
    "<li> You are ready too add code collaboratively!\n",
    "</ul>\n",
    "\n",
    " <p>\n",
    " <h4>Cloning my_repo from GitHub</h4>\n",
    "<img src=\"resources/demo2-2.png\" width=\"35%\">\n",
    "\n",
    "<div> <!-- NOTE: this div is a workaround for a jupyter HTML export bug --> </div>\n",
    "</div>"
   ]
  },
  {
   "cell_type": "markdown",
   "metadata": {},
   "source": [
    "<div style=\"border-left: 3px solid #000; padding: 1px; padding-left: 10px; background: #F0FAFF; \">\n",
    "<h3>Demo 2.3: Developer #2 add new feature, push to cloud, and create pull request</h3>\n",
    "\n",
    "\n",
    "<p><b> ACTION LIST:</b>\n",
    "\n",
    "<p><b>On GitHub Desktop</b>\n",
    "<ul>\n",
    "<li> Create <code>feature3-branch</code>\n",
    "<li> Add new file \"aloha.py\". Put code changes in the file\n",
    "<li> Commit changes (same as Demo 1)\n",
    "<li> Push change from local to remote repo (same as Demo 1)\n",
    "</ul>\n",
    "\n"
   ]
  },
  {
   "cell_type": "markdown",
   "metadata": {},
   "source": [
    "<div style=\"border-left: 3px solid #000; padding: 1px; padding-left: 10px; background: #F0FAFF; \">\n",
    "<h3>Demo 2.4: Merge pull request into original (Developer #1) repository</h3>\n",
    "\n",
    "<p><b> ACTION LIST:</b>\n",
    "<p><b>On GitHub (cloud)</b>\n",
    "<ul> \n",
    "<li>Move to Github. It has a nice feature where it can recognize your new changes and ask you if you want to create a <code>Pull Request</code> (green button)</li>\n",
    "<li>Review changes (team can review files/commits, comment on the code, recommend additional changes)</li>\n",
    "<li>Merge pull request into main (Github will tell you if OK to merge, if not it will mention there are Merge Conflicts, discussed later)</li>\n",
    "</ul>\n",
    "\n",
    "\n",
    "<p><b>On GitHub Desktop</b>\n",
    "<ul> \n",
    "<li>Developer 1 pull these changes onto their local computer</li>\n",
    "</ul>"
   ]
  },
  {
   "cell_type": "markdown",
   "metadata": {},
   "source": [
    "<div style=\"border-left: 3px solid #000; padding: 1px; padding-left: 10px; background: #F0FAFF; \">\n",
    "    \n",
    "<h3>Dealing with merge conflicts</h3>\n",
    "\n",
    "Let's say two developers branch off of main to work on different feature branches. Let's say developer1 modified file1 and merged that modification into the main branch. In the meantime, developer2 also made changes to file1. If developer2 tries to merge their changes into main, git will refuse to merge until the merge conflicts are resolved. To resolve conflicts, developer2 will have to perform step 7 and then:\n",
    "<p>\n",
    "Git will throw an error saying there are merge conflicts that need to be resolved and list the conflicted files. Developer2 will have to figure which changes to keep and which to discard. Once the conflicts are resolved the merge operation can proceed. There are serveral ways of addressing merge conflicts that we can \n",
    "</div>"
   ]
  },
  {
   "cell_type": "markdown",
   "metadata": {},
   "source": [
    "<h2>One developer working on a feature</h2>"
   ]
  },
  {
   "cell_type": "markdown",
   "metadata": {},
   "source": [
    "<img src=\"resources/git-demo-single.png\">"
   ]
  },
  {
   "cell_type": "markdown",
   "metadata": {},
   "source": [
    "<h2>Collaboration with multiple features</h2>"
   ]
  },
  {
   "cell_type": "markdown",
   "metadata": {},
   "source": [
    "<img src=\"resources/git-demo-collab.png\">"
   ]
  }
 ],
 "metadata": {
  "kernelspec": {
   "display_name": "Python 3 (ipykernel)",
   "language": "python",
   "name": "python3"
  },
  "language_info": {
   "codemirror_mode": {
    "name": "ipython",
    "version": 3
   },
   "file_extension": ".py",
   "mimetype": "text/x-python",
   "name": "python",
   "nbconvert_exporter": "python",
   "pygments_lexer": "ipython3",
   "version": "3.7.13"
  },
  "vscode": {
   "interpreter": {
    "hash": "78317d31f00423c19d7de96a53b10e98bbd020936ca21b1bcba5599b7b724f64"
   }
  }
 },
 "nbformat": 4,
 "nbformat_minor": 4
}
