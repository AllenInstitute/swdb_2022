{
 "cells": [
  {
   "cell_type": "markdown",
   "metadata": {},
   "source": [
    "<img src=\"resources/cropped-SummerWorkshop_Header.png\">  \n",
    "\n",
    "<h1 align=\"center\">Collaborative Coding with Git/Github Demo SWDB 2022 </h1> \n",
    "<h3 align=\"center\"></h3> "
   ]
  },
  {
   "cell_type": "markdown",
   "metadata": {},
   "source": [
    "<div style=\"border-left: 3px solid #000; padding: 1px; padding-left: 10px; background: #F0FAFF; \">\n",
    "    \n",
    "<h2> Using branches and pull requests to code collaboratively</h2>\n",
    "\n",
    "<p> \n",
    "---Steps in your development environment---\n",
    "<p> \n",
    "\n",
    "1. **Check status**: `git status` (check what branch you are on, see if up to date with main)\n",
    "2. **Sync with main branch on remote**: `git pull origin main`\n",
    "3. **Create feature branch**: `git checkout -b feature1`\n",
    "4. Make changes to code\n",
    "5. **Stage changes**: `git add --all` \n",
    "6. **Commit changes**: `git commit -m \"add descriptive message\"\n",
    "7. **Pull from main again (and maybe merge)**:\n",
    "    + `git checkout main`\n",
    "    + `git pull`\n",
    "    + (if new change then merge)\n",
    "    + `git checkout feature1`\n",
    "    + `git merge main`\n",
    "8. **Push branch to remote**: `git push origin feature1`\n",
    "\n",
    "<p> \n",
    "---GitHub steps---\n",
    "<p> \n",
    "\n",
    "9. Move to Github. Create a Pull request\n",
    "10. Review changes (team can review files/commits, comment on the code, recommend additional changes)\n",
    "11. **Optional: implement revised changes**: repeat steps 4-7\n",
    "12. Merge pull request into main (Github will tell you if OK to merge, if not it will mention there are Merge Conflicts, discussed later)\n",
    "    \n",
    "<p> \n",
    "\n",
    "<p> \n",
    "---Back to development environment---\n",
    "<p> \n",
    "\n",
    "12. **Switch to main**: `git checkout main`\n",
    "13. **Merge remote main to local**: `git pull origin main`\n",
    "14. **Good job!**\n",
    "\n",
    "<p>\n",
    "\n",
    "---Dealing with Conflicts---\n",
    "<p>\n",
    "Let's say two developers branch off of main to work on different feature branches. Let's say developer1 modified file1 and merged that modification into the main branch. In the meantime, developer2 also made changes to file1. If developer2 tries to merge their changes into main, git will refuse to merge until the merge conflicts are resolved. To resolve conflicts, developer2 will have to perform step 7 and then:\n",
    "    \n",
    "15. Git will throw an error saying there are merge conflicts that need to be resolved and list the conflicted files. Developer2 will have to figure which changes to keep and which to discard. Once the conflicts are resolved, developer2 can perform steps 6 and 8-12.\n",
    "<p>\n",
    "</div>"
   ]
  },
  {
   "cell_type": "markdown",
   "metadata": {},
   "source": [
    "<h2>One developer working on a feature</h2>"
   ]
  },
  {
   "cell_type": "markdown",
   "metadata": {},
   "source": [
    "<img src=\"resources/git-single-tree.png\">"
   ]
  },
  {
   "cell_type": "markdown",
   "metadata": {},
   "source": [
    "<h2>Collaboration with multiple features</h2>"
   ]
  },
  {
   "cell_type": "markdown",
   "metadata": {},
   "source": [
    "<img src=\"resources/git-collab-tree.png\">"
   ]
  },
  {
   "cell_type": "markdown",
   "metadata": {},
   "source": [
    "# Demo1: add multiple features (no conflicts)"
   ]
  },
  {
   "cell_type": "code",
   "execution_count": null,
   "metadata": {},
   "outputs": [],
   "source": [
    "# feature1\n",
    "\n",
    "import os \n",
    "from pathlib import Path\n",
    "\n",
    "def find_files_with_string(base_dir, string=\"average\"):\n",
    "    \"\"\"Find all files with string in name in all subfolders of base_dir.\n",
    "\n",
    "    Parameters:\n",
    "    -----------\n",
    "    base_dir : str\n",
    "        path to base directory\n",
    "    string : str\n",
    "        string to search for in file names\n",
    "    \n",
    "    Returns:\n",
    "    --------\n",
    "    all_files : list of str\n",
    "    \"\"\"\n",
    "    all_files = []\n",
    "    # search all subfolders for files with string in name\n",
    "    for root, dirs, files in os.walk(base_dir):\n",
    "        for file in files:\n",
    "            if string in file:\n",
    "                all_files.append(Path(os.path.join(root, file)))\n",
    "    return all_files\n"
   ]
  },
  {
   "cell_type": "code",
   "execution_count": null,
   "metadata": {},
   "outputs": [],
   "source": [
    "#feature 2\n",
    "\n",
    "import numpy as np\n",
    "from colorsys import hls_to_rgb\n",
    "\n",
    "def generate_random_colors(n, lightness_range=(0, 1), saturation_range=(0, 1), random_seed=0, order_colors=False):\n",
    "    '''get n distinct colors specified in HLS (Hue, Lightness, Saturation) colorspace\n",
    "\n",
    "    hue is random\n",
    "    lightness is random in range between all black (0) and all white (1)\n",
    "    saturation is random in range between lightness value (0) and pure color (1)\n",
    "\n",
    "    inputs:\n",
    "        n (int) - number of desired colors\n",
    "        lightness_range (2 value tuple) - desired range of lightness values (from 0 to 1)\n",
    "        saturation_range (2 value tuple) - desired range of saturation values (from 0 to 1)\n",
    "        random_seed (int) - seed for random number generator (ensures repeatability)\n",
    "        order_colors (bool) - if True, colors will be ordered by hue, if False, hue order will be random\n",
    "\n",
    "    returns:\n",
    "        list of tuples containing RGB values (which can be used as a matplotlib palette)\n",
    "    '''\n",
    "    np.random.seed(random_seed)\n",
    "    colors = []\n",
    "\n",
    "    hues = np.random.rand(n)\n",
    "    if order_colors:\n",
    "        hues = np.sort(hues)\n",
    "\n",
    "    for hue in hues:\n",
    "        lightness = np.random.uniform(lightness_range[0], lightness_range[1])\n",
    "        saturation = np.random.uniform(saturation_range[0], saturation_range[1])\n",
    "        colors.append(hls_to_rgb(hue, lightness, saturation))\n",
    "\n",
    "    return colors\n"
   ]
  },
  {
   "cell_type": "markdown",
   "metadata": {},
   "source": [
    "# Demo 2: Add features (with conflicts)"
   ]
  },
  {
   "cell_type": "code",
   "execution_count": null,
   "metadata": {},
   "outputs": [],
   "source": []
  }
 ],
 "metadata": {
  "kernelspec": {
   "display_name": "Python 3 (ipykernel)",
   "language": "python",
   "name": "python3"
  },
  "language_info": {
   "codemirror_mode": {
    "name": "ipython",
    "version": 3
   },
   "file_extension": ".py",
   "mimetype": "text/x-python",
   "name": "python",
   "nbconvert_exporter": "python",
   "pygments_lexer": "ipython3",
   "version": "3.8.13"
  },
  "vscode": {
   "interpreter": {
    "hash": "78317d31f00423c19d7de96a53b10e98bbd020936ca21b1bcba5599b7b724f64"
   }
  }
 },
 "nbformat": 4,
 "nbformat_minor": 4
}
