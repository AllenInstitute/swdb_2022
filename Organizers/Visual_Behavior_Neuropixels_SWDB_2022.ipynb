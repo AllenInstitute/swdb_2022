{
 "cells": [
  {
   "cell_type": "markdown",
   "metadata": {},
   "source": [
    "<img src=\"../resources/cropped-SummerWorkshop_Header.png\">  \n",
    "\n",
    "<h1 align=\"center\">Visual Behavior Neuropixels Workshop SWDB 2022 </h1> \n",
    "<h3 align=\"center\">Tuesday, August 23rd, 2022</h3> "
   ]
  },
  {
   "cell_type": "markdown",
   "metadata": {},
   "source": [
    "<div style=\"border-left: 3px solid #000; padding: 1px; padding-left: 10px; background: #F0FAFF; \">\n",
    "\n",
    "<p>This notebook will introduce you to the Visual Behavior Neuropixels dataset and associated AllenSDK functions. \n",
    "    \n",
    "<p> In the following sections, you will learn how to explore the Visual Behavior Neuropixels dataset to find a session of interest, load that session, and extract neurophysiological and behavioral data using the AllenSDK. Once you're familiar with the data, you will use it to answer two scientific questions: \n",
    "    <p> <b>How does image novelty impact:</b>\n",
    "<p> &emsp;1) Visual responses in VISp?  \n",
    "<p> &emsp;2) Mouse behavior during the change detection task?\n",
    "    \n",
    "<p> This tutorial will be split into two parts. In the first part, we'll learn the basics about the dimensions of the dataset and how to access session data. In the second part, we'll focus on answering our scientific questions.\n",
    "    \n",
    "### Session 1: Accessing/Understanding the data\n",
    "* <a href='#Accessing-the-Dataset'>Accessing the Dataset</a>\n",
    "* <a href='#Filtering-the-sessions-table-for-a-session-of-interest'>Filtering the sessions table for a session of interest</a>\n",
    "* <a href='#Understanding-the-session-object'>Understanding the session object</a>\n",
    "* <a href='#Exploring-the-Stimulus-Presentations-Table'>Exploring the Stimulus Presentations Table</a>\n",
    "* <a href='#Exploring-the-Units-and-Channels-Tables'>Exploring the Units and Channels Tables</a> \n",
    "* <a href='#Getting-Spike-Times'>Getting Spike Times</a>\n",
    "* <a href='#Understanding-the-Trials-Table'>Understanding the Trials Table</a>\n",
    "* <a href='#Putting-it-all-together-to-make-a-change-triggered-PSTH-for-hit-trials'>Putting it all together to make a change-triggered PSTH for hit trials</a>\n",
    "    \n",
    "    \n",
    "### Session 2:\n",
    "* <a href='#Getting-reward,-pupil,-running-and-licking-data'>Getting reward, pupil, running and licking data</a>\n",
    "* <a href='#Plotting-visual-responses-to-novel-and-familiar-images'>Plotting visual responses to novel and familiar images</a>\n",
    "*<a href='#Calculating-hit-rates-for-novel-and-familiar-images'>Calculating hit rates for novel and familiar images</a>\n"
   ]
  },
  {
   "cell_type": "code",
   "execution_count": 6,
   "metadata": {},
   "outputs": [],
   "source": [
    "import os\n",
    "import numpy as np\n",
    "import pandas as pd\n",
    "import matplotlib.pyplot as plt\n",
    "from matplotlib.gridspec import GridSpec #Useful tool to arrange multiple plots in one figure (https://matplotlib.org/stable/api/_as_gen/matplotlib.gridspec.GridSpec.html)\n",
    "\n",
    "%matplotlib inline"
   ]
  },
  {
   "cell_type": "markdown",
   "metadata": {},
   "source": [
    "<div style=\"border-left: 3px solid #000; padding: 1px; padding-left: 10px; background: #F0FAFF; \">\n",
    "    \n",
    "## Accessing the Dataset\n",
    "    \n",
    "<p>To answer our questions, we first need to access the data. The main entry point to the VBN dataset is the <code>VisualBehaviorNeuropixelsProjectCache</code> class.  This class is responsible for downloading any requested data or metadata as needed and storing it in well known locations.  For this workshop, all of the data has been preloaded onto the hard drives you have received, and is available on AWS.\n",
    "\n",
    "<p>We begin by specifying our data cache directory. Then we'll import the <code>VisualBehaviorNeuropixelsProjectCache</code>  class and instantiate it.\n"
   ]
  },
  {
   "cell_type": "code",
   "execution_count": 7,
   "metadata": {},
   "outputs": [],
   "source": [
    "import platform\n",
    "platstring = platform.platform()\n",
    "\n",
    "if 'Darwin' in platstring or 'macOS' in platstring:\n",
    "    # macOS \n",
    "    data_root = \"/Volumes/Brain2022/\"\n",
    "elif 'Windows'  in platstring:\n",
    "    # Windows (replace with the drive letter of USB drive)\n",
    "    data_root = \"E:/\"\n",
    "elif ('amzn' in platstring):\n",
    "    # then on AWS\n",
    "    data_root = \"/data/\"\n",
    "else:\n",
    "    # then your own linux platform\n",
    "    # EDIT location where you mounted hard drive\n",
    "    data_root = \"/media/$USERNAME/Brain2022/\""
   ]
  },
  {
   "cell_type": "code",
   "execution_count": 8,
   "metadata": {},
   "outputs": [],
   "source": [
    "from allensdk.brain_observatory.behavior.behavior_project_cache.\\\n",
    "    behavior_neuropixels_project_cache \\\n",
    "    import VisualBehaviorNeuropixelsProjectCache"
   ]
  },
  {
   "cell_type": "code",
   "execution_count": 9,
   "metadata": {},
   "outputs": [],
   "source": [
    "# this path should point to the location of the dataset on your platform\n",
    "#cache_dir = r\"/Volumes/programs/mindscope/workgroups/np-behavior/vbn_data_release/vbn_s3_cache\"\n",
    "cache_dir = r\"\\\\allen\\programs\\mindscope\\workgroups\\np-behavior\\vbn_data_release\\vbn_s3_cache\"\n",
    "\n",
    "cache = VisualBehaviorNeuropixelsProjectCache.from_s3_cache(\n",
    "            cache_dir=cache_dir)"
   ]
  },
  {
   "cell_type": "markdown",
   "metadata": {},
   "source": [
    "<div style=\"border-left: 3px solid #000; padding: 1px; padding-left: 10px; background: #F0FAFF; \">\n",
    "    \n",
    "## Filtering the sessions table for a session of interest\n",
    "    \n",
    "<p>The <code>ecephys_sessions_table</code> contains metadata for every <b>Neuropixels recording session</b> in the dataset. This will be the main metadata table we'll use to filter sessions for analysis. Let's look at what's in it (note: you can find a short description of every column in the cheat sheet [INSERT LINK TO CHEAT SHEET IN RESOURCES]):"
   ]
  },
  {
   "cell_type": "code",
   "execution_count": 10,
   "metadata": {},
   "outputs": [
    {
     "data": {
      "text/html": [
       "<div>\n",
       "<style scoped>\n",
       "    .dataframe tbody tr th:only-of-type {\n",
       "        vertical-align: middle;\n",
       "    }\n",
       "\n",
       "    .dataframe tbody tr th {\n",
       "        vertical-align: top;\n",
       "    }\n",
       "\n",
       "    .dataframe thead th {\n",
       "        text-align: right;\n",
       "    }\n",
       "</style>\n",
       "<table border=\"1\" class=\"dataframe\">\n",
       "  <thead>\n",
       "    <tr style=\"text-align: right;\">\n",
       "      <th></th>\n",
       "      <th>behavior_session_id</th>\n",
       "      <th>date_of_acquisition</th>\n",
       "      <th>equipment_name</th>\n",
       "      <th>session_type</th>\n",
       "      <th>mouse_id</th>\n",
       "      <th>genotype</th>\n",
       "      <th>sex</th>\n",
       "      <th>project_code</th>\n",
       "      <th>age_in_days</th>\n",
       "      <th>unit_count</th>\n",
       "      <th>...</th>\n",
       "      <th>channel_count</th>\n",
       "      <th>structure_acronyms</th>\n",
       "      <th>image_set</th>\n",
       "      <th>prior_exposures_to_image_set</th>\n",
       "      <th>session_number</th>\n",
       "      <th>experience_level</th>\n",
       "      <th>prior_exposures_to_omissions</th>\n",
       "      <th>file_id</th>\n",
       "      <th>abnormal_histology</th>\n",
       "      <th>abnormal_activity</th>\n",
       "    </tr>\n",
       "    <tr>\n",
       "      <th>ecephys_session_id</th>\n",
       "      <th></th>\n",
       "      <th></th>\n",
       "      <th></th>\n",
       "      <th></th>\n",
       "      <th></th>\n",
       "      <th></th>\n",
       "      <th></th>\n",
       "      <th></th>\n",
       "      <th></th>\n",
       "      <th></th>\n",
       "      <th></th>\n",
       "      <th></th>\n",
       "      <th></th>\n",
       "      <th></th>\n",
       "      <th></th>\n",
       "      <th></th>\n",
       "      <th></th>\n",
       "      <th></th>\n",
       "      <th></th>\n",
       "      <th></th>\n",
       "      <th></th>\n",
       "    </tr>\n",
       "  </thead>\n",
       "  <tbody>\n",
       "    <tr>\n",
       "      <th>1052342277</th>\n",
       "      <td>1052374521</td>\n",
       "      <td>2020-09-23 15:34:18.179</td>\n",
       "      <td>NP.1</td>\n",
       "      <td>EPHYS_1_images_G_3uL_reward</td>\n",
       "      <td>530862</td>\n",
       "      <td>Vip-IRES-Cre/wt;Ai32(RCL-ChR2(H134R)_EYFP)/wt</td>\n",
       "      <td>M</td>\n",
       "      <td>NeuropixelVisualBehavior</td>\n",
       "      <td>148</td>\n",
       "      <td>1696.0</td>\n",
       "      <td>...</td>\n",
       "      <td>2304.0</td>\n",
       "      <td>['APN', 'CA1', 'CA3', 'DG-mo', 'DG-po', 'DG-sg...</td>\n",
       "      <td>G</td>\n",
       "      <td>32.0</td>\n",
       "      <td>1</td>\n",
       "      <td>Familiar</td>\n",
       "      <td>0.0</td>\n",
       "      <td>0</td>\n",
       "      <td>NaN</td>\n",
       "      <td>NaN</td>\n",
       "    </tr>\n",
       "    <tr>\n",
       "      <th>1051155866</th>\n",
       "      <td>1052162536</td>\n",
       "      <td>2020-09-17 15:05:39.665</td>\n",
       "      <td>NP.1</td>\n",
       "      <td>EPHYS_1_images_H_3uL_reward</td>\n",
       "      <td>524760</td>\n",
       "      <td>wt/wt</td>\n",
       "      <td>F</td>\n",
       "      <td>NeuropixelVisualBehavior</td>\n",
       "      <td>180</td>\n",
       "      <td>1922.0</td>\n",
       "      <td>...</td>\n",
       "      <td>2304.0</td>\n",
       "      <td>['APN', 'CA1', 'CA3', 'DG-mo', 'DG-po', 'DG-sg...</td>\n",
       "      <td>H</td>\n",
       "      <td>0.0</td>\n",
       "      <td>2</td>\n",
       "      <td>Novel</td>\n",
       "      <td>1.0</td>\n",
       "      <td>1</td>\n",
       "      <td>NaN</td>\n",
       "      <td>NaN</td>\n",
       "    </tr>\n",
       "    <tr>\n",
       "      <th>1052533639</th>\n",
       "      <td>1052572359</td>\n",
       "      <td>2020-09-24 15:12:13.229</td>\n",
       "      <td>NP.1</td>\n",
       "      <td>EPHYS_1_images_H_3uL_reward</td>\n",
       "      <td>530862</td>\n",
       "      <td>Vip-IRES-Cre/wt;Ai32(RCL-ChR2(H134R)_EYFP)/wt</td>\n",
       "      <td>M</td>\n",
       "      <td>NeuropixelVisualBehavior</td>\n",
       "      <td>149</td>\n",
       "      <td>1677.0</td>\n",
       "      <td>...</td>\n",
       "      <td>2304.0</td>\n",
       "      <td>['APN', 'CA1', 'CA3', 'DG-mo', 'DG-po', 'DG-sg...</td>\n",
       "      <td>H</td>\n",
       "      <td>0.0</td>\n",
       "      <td>2</td>\n",
       "      <td>Novel</td>\n",
       "      <td>1.0</td>\n",
       "      <td>4</td>\n",
       "      <td>NaN</td>\n",
       "      <td>NaN</td>\n",
       "    </tr>\n",
       "    <tr>\n",
       "      <th>1053925378</th>\n",
       "      <td>1053960984</td>\n",
       "      <td>2020-10-01 16:07:18.990</td>\n",
       "      <td>NP.0</td>\n",
       "      <td>EPHYS_1_images_H_3uL_reward</td>\n",
       "      <td>532246</td>\n",
       "      <td>Vip-IRES-Cre/wt;Ai32(RCL-ChR2(H134R)_EYFP)/wt</td>\n",
       "      <td>M</td>\n",
       "      <td>NeuropixelVisualBehavior</td>\n",
       "      <td>145</td>\n",
       "      <td>1823.0</td>\n",
       "      <td>...</td>\n",
       "      <td>2304.0</td>\n",
       "      <td>['APN', 'CA1', 'CA3', 'DG-mo', 'DG-po', 'DG-sg...</td>\n",
       "      <td>H</td>\n",
       "      <td>0.0</td>\n",
       "      <td>2</td>\n",
       "      <td>Novel</td>\n",
       "      <td>1.0</td>\n",
       "      <td>5</td>\n",
       "      <td>NaN</td>\n",
       "      <td>NaN</td>\n",
       "    </tr>\n",
       "    <tr>\n",
       "      <th>1053941483</th>\n",
       "      <td>1053960987</td>\n",
       "      <td>2020-10-01 17:03:58.362</td>\n",
       "      <td>NP.1</td>\n",
       "      <td>EPHYS_1_images_H_3uL_reward</td>\n",
       "      <td>527749</td>\n",
       "      <td>Sst-IRES-Cre/wt;Ai32(RCL-ChR2(H134R)_EYFP)/wt</td>\n",
       "      <td>M</td>\n",
       "      <td>NeuropixelVisualBehavior</td>\n",
       "      <td>180</td>\n",
       "      <td>1543.0</td>\n",
       "      <td>...</td>\n",
       "      <td>2304.0</td>\n",
       "      <td>['APN', 'CA1', 'CA3', 'DG-mo', 'DG-po', 'DG-sg...</td>\n",
       "      <td>H</td>\n",
       "      <td>0.0</td>\n",
       "      <td>2</td>\n",
       "      <td>Novel</td>\n",
       "      <td>1.0</td>\n",
       "      <td>6</td>\n",
       "      <td>NaN</td>\n",
       "      <td>NaN</td>\n",
       "    </tr>\n",
       "  </tbody>\n",
       "</table>\n",
       "<p>5 rows × 21 columns</p>\n",
       "</div>"
      ],
      "text/plain": [
       "                    behavior_session_id      date_of_acquisition  \\\n",
       "ecephys_session_id                                                 \n",
       "1052342277                   1052374521  2020-09-23 15:34:18.179   \n",
       "1051155866                   1052162536  2020-09-17 15:05:39.665   \n",
       "1052533639                   1052572359  2020-09-24 15:12:13.229   \n",
       "1053925378                   1053960984  2020-10-01 16:07:18.990   \n",
       "1053941483                   1053960987  2020-10-01 17:03:58.362   \n",
       "\n",
       "                   equipment_name                 session_type  mouse_id  \\\n",
       "ecephys_session_id                                                         \n",
       "1052342277                   NP.1  EPHYS_1_images_G_3uL_reward    530862   \n",
       "1051155866                   NP.1  EPHYS_1_images_H_3uL_reward    524760   \n",
       "1052533639                   NP.1  EPHYS_1_images_H_3uL_reward    530862   \n",
       "1053925378                   NP.0  EPHYS_1_images_H_3uL_reward    532246   \n",
       "1053941483                   NP.1  EPHYS_1_images_H_3uL_reward    527749   \n",
       "\n",
       "                                                         genotype sex  \\\n",
       "ecephys_session_id                                                      \n",
       "1052342277          Vip-IRES-Cre/wt;Ai32(RCL-ChR2(H134R)_EYFP)/wt   M   \n",
       "1051155866                                                  wt/wt   F   \n",
       "1052533639          Vip-IRES-Cre/wt;Ai32(RCL-ChR2(H134R)_EYFP)/wt   M   \n",
       "1053925378          Vip-IRES-Cre/wt;Ai32(RCL-ChR2(H134R)_EYFP)/wt   M   \n",
       "1053941483          Sst-IRES-Cre/wt;Ai32(RCL-ChR2(H134R)_EYFP)/wt   M   \n",
       "\n",
       "                                project_code  age_in_days  unit_count  ...  \\\n",
       "ecephys_session_id                                                     ...   \n",
       "1052342277          NeuropixelVisualBehavior          148      1696.0  ...   \n",
       "1051155866          NeuropixelVisualBehavior          180      1922.0  ...   \n",
       "1052533639          NeuropixelVisualBehavior          149      1677.0  ...   \n",
       "1053925378          NeuropixelVisualBehavior          145      1823.0  ...   \n",
       "1053941483          NeuropixelVisualBehavior          180      1543.0  ...   \n",
       "\n",
       "                    channel_count  \\\n",
       "ecephys_session_id                  \n",
       "1052342277                 2304.0   \n",
       "1051155866                 2304.0   \n",
       "1052533639                 2304.0   \n",
       "1053925378                 2304.0   \n",
       "1053941483                 2304.0   \n",
       "\n",
       "                                                   structure_acronyms  \\\n",
       "ecephys_session_id                                                      \n",
       "1052342277          ['APN', 'CA1', 'CA3', 'DG-mo', 'DG-po', 'DG-sg...   \n",
       "1051155866          ['APN', 'CA1', 'CA3', 'DG-mo', 'DG-po', 'DG-sg...   \n",
       "1052533639          ['APN', 'CA1', 'CA3', 'DG-mo', 'DG-po', 'DG-sg...   \n",
       "1053925378          ['APN', 'CA1', 'CA3', 'DG-mo', 'DG-po', 'DG-sg...   \n",
       "1053941483          ['APN', 'CA1', 'CA3', 'DG-mo', 'DG-po', 'DG-sg...   \n",
       "\n",
       "                   image_set prior_exposures_to_image_set  session_number  \\\n",
       "ecephys_session_id                                                          \n",
       "1052342277                 G                         32.0               1   \n",
       "1051155866                 H                          0.0               2   \n",
       "1052533639                 H                          0.0               2   \n",
       "1053925378                 H                          0.0               2   \n",
       "1053941483                 H                          0.0               2   \n",
       "\n",
       "                    experience_level prior_exposures_to_omissions  file_id  \\\n",
       "ecephys_session_id                                                           \n",
       "1052342277                  Familiar                          0.0        0   \n",
       "1051155866                     Novel                          1.0        1   \n",
       "1052533639                     Novel                          1.0        4   \n",
       "1053925378                     Novel                          1.0        5   \n",
       "1053941483                     Novel                          1.0        6   \n",
       "\n",
       "                    abnormal_histology abnormal_activity  \n",
       "ecephys_session_id                                        \n",
       "1052342277                         NaN               NaN  \n",
       "1051155866                         NaN               NaN  \n",
       "1052533639                         NaN               NaN  \n",
       "1053925378                         NaN               NaN  \n",
       "1053941483                         NaN               NaN  \n",
       "\n",
       "[5 rows x 21 columns]"
      ]
     },
     "execution_count": 10,
     "metadata": {},
     "output_type": "execute_result"
    }
   ],
   "source": [
    "ecephys_sessions_table = cache.get_ecephys_session_table()\n",
    "ecephys_sessions_table.head()"
   ]
  },
  {
   "cell_type": "markdown",
   "metadata": {},
   "source": [
    "<div style=\"border-left: 3px solid #000; padding: 1px; padding-left: 10px; background: #F0FAFF; \">\n",
    "\n",
    "This table gives us lots of useful metadata about each recording session, including when the session took place, the `genotype`, `sex` and `age` of the mouse that was run, what brain areas were recorded and some important info about the stimulus. \n",
    "\n",
    "To demystify a few of these columns, let's briefly review the experimental design. Each mouse was trained with one of two image sets (`G` or `H`). The image set the mouse was trained with became highly familiar because each of the images was seen thousands of times. The image set the mouse was not trained with was observed for the first time during a Neuropixels recording session after the mouse had learned the task. \n",
    "    \n",
    "For the majority of mice, we recorded two sessions: one with the trained `Familiar` image set and one with a `Novel` image set. Note that two of the eight images were shared across these two image sets as diagrammed below for an example mouse that was trained with image set `G`. "
   ]
  },
  {
   "cell_type": "markdown",
   "metadata": {},
   "source": [
    "<div>\n",
    "<img src=\"https://brainmapportal-live-4cc80a57cd6e400d854-f7fdcae.divio-media.net/filer_public/f1/d1/f1d140bc-228a-4328-bdca-e3383a1a46f0/image_sets_and_training_trajectories_diagram_defaultsdk_and_unfiltered.png\", width=\"900\"/>\n",
    "</div>"
   ]
  },
  {
   "cell_type": "markdown",
   "metadata": {},
   "source": [
    "<div style=\"border-left: 3px solid #000; padding: 1px; padding-left: 10px; background: #F0FAFF; \">\n",
    "\n",
    "We can define each recording session by a few parameters in our sessions table, including the `image_set` used (`G` or `H`), the `experience_level` of the mouse (indicating whether the mouse had seen the image set in previous training sessions) and the `session_number` (indicating whether it was the first or second recording day for the mouse). Let's look at how many sessions we have of each type:"
   ]
  },
  {
   "cell_type": "markdown",
   "metadata": {},
   "source": [
    "<div style=\"background: #DFF0D8; border-radius: 3px; padding: 10px;\">\n",
    "    <p><b>Task 1.1:</b> How many <code>Novel</code> and <code>Familiar</code> sessions are there in the dataset (Hint: use the <code>experience_level</code> column)\n",
    "</div>"
   ]
  },
  {
   "cell_type": "code",
   "execution_count": 11,
   "metadata": {},
   "outputs": [
    {
     "data": {
      "text/plain": [
       "experience_level\n",
       "Novel       52\n",
       "Familiar    51\n",
       "dtype: int64"
      ]
     },
     "execution_count": 11,
     "metadata": {},
     "output_type": "execute_result"
    }
   ],
   "source": [
    "ecephys_sessions_table.value_counts('experience_level')"
   ]
  },
  {
   "cell_type": "markdown",
   "metadata": {},
   "source": [
    "<div style=\"background: #DFF0D8; border-radius: 3px; padding: 10px;\">\n",
    "    <p><b>Task 1.2:</b>  How many <code>G</code> and <code>H</code> sessions?\n",
    "</div>"
   ]
  },
  {
   "cell_type": "code",
   "execution_count": null,
   "metadata": {},
   "outputs": [],
   "source": []
  },
  {
   "cell_type": "markdown",
   "metadata": {},
   "source": [
    "<div style=\"background: #DFF0D8; border-radius: 3px; padding: 10px;\">\n",
    "    <p><b>Task 1.3:</b>  Now count how many sessions were <code>Novel</code> or <code>Familiar</code> for each image set. (Hint: you can pass a list of column names to <code>value_counts</code>)\n",
    "</div>"
   ]
  },
  {
   "cell_type": "code",
   "execution_count": null,
   "metadata": {},
   "outputs": [],
   "source": []
  },
  {
   "cell_type": "markdown",
   "metadata": {},
   "source": [
    "<div style=\"background: #DFF0D8; border-radius: 3px; padding: 10px;\">\n",
    "    <p><b>Task 1.4:</b>  Use the <code>genotype</code> column to print how many unique genotypes were used in this dataset. How many sessions from each genotype are there?\n",
    "</div>"
   ]
  },
  {
   "cell_type": "code",
   "execution_count": 490,
   "metadata": {},
   "outputs": [],
   "source": [
    "#print unique genotypes\n"
   ]
  },
  {
   "cell_type": "code",
   "execution_count": 491,
   "metadata": {},
   "outputs": [],
   "source": [
    "#print how many sessions for each\n"
   ]
  },
  {
   "cell_type": "markdown",
   "metadata": {},
   "source": [
    "<div style=\"border-left: 3px solid #000; padding: 1px; padding-left: 10px; background: #F0FAFF; \">\n",
    "\n",
    "In addition to different types of image sets, this dataset contains ephys recording sessions from 3 genotypes (C57BL6J, VIP-IRES-CrexAi32 and SST-IRES-CrexAi32). \n",
    "\n",
    "For this tutorial, we need to select a session with:\n",
    "- `Sst-IRES-Cre` mouse\n",
    "- `Novel` images presented"
   ]
  },
  {
   "cell_type": "markdown",
   "metadata": {},
   "source": [
    "<div style=\"background: #DFF0D8; border-radius: 3px; padding: 10px;\">\n",
    "<p><b>Task 1.5:</b>  Filter the <code>ecephys_sessions_table</code> for novel sessions and store the result in a new table called <code>novel_sessions</code>.\n",
    "</div>"
   ]
  },
  {
   "cell_type": "code",
   "execution_count": null,
   "metadata": {},
   "outputs": [],
   "source": []
  },
  {
   "cell_type": "markdown",
   "metadata": {},
   "source": [
    "<div style=\"background: #DFF0D8; border-radius: 3px; padding: 10px;\">\n",
    "<p><b>Task 1.6:</b>  Now filter for novel sessions in Sst mice. (Hint, use both the <code>experience_level</code> and <code>genotype</code> columns). Call this new table <code>sst_novel_sessions</code>.\n",
    "</div>"
   ]
  },
  {
   "cell_type": "code",
   "execution_count": null,
   "metadata": {},
   "outputs": [],
   "source": []
  },
  {
   "cell_type": "markdown",
   "metadata": {},
   "source": [
    "<div style=\"border-left: 3px solid #000; padding: 1px; padding-left: 10px; background: #F0FAFF; \">\n",
    "\n",
    "## Understanding the session object\n",
    "\n",
    "All data from a particular recording session is contained in the `ecephys_session` object. Let's load one of our novel, Sst sessions:"
   ]
  },
  {
   "cell_type": "code",
   "execution_count": 25,
   "metadata": {
    "scrolled": true
   },
   "outputs": [
    {
     "name": "stderr",
     "output_type": "stream",
     "text": [
      "C:\\Users\\svc_ccg\\AppData\\Local\\Continuum\\anaconda3\\envs\\allensdk_38\\lib\\site-packages\\hdmf\\utils.py:577: FutureWarning: DynamicTable.__init__: Using positional arguments for this method is discouraged and will be deprecated in a future major release. Please use keyword arguments to ensure future compatibility.\n",
      "  warnings.warn(msg, FutureWarning)\n"
     ]
    }
   ],
   "source": [
    "session_id = 1053941483\n",
    "session = cache.get_ecephys_session(\n",
    "            ecephys_session_id=session_id)"
   ]
  },
  {
   "cell_type": "markdown",
   "metadata": {},
   "source": [
    "<div>\n",
    "<img src=\"https://brainmapportal-live-4cc80a57cd6e400d854-f7fdcae.divio-media.net/filer_public/d2/4d/d24d67b2-59ee-4246-b4a4-621877ba9e5f/vbn_session_object_summary.png\"/>\n",
    "</div>"
   ]
  },
  {
   "cell_type": "markdown",
   "metadata": {},
   "source": [
    "<div style=\"border-left: 3px solid #000; padding: 1px; padding-left: 10px; background: #F0FAFF; \">\n",
    "\n",
    "We can get a high-level summary of this session by accessing its `metadata` attribute:"
   ]
  },
  {
   "cell_type": "code",
   "execution_count": 11,
   "metadata": {},
   "outputs": [
    {
     "data": {
      "text/plain": [
       "{'equipment_name': 'NP.1',\n",
       " 'sex': 'M',\n",
       " 'age_in_days': 180,\n",
       " 'stimulus_frame_rate': 60.0,\n",
       " 'session_type': 'EPHYS_1_images_H_3uL_reward',\n",
       " 'date_of_acquisition': datetime.datetime(2020, 10, 2, 0, 3, 58, tzinfo=tzutc()),\n",
       " 'reporter_line': 'Ai32(RCL-ChR2(H134R)_EYFP)',\n",
       " 'cre_line': 'Sst-IRES-Cre',\n",
       " 'behavior_session_uuid': None,\n",
       " 'driver_line': ['Sst-IRES-Cre'],\n",
       " 'mouse_id': 527749,\n",
       " 'full_genotype': 'Sst-IRES-Cre/wt;Ai32(RCL-ChR2(H134R)_EYFP)/wt',\n",
       " 'behavior_session_id': 1053960987,\n",
       " 'ecephys_session_id': 1053941483}"
      ]
     },
     "execution_count": 11,
     "metadata": {},
     "output_type": "execute_result"
    }
   ],
   "source": [
    "session.metadata"
   ]
  },
  {
   "cell_type": "markdown",
   "metadata": {},
   "source": [
    "<div style=\"border-left: 3px solid #000; padding: 1px; padding-left: 10px; background: #F0FAFF; \">\n",
    "\n",
    "### Exploring the Stimulus Presentations Table\n",
    "\n",
    "The first step to analyzing how the mouse and its neurons responded to various stimuli is to understand which stimuli were presented at what time. For this, we use the `stimulus presentations` table, which is a dataframe containing info about each stimulus. You can find a description of each column in the cheat sheet [INSERT CHEAT SHEET LINK]\n",
    "\n",
    "Every recording session consisted of three major visual stimulus epochs in the following order (diagrammed below):\n",
    "- An active behavior session during which the mouse performed the change detection task\n",
    "- Receptive field mapping and full-field flash stimuli\n",
    "- Passive replay of stimulus shown during active behavior, but without the lickspout so the mouse can no longer respond."
   ]
  },
  {
   "cell_type": "markdown",
   "metadata": {},
   "source": [
    "<div>\n",
    "<img src=\"https://brainmapportal-live-4cc80a57cd6e400d854-f7fdcae.divio-media.net/filer_public/84/46/84463f18-1b45-4f4d-854f-767fac4f7126/experimental_session_diagram.png\", width=\"900\"/>\n",
    "</div>"
   ]
  },
  {
   "cell_type": "markdown",
   "metadata": {},
   "source": [
    "<div style=\"border-left: 3px solid #000; padding: 1px; padding-left: 10px; background: #F0FAFF; \">\n",
    "\n",
    "Let's look at the stimulus presentations table for the session we already loaded"
   ]
  },
  {
   "cell_type": "code",
   "execution_count": 26,
   "metadata": {},
   "outputs": [
    {
     "data": {
      "text/html": [
       "<div>\n",
       "<style scoped>\n",
       "    .dataframe tbody tr th:only-of-type {\n",
       "        vertical-align: middle;\n",
       "    }\n",
       "\n",
       "    .dataframe tbody tr th {\n",
       "        vertical-align: top;\n",
       "    }\n",
       "\n",
       "    .dataframe thead th {\n",
       "        text-align: right;\n",
       "    }\n",
       "</style>\n",
       "<table border=\"1\" class=\"dataframe\">\n",
       "  <thead>\n",
       "    <tr style=\"text-align: right;\">\n",
       "      <th></th>\n",
       "      <th>active</th>\n",
       "      <th>color</th>\n",
       "      <th>contrast</th>\n",
       "      <th>duration</th>\n",
       "      <th>end_frame</th>\n",
       "      <th>flashes_since_change</th>\n",
       "      <th>image_name</th>\n",
       "      <th>is_change</th>\n",
       "      <th>omitted</th>\n",
       "      <th>orientation</th>\n",
       "      <th>...</th>\n",
       "      <th>position_y</th>\n",
       "      <th>rewarded</th>\n",
       "      <th>spatial_frequency</th>\n",
       "      <th>start_frame</th>\n",
       "      <th>start_time</th>\n",
       "      <th>stimulus_block</th>\n",
       "      <th>stimulus_index</th>\n",
       "      <th>stimulus_name</th>\n",
       "      <th>stop_time</th>\n",
       "      <th>temporal_frequency</th>\n",
       "    </tr>\n",
       "    <tr>\n",
       "      <th>stimulus_presentations_id</th>\n",
       "      <th></th>\n",
       "      <th></th>\n",
       "      <th></th>\n",
       "      <th></th>\n",
       "      <th></th>\n",
       "      <th></th>\n",
       "      <th></th>\n",
       "      <th></th>\n",
       "      <th></th>\n",
       "      <th></th>\n",
       "      <th></th>\n",
       "      <th></th>\n",
       "      <th></th>\n",
       "      <th></th>\n",
       "      <th></th>\n",
       "      <th></th>\n",
       "      <th></th>\n",
       "      <th></th>\n",
       "      <th></th>\n",
       "      <th></th>\n",
       "      <th></th>\n",
       "    </tr>\n",
       "  </thead>\n",
       "  <tbody>\n",
       "    <tr>\n",
       "      <th>0</th>\n",
       "      <td>True</td>\n",
       "      <td>NaN</td>\n",
       "      <td>NaN</td>\n",
       "      <td>0.250212</td>\n",
       "      <td>75</td>\n",
       "      <td>0.0</td>\n",
       "      <td>im104_r</td>\n",
       "      <td>False</td>\n",
       "      <td>False</td>\n",
       "      <td>NaN</td>\n",
       "      <td>...</td>\n",
       "      <td>NaN</td>\n",
       "      <td>False</td>\n",
       "      <td>NaN</td>\n",
       "      <td>60</td>\n",
       "      <td>25.254420</td>\n",
       "      <td>0</td>\n",
       "      <td>NaN</td>\n",
       "      <td>Natural_Images_Lum_Matched_set_ophys_H_2019</td>\n",
       "      <td>25.504632</td>\n",
       "      <td>NaN</td>\n",
       "    </tr>\n",
       "    <tr>\n",
       "      <th>1</th>\n",
       "      <td>True</td>\n",
       "      <td>NaN</td>\n",
       "      <td>NaN</td>\n",
       "      <td>0.250212</td>\n",
       "      <td>120</td>\n",
       "      <td>1.0</td>\n",
       "      <td>im104_r</td>\n",
       "      <td>False</td>\n",
       "      <td>False</td>\n",
       "      <td>NaN</td>\n",
       "      <td>...</td>\n",
       "      <td>NaN</td>\n",
       "      <td>False</td>\n",
       "      <td>NaN</td>\n",
       "      <td>105</td>\n",
       "      <td>26.005057</td>\n",
       "      <td>0</td>\n",
       "      <td>NaN</td>\n",
       "      <td>Natural_Images_Lum_Matched_set_ophys_H_2019</td>\n",
       "      <td>26.255269</td>\n",
       "      <td>NaN</td>\n",
       "    </tr>\n",
       "    <tr>\n",
       "      <th>2</th>\n",
       "      <td>True</td>\n",
       "      <td>NaN</td>\n",
       "      <td>NaN</td>\n",
       "      <td>0.250208</td>\n",
       "      <td>165</td>\n",
       "      <td>2.0</td>\n",
       "      <td>im104_r</td>\n",
       "      <td>False</td>\n",
       "      <td>False</td>\n",
       "      <td>NaN</td>\n",
       "      <td>...</td>\n",
       "      <td>NaN</td>\n",
       "      <td>False</td>\n",
       "      <td>NaN</td>\n",
       "      <td>150</td>\n",
       "      <td>26.755685</td>\n",
       "      <td>0</td>\n",
       "      <td>NaN</td>\n",
       "      <td>Natural_Images_Lum_Matched_set_ophys_H_2019</td>\n",
       "      <td>27.005892</td>\n",
       "      <td>NaN</td>\n",
       "    </tr>\n",
       "    <tr>\n",
       "      <th>3</th>\n",
       "      <td>True</td>\n",
       "      <td>NaN</td>\n",
       "      <td>NaN</td>\n",
       "      <td>0.250207</td>\n",
       "      <td>210</td>\n",
       "      <td>3.0</td>\n",
       "      <td>im104_r</td>\n",
       "      <td>False</td>\n",
       "      <td>False</td>\n",
       "      <td>NaN</td>\n",
       "      <td>...</td>\n",
       "      <td>NaN</td>\n",
       "      <td>False</td>\n",
       "      <td>NaN</td>\n",
       "      <td>195</td>\n",
       "      <td>27.506307</td>\n",
       "      <td>0</td>\n",
       "      <td>NaN</td>\n",
       "      <td>Natural_Images_Lum_Matched_set_ophys_H_2019</td>\n",
       "      <td>27.756515</td>\n",
       "      <td>NaN</td>\n",
       "    </tr>\n",
       "    <tr>\n",
       "      <th>4</th>\n",
       "      <td>True</td>\n",
       "      <td>NaN</td>\n",
       "      <td>NaN</td>\n",
       "      <td>0.250213</td>\n",
       "      <td>255</td>\n",
       "      <td>4.0</td>\n",
       "      <td>im104_r</td>\n",
       "      <td>False</td>\n",
       "      <td>False</td>\n",
       "      <td>NaN</td>\n",
       "      <td>...</td>\n",
       "      <td>NaN</td>\n",
       "      <td>False</td>\n",
       "      <td>NaN</td>\n",
       "      <td>240</td>\n",
       "      <td>28.256929</td>\n",
       "      <td>0</td>\n",
       "      <td>NaN</td>\n",
       "      <td>Natural_Images_Lum_Matched_set_ophys_H_2019</td>\n",
       "      <td>28.507142</td>\n",
       "      <td>NaN</td>\n",
       "    </tr>\n",
       "  </tbody>\n",
       "</table>\n",
       "<p>5 rows × 21 columns</p>\n",
       "</div>"
      ],
      "text/plain": [
       "                           active  color  contrast  duration  end_frame  \\\n",
       "stimulus_presentations_id                                                 \n",
       "0                            True    NaN       NaN  0.250212         75   \n",
       "1                            True    NaN       NaN  0.250212        120   \n",
       "2                            True    NaN       NaN  0.250208        165   \n",
       "3                            True    NaN       NaN  0.250207        210   \n",
       "4                            True    NaN       NaN  0.250213        255   \n",
       "\n",
       "                           flashes_since_change image_name is_change omitted  \\\n",
       "stimulus_presentations_id                                                      \n",
       "0                                           0.0    im104_r     False   False   \n",
       "1                                           1.0    im104_r     False   False   \n",
       "2                                           2.0    im104_r     False   False   \n",
       "3                                           3.0    im104_r     False   False   \n",
       "4                                           4.0    im104_r     False   False   \n",
       "\n",
       "                           orientation  ...  position_y  rewarded  \\\n",
       "stimulus_presentations_id               ...                         \n",
       "0                                  NaN  ...         NaN     False   \n",
       "1                                  NaN  ...         NaN     False   \n",
       "2                                  NaN  ...         NaN     False   \n",
       "3                                  NaN  ...         NaN     False   \n",
       "4                                  NaN  ...         NaN     False   \n",
       "\n",
       "                          spatial_frequency  start_frame  start_time  \\\n",
       "stimulus_presentations_id                                              \n",
       "0                                       NaN           60   25.254420   \n",
       "1                                       NaN          105   26.005057   \n",
       "2                                       NaN          150   26.755685   \n",
       "3                                       NaN          195   27.506307   \n",
       "4                                       NaN          240   28.256929   \n",
       "\n",
       "                           stimulus_block  stimulus_index  \\\n",
       "stimulus_presentations_id                                   \n",
       "0                                       0             NaN   \n",
       "1                                       0             NaN   \n",
       "2                                       0             NaN   \n",
       "3                                       0             NaN   \n",
       "4                                       0             NaN   \n",
       "\n",
       "                                                         stimulus_name  \\\n",
       "stimulus_presentations_id                                                \n",
       "0                          Natural_Images_Lum_Matched_set_ophys_H_2019   \n",
       "1                          Natural_Images_Lum_Matched_set_ophys_H_2019   \n",
       "2                          Natural_Images_Lum_Matched_set_ophys_H_2019   \n",
       "3                          Natural_Images_Lum_Matched_set_ophys_H_2019   \n",
       "4                          Natural_Images_Lum_Matched_set_ophys_H_2019   \n",
       "\n",
       "                           stop_time  temporal_frequency  \n",
       "stimulus_presentations_id                                 \n",
       "0                          25.504632                 NaN  \n",
       "1                          26.255269                 NaN  \n",
       "2                          27.005892                 NaN  \n",
       "3                          27.756515                 NaN  \n",
       "4                          28.507142                 NaN  \n",
       "\n",
       "[5 rows x 21 columns]"
      ]
     },
     "execution_count": 26,
     "metadata": {},
     "output_type": "execute_result"
    }
   ],
   "source": [
    "stimulus_presentations = session.stimulus_presentations\n",
    "stimulus_presentations.head()"
   ]
  },
  {
   "cell_type": "markdown",
   "metadata": {},
   "source": [
    "<div style=\"border-left: 3px solid #000; padding: 1px; padding-left: 10px; background: #F0FAFF; \">\n",
    "\n",
    "This table is a record of every stimulus we presented to the mouse over the course of this experiment. The different stimuli are indexed by the `stimulus_block` column. Let's group this dataframe by stimulus block and see what stimulus was shown for each block."
   ]
  },
  {
   "cell_type": "markdown",
   "metadata": {},
   "source": [
    "<div style=\"background: #DFF0D8; border-radius: 3px; padding: 10px;\">\n",
    "    <p><b>Task 2.1:</b>  Use the <code>groupby</code> method to group the stimulus_presentations table by <code>stimulus_block</code>\n",
    "</div>"
   ]
  },
  {
   "cell_type": "code",
   "execution_count": null,
   "metadata": {},
   "outputs": [],
   "source": []
  },
  {
   "cell_type": "markdown",
   "metadata": {},
   "source": [
    "<div style=\"background: #DFF0D8; border-radius: 3px; padding: 10px;\">\n",
    "    <p><b>Task 2.2:</b>  Now show the first row for each block (Hint, you can use <code>.head(1)</code> to get the first row)\n",
    "</div>"
   ]
  },
  {
   "cell_type": "code",
   "execution_count": null,
   "metadata": {},
   "outputs": [],
   "source": []
  },
  {
   "cell_type": "markdown",
   "metadata": {},
   "source": [
    "<div style=\"border-left: 3px solid #000; padding: 1px; padding-left: 10px; background: #F0FAFF; \">\n",
    "\n",
    "This shows us the structure of this experiment (and every experiment in this dataset). There are 5 stimulus blocks as follows:\n",
    "\n",
    "**block 0**: Change detection task. Natural images are flashed repeatedly and the mouse is rewarded for licking when the identity of the image changes. You can find more info about this task [here](http://portal.brain-map.org/explore/circuits/visual-behavior-neuropixels?edit&language=en).\n",
    "\n",
    "**block 1**: Brief gray screen (10 seconds)\n",
    "\n",
    "**block 2**: Receptive field mapping using gabor stimuli. For more details on this stimulus consult [this notebook](https://allensdk.readthedocs.io/en/latest/_static/examples/nb/ecephys_receptive_fields.html).\n",
    "\n",
    "**block 3**: Longer gray screen (5 minutes)\n",
    "\n",
    "**block 4**: Full-field flashes, shown at 80% contrast. Flashes can be black (color = -1) or white (color = 1). This stimulus is useful for calculating response latencies and current source density analysis for layer identification.\n",
    "\n",
    "**block 5**: Passive replay. Frame-for-frame replay of the stimulus shown during the change detection task (block 0), but now with the lick spout retracted so the animal can no longer engage in the task.\n",
    "\n",
    "    \n",
    "For now, we will focus on block 0 and 5, the active behavior and the passive replay of the same images.\n",
    "\n",
    "Let's confirm that the active behavior block (0) and the passive replay block (5) match frame for frame:"
   ]
  },
  {
   "cell_type": "markdown",
   "metadata": {},
   "source": [
    "<div style=\"background: #DFF0D8; border-radius: 3px; padding: 10px;\">\n",
    "    <p><b>Task 2.2:</b>  How many unique images were shown during this session (Hint: use the <code>image_name</code> column)? \n",
    "</div>"
   ]
  },
  {
   "cell_type": "code",
   "execution_count": 492,
   "metadata": {},
   "outputs": [],
   "source": [
    "# get unique images\n"
   ]
  },
  {
   "cell_type": "markdown",
   "metadata": {},
   "source": [
    "<div style=\"background: #DFF0D8; border-radius: 3px; padding: 10px;\">\n",
    "    <p><b>Task 2.3:</b> How many image changes were there (Hint: use the <code>is_change</code> column)? What if you limit the count to the active behavior session?\n",
    "</div>"
   ]
  },
  {
   "cell_type": "code",
   "execution_count": 493,
   "metadata": {},
   "outputs": [],
   "source": [
    "#total image changes\n"
   ]
  },
  {
   "cell_type": "code",
   "execution_count": 494,
   "metadata": {},
   "outputs": [],
   "source": [
    "# image changes during active behavior\n"
   ]
  },
  {
   "cell_type": "markdown",
   "metadata": {},
   "source": [
    "<div style=\"border-left: 3px solid #000; padding: 1px; padding-left: 10px; background: #F0FAFF; \">\n",
    "\n",
    "### Exploring the Units and Channels Tables\n",
    "\n",
    "We'll use the units and channels tables to get info about each unit recorded during the session. These tables will help us filter the data for units in a particular brain region or for units that meet specific quality criteria. You can find a description of the columns in these dataframes in our cheat sheet [INSERT LINK]"
   ]
  },
  {
   "cell_type": "markdown",
   "metadata": {},
   "source": [
    "### Units table\n",
    "\n",
    "This table contains quality metrics and waveform metrics for every unit recorded during this session:"
   ]
  },
  {
   "cell_type": "code",
   "execution_count": 47,
   "metadata": {},
   "outputs": [
    {
     "data": {
      "text/html": [
       "<div>\n",
       "<style scoped>\n",
       "    .dataframe tbody tr th:only-of-type {\n",
       "        vertical-align: middle;\n",
       "    }\n",
       "\n",
       "    .dataframe tbody tr th {\n",
       "        vertical-align: top;\n",
       "    }\n",
       "\n",
       "    .dataframe thead th {\n",
       "        text-align: right;\n",
       "    }\n",
       "</style>\n",
       "<table border=\"1\" class=\"dataframe\">\n",
       "  <thead>\n",
       "    <tr style=\"text-align: right;\">\n",
       "      <th></th>\n",
       "      <th>PT_ratio</th>\n",
       "      <th>amplitude</th>\n",
       "      <th>amplitude_cutoff</th>\n",
       "      <th>cluster_id</th>\n",
       "      <th>cumulative_drift</th>\n",
       "      <th>d_prime</th>\n",
       "      <th>firing_rate</th>\n",
       "      <th>isi_violations</th>\n",
       "      <th>isolation_distance</th>\n",
       "      <th>l_ratio</th>\n",
       "      <th>...</th>\n",
       "      <th>presence_ratio</th>\n",
       "      <th>quality</th>\n",
       "      <th>recovery_slope</th>\n",
       "      <th>repolarization_slope</th>\n",
       "      <th>silhouette_score</th>\n",
       "      <th>snr</th>\n",
       "      <th>spread</th>\n",
       "      <th>velocity_above</th>\n",
       "      <th>velocity_below</th>\n",
       "      <th>waveform_duration</th>\n",
       "    </tr>\n",
       "    <tr>\n",
       "      <th>id</th>\n",
       "      <th></th>\n",
       "      <th></th>\n",
       "      <th></th>\n",
       "      <th></th>\n",
       "      <th></th>\n",
       "      <th></th>\n",
       "      <th></th>\n",
       "      <th></th>\n",
       "      <th></th>\n",
       "      <th></th>\n",
       "      <th></th>\n",
       "      <th></th>\n",
       "      <th></th>\n",
       "      <th></th>\n",
       "      <th></th>\n",
       "      <th></th>\n",
       "      <th></th>\n",
       "      <th></th>\n",
       "      <th></th>\n",
       "      <th></th>\n",
       "      <th></th>\n",
       "    </tr>\n",
       "  </thead>\n",
       "  <tbody>\n",
       "    <tr>\n",
       "      <th>1061853767</th>\n",
       "      <td>0.738222</td>\n",
       "      <td>632.394165</td>\n",
       "      <td>0.000008</td>\n",
       "      <td>23</td>\n",
       "      <td>79.63</td>\n",
       "      <td>10.843623</td>\n",
       "      <td>68.687706</td>\n",
       "      <td>0.000167</td>\n",
       "      <td>246.203332</td>\n",
       "      <td>3.104812e-08</td>\n",
       "      <td>...</td>\n",
       "      <td>0.99</td>\n",
       "      <td>good</td>\n",
       "      <td>-0.808696</td>\n",
       "      <td>2.795432</td>\n",
       "      <td>0.113092</td>\n",
       "      <td>4.519657</td>\n",
       "      <td>60.0</td>\n",
       "      <td>0.686767</td>\n",
       "      <td>0.137353</td>\n",
       "      <td>0.206030</td>\n",
       "    </tr>\n",
       "    <tr>\n",
       "      <th>1061853941</th>\n",
       "      <td>0.490965</td>\n",
       "      <td>207.990510</td>\n",
       "      <td>0.273518</td>\n",
       "      <td>196</td>\n",
       "      <td>347.89</td>\n",
       "      <td>3.966892</td>\n",
       "      <td>1.747814</td>\n",
       "      <td>0.374140</td>\n",
       "      <td>60.672055</td>\n",
       "      <td>3.726235e-03</td>\n",
       "      <td>...</td>\n",
       "      <td>0.99</td>\n",
       "      <td>good</td>\n",
       "      <td>-0.112609</td>\n",
       "      <td>0.618665</td>\n",
       "      <td>0.099188</td>\n",
       "      <td>2.541619</td>\n",
       "      <td>70.0</td>\n",
       "      <td>0.480737</td>\n",
       "      <td>0.206030</td>\n",
       "      <td>0.618090</td>\n",
       "    </tr>\n",
       "    <tr>\n",
       "      <th>1061853761</th>\n",
       "      <td>0.538560</td>\n",
       "      <td>284.645010</td>\n",
       "      <td>0.475406</td>\n",
       "      <td>17</td>\n",
       "      <td>188.14</td>\n",
       "      <td>4.841153</td>\n",
       "      <td>5.819598</td>\n",
       "      <td>0.010472</td>\n",
       "      <td>74.209946</td>\n",
       "      <td>8.290955e-04</td>\n",
       "      <td>...</td>\n",
       "      <td>0.99</td>\n",
       "      <td>good</td>\n",
       "      <td>-0.312478</td>\n",
       "      <td>1.265120</td>\n",
       "      <td>0.093662</td>\n",
       "      <td>2.558605</td>\n",
       "      <td>60.0</td>\n",
       "      <td>0.343384</td>\n",
       "      <td>-1.098827</td>\n",
       "      <td>0.233501</td>\n",
       "    </tr>\n",
       "    <tr>\n",
       "      <th>1061853892</th>\n",
       "      <td>2.714716</td>\n",
       "      <td>180.353940</td>\n",
       "      <td>0.500000</td>\n",
       "      <td>147</td>\n",
       "      <td>1289.78</td>\n",
       "      <td>6.065760</td>\n",
       "      <td>2.396936</td>\n",
       "      <td>0.157757</td>\n",
       "      <td>88.232357</td>\n",
       "      <td>5.768766e-04</td>\n",
       "      <td>...</td>\n",
       "      <td>0.99</td>\n",
       "      <td>good</td>\n",
       "      <td>-0.066549</td>\n",
       "      <td>0.654593</td>\n",
       "      <td>0.051338</td>\n",
       "      <td>2.419777</td>\n",
       "      <td>40.0</td>\n",
       "      <td>-0.343384</td>\n",
       "      <td>-0.686767</td>\n",
       "      <td>0.425796</td>\n",
       "    </tr>\n",
       "    <tr>\n",
       "      <th>1061853891</th>\n",
       "      <td>1.105938</td>\n",
       "      <td>533.637585</td>\n",
       "      <td>0.000136</td>\n",
       "      <td>146</td>\n",
       "      <td>474.71</td>\n",
       "      <td>8.037788</td>\n",
       "      <td>2.563054</td>\n",
       "      <td>0.000000</td>\n",
       "      <td>147.532935</td>\n",
       "      <td>7.581718e-08</td>\n",
       "      <td>...</td>\n",
       "      <td>0.99</td>\n",
       "      <td>good</td>\n",
       "      <td>-1.241809</td>\n",
       "      <td>1.728842</td>\n",
       "      <td>0.159304</td>\n",
       "      <td>5.942894</td>\n",
       "      <td>50.0</td>\n",
       "      <td>-0.068677</td>\n",
       "      <td>0.686767</td>\n",
       "      <td>0.151089</td>\n",
       "    </tr>\n",
       "  </tbody>\n",
       "</table>\n",
       "<p>5 rows × 25 columns</p>\n",
       "</div>"
      ],
      "text/plain": [
       "            PT_ratio   amplitude  amplitude_cutoff  cluster_id  \\\n",
       "id                                                               \n",
       "1061853767  0.738222  632.394165          0.000008          23   \n",
       "1061853941  0.490965  207.990510          0.273518         196   \n",
       "1061853761  0.538560  284.645010          0.475406          17   \n",
       "1061853892  2.714716  180.353940          0.500000         147   \n",
       "1061853891  1.105938  533.637585          0.000136         146   \n",
       "\n",
       "            cumulative_drift    d_prime  firing_rate  isi_violations  \\\n",
       "id                                                                     \n",
       "1061853767             79.63  10.843623    68.687706        0.000167   \n",
       "1061853941            347.89   3.966892     1.747814        0.374140   \n",
       "1061853761            188.14   4.841153     5.819598        0.010472   \n",
       "1061853892           1289.78   6.065760     2.396936        0.157757   \n",
       "1061853891            474.71   8.037788     2.563054        0.000000   \n",
       "\n",
       "            isolation_distance       l_ratio  ...  presence_ratio  quality  \\\n",
       "id                                            ...                            \n",
       "1061853767          246.203332  3.104812e-08  ...            0.99     good   \n",
       "1061853941           60.672055  3.726235e-03  ...            0.99     good   \n",
       "1061853761           74.209946  8.290955e-04  ...            0.99     good   \n",
       "1061853892           88.232357  5.768766e-04  ...            0.99     good   \n",
       "1061853891          147.532935  7.581718e-08  ...            0.99     good   \n",
       "\n",
       "            recovery_slope  repolarization_slope  silhouette_score       snr  \\\n",
       "id                                                                             \n",
       "1061853767       -0.808696              2.795432          0.113092  4.519657   \n",
       "1061853941       -0.112609              0.618665          0.099188  2.541619   \n",
       "1061853761       -0.312478              1.265120          0.093662  2.558605   \n",
       "1061853892       -0.066549              0.654593          0.051338  2.419777   \n",
       "1061853891       -1.241809              1.728842          0.159304  5.942894   \n",
       "\n",
       "           spread  velocity_above  velocity_below  waveform_duration  \n",
       "id                                                                    \n",
       "1061853767   60.0        0.686767        0.137353           0.206030  \n",
       "1061853941   70.0        0.480737        0.206030           0.618090  \n",
       "1061853761   60.0        0.343384       -1.098827           0.233501  \n",
       "1061853892   40.0       -0.343384       -0.686767           0.425796  \n",
       "1061853891   50.0       -0.068677        0.686767           0.151089  \n",
       "\n",
       "[5 rows x 25 columns]"
      ]
     },
     "execution_count": 47,
     "metadata": {},
     "output_type": "execute_result"
    }
   ],
   "source": [
    "units = session.get_units()\n",
    "units.head()"
   ]
  },
  {
   "cell_type": "markdown",
   "metadata": {},
   "source": [
    "<div style=\"border-left: 3px solid #000; padding: 1px; padding-left: 10px; background: #F0FAFF; \">\n",
    "\n",
    "For more information about many of the metrics included in this table and how to use them to guide your analysis, see our [quality metrics tutorial](https://allensdk--2471.org.readthedocs.build/en/2471/_static/examples/nb/visual_behavior_neuropixels_quality_metrics.html). For now, here's a brief description of each column:\n",
    "\n",
    "\n",
    "**Waveform metrics**: Look [here](https://github.com/AllenInstitute/ecephys_spike_sorting/tree/master/ecephys_spike_sorting/modules/mean_waveforms) for more detail on these metrics and the code that computes them. For the below descriptions the '1D waveform' is defined as the waveform on the peak channel. The '2D waveform' is the waveform across channels centered on the peak channel.\n",
    "\n",
    "`amplitude`:                            Peak to trough amplitude for mean 1D waveform in microvolts   \n",
    "`waveform_duration`:                    Time from trough to peak for 1D waveform in milliseconds     \n",
    "`waveform_halfwidth`:                   Width of 1D waveform at half-amplitude in milliseconds  \n",
    "`PT_ratio`:                             Ratio of the max (peak) to the min (trough) amplitudes for 1D waveform  \n",
    "`recovery_slope`:                       Slope of recovery of 1D waveform to baseline after repolarization (coming down from peak)  \n",
    "`repolarization_slope`:                 Slope of repolarization of 1D waveform to baseline after trough  \n",
    "`spread`:                               Distance in microns along the shank of probe for which the spike amplitude was above 12% of the peak channel amplitude  \n",
    "`velocity_above`:                       Slope of spike propagation velocity traveling in dorsal direction from soma (note to avoid infinite values, this is actaully the inverse of velocity: ms/mm)  \n",
    "`velocity_below`:                       Slope of spike propagation velocity traveling in ventral direction from soma (note to avoid infinite values, this is actually the inverse of velocity: ms/mm)  \n",
    "`snr`:                                  signal-to-noise ratio for 1D waveform        \n",
    "\n",
    "\n",
    "**Quality metrics**: Look [here](https://github.com/AllenInstitute/ecephys_spike_sorting/tree/7e567a6fc3fd2fc0eedef750b83b8b8a0d469544/ecephys_spike_sorting/modules/quality_metrics) for more detail on these metrics and the code that computes them.\n",
    "\n",
    "`amplitude_cutoff`:                     estimate of miss rate based on amplitude histogram (ie fraction of spikes estimated to have been below detection threshold)  \n",
    "`cumulative_drift`:                     cumulative change in spike depth along probe throughout the recording  \n",
    "`d_prime`:                              classification accuracy based on LDA  \n",
    "`firing_rate`:                          Mean firing rate over entire recording  \n",
    "`isi_violations`:                       Ratio of refractory violation rate to total spike rate  \n",
    "`isolation_distance`:                   Distance to nearest cluster in Mahalanobis space   \n",
    "`l_ratio`:                              The Mahalanobis distance and chi-squared inverse cdf are used to find the probability of cluster membership for each spike.  \n",
    "`max_drift`:                            Maximum change in unit depth across recording  \n",
    "`nn_hit_rate`:                          Fraction of nearest neighbors in PCA space for spikes in unit cluster that are also in unit cluster  \n",
    "`nn_miss_rate`:                         Fraction of nearest neighbors for spikes outside unit cluster than are in unit cluster  \n",
    "`presence_ratio`:                       Fraction of time during session for which a unit was spiking  \n",
    "`silhouette_score`:                     Standard metric for cluster overlap, computed in PCA space    \n",
    "`quality`:                              Label assigned based on waveform shape as described [here](https://github.com/AllenInstitute/ecephys_spike_sorting/tree/7e567a6fc3fd2fc0eedef750b83b8b8a0d469544/ecephys_spike_sorting/modules/noise_templates). Either 'good' for physiological waveforms or 'noise' for artifactual waveforms.\n",
    "\n"
   ]
  },
  {
   "cell_type": "markdown",
   "metadata": {},
   "source": [
    "<div style=\"background: #DFF0D8; border-radius: 3px; padding: 10px;\">\n",
    "    <p><b>Task 3.1:</b> Plot a histogram of <code>waveform_duration</code> across all units. What happens when you restrict the data to only units with <code>quality == 'good'</code>?\n",
    "</div>"
   ]
  },
  {
   "cell_type": "code",
   "execution_count": 495,
   "metadata": {},
   "outputs": [],
   "source": [
    "#Histogram across all units\n"
   ]
  },
  {
   "cell_type": "code",
   "execution_count": 496,
   "metadata": {},
   "outputs": [],
   "source": [
    "#Only 'good' units\n"
   ]
  },
  {
   "cell_type": "markdown",
   "metadata": {},
   "source": [
    "### Channels Table\n",
    "This table contains info about where each channel was in the brain as well as it's relative position along the probe."
   ]
  },
  {
   "cell_type": "code",
   "execution_count": 49,
   "metadata": {},
   "outputs": [
    {
     "data": {
      "text/html": [
       "<div>\n",
       "<style scoped>\n",
       "    .dataframe tbody tr th:only-of-type {\n",
       "        vertical-align: middle;\n",
       "    }\n",
       "\n",
       "    .dataframe tbody tr th {\n",
       "        vertical-align: top;\n",
       "    }\n",
       "\n",
       "    .dataframe thead th {\n",
       "        text-align: right;\n",
       "    }\n",
       "</style>\n",
       "<table border=\"1\" class=\"dataframe\">\n",
       "  <thead>\n",
       "    <tr style=\"text-align: right;\">\n",
       "      <th></th>\n",
       "      <th>anterior_posterior_ccf_coordinate</th>\n",
       "      <th>dorsal_ventral_ccf_coordinate</th>\n",
       "      <th>filtering</th>\n",
       "      <th>left_right_ccf_coordinate</th>\n",
       "      <th>probe_channel_number</th>\n",
       "      <th>probe_horizontal_position</th>\n",
       "      <th>probe_id</th>\n",
       "      <th>probe_vertical_position</th>\n",
       "      <th>structure_acronym</th>\n",
       "    </tr>\n",
       "    <tr>\n",
       "      <th>id</th>\n",
       "      <th></th>\n",
       "      <th></th>\n",
       "      <th></th>\n",
       "      <th></th>\n",
       "      <th></th>\n",
       "      <th></th>\n",
       "      <th></th>\n",
       "      <th></th>\n",
       "      <th></th>\n",
       "    </tr>\n",
       "  </thead>\n",
       "  <tbody>\n",
       "    <tr>\n",
       "      <th>1061851368</th>\n",
       "      <td>8315.0</td>\n",
       "      <td>4024.0</td>\n",
       "      <td>AP band: 500 Hz high-pass; LFP band: 1000 Hz l...</td>\n",
       "      <td>6882.0</td>\n",
       "      <td>0</td>\n",
       "      <td>43</td>\n",
       "      <td>1054059289</td>\n",
       "      <td>20</td>\n",
       "      <td>APN</td>\n",
       "    </tr>\n",
       "    <tr>\n",
       "      <th>1061851369</th>\n",
       "      <td>8313.0</td>\n",
       "      <td>4014.0</td>\n",
       "      <td>AP band: 500 Hz high-pass; LFP band: 1000 Hz l...</td>\n",
       "      <td>6886.0</td>\n",
       "      <td>1</td>\n",
       "      <td>11</td>\n",
       "      <td>1054059289</td>\n",
       "      <td>20</td>\n",
       "      <td>APN</td>\n",
       "    </tr>\n",
       "    <tr>\n",
       "      <th>1061851370</th>\n",
       "      <td>8311.0</td>\n",
       "      <td>4004.0</td>\n",
       "      <td>AP band: 500 Hz high-pass; LFP band: 1000 Hz l...</td>\n",
       "      <td>6889.0</td>\n",
       "      <td>2</td>\n",
       "      <td>59</td>\n",
       "      <td>1054059289</td>\n",
       "      <td>40</td>\n",
       "      <td>APN</td>\n",
       "    </tr>\n",
       "  </tbody>\n",
       "</table>\n",
       "</div>"
      ],
      "text/plain": [
       "            anterior_posterior_ccf_coordinate  dorsal_ventral_ccf_coordinate  \\\n",
       "id                                                                             \n",
       "1061851368                             8315.0                         4024.0   \n",
       "1061851369                             8313.0                         4014.0   \n",
       "1061851370                             8311.0                         4004.0   \n",
       "\n",
       "                                                    filtering  \\\n",
       "id                                                              \n",
       "1061851368  AP band: 500 Hz high-pass; LFP band: 1000 Hz l...   \n",
       "1061851369  AP band: 500 Hz high-pass; LFP band: 1000 Hz l...   \n",
       "1061851370  AP band: 500 Hz high-pass; LFP band: 1000 Hz l...   \n",
       "\n",
       "            left_right_ccf_coordinate  probe_channel_number  \\\n",
       "id                                                            \n",
       "1061851368                     6882.0                     0   \n",
       "1061851369                     6886.0                     1   \n",
       "1061851370                     6889.0                     2   \n",
       "\n",
       "            probe_horizontal_position    probe_id  probe_vertical_position  \\\n",
       "id                                                                           \n",
       "1061851368                         43  1054059289                       20   \n",
       "1061851369                         11  1054059289                       20   \n",
       "1061851370                         59  1054059289                       40   \n",
       "\n",
       "           structure_acronym  \n",
       "id                            \n",
       "1061851368               APN  \n",
       "1061851369               APN  \n",
       "1061851370               APN  "
      ]
     },
     "execution_count": 49,
     "metadata": {},
     "output_type": "execute_result"
    }
   ],
   "source": [
    "channels = session.get_channels()\n",
    "channels.head(3)"
   ]
  },
  {
   "cell_type": "markdown",
   "metadata": {},
   "source": [
    "<div style=\"border-left: 3px solid #000; padding: 1px; padding-left: 10px; background: #F0FAFF; \">\n",
    "\n",
    "**General Metadata**  \n",
    "\n",
    "`anterior_posterior_ccf_coordinate`:    CCF coord in the AP axis  \n",
    "`dorsal_ventral_ccf_coordinate`:        CCF coord in the DV axis  \n",
    "`left_right_ccf_coordinate`:            CCF coord in the left/right axis  \n",
    "`structure_acronym`:                    CCF acronym for area to which unit was assigned  \n",
    "`structure_id`:                         CCF structure ID for the area to which unit was assigned  \n",
    "`probe_horizontal_position`:            Horizontal (perpindicular to shank) probe position of each unit's peak channel in microns  \n",
    "`probe_vertical_position`:              Vertical (along shank) probe position of each unit's peak channel in microns"
   ]
  },
  {
   "cell_type": "markdown",
   "metadata": {},
   "source": [
    "<div style=\"border-left: 3px solid #000; padding: 1px; padding-left: 10px; background: #F0FAFF; \">\n",
    "\n",
    "Because we will want to use info from both the units table and the channels table to filter our units, we can merge them into one table with all of the relevant columns. This merged table will include quality metrics and CCF locations for every unit. For example, we can use it to see which brain regions were recorded during this session:"
   ]
  },
  {
   "cell_type": "code",
   "execution_count": 50,
   "metadata": {},
   "outputs": [],
   "source": [
    "units = units.merge(channels, left_on='peak_channel_id', right_index=True)"
   ]
  },
  {
   "cell_type": "markdown",
   "metadata": {},
   "source": [
    "<div style=\"background: #DFF0D8; border-radius: 3px; padding: 10px;\">\n",
    "    <p><b>Task 3.3:</b> Use the merged units/channels table to show how many units were recorded in each brain area for this session. (use the <code>structure_acronym</code> column)\n",
    "</div>"
   ]
  },
  {
   "cell_type": "code",
   "execution_count": null,
   "metadata": {},
   "outputs": [],
   "source": []
  },
  {
   "cell_type": "markdown",
   "metadata": {},
   "source": [
    "<div style=\"border-left: 3px solid #000; padding: 1px; padding-left: 10px; background: #F0FAFF; \">\n",
    "\n",
    "### Getting Spike Times\n",
    "    \n",
    "The spike times for every unit are stored in a dictionary called <code>spike_times</code>. The keys for this dictionary are the unit_ids (the index values for the units table)."
   ]
  },
  {
   "cell_type": "code",
   "execution_count": 51,
   "metadata": {},
   "outputs": [],
   "source": [
    "spike_times = session.spike_times"
   ]
  },
  {
   "cell_type": "markdown",
   "metadata": {},
   "source": [
    "<div style=\"background: #DFF0D8; border-radius: 3px; padding: 10px;\">\n",
    "    <p><b>Task 3.4:</b> Plot a raster of the spike times for the 11th unit over the first minute of the recording. Where is this unit located? Put the unit id and the brain region in the plot title.\n",
    "</div>"
   ]
  },
  {
   "cell_type": "code",
   "execution_count": 68,
   "metadata": {},
   "outputs": [],
   "source": [
    "#Get unit id\n",
    "\n",
    "\n",
    "#And the brain region\n"
   ]
  },
  {
   "cell_type": "code",
   "execution_count": 69,
   "metadata": {},
   "outputs": [],
   "source": [
    "#Get spike times for this unit\n"
   ]
  },
  {
   "cell_type": "code",
   "execution_count": 497,
   "metadata": {},
   "outputs": [],
   "source": [
    "#Plot the raster for the first 60 seconds (Hint: you can use matplotlib's \"eventplot\" to efficiently plot spike rasters)\n"
   ]
  },
  {
   "cell_type": "markdown",
   "metadata": {},
   "source": [
    "<div style=\"border-left: 3px solid #000; padding: 1px; padding-left: 10px; background: #F0FAFF; \">\n",
    "\n",
    "### Getting Spike Waveforms\n",
    "    \n",
    "The waveform of for each unit across all recording channels is stored in the <code>session</code> object as a dictionary called <code>mean_waveforms</code>. The keys to this dictionary are the unit ids. Let's grab the waveform for this unit and plot it."
   ]
  },
  {
   "cell_type": "code",
   "execution_count": 240,
   "metadata": {},
   "outputs": [],
   "source": [
    "waveforms = session.mean_waveforms"
   ]
  },
  {
   "cell_type": "markdown",
   "metadata": {},
   "source": [
    "<div style=\"background: #DFF0D8; border-radius: 3px; padding: 10px;\">\n",
    "    <p><b>Task 3.5:</b> Grab the waveform for the 11th unit. What shape is the array?\n",
    "</div>"
   ]
  },
  {
   "cell_type": "code",
   "execution_count": null,
   "metadata": {},
   "outputs": [],
   "source": []
  },
  {
   "cell_type": "markdown",
   "metadata": {},
   "source": [
    "<div style=\"background: #DFF0D8; border-radius: 3px; padding: 10px;\">\n",
    "    <p><b>Task 3.6:</b> Plot the 2D waveform as an image (Hint: use <code>imshow</code>. Does where it appears on the probe make sense given the brain region?\n",
    "</div>"
   ]
  },
  {
   "cell_type": "code",
   "execution_count": null,
   "metadata": {},
   "outputs": [],
   "source": []
  },
  {
   "cell_type": "markdown",
   "metadata": {},
   "source": [
    "<div style=\"background: #DFF0D8; border-radius: 3px; padding: 10px;\">\n",
    "    <p><b>Task 3.7:</b> Now plot the 1D waveform on the peak channel for this unit. Convert the x-axis units from samples to time (remember the sampling rate was 30 kHz). Compare what you see in this plot to the waveform metrics in the units table for this unit.\n",
    "</div>"
   ]
  },
  {
   "cell_type": "code",
   "execution_count": 498,
   "metadata": {},
   "outputs": [],
   "source": [
    "#get peak channel for this unit from the units table\n"
   ]
  },
  {
   "cell_type": "code",
   "execution_count": 499,
   "metadata": {},
   "outputs": [],
   "source": [
    "#now get the waveform on this channel\n",
    "\n",
    "\n",
    "#make a time vector for your x axis\n",
    "\n",
    "\n",
    "#now plot the waveform\n",
    "\n"
   ]
  },
  {
   "cell_type": "code",
   "execution_count": 256,
   "metadata": {},
   "outputs": [
    {
     "name": "stdout",
     "output_type": "stream",
     "text": [
      "PT_ratio                                                                       0.69187\n",
      "amplitude                                                                    254.60409\n",
      "amplitude_cutoff                                                              0.442348\n",
      "cluster_id                                                                          65\n",
      "cumulative_drift                                                                144.94\n",
      "d_prime                                                                       5.362285\n",
      "firing_rate                                                                  10.310568\n",
      "isi_violations                                                                0.056345\n",
      "isolation_distance                                                           95.823673\n",
      "l_ratio                                                                       0.000102\n",
      "local_index                                                                         64\n",
      "max_drift                                                                        28.48\n",
      "nn_hit_rate                                                                      0.998\n",
      "nn_miss_rate                                                                  0.000609\n",
      "peak_channel_id                                                             1061851451\n",
      "presence_ratio                                                                    0.99\n",
      "quality                                                                           good\n",
      "recovery_slope                                                               -0.353242\n",
      "repolarization_slope                                                          0.992705\n",
      "silhouette_score                                                               0.06997\n",
      "snr                                                                            2.44479\n",
      "spread                                                                            70.0\n",
      "velocity_above                                                                     0.0\n",
      "velocity_below                                                                0.274707\n",
      "waveform_duration                                                             0.178559\n",
      "anterior_posterior_ccf_coordinate                                               8152.0\n",
      "dorsal_ventral_ccf_coordinate                                                   3158.0\n",
      "filtering                            AP band: 500 Hz high-pass; LFP band: 1000 Hz l...\n",
      "left_right_ccf_coordinate                                                       7163.0\n",
      "probe_channel_number                                                                81\n",
      "probe_horizontal_position                                                           11\n",
      "probe_id                                                                    1054059289\n",
      "probe_vertical_position                                                            820\n",
      "structure_acronym                                                                  APN\n",
      "Name: 1061853810, dtype: object\n"
     ]
    }
   ],
   "source": [
    "print(units.loc[unit_id])"
   ]
  },
  {
   "cell_type": "markdown",
   "metadata": {},
   "source": [
    "<div style=\"border-left: 3px solid #000; padding: 1px; padding-left: 10px; background: #F0FAFF; \">\n",
    "\n",
    "## Understanding the Trials Table\n",
    "       \n",
    "Let's briefly review the timing of the change detection task (`stimulus_block` 0 or the `active` portion of the stimulus table). Remember the mouse is rewarded for licking to changes in the identity of a flashing natural image. \n",
    "\n",
    "* Each flash is 250 ms long with 500 ms of gray screen between images (ie, 750 ms from the start of flash *n* to the start of flash *n+1*). \n",
    "\n",
    "* Mice are rewarded for licking within a reward window defined as 150-750 ms after an image change. \n",
    "\n",
    "* Licks before the change abort the trial, and a new trial begins\n",
    "\n",
    "* 5% of flashes can be omitted with the exception of 1) the flash immediately following an omission and 2) the flash immediately preceding a change which can't be omitted."
   ]
  },
  {
   "cell_type": "markdown",
   "metadata": {},
   "source": [
    "<img src=\"https://brainmapportal-live-4cc80a57cd6e400d854-f7fdcae.divio-media.net/filer_public/e7/de/e7de5da4-a19f-4ef6-9bc3-3a5b088048ac/task_diagram.png\"/>"
   ]
  },
  {
   "cell_type": "markdown",
   "metadata": {},
   "source": [
    "<div style=\"border-left: 3px solid #000; padding: 1px; padding-left: 10px; background: #F0FAFF; \">\n",
    "\n",
    "There are 5 possible ways each trial can be classified. Having a solid understanding of what these mean is vital to interpreting this data, so make sure you understand the diagram below and please ask questions if you're uncertain about anything:"
   ]
  },
  {
   "cell_type": "markdown",
   "metadata": {},
   "source": [
    "<img src=\"https://brainmapportal-live-4cc80a57cd6e400d854-f7fdcae.divio-media.net/filer_public/30/91/30919450-3121-4629-bf25-d2ab9e4f8b0d/doc_trial_classification_diagram.png\"/>"
   ]
  },
  {
   "cell_type": "markdown",
   "metadata": {},
   "source": [
    "<div style=\"border-left: 3px solid #000; padding: 1px; padding-left: 10px; background: #F0FAFF; \">\n",
    "\n",
    "Now let's explore the behavior trials table. This table contains lots of useful information about every trial in the change detection task."
   ]
  },
  {
   "cell_type": "code",
   "execution_count": 73,
   "metadata": {
    "scrolled": true
   },
   "outputs": [
    {
     "data": {
      "text/html": [
       "<div>\n",
       "<style scoped>\n",
       "    .dataframe tbody tr th:only-of-type {\n",
       "        vertical-align: middle;\n",
       "    }\n",
       "\n",
       "    .dataframe tbody tr th {\n",
       "        vertical-align: top;\n",
       "    }\n",
       "\n",
       "    .dataframe thead th {\n",
       "        text-align: right;\n",
       "    }\n",
       "</style>\n",
       "<table border=\"1\" class=\"dataframe\">\n",
       "  <thead>\n",
       "    <tr style=\"text-align: right;\">\n",
       "      <th></th>\n",
       "      <th>start_time</th>\n",
       "      <th>stop_time</th>\n",
       "      <th>initial_image_name</th>\n",
       "      <th>change_image_name</th>\n",
       "      <th>stimulus_change</th>\n",
       "      <th>change_time_no_display_delay</th>\n",
       "      <th>go</th>\n",
       "      <th>catch</th>\n",
       "      <th>lick_times</th>\n",
       "      <th>response_time</th>\n",
       "      <th>reward_time</th>\n",
       "      <th>reward_volume</th>\n",
       "      <th>hit</th>\n",
       "      <th>false_alarm</th>\n",
       "      <th>miss</th>\n",
       "      <th>correct_reject</th>\n",
       "      <th>aborted</th>\n",
       "      <th>auto_rewarded</th>\n",
       "      <th>change_frame</th>\n",
       "      <th>trial_length</th>\n",
       "    </tr>\n",
       "    <tr>\n",
       "      <th>trials_id</th>\n",
       "      <th></th>\n",
       "      <th></th>\n",
       "      <th></th>\n",
       "      <th></th>\n",
       "      <th></th>\n",
       "      <th></th>\n",
       "      <th></th>\n",
       "      <th></th>\n",
       "      <th></th>\n",
       "      <th></th>\n",
       "      <th></th>\n",
       "      <th></th>\n",
       "      <th></th>\n",
       "      <th></th>\n",
       "      <th></th>\n",
       "      <th></th>\n",
       "      <th></th>\n",
       "      <th></th>\n",
       "      <th></th>\n",
       "      <th></th>\n",
       "    </tr>\n",
       "  </thead>\n",
       "  <tbody>\n",
       "    <tr>\n",
       "      <th>0</th>\n",
       "      <td>25.20983</td>\n",
       "      <td>26.19343</td>\n",
       "      <td>im104_r</td>\n",
       "      <td>im104_r</td>\n",
       "      <td>False</td>\n",
       "      <td>NaN</td>\n",
       "      <td>False</td>\n",
       "      <td>False</td>\n",
       "      <td>[25.72637, 25.87602]</td>\n",
       "      <td>NaN</td>\n",
       "      <td>NaN</td>\n",
       "      <td>0.0</td>\n",
       "      <td>False</td>\n",
       "      <td>False</td>\n",
       "      <td>False</td>\n",
       "      <td>False</td>\n",
       "      <td>True</td>\n",
       "      <td>False</td>\n",
       "      <td>NaN</td>\n",
       "      <td>0.98360</td>\n",
       "    </tr>\n",
       "    <tr>\n",
       "      <th>1</th>\n",
       "      <td>26.71046</td>\n",
       "      <td>28.34528</td>\n",
       "      <td>im104_r</td>\n",
       "      <td>im104_r</td>\n",
       "      <td>False</td>\n",
       "      <td>NaN</td>\n",
       "      <td>False</td>\n",
       "      <td>False</td>\n",
       "      <td>[28.02817]</td>\n",
       "      <td>NaN</td>\n",
       "      <td>NaN</td>\n",
       "      <td>0.0</td>\n",
       "      <td>False</td>\n",
       "      <td>False</td>\n",
       "      <td>False</td>\n",
       "      <td>False</td>\n",
       "      <td>True</td>\n",
       "      <td>False</td>\n",
       "      <td>NaN</td>\n",
       "      <td>1.63482</td>\n",
       "    </tr>\n",
       "    <tr>\n",
       "      <th>2</th>\n",
       "      <td>28.96234</td>\n",
       "      <td>32.73245</td>\n",
       "      <td>im104_r</td>\n",
       "      <td>im104_r</td>\n",
       "      <td>False</td>\n",
       "      <td>NaN</td>\n",
       "      <td>False</td>\n",
       "      <td>False</td>\n",
       "      <td>[32.39844]</td>\n",
       "      <td>NaN</td>\n",
       "      <td>NaN</td>\n",
       "      <td>0.0</td>\n",
       "      <td>False</td>\n",
       "      <td>False</td>\n",
       "      <td>False</td>\n",
       "      <td>False</td>\n",
       "      <td>True</td>\n",
       "      <td>False</td>\n",
       "      <td>NaN</td>\n",
       "      <td>3.77011</td>\n",
       "    </tr>\n",
       "    <tr>\n",
       "      <th>3</th>\n",
       "      <td>33.46618</td>\n",
       "      <td>35.85175</td>\n",
       "      <td>im104_r</td>\n",
       "      <td>im104_r</td>\n",
       "      <td>False</td>\n",
       "      <td>NaN</td>\n",
       "      <td>False</td>\n",
       "      <td>False</td>\n",
       "      <td>[35.53463]</td>\n",
       "      <td>NaN</td>\n",
       "      <td>NaN</td>\n",
       "      <td>0.0</td>\n",
       "      <td>False</td>\n",
       "      <td>False</td>\n",
       "      <td>False</td>\n",
       "      <td>False</td>\n",
       "      <td>True</td>\n",
       "      <td>False</td>\n",
       "      <td>NaN</td>\n",
       "      <td>2.38557</td>\n",
       "    </tr>\n",
       "    <tr>\n",
       "      <th>4</th>\n",
       "      <td>36.46863</td>\n",
       "      <td>39.62138</td>\n",
       "      <td>im104_r</td>\n",
       "      <td>im104_r</td>\n",
       "      <td>False</td>\n",
       "      <td>NaN</td>\n",
       "      <td>False</td>\n",
       "      <td>False</td>\n",
       "      <td>[39.15441, 39.28716]</td>\n",
       "      <td>NaN</td>\n",
       "      <td>NaN</td>\n",
       "      <td>0.0</td>\n",
       "      <td>False</td>\n",
       "      <td>False</td>\n",
       "      <td>False</td>\n",
       "      <td>False</td>\n",
       "      <td>True</td>\n",
       "      <td>False</td>\n",
       "      <td>NaN</td>\n",
       "      <td>3.15275</td>\n",
       "    </tr>\n",
       "  </tbody>\n",
       "</table>\n",
       "</div>"
      ],
      "text/plain": [
       "           start_time  stop_time initial_image_name change_image_name  \\\n",
       "trials_id                                                               \n",
       "0            25.20983   26.19343            im104_r           im104_r   \n",
       "1            26.71046   28.34528            im104_r           im104_r   \n",
       "2            28.96234   32.73245            im104_r           im104_r   \n",
       "3            33.46618   35.85175            im104_r           im104_r   \n",
       "4            36.46863   39.62138            im104_r           im104_r   \n",
       "\n",
       "           stimulus_change  change_time_no_display_delay     go  catch  \\\n",
       "trials_id                                                                \n",
       "0                    False                           NaN  False  False   \n",
       "1                    False                           NaN  False  False   \n",
       "2                    False                           NaN  False  False   \n",
       "3                    False                           NaN  False  False   \n",
       "4                    False                           NaN  False  False   \n",
       "\n",
       "                     lick_times  response_time  reward_time  reward_volume  \\\n",
       "trials_id                                                                    \n",
       "0          [25.72637, 25.87602]            NaN          NaN            0.0   \n",
       "1                    [28.02817]            NaN          NaN            0.0   \n",
       "2                    [32.39844]            NaN          NaN            0.0   \n",
       "3                    [35.53463]            NaN          NaN            0.0   \n",
       "4          [39.15441, 39.28716]            NaN          NaN            0.0   \n",
       "\n",
       "             hit  false_alarm   miss  correct_reject  aborted  auto_rewarded  \\\n",
       "trials_id                                                                      \n",
       "0          False        False  False           False     True          False   \n",
       "1          False        False  False           False     True          False   \n",
       "2          False        False  False           False     True          False   \n",
       "3          False        False  False           False     True          False   \n",
       "4          False        False  False           False     True          False   \n",
       "\n",
       "           change_frame  trial_length  \n",
       "trials_id                              \n",
       "0                   NaN       0.98360  \n",
       "1                   NaN       1.63482  \n",
       "2                   NaN       3.77011  \n",
       "3                   NaN       2.38557  \n",
       "4                   NaN       3.15275  "
      ]
     },
     "execution_count": 73,
     "metadata": {},
     "output_type": "execute_result"
    }
   ],
   "source": [
    "trials = session.trials\n",
    "trials.head()"
   ]
  },
  {
   "cell_type": "code",
   "execution_count": 74,
   "metadata": {},
   "outputs": [
    {
     "data": {
      "text/plain": [
       "Index(['start_time', 'stop_time', 'initial_image_name', 'change_image_name',\n",
       "       'stimulus_change', 'change_time_no_display_delay', 'go', 'catch',\n",
       "       'lick_times', 'response_time', 'reward_time', 'reward_volume', 'hit',\n",
       "       'false_alarm', 'miss', 'correct_reject', 'aborted', 'auto_rewarded',\n",
       "       'change_frame', 'trial_length'],\n",
       "      dtype='object')"
      ]
     },
     "execution_count": 74,
     "metadata": {},
     "output_type": "execute_result"
    }
   ],
   "source": [
    "trials.columns"
   ]
  },
  {
   "cell_type": "markdown",
   "metadata": {},
   "source": [
    "<div style=\"border-left: 3px solid #000; padding: 1px; padding-left: 10px; background: #F0FAFF; \">\n",
    "\n",
    "Unlike the stimulus presentations table in which every row corresponded to a visual stimulus presentation, for the behavior trials table every row corresponds to one trial of the change detection task. Here is a quick summary of the columns:\n",
    "\n",
    "`start_time`: Experiment time when this trial began in seconds.\n",
    "\n",
    "`stop_time`: Experiment time when this trial ended.\n",
    "\n",
    "`initial_image_name`: Indicates which image was shown before the change (or sham change) for this trial\n",
    "\n",
    "`change_image_name`: Indicates which image was scheduled to be the change image for this trial. Note that if the trial is aborted, a new trial will begin before this change occurs.\n",
    "\n",
    "`stimulus_change`: Indicates whether an image change occurred for this trial. \n",
    "\n",
    "`change_time_no_display_delay`: Experiment time when the task-control computer commanded an image change. This change time is used to determine the response window during which a lick will trigger a reward. Note that due to display lag, this is not the time when the change image actually appears on the screen. To get this time, you need the stimulus_presentations table (more about this below).\n",
    "\n",
    "`go`: Indicates whether this trial was a 'go' trial. To qualify as a go trial, an image change must occur and the trial cannot be autorewarded.\n",
    "\n",
    "`catch`: Indicates whether this trial was a 'catch' trial. To qualify as a catch trial, a 'sham' change must occur during which the image identity does not change. These sham changes are drawn to match the timing distribution of real changes and can be used to calculate the false alarm rate.\n",
    "\n",
    "`lick_times`: A list indicating when the behavioral control computer recognized a lick. Note that the control computer records events at the stimulus refresh rate (60 Hz). Therefore these times are not identical to the lick times from the licks dataframe, which record when the licks were registered by the lick sensor, which is sampled at a much higher rate (100 kHz). The licks dataframe should generally be used for analysis of the licking behavior rather than these times.\n",
    "\n",
    "`response_time`: Indicates the time when the first lick was registered by the task control software for trials that were not aborted (go or catch). NaN for aborted trials. For a more accurate measure of response time, the licks dataframe should be used.\n",
    "\n",
    "`reward_time`: Indicates when the reward command was triggered for hit trials. NaN for other trial types. \n",
    "\n",
    "`reward_volume`: Indicates the volume of water dispensed as reward for this trial. \n",
    "\n",
    "`hit`: Indicates whether this trial was a 'hit' trial. To qualify as a hit, the trial must be a go trial during which the stimulus changed and the mouse licked within the response window (150-750 ms after the change time).\n",
    "\n",
    "`false_alarm`: Indicates whether this trial was a 'false alarm' trial. To qualify as a false alarm, the trial must be a catch trial during which a sham change occurred and the mouse licked during the response window.\n",
    "\n",
    "`miss`: To qualify as a miss trial, the trial must be a go trial during which the stimulus changed but the mouse did not lick within the response window.\n",
    "\n",
    "`correct_reject`: To qualify as a correct reject trial, the trial must be a catch trial during which a sham change occurred and the mouse withheld licking.\n",
    "\n",
    "`aborted`: A trial is aborted when the mouse licks before the scheduled change or sham change. On these trials, the change (sham change) never occurs and, instead, a new trial begins.\n",
    "\n",
    "`auto_rewarded`: During autorewarded trials, the reward is automatically triggered after the change regardless of whether the mouse licked within the response window. These always come at the beginning of the session to help engage the mouse in behavior.\n",
    "\n",
    "`change_frame`: Indicates the stimulus frame index when the change (on go trials) or sham change (on catch trials) occurred. \n",
    "\n",
    "`trial_length`: Duration of the entire trial in seconds."
   ]
  },
  {
   "cell_type": "markdown",
   "metadata": {},
   "source": [
    "<div style=\"background: #DFF0D8; border-radius: 3px; padding: 10px;\">\n",
    "    <p><b>Task 4.1:</b> How many go trials were there during this session? How many were hits? Use these values to calculate the overall hit rate.\n",
    "</div>"
   ]
  },
  {
   "cell_type": "code",
   "execution_count": 500,
   "metadata": {},
   "outputs": [],
   "source": [
    "# Get number of go trials\n"
   ]
  },
  {
   "cell_type": "code",
   "execution_count": 501,
   "metadata": {},
   "outputs": [],
   "source": [
    "# Get number of hits\n"
   ]
  },
  {
   "cell_type": "code",
   "execution_count": 502,
   "metadata": {},
   "outputs": [],
   "source": [
    "# Get hit rate\n"
   ]
  },
  {
   "cell_type": "markdown",
   "metadata": {},
   "source": [
    "<div style=\"border-left: 3px solid #000; padding: 1px; padding-left: 10px; background: #F0FAFF; \">\n",
    "\n",
    "## Putting it all together to make a change-triggered PSTH for hit trials"
   ]
  },
  {
   "cell_type": "markdown",
   "metadata": {},
   "source": [
    "#### Understanding the Peri-stimulus-time histogram\n",
    "<img src=https://neuronaldynamics.epfl.ch/online/x187.png>\n",
    "\n",
    "K is the number of trials   \n",
    "&Delta;t is the time bin width  \n",
    "n<sub>k</sub>(t; t + &Delta;t) is the total count of spikes across trials in that time bin"
   ]
  },
  {
   "cell_type": "markdown",
   "metadata": {},
   "source": [
    "<div style=\"background: #DFF0D8; border-radius: 3px; padding: 10px;\">\n",
    "    <p><b>Task 4.2:</b> Find the time of the change stimulus for the first 20 hit trials.  \n",
    "        <p>1) Get the first 20 hit trials from the trials dataframe.\n",
    "        <p>2) What stimulus frame did the change for these trials occur on?\n",
    "        <p>3) Find the flashes in the stimulus_presentations table that started on these same frames (use the <code>start_frame</code> column).\n",
    "        <p>4) What time were those flashes displayed? These are the times we're looking for.\n",
    "</div>"
   ]
  },
  {
   "cell_type": "code",
   "execution_count": 503,
   "metadata": {},
   "outputs": [],
   "source": [
    "# grab the first 20 hit trials\n"
   ]
  },
  {
   "cell_type": "code",
   "execution_count": 504,
   "metadata": {},
   "outputs": [],
   "source": [
    "#Get the change frames for these trials\n"
   ]
  },
  {
   "cell_type": "code",
   "execution_count": 505,
   "metadata": {},
   "outputs": [],
   "source": [
    "#Find the flashes in the stimulus_presentations table that started on these frames\n"
   ]
  },
  {
   "cell_type": "code",
   "execution_count": 506,
   "metadata": {},
   "outputs": [],
   "source": [
    "#Get the display start times for these flashes\n"
   ]
  },
  {
   "cell_type": "markdown",
   "metadata": {},
   "source": [
    "<div style=\"background: #DFF0D8; border-radius: 3px; padding: 10px;\">\n",
    "    <p><b>Task 4.2:</b> Plot a PSTH for one VISp unit aligned to the change times for the first 20 hit trials. \n",
    "        <p>1) Filter the units by the following quality criteria. Call this filtered dataframe <code>good_units</code>:\n",
    "            <p> &emsp; a) <code>quality</code> == 'good'\n",
    "            <p> &emsp; b) <code>firing_rate</code> > 1 Hz\n",
    "            <p> &emsp; c) <code>snr</code> > 1\n",
    "            <p> &emsp; d) <code>isi_violations</code> < 1\n",
    "        <p>2) Grab a VISp unit id from this filtered list (this id will be an index in the <code>good_units</code> df)\n",
    "        <p>3) Get the spike times for this unit\n",
    "        <p>4) Call <code>makePSTH</code> to make a PSTH for this unit aligned to <code>first_20_hit_change_times</code>. Use a bin size of 10 ms.\n",
    "        <p>5) Plot the PSTH. What do you make of it? When is this neuron active?\n",
    "\n",
    "</div>"
   ]
  },
  {
   "cell_type": "code",
   "execution_count": 131,
   "metadata": {},
   "outputs": [],
   "source": [
    "def makePSTH(spikes, startTimes, windowDur, binSize=0.001):\n",
    "    '''\n",
    "    Convenience function to compute a peri-stimulus-time histogram\n",
    "    (see section 7.2.2 here: https://neuronaldynamics.epfl.ch/online/Ch7.S2.html)\n",
    "    INPUTS:\n",
    "        spikes: spike times in seconds for one unit\n",
    "        startTimes: trial start times in seconds; the first spike count \n",
    "            bin will be aligned to these times\n",
    "        windowDur: trial duration in seconds\n",
    "        binSize: size of spike count bins in seconds\n",
    "    OUTPUTS:\n",
    "        Tuple of (PSTH, bins), where:\n",
    "            PSTH gives the trial-averaged spike rate for \n",
    "                each time bin aligned to the start times;\n",
    "            bins are the bin edges as defined by numpy histogram\n",
    "    '''\n",
    "    bins = np.arange(0,windowDur+binSize,binSize)\n",
    "    counts = np.zeros(bins.size-1)\n",
    "    for start in startTimes:\n",
    "        startInd = np.searchsorted(spikes, start)\n",
    "        endInd = np.searchsorted(spikes, start+windowDur)\n",
    "        counts = counts + np.histogram(spikes[startInd:endInd]-start, bins)[0]\n",
    "    \n",
    "    counts = counts/len(startTimes)\n",
    "    return counts/binSize, bins[:-1]"
   ]
  },
  {
   "cell_type": "code",
   "execution_count": 507,
   "metadata": {},
   "outputs": [],
   "source": [
    "# Filter units by the quality criteria\n"
   ]
  },
  {
   "cell_type": "code",
   "execution_count": 508,
   "metadata": {},
   "outputs": [],
   "source": [
    "# Grab the first V1 unit id from good_units\n"
   ]
  },
  {
   "cell_type": "code",
   "execution_count": 509,
   "metadata": {},
   "outputs": [],
   "source": [
    "# Get the spike times for this unit\n"
   ]
  },
  {
   "cell_type": "code",
   "execution_count": 510,
   "metadata": {},
   "outputs": [],
   "source": [
    "# Get the PSTH\n"
   ]
  },
  {
   "cell_type": "code",
   "execution_count": 511,
   "metadata": {},
   "outputs": [],
   "source": [
    "# Plot the PSTH\n"
   ]
  },
  {
   "cell_type": "markdown",
   "metadata": {},
   "source": [
    "# SESSION 2"
   ]
  },
  {
   "cell_type": "markdown",
   "metadata": {},
   "source": [
    "<div style=\"border-left: 3px solid #000; padding: 1px; padding-left: 10px; background: #F0FAFF; \">\n",
    "\n",
    "## Getting reward, pupil, running and licking data\n",
    "    \n",
    "Now let's grab the reward, licking, running and pupil tracking data for this session and align them to a common time point. We'll use the time of one of the rewards to align the data."
   ]
  },
  {
   "cell_type": "code",
   "execution_count": 147,
   "metadata": {},
   "outputs": [],
   "source": [
    "#Let's get the four behavior data frames\n",
    "rewards = session.rewards\n",
    "eye_tracking = session.eye_tracking\n",
    "running_speed = session.running_speed\n",
    "licks = session.licks"
   ]
  },
  {
   "cell_type": "markdown",
   "metadata": {},
   "source": [
    "<div style=\"border-left: 3px solid #000; padding: 1px; padding-left: 10px; background: #F0FAFF; \">\n",
    "\n",
    "**Reward dataframe**: The timestamps and water volumes for every reward given to the mouse. The `auto_rewarded` column is True for the first three change trials, when the reward is automatically given to the mouse to kick-start the behavior session. After that, the mouse must earn rewards by licking after a change in the reward window."
   ]
  },
  {
   "cell_type": "code",
   "execution_count": 148,
   "metadata": {},
   "outputs": [
    {
     "data": {
      "text/html": [
       "<div>\n",
       "<style scoped>\n",
       "    .dataframe tbody tr th:only-of-type {\n",
       "        vertical-align: middle;\n",
       "    }\n",
       "\n",
       "    .dataframe tbody tr th {\n",
       "        vertical-align: top;\n",
       "    }\n",
       "\n",
       "    .dataframe thead th {\n",
       "        text-align: right;\n",
       "    }\n",
       "</style>\n",
       "<table border=\"1\" class=\"dataframe\">\n",
       "  <thead>\n",
       "    <tr style=\"text-align: right;\">\n",
       "      <th></th>\n",
       "      <th>volume</th>\n",
       "      <th>timestamps</th>\n",
       "      <th>auto_rewarded</th>\n",
       "    </tr>\n",
       "  </thead>\n",
       "  <tbody>\n",
       "    <tr>\n",
       "      <th>0</th>\n",
       "      <td>0.005</td>\n",
       "      <td>44.87655</td>\n",
       "      <td>True</td>\n",
       "    </tr>\n",
       "    <tr>\n",
       "      <th>1</th>\n",
       "      <td>0.005</td>\n",
       "      <td>64.39291</td>\n",
       "      <td>True</td>\n",
       "    </tr>\n",
       "    <tr>\n",
       "      <th>2</th>\n",
       "      <td>0.005</td>\n",
       "      <td>80.90632</td>\n",
       "      <td>True</td>\n",
       "    </tr>\n",
       "    <tr>\n",
       "      <th>3</th>\n",
       "      <td>0.003</td>\n",
       "      <td>119.55534</td>\n",
       "      <td>False</td>\n",
       "    </tr>\n",
       "    <tr>\n",
       "      <th>4</th>\n",
       "      <td>0.003</td>\n",
       "      <td>130.28088</td>\n",
       "      <td>False</td>\n",
       "    </tr>\n",
       "  </tbody>\n",
       "</table>\n",
       "</div>"
      ],
      "text/plain": [
       "   volume  timestamps  auto_rewarded\n",
       "0   0.005    44.87655           True\n",
       "1   0.005    64.39291           True\n",
       "2   0.005    80.90632           True\n",
       "3   0.003   119.55534          False\n",
       "4   0.003   130.28088          False"
      ]
     },
     "execution_count": 148,
     "metadata": {},
     "output_type": "execute_result"
    }
   ],
   "source": [
    "rewards.head()"
   ]
  },
  {
   "cell_type": "markdown",
   "metadata": {},
   "source": [
    "<div style=\"border-left: 3px solid #000; padding: 1px; padding-left: 10px; background: #F0FAFF; \">\n",
    "\n",
    "Let's grab a random reward to align the rest of the behavior data to:"
   ]
  },
  {
   "cell_type": "code",
   "execution_count": 149,
   "metadata": {},
   "outputs": [],
   "source": [
    "reward_time = rewards.timestamps.iloc[10]"
   ]
  },
  {
   "cell_type": "markdown",
   "metadata": {},
   "source": [
    "<div style=\"border-left: 3px solid #000; padding: 1px; padding-left: 10px; background: #F0FAFF; \">\n",
    "\n",
    "**Running dataframe**: One entry for each read of the analog input line monitoring the encoder voltage, recorded at ~60 Hz. `speed` is in units cm/s. "
   ]
  },
  {
   "cell_type": "code",
   "execution_count": 150,
   "metadata": {},
   "outputs": [
    {
     "data": {
      "text/html": [
       "<div>\n",
       "<style scoped>\n",
       "    .dataframe tbody tr th:only-of-type {\n",
       "        vertical-align: middle;\n",
       "    }\n",
       "\n",
       "    .dataframe tbody tr th {\n",
       "        vertical-align: top;\n",
       "    }\n",
       "\n",
       "    .dataframe thead th {\n",
       "        text-align: right;\n",
       "    }\n",
       "</style>\n",
       "<table border=\"1\" class=\"dataframe\">\n",
       "  <thead>\n",
       "    <tr style=\"text-align: right;\">\n",
       "      <th></th>\n",
       "      <th>timestamps</th>\n",
       "      <th>speed</th>\n",
       "    </tr>\n",
       "  </thead>\n",
       "  <tbody>\n",
       "    <tr>\n",
       "      <th>0</th>\n",
       "      <td>24.21123</td>\n",
       "      <td>-0.025043</td>\n",
       "    </tr>\n",
       "    <tr>\n",
       "      <th>1</th>\n",
       "      <td>24.22482</td>\n",
       "      <td>11.007905</td>\n",
       "    </tr>\n",
       "    <tr>\n",
       "      <th>2</th>\n",
       "      <td>24.24165</td>\n",
       "      <td>21.528507</td>\n",
       "    </tr>\n",
       "    <tr>\n",
       "      <th>3</th>\n",
       "      <td>24.25821</td>\n",
       "      <td>31.042079</td>\n",
       "    </tr>\n",
       "    <tr>\n",
       "      <th>4</th>\n",
       "      <td>24.27497</td>\n",
       "      <td>39.117779</td>\n",
       "    </tr>\n",
       "  </tbody>\n",
       "</table>\n",
       "</div>"
      ],
      "text/plain": [
       "   timestamps      speed\n",
       "0    24.21123  -0.025043\n",
       "1    24.22482  11.007905\n",
       "2    24.24165  21.528507\n",
       "3    24.25821  31.042079\n",
       "4    24.27497  39.117779"
      ]
     },
     "execution_count": 150,
     "metadata": {},
     "output_type": "execute_result"
    }
   ],
   "source": [
    "running_speed.head()"
   ]
  },
  {
   "cell_type": "markdown",
   "metadata": {},
   "source": [
    "<div style=\"background: #DFF0D8; border-radius: 3px; padding: 10px;\">\n",
    "    <p><b>Task 5.1:</b>  Get the running speed in a window 3 seconds before and after our <code>reward_time</code>. Call this new dataframe <code>trial_running</code>\n",
    "</div>"
   ]
  },
  {
   "cell_type": "code",
   "execution_count": 513,
   "metadata": {},
   "outputs": [],
   "source": [
    "# grab the pupil data corresponding to our window\n",
    "time_before = 3.0 #how much time to plot before the reward\n",
    "time_after = 3.0 #how much time to plot after the reward\n",
    "\n",
    "#Get running data aligned to this reward\n"
   ]
  },
  {
   "cell_type": "markdown",
   "metadata": {},
   "source": [
    "<div style=\"background: #DFF0D8; border-radius: 3px; padding: 10px;\">\n",
    "    <p><b>Task 5.2:</b>  Plot this extracted running trace. Remember to label your axes (speed is in units cm/s).\n",
    "</div>"
   ]
  },
  {
   "cell_type": "code",
   "execution_count": 514,
   "metadata": {},
   "outputs": [],
   "source": [
    "# plot the running\n",
    "\n",
    "\n",
    "# label our axes\n",
    "\n",
    "\n",
    "# now plot the reward with axvline as a blue line\n"
   ]
  },
  {
   "cell_type": "markdown",
   "metadata": {},
   "source": [
    "<div style=\"border-left: 3px solid #000; padding: 1px; padding-left: 10px; background: #F0FAFF; \">\n",
    "\n",
    "**Eye tracking dataframe**: One entry containing ellipse fit parameters for the eye, pupil and corneal reflection for every frame of the eye tracking video stream. These fits are the result of a [DeepLabCut](http://www.mackenziemathislab.org/deeplabcut) model trained on these eye features."
   ]
  },
  {
   "cell_type": "code",
   "execution_count": 155,
   "metadata": {},
   "outputs": [
    {
     "data": {
      "text/html": [
       "<div>\n",
       "<style scoped>\n",
       "    .dataframe tbody tr th:only-of-type {\n",
       "        vertical-align: middle;\n",
       "    }\n",
       "\n",
       "    .dataframe tbody tr th {\n",
       "        vertical-align: top;\n",
       "    }\n",
       "\n",
       "    .dataframe thead th {\n",
       "        text-align: right;\n",
       "    }\n",
       "</style>\n",
       "<table border=\"1\" class=\"dataframe\">\n",
       "  <thead>\n",
       "    <tr style=\"text-align: right;\">\n",
       "      <th></th>\n",
       "      <th>timestamps</th>\n",
       "      <th>cr_area</th>\n",
       "      <th>eye_area</th>\n",
       "      <th>pupil_area</th>\n",
       "      <th>likely_blink</th>\n",
       "      <th>pupil_area_raw</th>\n",
       "      <th>cr_area_raw</th>\n",
       "      <th>eye_area_raw</th>\n",
       "      <th>cr_center_x</th>\n",
       "      <th>cr_center_y</th>\n",
       "      <th>...</th>\n",
       "      <th>eye_center_x</th>\n",
       "      <th>eye_center_y</th>\n",
       "      <th>eye_width</th>\n",
       "      <th>eye_height</th>\n",
       "      <th>eye_phi</th>\n",
       "      <th>pupil_center_x</th>\n",
       "      <th>pupil_center_y</th>\n",
       "      <th>pupil_width</th>\n",
       "      <th>pupil_height</th>\n",
       "      <th>pupil_phi</th>\n",
       "    </tr>\n",
       "    <tr>\n",
       "      <th>frame</th>\n",
       "      <th></th>\n",
       "      <th></th>\n",
       "      <th></th>\n",
       "      <th></th>\n",
       "      <th></th>\n",
       "      <th></th>\n",
       "      <th></th>\n",
       "      <th></th>\n",
       "      <th></th>\n",
       "      <th></th>\n",
       "      <th></th>\n",
       "      <th></th>\n",
       "      <th></th>\n",
       "      <th></th>\n",
       "      <th></th>\n",
       "      <th></th>\n",
       "      <th></th>\n",
       "      <th></th>\n",
       "      <th></th>\n",
       "      <th></th>\n",
       "      <th></th>\n",
       "    </tr>\n",
       "  </thead>\n",
       "  <tbody>\n",
       "    <tr>\n",
       "      <th>0</th>\n",
       "      <td>1.36447</td>\n",
       "      <td>NaN</td>\n",
       "      <td>NaN</td>\n",
       "      <td>NaN</td>\n",
       "      <td>True</td>\n",
       "      <td>NaN</td>\n",
       "      <td>NaN</td>\n",
       "      <td>NaN</td>\n",
       "      <td>NaN</td>\n",
       "      <td>NaN</td>\n",
       "      <td>...</td>\n",
       "      <td>NaN</td>\n",
       "      <td>NaN</td>\n",
       "      <td>NaN</td>\n",
       "      <td>NaN</td>\n",
       "      <td>NaN</td>\n",
       "      <td>NaN</td>\n",
       "      <td>NaN</td>\n",
       "      <td>NaN</td>\n",
       "      <td>NaN</td>\n",
       "      <td>NaN</td>\n",
       "    </tr>\n",
       "    <tr>\n",
       "      <th>1</th>\n",
       "      <td>1.38113</td>\n",
       "      <td>NaN</td>\n",
       "      <td>NaN</td>\n",
       "      <td>NaN</td>\n",
       "      <td>True</td>\n",
       "      <td>NaN</td>\n",
       "      <td>NaN</td>\n",
       "      <td>NaN</td>\n",
       "      <td>NaN</td>\n",
       "      <td>NaN</td>\n",
       "      <td>...</td>\n",
       "      <td>NaN</td>\n",
       "      <td>NaN</td>\n",
       "      <td>NaN</td>\n",
       "      <td>NaN</td>\n",
       "      <td>NaN</td>\n",
       "      <td>NaN</td>\n",
       "      <td>NaN</td>\n",
       "      <td>NaN</td>\n",
       "      <td>NaN</td>\n",
       "      <td>NaN</td>\n",
       "    </tr>\n",
       "    <tr>\n",
       "      <th>2</th>\n",
       "      <td>1.39780</td>\n",
       "      <td>NaN</td>\n",
       "      <td>NaN</td>\n",
       "      <td>NaN</td>\n",
       "      <td>True</td>\n",
       "      <td>NaN</td>\n",
       "      <td>NaN</td>\n",
       "      <td>NaN</td>\n",
       "      <td>NaN</td>\n",
       "      <td>NaN</td>\n",
       "      <td>...</td>\n",
       "      <td>NaN</td>\n",
       "      <td>NaN</td>\n",
       "      <td>NaN</td>\n",
       "      <td>NaN</td>\n",
       "      <td>NaN</td>\n",
       "      <td>NaN</td>\n",
       "      <td>NaN</td>\n",
       "      <td>NaN</td>\n",
       "      <td>NaN</td>\n",
       "      <td>NaN</td>\n",
       "    </tr>\n",
       "    <tr>\n",
       "      <th>3</th>\n",
       "      <td>1.41446</td>\n",
       "      <td>NaN</td>\n",
       "      <td>NaN</td>\n",
       "      <td>NaN</td>\n",
       "      <td>True</td>\n",
       "      <td>NaN</td>\n",
       "      <td>NaN</td>\n",
       "      <td>NaN</td>\n",
       "      <td>NaN</td>\n",
       "      <td>NaN</td>\n",
       "      <td>...</td>\n",
       "      <td>NaN</td>\n",
       "      <td>NaN</td>\n",
       "      <td>NaN</td>\n",
       "      <td>NaN</td>\n",
       "      <td>NaN</td>\n",
       "      <td>NaN</td>\n",
       "      <td>NaN</td>\n",
       "      <td>NaN</td>\n",
       "      <td>NaN</td>\n",
       "      <td>NaN</td>\n",
       "    </tr>\n",
       "    <tr>\n",
       "      <th>4</th>\n",
       "      <td>1.43113</td>\n",
       "      <td>NaN</td>\n",
       "      <td>NaN</td>\n",
       "      <td>NaN</td>\n",
       "      <td>True</td>\n",
       "      <td>NaN</td>\n",
       "      <td>NaN</td>\n",
       "      <td>NaN</td>\n",
       "      <td>NaN</td>\n",
       "      <td>NaN</td>\n",
       "      <td>...</td>\n",
       "      <td>NaN</td>\n",
       "      <td>NaN</td>\n",
       "      <td>NaN</td>\n",
       "      <td>NaN</td>\n",
       "      <td>NaN</td>\n",
       "      <td>NaN</td>\n",
       "      <td>NaN</td>\n",
       "      <td>NaN</td>\n",
       "      <td>NaN</td>\n",
       "      <td>NaN</td>\n",
       "    </tr>\n",
       "  </tbody>\n",
       "</table>\n",
       "<p>5 rows × 23 columns</p>\n",
       "</div>"
      ],
      "text/plain": [
       "       timestamps  cr_area  eye_area  pupil_area  likely_blink  \\\n",
       "frame                                                            \n",
       "0         1.36447      NaN       NaN         NaN          True   \n",
       "1         1.38113      NaN       NaN         NaN          True   \n",
       "2         1.39780      NaN       NaN         NaN          True   \n",
       "3         1.41446      NaN       NaN         NaN          True   \n",
       "4         1.43113      NaN       NaN         NaN          True   \n",
       "\n",
       "       pupil_area_raw  cr_area_raw  eye_area_raw  cr_center_x  cr_center_y  \\\n",
       "frame                                                                        \n",
       "0                 NaN          NaN           NaN          NaN          NaN   \n",
       "1                 NaN          NaN           NaN          NaN          NaN   \n",
       "2                 NaN          NaN           NaN          NaN          NaN   \n",
       "3                 NaN          NaN           NaN          NaN          NaN   \n",
       "4                 NaN          NaN           NaN          NaN          NaN   \n",
       "\n",
       "       ...  eye_center_x  eye_center_y  eye_width  eye_height  eye_phi  \\\n",
       "frame  ...                                                               \n",
       "0      ...           NaN           NaN        NaN         NaN      NaN   \n",
       "1      ...           NaN           NaN        NaN         NaN      NaN   \n",
       "2      ...           NaN           NaN        NaN         NaN      NaN   \n",
       "3      ...           NaN           NaN        NaN         NaN      NaN   \n",
       "4      ...           NaN           NaN        NaN         NaN      NaN   \n",
       "\n",
       "       pupil_center_x  pupil_center_y  pupil_width  pupil_height  pupil_phi  \n",
       "frame                                                                        \n",
       "0                 NaN             NaN          NaN           NaN        NaN  \n",
       "1                 NaN             NaN          NaN           NaN        NaN  \n",
       "2                 NaN             NaN          NaN           NaN        NaN  \n",
       "3                 NaN             NaN          NaN           NaN        NaN  \n",
       "4                 NaN             NaN          NaN           NaN        NaN  \n",
       "\n",
       "[5 rows x 23 columns]"
      ]
     },
     "execution_count": 155,
     "metadata": {},
     "output_type": "execute_result"
    }
   ],
   "source": [
    "eye_tracking.head()"
   ]
  },
  {
   "cell_type": "markdown",
   "metadata": {},
   "source": [
    "<div style=\"border-left: 3px solid #000; padding: 1px; padding-left: 10px; background: #F0FAFF; \">\n",
    "\n",
    "There seem to be several rows for which there are no valid data. We can use the 'likely_blink' column to filter these out. This column indicates frames where the eye or pupil failed to fit or where the z-scored value of the eye or pupil area exceeds 3. In addition, two frames before and after each such likely_blink frame are also labeled likely_blink to avoid fits to partially closed or obstructed eye images."
   ]
  },
  {
   "cell_type": "code",
   "execution_count": 156,
   "metadata": {},
   "outputs": [
    {
     "data": {
      "text/html": [
       "<div>\n",
       "<style scoped>\n",
       "    .dataframe tbody tr th:only-of-type {\n",
       "        vertical-align: middle;\n",
       "    }\n",
       "\n",
       "    .dataframe tbody tr th {\n",
       "        vertical-align: top;\n",
       "    }\n",
       "\n",
       "    .dataframe thead th {\n",
       "        text-align: right;\n",
       "    }\n",
       "</style>\n",
       "<table border=\"1\" class=\"dataframe\">\n",
       "  <thead>\n",
       "    <tr style=\"text-align: right;\">\n",
       "      <th></th>\n",
       "      <th>timestamps</th>\n",
       "      <th>cr_area</th>\n",
       "      <th>eye_area</th>\n",
       "      <th>pupil_area</th>\n",
       "      <th>likely_blink</th>\n",
       "      <th>pupil_area_raw</th>\n",
       "      <th>cr_area_raw</th>\n",
       "      <th>eye_area_raw</th>\n",
       "      <th>cr_center_x</th>\n",
       "      <th>cr_center_y</th>\n",
       "      <th>...</th>\n",
       "      <th>eye_center_x</th>\n",
       "      <th>eye_center_y</th>\n",
       "      <th>eye_width</th>\n",
       "      <th>eye_height</th>\n",
       "      <th>eye_phi</th>\n",
       "      <th>pupil_center_x</th>\n",
       "      <th>pupil_center_y</th>\n",
       "      <th>pupil_width</th>\n",
       "      <th>pupil_height</th>\n",
       "      <th>pupil_phi</th>\n",
       "    </tr>\n",
       "    <tr>\n",
       "      <th>frame</th>\n",
       "      <th></th>\n",
       "      <th></th>\n",
       "      <th></th>\n",
       "      <th></th>\n",
       "      <th></th>\n",
       "      <th></th>\n",
       "      <th></th>\n",
       "      <th></th>\n",
       "      <th></th>\n",
       "      <th></th>\n",
       "      <th></th>\n",
       "      <th></th>\n",
       "      <th></th>\n",
       "      <th></th>\n",
       "      <th></th>\n",
       "      <th></th>\n",
       "      <th></th>\n",
       "      <th></th>\n",
       "      <th></th>\n",
       "      <th></th>\n",
       "      <th></th>\n",
       "    </tr>\n",
       "  </thead>\n",
       "  <tbody>\n",
       "    <tr>\n",
       "      <th>18</th>\n",
       "      <td>1.68114</td>\n",
       "      <td>124.496878</td>\n",
       "      <td>80242.785195</td>\n",
       "      <td>16745.289582</td>\n",
       "      <td>False</td>\n",
       "      <td>16745.289582</td>\n",
       "      <td>124.496878</td>\n",
       "      <td>80242.785195</td>\n",
       "      <td>319.022720</td>\n",
       "      <td>250.040195</td>\n",
       "      <td>...</td>\n",
       "      <td>299.845062</td>\n",
       "      <td>243.459515</td>\n",
       "      <td>170.130669</td>\n",
       "      <td>150.132084</td>\n",
       "      <td>-0.117730</td>\n",
       "      <td>314.825135</td>\n",
       "      <td>228.266183</td>\n",
       "      <td>73.008159</td>\n",
       "      <td>68.378221</td>\n",
       "      <td>0.394571</td>\n",
       "    </tr>\n",
       "    <tr>\n",
       "      <th>19</th>\n",
       "      <td>1.69781</td>\n",
       "      <td>123.635359</td>\n",
       "      <td>79751.038277</td>\n",
       "      <td>16714.291578</td>\n",
       "      <td>False</td>\n",
       "      <td>16714.291578</td>\n",
       "      <td>123.635359</td>\n",
       "      <td>79751.038277</td>\n",
       "      <td>319.495616</td>\n",
       "      <td>250.370579</td>\n",
       "      <td>...</td>\n",
       "      <td>300.310986</td>\n",
       "      <td>243.292274</td>\n",
       "      <td>169.847920</td>\n",
       "      <td>149.460434</td>\n",
       "      <td>-0.097911</td>\n",
       "      <td>314.511686</td>\n",
       "      <td>228.197930</td>\n",
       "      <td>72.940553</td>\n",
       "      <td>67.705300</td>\n",
       "      <td>0.428495</td>\n",
       "    </tr>\n",
       "    <tr>\n",
       "      <th>20</th>\n",
       "      <td>1.71446</td>\n",
       "      <td>126.786150</td>\n",
       "      <td>80047.938510</td>\n",
       "      <td>17011.966515</td>\n",
       "      <td>False</td>\n",
       "      <td>17011.966515</td>\n",
       "      <td>126.786150</td>\n",
       "      <td>80047.938510</td>\n",
       "      <td>319.370721</td>\n",
       "      <td>250.517232</td>\n",
       "      <td>...</td>\n",
       "      <td>300.324160</td>\n",
       "      <td>243.947900</td>\n",
       "      <td>169.934887</td>\n",
       "      <td>149.940078</td>\n",
       "      <td>-0.087952</td>\n",
       "      <td>314.455601</td>\n",
       "      <td>228.205356</td>\n",
       "      <td>73.587208</td>\n",
       "      <td>68.166068</td>\n",
       "      <td>0.423260</td>\n",
       "    </tr>\n",
       "    <tr>\n",
       "      <th>21</th>\n",
       "      <td>1.73113</td>\n",
       "      <td>125.499820</td>\n",
       "      <td>80455.812438</td>\n",
       "      <td>16980.668668</td>\n",
       "      <td>False</td>\n",
       "      <td>16980.668668</td>\n",
       "      <td>125.499820</td>\n",
       "      <td>80455.812438</td>\n",
       "      <td>319.460923</td>\n",
       "      <td>250.304993</td>\n",
       "      <td>...</td>\n",
       "      <td>300.694063</td>\n",
       "      <td>243.883540</td>\n",
       "      <td>170.484281</td>\n",
       "      <td>150.218427</td>\n",
       "      <td>-0.088550</td>\n",
       "      <td>314.077673</td>\n",
       "      <td>228.185581</td>\n",
       "      <td>73.519485</td>\n",
       "      <td>67.545130</td>\n",
       "      <td>0.460218</td>\n",
       "    </tr>\n",
       "    <tr>\n",
       "      <th>22</th>\n",
       "      <td>1.74780</td>\n",
       "      <td>125.322643</td>\n",
       "      <td>80325.325277</td>\n",
       "      <td>17062.517640</td>\n",
       "      <td>False</td>\n",
       "      <td>17062.517640</td>\n",
       "      <td>125.322643</td>\n",
       "      <td>80325.325277</td>\n",
       "      <td>318.788323</td>\n",
       "      <td>249.441627</td>\n",
       "      <td>...</td>\n",
       "      <td>300.010309</td>\n",
       "      <td>243.120696</td>\n",
       "      <td>170.311250</td>\n",
       "      <td>150.127165</td>\n",
       "      <td>-0.108505</td>\n",
       "      <td>314.283247</td>\n",
       "      <td>227.043133</td>\n",
       "      <td>73.696459</td>\n",
       "      <td>67.493397</td>\n",
       "      <td>0.442226</td>\n",
       "    </tr>\n",
       "  </tbody>\n",
       "</table>\n",
       "<p>5 rows × 23 columns</p>\n",
       "</div>"
      ],
      "text/plain": [
       "       timestamps     cr_area      eye_area    pupil_area  likely_blink  \\\n",
       "frame                                                                     \n",
       "18        1.68114  124.496878  80242.785195  16745.289582         False   \n",
       "19        1.69781  123.635359  79751.038277  16714.291578         False   \n",
       "20        1.71446  126.786150  80047.938510  17011.966515         False   \n",
       "21        1.73113  125.499820  80455.812438  16980.668668         False   \n",
       "22        1.74780  125.322643  80325.325277  17062.517640         False   \n",
       "\n",
       "       pupil_area_raw  cr_area_raw  eye_area_raw  cr_center_x  cr_center_y  \\\n",
       "frame                                                                        \n",
       "18       16745.289582   124.496878  80242.785195   319.022720   250.040195   \n",
       "19       16714.291578   123.635359  79751.038277   319.495616   250.370579   \n",
       "20       17011.966515   126.786150  80047.938510   319.370721   250.517232   \n",
       "21       16980.668668   125.499820  80455.812438   319.460923   250.304993   \n",
       "22       17062.517640   125.322643  80325.325277   318.788323   249.441627   \n",
       "\n",
       "       ...  eye_center_x  eye_center_y   eye_width  eye_height   eye_phi  \\\n",
       "frame  ...                                                                 \n",
       "18     ...    299.845062    243.459515  170.130669  150.132084 -0.117730   \n",
       "19     ...    300.310986    243.292274  169.847920  149.460434 -0.097911   \n",
       "20     ...    300.324160    243.947900  169.934887  149.940078 -0.087952   \n",
       "21     ...    300.694063    243.883540  170.484281  150.218427 -0.088550   \n",
       "22     ...    300.010309    243.120696  170.311250  150.127165 -0.108505   \n",
       "\n",
       "       pupil_center_x  pupil_center_y  pupil_width  pupil_height  pupil_phi  \n",
       "frame                                                                        \n",
       "18         314.825135      228.266183    73.008159     68.378221   0.394571  \n",
       "19         314.511686      228.197930    72.940553     67.705300   0.428495  \n",
       "20         314.455601      228.205356    73.587208     68.166068   0.423260  \n",
       "21         314.077673      228.185581    73.519485     67.545130   0.460218  \n",
       "22         314.283247      227.043133    73.696459     67.493397   0.442226  \n",
       "\n",
       "[5 rows x 23 columns]"
      ]
     },
     "execution_count": 156,
     "metadata": {},
     "output_type": "execute_result"
    }
   ],
   "source": [
    "eye_tracking_noblinks = eye_tracking[~eye_tracking['likely_blink']]\n",
    "eye_tracking_noblinks.head()"
   ]
  },
  {
   "cell_type": "markdown",
   "metadata": {},
   "source": [
    "<div style=\"background: #DFF0D8; border-radius: 3px; padding: 10px;\">\n",
    "    <p><b>Task 5.3:</b>  Grab the pupil area data in the same 6 second window around our reward time. Call it <code>trial_eye_tracking_data</code>. Plot it as we did the running.\n",
    "</div>"
   ]
  },
  {
   "cell_type": "code",
   "execution_count": 515,
   "metadata": {},
   "outputs": [],
   "source": [
    "# Now grab our eye tracking data.\n",
    "\n",
    "\n",
    "# plot it\n",
    "\n",
    "\n",
    "# now plot the reward as we did above\n"
   ]
  },
  {
   "cell_type": "markdown",
   "metadata": {},
   "source": [
    "<div style=\"border-left: 3px solid #000; padding: 1px; padding-left: 10px; background: #F0FAFF; \">\n",
    "\n",
    "**Licking dataframe**: One entry for every detected lick onset time."
   ]
  },
  {
   "cell_type": "code",
   "execution_count": 209,
   "metadata": {},
   "outputs": [
    {
     "data": {
      "text/html": [
       "<div>\n",
       "<style scoped>\n",
       "    .dataframe tbody tr th:only-of-type {\n",
       "        vertical-align: middle;\n",
       "    }\n",
       "\n",
       "    .dataframe tbody tr th {\n",
       "        vertical-align: top;\n",
       "    }\n",
       "\n",
       "    .dataframe thead th {\n",
       "        text-align: right;\n",
       "    }\n",
       "</style>\n",
       "<table border=\"1\" class=\"dataframe\">\n",
       "  <thead>\n",
       "    <tr style=\"text-align: right;\">\n",
       "      <th></th>\n",
       "      <th>timestamps</th>\n",
       "      <th>frame</th>\n",
       "    </tr>\n",
       "  </thead>\n",
       "  <tbody>\n",
       "    <tr>\n",
       "      <th>0</th>\n",
       "      <td>25.72309</td>\n",
       "      <td>91</td>\n",
       "    </tr>\n",
       "    <tr>\n",
       "      <th>1</th>\n",
       "      <td>25.85921</td>\n",
       "      <td>100</td>\n",
       "    </tr>\n",
       "    <tr>\n",
       "      <th>2</th>\n",
       "      <td>28.01198</td>\n",
       "      <td>229</td>\n",
       "    </tr>\n",
       "    <tr>\n",
       "      <th>3</th>\n",
       "      <td>32.39186</td>\n",
       "      <td>491</td>\n",
       "    </tr>\n",
       "    <tr>\n",
       "      <th>4</th>\n",
       "      <td>35.52050</td>\n",
       "      <td>679</td>\n",
       "    </tr>\n",
       "  </tbody>\n",
       "</table>\n",
       "</div>"
      ],
      "text/plain": [
       "   timestamps  frame\n",
       "0    25.72309     91\n",
       "1    25.85921    100\n",
       "2    28.01198    229\n",
       "3    32.39186    491\n",
       "4    35.52050    679"
      ]
     },
     "execution_count": 209,
     "metadata": {},
     "output_type": "execute_result"
    }
   ],
   "source": [
    "licks.head()"
   ]
  },
  {
   "cell_type": "markdown",
   "metadata": {},
   "source": [
    "<div style=\"background: #DFF0D8; border-radius: 3px; padding: 10px;\">\n",
    "    <p><b>Task 5.3:</b> Now grab the licking data in this window (call it <code>trial_licking</code>) and plot it as magenta dots with 0 for the y coord. </div>"
   ]
  },
  {
   "cell_type": "code",
   "execution_count": 516,
   "metadata": {},
   "outputs": [],
   "source": [
    "#Get licking aligned to this reward\n",
    "\n",
    "\n",
    "# plot it\n",
    "\n",
    "\n",
    "# now plot the reward\n"
   ]
  },
  {
   "cell_type": "markdown",
   "metadata": {},
   "source": [
    "<div style=\"border-left: 3px solid #000; padding: 1px; padding-left: 10px; background: #F0FAFF; \">\n",
    "\n",
    "Below, we'll put all of these plots together, and add bars to denote the stimulus presentation times:"
   ]
  },
  {
   "cell_type": "code",
   "execution_count": 173,
   "metadata": {},
   "outputs": [
    {
     "data": {
      "text/plain": [
       "Text(0.5, 1.0, 'Single trial change-aligned running speed, pupil size, licks, and rewards')"
      ]
     },
     "execution_count": 173,
     "metadata": {},
     "output_type": "execute_result"
    },
    {
     "data": {
      "image/png": "[encoded data removed]",
      "text/plain": [
       "<Figure size 1008x432 with 2 Axes>"
      ]
     },
     "metadata": {
      "needs_background": "light"
     },
     "output_type": "display_data"
    }
   ],
   "source": [
    "# Plot the running\n",
    "fig, ax_running = plt.subplots()\n",
    "fig.set_size_inches(14,6)\n",
    "ax_running.plot(trial_running['timestamps'], trial_running['speed'], 'k')\n",
    "\n",
    "# now plot the reward\n",
    "rew_handle = ax_running.axvline(reward_time, color='b')\n",
    "\n",
    "# label our axes\n",
    "ax_running.set_xlabel('Time (seconds)')\n",
    "ax_running.set_ylabel('Running speed (cm/s)')\n",
    "\n",
    "# Plot the pupil area on a new axis with the same x-axis as the running data\n",
    "ax_pupil = ax_running.twinx()\n",
    "ax_pupil.plot(trial_eye_tracking_data['timestamps'], trial_eye_tracking_data['pupil_area'], 'g')\n",
    "ax_pupil.set_ylabel('pupil area\\n$(pixels^2)$')\n",
    "\n",
    "# format the pupil axis to match the plot color\n",
    "ax_pupil.yaxis.label.set_color('g')\n",
    "ax_pupil.spines['right'].set_color('g')\n",
    "ax_pupil.tick_params(axis='y', colors='g')\n",
    "\n",
    "# Plot the licking. Just use the running axis.\n",
    "lick_handle, = ax_running.plot(trial_licking['timestamps'], np.zeros(len(trial_licking['timestamps'])), 'mo')\n",
    "\n",
    "\n",
    "#Now add a legend to label the reward and licks\n",
    "ax_running.legend([rew_handle, lick_handle], ['reward', 'licks'])\n",
    "\n",
    "\n",
    "#Plot the image flashes as grey bars. \n",
    "#Get stimulus presentations around this reward\n",
    "behavior_presentations = stimulus_presentations[stimulus_presentations['active']]\n",
    "trial_stimuli = behavior_presentations[(behavior_presentations['start_time']>=reward_time-time_before)&\n",
    "                      (behavior_presentations['start_time'] < reward_time+time_after)]\n",
    "\n",
    "#Specify different colors for the 2 images shown in this window\n",
    "colors = ['0.3', '0.8']\n",
    "stimulus_colors = {stim: c for stim,c in zip(trial_stimuli['image_name'].unique(), colors)}\n",
    "for idx, stimulus in trial_stimuli.iterrows():\n",
    "    ax_running.axvspan(stimulus['start_time'], stimulus['stop_time'], color=stimulus_colors[stimulus['image_name']], alpha=0.5)\n",
    "    \n",
    "ax_running.set_title('Single trial change-aligned running speed, pupil size, licks, and rewards')"
   ]
  },
  {
   "cell_type": "markdown",
   "metadata": {},
   "source": [
    "<div style=\"border-left: 3px solid #000; padding: 1px; padding-left: 10px; background: #F0FAFF; \">\n",
    "\n",
    "## How does novelty impact visual responsiveness in VISp?\n",
    "\n",
    "### Plotting visual responses to novel and familiar images\n",
    "    \n",
    "Below, we'll try to answer whether units in VISp are modulated by stimulus novelty. First we'll need a way to identify which images are novel to the mouse.\n",
    "\n",
    "Image novelty depends on whether a mouse has previously encountered an image during training. Even in the novel image set, 2 images are shared with the training set and therefore familiar. Moreover, some mice train with image set `G` and some with image set `H`, meaning which images are novel depends on all these factors. This can be tricky to sort out, so we have provided a convenient function that will add columns to the stimulus presentations table that indicate which image set a particular image is from (unique to `G`, unique to `H` or shared across both image sets), along with whether it was novel to the mouse during that session."
   ]
  },
  {
   "cell_type": "code",
   "execution_count": 177,
   "metadata": {},
   "outputs": [],
   "source": [
    "session_id = session.metadata['ecephys_session_id']\n",
    "is_novel_image_set = ecephys_sessions_table.loc[session_id]['experience_level'] == 'Novel'\n",
    "\n",
    "IMAGE_GROUP_KEY={\n",
    "                'G' : ['im012_r', 'im036_r', 'im044_r', \n",
    "                    'im047_r', 'im078_r', 'im115_r'],\n",
    "                'H' : ['im005_r', 'im024_r', 'im034_r', \n",
    "                    'im087_r', 'im104_r', 'im114_r'],\n",
    "                'shared' : ['im083_r', 'im111_r'],\n",
    "                'omitted' : 'omitted'\n",
    "                }"
   ]
  },
  {
   "cell_type": "code",
   "execution_count": 178,
   "metadata": {},
   "outputs": [],
   "source": [
    "def getImageNovelty(image_name):\n",
    "    '''\n",
    "    Function to help annotate the stimulus_presentations table\n",
    "    to indicate the following info:\n",
    "        1) whether a given image was:\n",
    "            a) unique to the G set\n",
    "            b) unique to the H set\n",
    "            c) shared across G and H\n",
    "            d) omitted\n",
    "        2) whether the image was novel to the mouse\n",
    "    \n",
    "    Meant to be run on the image names of the stimulus_presentations table\n",
    "    \n",
    "    OUTPUT:\n",
    "        Tuple indicating (image_set, image_novelty) for this image\n",
    "\n",
    "    '''\n",
    "    # First check that this image is one of the Natural Images used\n",
    "    image_in_image_set = any([np.isin(image_name, imset) \\\n",
    "                              for _,imset in IMAGE_GROUP_KEY.items()]) \n",
    "    if not image_in_image_set:\n",
    "        return np.nan, np.nan\n",
    "\n",
    "    #Get the image set for this image\n",
    "    image_set_for_this_image = [name for name, image_set in IMAGE_GROUP_KEY.items()\\\n",
    "                                if image_name in image_set][0]\n",
    "    \n",
    "    #Get the image novelty for this image\n",
    "    if image_set_for_this_image == 'omitted':\n",
    "        novelty_for_this_image = np.nan\n",
    "    else:\n",
    "        novelty_for_this_image = (is_novel_image_set) and \\\n",
    "                            (np.isin(image_set_for_this_image, ['G', 'H']))\n",
    "    \n",
    "\n",
    "    return image_set_for_this_image, novelty_for_this_image"
   ]
  },
  {
   "cell_type": "markdown",
   "metadata": {},
   "source": [
    "<div style=\"border-left: 3px solid #000; padding: 1px; padding-left: 10px; background: #F0FAFF; \">\n",
    "\n",
    "Now let's apply that function to our stimulus_presentations table and add the new columns indicating image novelty"
   ]
  },
  {
   "cell_type": "code",
   "execution_count": 179,
   "metadata": {},
   "outputs": [
    {
     "name": "stderr",
     "output_type": "stream",
     "text": [
      "C:\\Users\\svc_ccg\\AppData\\Local\\Continuum\\anaconda3\\envs\\allensdk_38\\lib\\site-packages\\numpy\\lib\\arraysetops.py:608: FutureWarning: elementwise comparison failed; returning scalar instead, but in the future will perform elementwise comparison\n",
      "  mask |= (ar1 == a)\n"
     ]
    }
   ],
   "source": [
    "image_info = stimulus_presentations.apply(lambda row: getImageNovelty(row['image_name']), axis=1)  \n",
    "stimulus_presentations['image_set'] = [i[0] for i in image_info]\n",
    "stimulus_presentations['is_novel'] = [i[1] for i in image_info]"
   ]
  },
  {
   "cell_type": "code",
   "execution_count": 180,
   "metadata": {},
   "outputs": [
    {
     "data": {
      "text/html": [
       "<div>\n",
       "<style scoped>\n",
       "    .dataframe tbody tr th:only-of-type {\n",
       "        vertical-align: middle;\n",
       "    }\n",
       "\n",
       "    .dataframe tbody tr th {\n",
       "        vertical-align: top;\n",
       "    }\n",
       "\n",
       "    .dataframe thead th {\n",
       "        text-align: right;\n",
       "    }\n",
       "</style>\n",
       "<table border=\"1\" class=\"dataframe\">\n",
       "  <thead>\n",
       "    <tr style=\"text-align: right;\">\n",
       "      <th></th>\n",
       "      <th>image_set</th>\n",
       "      <th>is_novel</th>\n",
       "      <th>image_name</th>\n",
       "    </tr>\n",
       "    <tr>\n",
       "      <th>stimulus_presentations_id</th>\n",
       "      <th></th>\n",
       "      <th></th>\n",
       "      <th></th>\n",
       "    </tr>\n",
       "  </thead>\n",
       "  <tbody>\n",
       "    <tr>\n",
       "      <th>120</th>\n",
       "      <td>shared</td>\n",
       "      <td>False</td>\n",
       "      <td>im111_r</td>\n",
       "    </tr>\n",
       "    <tr>\n",
       "      <th>121</th>\n",
       "      <td>shared</td>\n",
       "      <td>False</td>\n",
       "      <td>im111_r</td>\n",
       "    </tr>\n",
       "    <tr>\n",
       "      <th>122</th>\n",
       "      <td>shared</td>\n",
       "      <td>False</td>\n",
       "      <td>im111_r</td>\n",
       "    </tr>\n",
       "    <tr>\n",
       "      <th>123</th>\n",
       "      <td>shared</td>\n",
       "      <td>False</td>\n",
       "      <td>im111_r</td>\n",
       "    </tr>\n",
       "    <tr>\n",
       "      <th>124</th>\n",
       "      <td>shared</td>\n",
       "      <td>False</td>\n",
       "      <td>im111_r</td>\n",
       "    </tr>\n",
       "    <tr>\n",
       "      <th>125</th>\n",
       "      <td>H</td>\n",
       "      <td>True</td>\n",
       "      <td>im104_r</td>\n",
       "    </tr>\n",
       "    <tr>\n",
       "      <th>126</th>\n",
       "      <td>H</td>\n",
       "      <td>True</td>\n",
       "      <td>im104_r</td>\n",
       "    </tr>\n",
       "    <tr>\n",
       "      <th>127</th>\n",
       "      <td>H</td>\n",
       "      <td>True</td>\n",
       "      <td>im104_r</td>\n",
       "    </tr>\n",
       "    <tr>\n",
       "      <th>128</th>\n",
       "      <td>H</td>\n",
       "      <td>True</td>\n",
       "      <td>im104_r</td>\n",
       "    </tr>\n",
       "    <tr>\n",
       "      <th>129</th>\n",
       "      <td>H</td>\n",
       "      <td>True</td>\n",
       "      <td>im104_r</td>\n",
       "    </tr>\n",
       "  </tbody>\n",
       "</table>\n",
       "</div>"
      ],
      "text/plain": [
       "                          image_set is_novel image_name\n",
       "stimulus_presentations_id                              \n",
       "120                          shared    False    im111_r\n",
       "121                          shared    False    im111_r\n",
       "122                          shared    False    im111_r\n",
       "123                          shared    False    im111_r\n",
       "124                          shared    False    im111_r\n",
       "125                               H     True    im104_r\n",
       "126                               H     True    im104_r\n",
       "127                               H     True    im104_r\n",
       "128                               H     True    im104_r\n",
       "129                               H     True    im104_r"
      ]
     },
     "execution_count": 180,
     "metadata": {},
     "output_type": "execute_result"
    }
   ],
   "source": [
    "stimulus_presentations[120:130][['image_set', 'is_novel', 'image_name']]"
   ]
  },
  {
   "cell_type": "markdown",
   "metadata": {},
   "source": [
    "<div style=\"background: #DFF0D8; border-radius: 3px; padding: 10px;\">\n",
    "    <p><b>Task 6.1:</b> Grab the active behavior portion of this updated stimulus table. Call the new table <code>task_stim_table</code>\n",
    "</div>"
   ]
  },
  {
   "cell_type": "code",
   "execution_count": 517,
   "metadata": {},
   "outputs": [],
   "source": [
    "#Grab the portion of the stim table that describes the active behavior stimuli\n"
   ]
  },
  {
   "cell_type": "markdown",
   "metadata": {},
   "source": [
    "<div style=\"border-left: 3px solid #000; padding: 1px; padding-left: 10px; background: #F0FAFF; \">\n",
    "This table stores all of the stimulus info we'll need to make our PSTHs for novel and familiar change stimuli. Now we'll need to get the unit spiking data and organize it into a useful format.  \n",
    "  \n",
    "<p>\n",
    "<p>For this (and other) analyses, organizing the data into a 3D array can make things much more convenient. This 3D array will have shape (neurons, trial time, trials) and will store the spike counts for every neuron and time bin in every trial. For our purposes, we will define a trial as an image presentation (ie, every flash in the stim table will be one 'trial' for our array). So our array will be of shape (neurons in V1, flash time, number of image flashes)."
   ]
  },
  {
   "attachments": {},
   "cell_type": "markdown",
   "metadata": {},
   "source": [
    "<img src=\"https://brainmapportal-live-4cc80a57cd6e400d854-f7fdcae.divio-media.net/filer_public/8e/45/8e4554f8-029f-43dd-badd-32d77d48898a/tensor_diagram.png\"\n",
    "     width=\"400\" \n",
    "     height=\"500\" />\n",
    "     \n",
    "Williams et al. (2018). Neuron, 98(6): 1099-1115"
   ]
  },
  {
   "cell_type": "markdown",
   "metadata": {},
   "source": [
    "<div style=\"border-left: 3px solid #000; padding: 1px; padding-left: 10px; background: #F0FAFF; \">\n",
    "\n",
    "To make this 3D array, first we'll need to get the spike times for VISp units during this experiment:"
   ]
  },
  {
   "cell_type": "markdown",
   "metadata": {},
   "source": [
    "<div style=\"background: #DFF0D8; border-radius: 3px; padding: 10px;\">\n",
    "    <p><b>Task 6.2:</b> Filter the units dataframe for only good, VISp units. Use the following quality criteria:\n",
    "            <p> &emsp; 1) <code>quality</code> == 'good'\n",
    "            <p> &emsp; 2) <code>snr</code> > 1\n",
    "            <p> &emsp; 3) <code>isi_violations</code> < 1\n",
    "</div>"
   ]
  },
  {
   "cell_type": "code",
   "execution_count": 518,
   "metadata": {},
   "outputs": [],
   "source": [
    "# Filter units by the quality criteria\n",
    "\n",
    "\n",
    "# Now grab the VISp units. Call this dataframe visp_units\n"
   ]
  },
  {
   "cell_type": "markdown",
   "metadata": {},
   "source": [
    "<div style=\"border-left: 3px solid #000; padding: 1px; padding-left: 10px; background: #F0FAFF; \">\n",
    "\n",
    "We've provided a convenient function to help make our 3D array. Let's look at it below:"
   ]
  },
  {
   "cell_type": "code",
   "execution_count": 190,
   "metadata": {},
   "outputs": [],
   "source": [
    "def make_neuron_time_trials_array(units, stim_table, \n",
    "                                   time_before, trial_duration,\n",
    "                                   bin_size=0.001):\n",
    "    '''\n",
    "    Function to make a 3D array with dimensions [neurons, time bins, trials] to store\n",
    "    the spike counts for stimulus presentation trials. \n",
    "    INPUTS:\n",
    "        units: dataframe with unit info (same form as session.units table)\n",
    "        stim_table: dataframe whose indices are trial ids and containing a\n",
    "            'start_time' column indicating when each trial began\n",
    "        time_before: seconds to take before each start_time in the stim_table\n",
    "        trial_duration: total time in seconds to take for each trial\n",
    "        bin_size: bin_size in seconds used to bin spike counts \n",
    "    OUTPUTS:\n",
    "        unit_array: 3D array storing spike counts. The value in [i,j,k] \n",
    "            is the spike count for neuron i at time bin j in the kth trial.\n",
    "        time_vector: vector storing the trial timestamps for the time bins\n",
    "    '''\n",
    "    # Get dimensions of output array\n",
    "    neuron_number = len(units)\n",
    "    trial_number = len(stim_table)\n",
    "    num_time_bins = int(trial_duration/bin_size)\n",
    "    \n",
    "    # Initialize array\n",
    "    unit_array = np.zeros((neuron_number, num_time_bins, trial_number))\n",
    "    \n",
    "    # Loop through units and trials and store spike counts for every time bin\n",
    "    for u_counter, (iu, unit) in enumerate(units.iterrows()):\n",
    "        \n",
    "        # grab spike times for this unit\n",
    "        unit_spike_times = spike_times[iu]\n",
    "        \n",
    "        # now loop through trials and make a PSTH for this unit for every trial\n",
    "        for t_counter, (it, trial) in enumerate(stim_table.iterrows()):\n",
    "            trial_start = trial.start_time - time_before\n",
    "            unit_array[u_counter, :, t_counter] = makePSTH(unit_spike_times, \n",
    "                                                            [trial_start], \n",
    "                                                            trial_duration, \n",
    "                                                            binSize=bin_size)[0]\n",
    "    \n",
    "    # Make the time vector that will label the time axis\n",
    "    time_vector = np.arange(num_time_bins)*bin_size - time_before\n",
    "    \n",
    "    return unit_array, time_vector"
   ]
  },
  {
   "cell_type": "code",
   "execution_count": 191,
   "metadata": {},
   "outputs": [],
   "source": [
    "#Make 3D data array\n",
    "time_before_flash = 1.0\n",
    "trial_duration = 2.0\n",
    "bin_size = 0.001\n",
    "flash_stim_array, time = make_neuron_time_trials_array(visp_units, task_stim_table, time_before_flash, trial_duration)"
   ]
  },
  {
   "cell_type": "code",
   "execution_count": 192,
   "metadata": {},
   "outputs": [
    {
     "data": {
      "text/plain": [
       "(49, 2000, 4804)"
      ]
     },
     "execution_count": 192,
     "metadata": {},
     "output_type": "execute_result"
    }
   ],
   "source": [
    "flash_stim_array.shape"
   ]
  },
  {
   "cell_type": "markdown",
   "metadata": {},
   "source": [
    "<div style=\"border-left: 3px solid #000; padding: 1px; padding-left: 10px; background: #F0FAFF; \">\n",
    "\n",
    "Now let's use our 3D array to find the change responses to novel and familiar images. We'll do this by: \n",
    "\n",
    "1) finding the trial ids for our trials of interest, and  \n",
    "2) Using those ids to index the 'trials' dimension of our array\n"
   ]
  },
  {
   "cell_type": "markdown",
   "metadata": {},
   "source": [
    "<div style=\"background: #DFF0D8; border-radius: 3px; padding: 10px;\">\n",
    "    <p><b>Task 6.3:</b> Get the trial ids for the famliar and novel image changes. We'll need to:\n",
    "       <p>&emsp; 1) Filter the <code>task_stim_table</code> for changes (using <code>is_change</code>)\n",
    "       <p>&emsp; 2) Find the novel and familiar changes (using our new <code>is_novel</code> column). Store these in two new dataframes called <code>novel_change_flashes</code> and <code>familiar_change_flashes</code> \n",
    "       <p>&emsp; 3) Find the indices in our 3D array that correspond to the novel/familiar change stimuli\n",
    "           \n",
    "</div>"
   ]
  },
  {
   "cell_type": "code",
   "execution_count": 519,
   "metadata": {},
   "outputs": [],
   "source": [
    "# Filter the task_stim_table for change stimuli. Call this new table change_flashes\n"
   ]
  },
  {
   "cell_type": "code",
   "execution_count": 199,
   "metadata": {},
   "outputs": [],
   "source": [
    "# make the novel_changes and familiar_changes dataframes\n"
   ]
  },
  {
   "cell_type": "code",
   "execution_count": 201,
   "metadata": {},
   "outputs": [],
   "source": [
    "# Find indices for novel and familiar change flashes in our 3D array\n",
    "novel_flash_ids = novel_change_flashes.index.values\n",
    "novel_array_indices = task_stim_table.index.get_indexer(novel_flash_ids)\n",
    "\n",
    "familiar_flash_ids = familiar_change_flashes.index.values\n",
    "familiar_array_indices = task_stim_table.index.get_indexer(familiar_flash_ids)"
   ]
  },
  {
   "cell_type": "markdown",
   "metadata": {},
   "source": [
    "<div style=\"border-left: 3px solid #000; padding: 1px; padding-left: 10px; background: #F0FAFF; \">\n",
    "\n",
    "Now we can use these indices to plot the PSTHs across V1 for familiar and novel change stimuli!\n"
   ]
  },
  {
   "cell_type": "code",
   "execution_count": 203,
   "metadata": {},
   "outputs": [
    {
     "data": {
      "text/plain": [
       "<matplotlib.legend.Legend at 0x1d289a475b0>"
      ]
     },
     "execution_count": 203,
     "metadata": {},
     "output_type": "execute_result"
    },
    {
     "data": {
      "image/png": "[encoded data removed]",
      "text/plain": [
       "<Figure size 720x288 with 2 Axes>"
      ]
     },
     "metadata": {
      "needs_background": "light"
     },
     "output_type": "display_data"
    }
   ],
   "source": [
    "fig, axes = plt.subplots(1,2)\n",
    "fig.set_size_inches([10, 4])\n",
    "fig.suptitle('VISp')\n",
    "\n",
    "# Loop through our familiar and novel array indices\n",
    "for array_flash_indices in [familiar_array_indices, novel_array_indices]:\n",
    "    \n",
    "    # Use these indices to select the corresponding data from our data array\n",
    "    relevant_trials = flash_stim_array[:, :, array_flash_indices]\n",
    "    \n",
    "    # We can use numpy mean to average over units and trials (the 0th and 2nd dimension of our array)\n",
    "    mean_over_neurons_trials = np.mean(relevant_trials, axis=(0, 2))\n",
    "    \n",
    "    # Now plot. We're plotting twice to show two time scales.\n",
    "    xlims = ([-0.25, 0.5], [0, 0.1])\n",
    "    for ax, xlim in zip(axes, xlims):\n",
    "        ax.plot(time, mean_over_neurons_trials)\n",
    "        ax.set_xlim(xlim)\n",
    "        ax.set_xlabel('time from change (s)')\n",
    "        ax.set_ylabel('firing rate (Hz)')\n",
    "\n",
    "axes[1].set_title('inset')\n",
    "axes[0].legend(['Familiar', 'Novel'])"
   ]
  },
  {
   "cell_type": "markdown",
   "metadata": {},
   "source": [
    "<div style=\"border-left: 3px solid #000; padding: 1px; padding-left: 10px; background: #F0FAFF; \">\n",
    "\n",
    "# How does novelty impact mouse behavior?\n",
    "    \n",
    "It looks like novelty can have a pretty dramatic impact on VISp visual responses. What about the behavior of the mouse? Let's calculate hit rates for novel and familiar changes during this session.\n",
    "    \n",
    "## Calculating hit rates for novel and familiar images\n",
    "    \n",
    "Let's use the trials table to calculate the hit rates for the novel and familiar images. First, we'll need to annotate the trials dataframe so we know which trials had novel and familiar change stimuli."
   ]
  },
  {
   "cell_type": "code",
   "execution_count": 205,
   "metadata": {},
   "outputs": [],
   "source": [
    "#First, let's annotate the trials by the novelty of their change image using the getImageNovelty function\n",
    "\n",
    "image_info = trials.apply(lambda row: getImageNovelty(row['change_image_name']), axis=1)\n",
    "trials['change_image_set'] = [i[0] for i in image_info]\n",
    "trials['is_novel_change_image'] = [bool(i[1]) for i in image_info]"
   ]
  },
  {
   "cell_type": "markdown",
   "metadata": {},
   "source": [
    "<div style=\"background: #DFF0D8; border-radius: 3px; padding: 10px;\">\n",
    "    <p><b>Task 7.1:</b> Filter the trials table for <code>go</code> trials, since these are the ones with change stimuli. Call the new dataframe <code>go_trials</code>.\n",
    "           \n",
    "</div>"
   ]
  },
  {
   "cell_type": "code",
   "execution_count": null,
   "metadata": {},
   "outputs": [],
   "source": []
  },
  {
   "cell_type": "markdown",
   "metadata": {},
   "source": [
    "<div style=\"background: #DFF0D8; border-radius: 3px; padding: 10px;\">\n",
    "    <p><b>Task 7.2:</b> Use the <code>groupby</code> method on the <code>change_image_name</code> column to:\n",
    "       <p> 1) count the total number of go trials for each image\n",
    "       <p> 2) count the total number of hits for each image\n",
    "    <p> You can accomplish both of these with one line. It will look like:\n",
    "    <p> <code>go_trials.groupby(?).agg(?)</code>\n",
    "    <p> What column name should go in the first '?'\n",
    "    <p> What function should go in the second '?'\n",
    "    <p> Store the results in a dataframe called <code>image_go_data</code>\n",
    "           \n",
    "</div>"
   ]
  },
  {
   "cell_type": "code",
   "execution_count": null,
   "metadata": {},
   "outputs": [],
   "source": []
  },
  {
   "cell_type": "markdown",
   "metadata": {},
   "source": [
    "<div style=\"border-left: 3px solid #000; padding: 1px; padding-left: 10px; background: #F0FAFF; \">\n",
    "As you can see, many of these columns aren't very meaningful. Let's select only the <code>stimulus_change</code>, <code>hit</code> and <code>is_novel_change_image</code> columns to make this dataframe easier to work with:"
   ]
  },
  {
   "cell_type": "code",
   "execution_count": 265,
   "metadata": {},
   "outputs": [
    {
     "data": {
      "text/html": [
       "<div>\n",
       "<style scoped>\n",
       "    .dataframe tbody tr th:only-of-type {\n",
       "        vertical-align: middle;\n",
       "    }\n",
       "\n",
       "    .dataframe tbody tr th {\n",
       "        vertical-align: top;\n",
       "    }\n",
       "\n",
       "    .dataframe thead th {\n",
       "        text-align: right;\n",
       "    }\n",
       "</style>\n",
       "<table border=\"1\" class=\"dataframe\">\n",
       "  <thead>\n",
       "    <tr style=\"text-align: right;\">\n",
       "      <th></th>\n",
       "      <th>stimulus_change</th>\n",
       "      <th>hit</th>\n",
       "      <th>is_novel_change_image</th>\n",
       "    </tr>\n",
       "    <tr>\n",
       "      <th>change_image_name</th>\n",
       "      <th></th>\n",
       "      <th></th>\n",
       "      <th></th>\n",
       "    </tr>\n",
       "  </thead>\n",
       "  <tbody>\n",
       "    <tr>\n",
       "      <th>im005_r</th>\n",
       "      <td>37</td>\n",
       "      <td>22</td>\n",
       "      <td>True</td>\n",
       "    </tr>\n",
       "    <tr>\n",
       "      <th>im024_r</th>\n",
       "      <td>38</td>\n",
       "      <td>22</td>\n",
       "      <td>True</td>\n",
       "    </tr>\n",
       "    <tr>\n",
       "      <th>im034_r</th>\n",
       "      <td>36</td>\n",
       "      <td>24</td>\n",
       "      <td>True</td>\n",
       "    </tr>\n",
       "    <tr>\n",
       "      <th>im083_r</th>\n",
       "      <td>37</td>\n",
       "      <td>5</td>\n",
       "      <td>False</td>\n",
       "    </tr>\n",
       "    <tr>\n",
       "      <th>im087_r</th>\n",
       "      <td>36</td>\n",
       "      <td>19</td>\n",
       "      <td>True</td>\n",
       "    </tr>\n",
       "    <tr>\n",
       "      <th>im104_r</th>\n",
       "      <td>38</td>\n",
       "      <td>25</td>\n",
       "      <td>True</td>\n",
       "    </tr>\n",
       "    <tr>\n",
       "      <th>im111_r</th>\n",
       "      <td>37</td>\n",
       "      <td>5</td>\n",
       "      <td>False</td>\n",
       "    </tr>\n",
       "    <tr>\n",
       "      <th>im114_r</th>\n",
       "      <td>36</td>\n",
       "      <td>17</td>\n",
       "      <td>True</td>\n",
       "    </tr>\n",
       "  </tbody>\n",
       "</table>\n",
       "</div>"
      ],
      "text/plain": [
       "                   stimulus_change  hit is_novel_change_image\n",
       "change_image_name                                            \n",
       "im005_r                         37   22                  True\n",
       "im024_r                         38   22                  True\n",
       "im034_r                         36   24                  True\n",
       "im083_r                         37    5                 False\n",
       "im087_r                         36   19                  True\n",
       "im104_r                         38   25                  True\n",
       "im111_r                         37    5                 False\n",
       "im114_r                         36   17                  True"
      ]
     },
     "execution_count": 265,
     "metadata": {},
     "output_type": "execute_result"
    }
   ],
   "source": [
    "image_go_data = image_go_data[['stimulus_change', 'hit', 'is_novel_change_image']]\n",
    "image_go_data"
   ]
  },
  {
   "cell_type": "markdown",
   "metadata": {},
   "source": [
    "<div style=\"border-left: 3px solid #000; padding: 1px; padding-left: 10px; background: #F0FAFF; \">\n",
    "How do you interpret these values?"
   ]
  },
  {
   "cell_type": "markdown",
   "metadata": {},
   "source": [
    "<div style=\"border-left: 3px solid #000; padding: 1px; padding-left: 10px; background: #F0FAFF; \">\n",
    "Let's clean this dataframe up a bit by setting all of the rows with <code>is_novel_change_image</code>>0 to <code>True</code> and <code>is_novel_change_image</code>==0 to <code>False</code>\n",
    "</div>"
   ]
  },
  {
   "cell_type": "code",
   "execution_count": null,
   "metadata": {},
   "outputs": [],
   "source": []
  },
  {
   "cell_type": "markdown",
   "metadata": {},
   "source": [
    "<div style=\"background: #DFF0D8; border-radius: 3px; padding: 10px;\">\n",
    "    <p><b>Task 7.3:</b> Use this new table to calculate the hit rates for every image. Store these in a new column called <code>hit_rate</code>.\n",
    "</div>"
   ]
  },
  {
   "cell_type": "code",
   "execution_count": null,
   "metadata": {},
   "outputs": [],
   "source": []
  },
  {
   "cell_type": "code",
   "execution_count": 238,
   "metadata": {},
   "outputs": [
    {
     "data": {
      "text/html": [
       "<style type=\"text/css\">\n",
       "#T_b91bb_row0_col3 {\n",
       "  background-color: #ff4444;\n",
       "  color: #f1f1f1;\n",
       "}\n",
       "#T_b91bb_row1_col3 {\n",
       "  background-color: #ff5454;\n",
       "  color: #f1f1f1;\n",
       "}\n",
       "#T_b91bb_row2_col3 {\n",
       "  background-color: #ff0000;\n",
       "  color: #f1f1f1;\n",
       "}\n",
       "#T_b91bb_row3_col3, #T_b91bb_row6_col3 {\n",
       "  background-color: #0000ff;\n",
       "  color: #f1f1f1;\n",
       "}\n",
       "#T_b91bb_row4_col3 {\n",
       "  background-color: #ff8484;\n",
       "  color: #f1f1f1;\n",
       "}\n",
       "#T_b91bb_row5_col3 {\n",
       "  background-color: #ff0808;\n",
       "  color: #f1f1f1;\n",
       "}\n",
       "#T_b91bb_row7_col3 {\n",
       "  background-color: #ffbaba;\n",
       "  color: #000000;\n",
       "}\n",
       "</style>\n",
       "<table id=\"T_b91bb\">\n",
       "  <thead>\n",
       "    <tr>\n",
       "      <th class=\"blank level0\" >&nbsp;</th>\n",
       "      <th id=\"T_b91bb_level0_col0\" class=\"col_heading level0 col0\" >stimulus_change</th>\n",
       "      <th id=\"T_b91bb_level0_col1\" class=\"col_heading level0 col1\" >hit</th>\n",
       "      <th id=\"T_b91bb_level0_col2\" class=\"col_heading level0 col2\" >is_novel_change_image</th>\n",
       "      <th id=\"T_b91bb_level0_col3\" class=\"col_heading level0 col3\" >hit_rate</th>\n",
       "    </tr>\n",
       "    <tr>\n",
       "      <th class=\"index_name level0\" >change_image_name</th>\n",
       "      <th class=\"blank col0\" >&nbsp;</th>\n",
       "      <th class=\"blank col1\" >&nbsp;</th>\n",
       "      <th class=\"blank col2\" >&nbsp;</th>\n",
       "      <th class=\"blank col3\" >&nbsp;</th>\n",
       "    </tr>\n",
       "  </thead>\n",
       "  <tbody>\n",
       "    <tr>\n",
       "      <th id=\"T_b91bb_level0_row0\" class=\"row_heading level0 row0\" >im005_r</th>\n",
       "      <td id=\"T_b91bb_row0_col0\" class=\"data row0 col0\" >37</td>\n",
       "      <td id=\"T_b91bb_row0_col1\" class=\"data row0 col1\" >22</td>\n",
       "      <td id=\"T_b91bb_row0_col2\" class=\"data row0 col2\" >True</td>\n",
       "      <td id=\"T_b91bb_row0_col3\" class=\"data row0 col3\" >0.594595</td>\n",
       "    </tr>\n",
       "    <tr>\n",
       "      <th id=\"T_b91bb_level0_row1\" class=\"row_heading level0 row1\" >im024_r</th>\n",
       "      <td id=\"T_b91bb_row1_col0\" class=\"data row1 col0\" >38</td>\n",
       "      <td id=\"T_b91bb_row1_col1\" class=\"data row1 col1\" >22</td>\n",
       "      <td id=\"T_b91bb_row1_col2\" class=\"data row1 col2\" >True</td>\n",
       "      <td id=\"T_b91bb_row1_col3\" class=\"data row1 col3\" >0.578947</td>\n",
       "    </tr>\n",
       "    <tr>\n",
       "      <th id=\"T_b91bb_level0_row2\" class=\"row_heading level0 row2\" >im034_r</th>\n",
       "      <td id=\"T_b91bb_row2_col0\" class=\"data row2 col0\" >36</td>\n",
       "      <td id=\"T_b91bb_row2_col1\" class=\"data row2 col1\" >24</td>\n",
       "      <td id=\"T_b91bb_row2_col2\" class=\"data row2 col2\" >True</td>\n",
       "      <td id=\"T_b91bb_row2_col3\" class=\"data row2 col3\" >0.666667</td>\n",
       "    </tr>\n",
       "    <tr>\n",
       "      <th id=\"T_b91bb_level0_row3\" class=\"row_heading level0 row3\" >im083_r</th>\n",
       "      <td id=\"T_b91bb_row3_col0\" class=\"data row3 col0\" >37</td>\n",
       "      <td id=\"T_b91bb_row3_col1\" class=\"data row3 col1\" >5</td>\n",
       "      <td id=\"T_b91bb_row3_col2\" class=\"data row3 col2\" >False</td>\n",
       "      <td id=\"T_b91bb_row3_col3\" class=\"data row3 col3\" >0.135135</td>\n",
       "    </tr>\n",
       "    <tr>\n",
       "      <th id=\"T_b91bb_level0_row4\" class=\"row_heading level0 row4\" >im087_r</th>\n",
       "      <td id=\"T_b91bb_row4_col0\" class=\"data row4 col0\" >36</td>\n",
       "      <td id=\"T_b91bb_row4_col1\" class=\"data row4 col1\" >19</td>\n",
       "      <td id=\"T_b91bb_row4_col2\" class=\"data row4 col2\" >True</td>\n",
       "      <td id=\"T_b91bb_row4_col3\" class=\"data row4 col3\" >0.527778</td>\n",
       "    </tr>\n",
       "    <tr>\n",
       "      <th id=\"T_b91bb_level0_row5\" class=\"row_heading level0 row5\" >im104_r</th>\n",
       "      <td id=\"T_b91bb_row5_col0\" class=\"data row5 col0\" >38</td>\n",
       "      <td id=\"T_b91bb_row5_col1\" class=\"data row5 col1\" >25</td>\n",
       "      <td id=\"T_b91bb_row5_col2\" class=\"data row5 col2\" >True</td>\n",
       "      <td id=\"T_b91bb_row5_col3\" class=\"data row5 col3\" >0.657895</td>\n",
       "    </tr>\n",
       "    <tr>\n",
       "      <th id=\"T_b91bb_level0_row6\" class=\"row_heading level0 row6\" >im111_r</th>\n",
       "      <td id=\"T_b91bb_row6_col0\" class=\"data row6 col0\" >37</td>\n",
       "      <td id=\"T_b91bb_row6_col1\" class=\"data row6 col1\" >5</td>\n",
       "      <td id=\"T_b91bb_row6_col2\" class=\"data row6 col2\" >False</td>\n",
       "      <td id=\"T_b91bb_row6_col3\" class=\"data row6 col3\" >0.135135</td>\n",
       "    </tr>\n",
       "    <tr>\n",
       "      <th id=\"T_b91bb_level0_row7\" class=\"row_heading level0 row7\" >im114_r</th>\n",
       "      <td id=\"T_b91bb_row7_col0\" class=\"data row7 col0\" >36</td>\n",
       "      <td id=\"T_b91bb_row7_col1\" class=\"data row7 col1\" >17</td>\n",
       "      <td id=\"T_b91bb_row7_col2\" class=\"data row7 col2\" >True</td>\n",
       "      <td id=\"T_b91bb_row7_col3\" class=\"data row7 col3\" >0.472222</td>\n",
       "    </tr>\n",
       "  </tbody>\n",
       "</table>\n"
      ],
      "text/plain": [
       "<pandas.io.formats.style.Styler at 0x1d296db0220>"
      ]
     },
     "metadata": {},
     "output_type": "display_data"
    }
   ],
   "source": [
    "# We can display the results with cells color-coded by their hit rate to make it easier to see what's going on here\n",
    "display(image_go_data.style.background_gradient(cmap='bwr', subset='hit_rate'))"
   ]
  },
  {
   "cell_type": "markdown",
   "metadata": {},
   "source": [
    "<div style=\"border-left: 3px solid #000; padding: 1px; padding-left: 10px; background: #F0FAFF; \">\n",
    "Now let's plot this data. \n",
    "</div>"
   ]
  },
  {
   "cell_type": "code",
   "execution_count": 231,
   "metadata": {
    "scrolled": true
   },
   "outputs": [
    {
     "data": {
      "image/png": "[encoded data removed]",
      "text/plain": [
       "<Figure size 1008x432 with 9 Axes>"
      ]
     },
     "metadata": {
      "needs_background": "light"
     },
     "output_type": "display_data"
    }
   ],
   "source": [
    "fig = plt.figure()\n",
    "fig.set_size_inches(14, 6)\n",
    "gs = GridSpec(2, 8, figure=fig)\n",
    "\n",
    "hit_rate_ax = fig.add_subplot(gs[0, :])\n",
    "colors = ['r', 'b']\n",
    "image_order = []\n",
    "for isnovel, color in zip([True, False], colors):\n",
    "    rows = image_go_data[image_go_data['is_novel_change_image']==isnovel]\n",
    "    rows = rows.sort_values('hit_rate', ascending=False)\n",
    "    \n",
    "    hit_rates = rows['hit_rate']\n",
    "    hit_rate_ax.plot(hit_rates, color+'o-')\n",
    "    \n",
    "    image_order.extend(rows.index.values)\n",
    "    \n",
    "hit_rate_ax.set_ylabel('Hit Rate')\n",
    "hit_rate_ax.legend(['Novel', 'Familiar'])\n",
    "\n",
    "# Let's add the images themselves under each dot.    \n",
    "for ind, im in enumerate(image_order):\n",
    "    im_ax = fig.add_subplot(gs[1, ind])\n",
    "    im_ax.imshow(session.stimulus_templates['warped'][im], cmap='gray')\n",
    "    im_ax.axes.xaxis.set_visible(False)\n",
    "    im_ax.axes.yaxis.set_visible(False)\n"
   ]
  }
 ],
 "metadata": {
  "kernelspec": {
   "display_name": "Python 3 (ipykernel)",
   "language": "python",
   "name": "python3"
  },
  "language_info": {
   "codemirror_mode": {
    "name": "ipython",
    "version": 3
   },
   "file_extension": ".py",
   "mimetype": "text/x-python",
   "name": "python",
   "nbconvert_exporter": "python",
   "pygments_lexer": "ipython3",
   "version": "3.8.13"
  }
 },
 "nbformat": 4,
 "nbformat_minor": 2
}
