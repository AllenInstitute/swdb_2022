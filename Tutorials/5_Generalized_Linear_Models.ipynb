{
 "cells": [
  {
   "cell_type": "markdown",
   "metadata": {},
   "source": [
    "<img src=\"../resources/cropped-SummerWorkshop_Header.png\"> \n",
    "\n",
    "<h1 align=\"center\">Tutorial on Generalized Linear Models (GLM) </h1> \n",
    "<h2 align=\"center\">Summer Workshop on the Dynamic Brain </h2> \n",
    "<h3 align=\"center\">Tuesday, August 30, 2022</h3> \n",
    "\n"
   ]
  },
  {
   "cell_type": "markdown",
   "metadata": {},
   "source": [
    "<div style=\"border-left: 3px solid #000; padding: 1px; padding-left: 10px; background: #F0FAFF; \">\n",
    "\n",
    "<p> As scientists, we want to build models of data that are as simple as possible, and are able to explain the data as well as possible. Sometimes, when linear regression doesn't cut it and more complicated nonlinear models are too difficult to fit and/or analyze, Genaralized Linear Models (GLM) can be a good choice. They have also been used a lot to model neural responses to stimuli, as we will do in this notebook.</p>\n",
    "\n",
    "<p>\n",
    "The GLM is defined as follows for some input $\\vec{x}_i$ and output $y_i$:\n",
    "</p>\n",
    "<p>\n",
    "$P(y_i|\\vec{x}_i;\\vec{w}) = F(g^{-1}(\\vec{w}\\cdot\\vec{x}_i))$\n",
    "</p>\n",
    "    \n",
    "<p>\n",
    "Where $g$ is called the \"link function\", $F(m)$ represents some probability distribution with mean $m$, and $\\vec{w}$ is a vector of fitted parameters. These parameters are fitted by finding the $\\vec{w}$ that maximizes $\\prod_{i=1}^N P(y_i|\\vec{x}_i;\\vec{w})$ for some dataset of $N$ samples. Note that when $g$ is the identity, and $F$ is the normal distribution with some fixed variance, this is just a linear regression problem. When $g$ is logit (inverse of the sigmoid function), and $F$ is the Bernoulli distribution, this is logistic regression.\n",
    "</p>\n",
    "   \n",
    "<p>\n",
    "In this tutorial, we will use the statsmodels package (https://www.statsmodels.org/stable/glm.html) to fit parameters for GLMs, since it is simple and fast. However, some instances of GLM are available in the sci-kit learn package, e.g. PoissonRegressor, TweedieRegressor, GammaRegressor, and of course LogisticRegression and LinearRegression from sklearn.linear_model (https://scikit-learn.org/stable/modules/classes.html#module-sklearn.linear_model).\n",
    "</p> \n",
    "    \n",
    "<p>\n",
    "In order to use this package, we must supply $y_i$ and $\\vec{x}_i$ for all $i$. Statsmodels expects a \"design matrix\" of inputs, </p>\n",
    "    \n",
    "$$\\begin{bmatrix} \\vec{x}_1^T \\\\ \\vdots \\\\ \\vec{x}_N^T \\end{bmatrix}$$\n",
    "<p> and a vector of outputs, </p>\n",
    "$$\\begin{bmatrix} y_{1} \\\\ \\vdots \\\\ y_{N}\\end{bmatrix}$$\n",
    "    \n",
    "</div>"
   ]
  },
  {
   "cell_type": "code",
   "execution_count": 1,
   "metadata": {},
   "outputs": [],
   "source": [
    "# !conda install --yes statsmodels\n",
    "# !conda install --yes -c conda-forge numpy=1.22"
   ]
  },
  {
   "cell_type": "code",
   "execution_count": 2,
   "metadata": {},
   "outputs": [],
   "source": [
    "import numpy as np\n",
    "from matplotlib import pyplot as plt\n",
    "import os\n",
    "import pandas as pd\n",
    "\n",
    "%matplotlib inline"
   ]
  },
  {
   "cell_type": "markdown",
   "metadata": {},
   "source": [
    "We'll use the statsmodels package to fit GLMs."
   ]
  },
  {
   "cell_type": "code",
   "execution_count": 3,
   "metadata": {},
   "outputs": [],
   "source": [
    "import statsmodels.api as sm"
   ]
  },
  {
   "cell_type": "markdown",
   "metadata": {},
   "source": [
    "Let's explore the GLM functionality using a dataset much more exciting than neuroscience..."
   ]
  },
  {
   "cell_type": "code",
   "execution_count": 4,
   "metadata": {},
   "outputs": [],
   "source": [
    "df = pd.read_csv('Data/pokemon_alopez247.csv')"
   ]
  },
  {
   "cell_type": "code",
   "execution_count": 5,
   "metadata": {},
   "outputs": [
    {
     "data": {
      "text/html": [
       "<div>\n",
       "<style scoped>\n",
       "    .dataframe tbody tr th:only-of-type {\n",
       "        vertical-align: middle;\n",
       "    }\n",
       "\n",
       "    .dataframe tbody tr th {\n",
       "        vertical-align: top;\n",
       "    }\n",
       "\n",
       "    .dataframe thead th {\n",
       "        text-align: right;\n",
       "    }\n",
       "</style>\n",
       "<table border=\"1\" class=\"dataframe\">\n",
       "  <thead>\n",
       "    <tr style=\"text-align: right;\">\n",
       "      <th></th>\n",
       "      <th>Number</th>\n",
       "      <th>Name</th>\n",
       "      <th>Type_1</th>\n",
       "      <th>Type_2</th>\n",
       "      <th>Total</th>\n",
       "      <th>HP</th>\n",
       "      <th>Attack</th>\n",
       "      <th>Defense</th>\n",
       "      <th>Sp_Atk</th>\n",
       "      <th>Sp_Def</th>\n",
       "      <th>...</th>\n",
       "      <th>Color</th>\n",
       "      <th>hasGender</th>\n",
       "      <th>Pr_Male</th>\n",
       "      <th>Egg_Group_1</th>\n",
       "      <th>Egg_Group_2</th>\n",
       "      <th>hasMegaEvolution</th>\n",
       "      <th>Height_m</th>\n",
       "      <th>Weight_kg</th>\n",
       "      <th>Catch_Rate</th>\n",
       "      <th>Body_Style</th>\n",
       "    </tr>\n",
       "  </thead>\n",
       "  <tbody>\n",
       "    <tr>\n",
       "      <th>0</th>\n",
       "      <td>1</td>\n",
       "      <td>Bulbasaur</td>\n",
       "      <td>Grass</td>\n",
       "      <td>Poison</td>\n",
       "      <td>318</td>\n",
       "      <td>45</td>\n",
       "      <td>49</td>\n",
       "      <td>49</td>\n",
       "      <td>65</td>\n",
       "      <td>65</td>\n",
       "      <td>...</td>\n",
       "      <td>Green</td>\n",
       "      <td>True</td>\n",
       "      <td>0.875</td>\n",
       "      <td>Monster</td>\n",
       "      <td>Grass</td>\n",
       "      <td>False</td>\n",
       "      <td>0.71</td>\n",
       "      <td>6.9</td>\n",
       "      <td>45</td>\n",
       "      <td>quadruped</td>\n",
       "    </tr>\n",
       "    <tr>\n",
       "      <th>1</th>\n",
       "      <td>2</td>\n",
       "      <td>Ivysaur</td>\n",
       "      <td>Grass</td>\n",
       "      <td>Poison</td>\n",
       "      <td>405</td>\n",
       "      <td>60</td>\n",
       "      <td>62</td>\n",
       "      <td>63</td>\n",
       "      <td>80</td>\n",
       "      <td>80</td>\n",
       "      <td>...</td>\n",
       "      <td>Green</td>\n",
       "      <td>True</td>\n",
       "      <td>0.875</td>\n",
       "      <td>Monster</td>\n",
       "      <td>Grass</td>\n",
       "      <td>False</td>\n",
       "      <td>0.99</td>\n",
       "      <td>13.0</td>\n",
       "      <td>45</td>\n",
       "      <td>quadruped</td>\n",
       "    </tr>\n",
       "    <tr>\n",
       "      <th>2</th>\n",
       "      <td>3</td>\n",
       "      <td>Venusaur</td>\n",
       "      <td>Grass</td>\n",
       "      <td>Poison</td>\n",
       "      <td>525</td>\n",
       "      <td>80</td>\n",
       "      <td>82</td>\n",
       "      <td>83</td>\n",
       "      <td>100</td>\n",
       "      <td>100</td>\n",
       "      <td>...</td>\n",
       "      <td>Green</td>\n",
       "      <td>True</td>\n",
       "      <td>0.875</td>\n",
       "      <td>Monster</td>\n",
       "      <td>Grass</td>\n",
       "      <td>True</td>\n",
       "      <td>2.01</td>\n",
       "      <td>100.0</td>\n",
       "      <td>45</td>\n",
       "      <td>quadruped</td>\n",
       "    </tr>\n",
       "    <tr>\n",
       "      <th>3</th>\n",
       "      <td>4</td>\n",
       "      <td>Charmander</td>\n",
       "      <td>Fire</td>\n",
       "      <td>NaN</td>\n",
       "      <td>309</td>\n",
       "      <td>39</td>\n",
       "      <td>52</td>\n",
       "      <td>43</td>\n",
       "      <td>60</td>\n",
       "      <td>50</td>\n",
       "      <td>...</td>\n",
       "      <td>Red</td>\n",
       "      <td>True</td>\n",
       "      <td>0.875</td>\n",
       "      <td>Monster</td>\n",
       "      <td>Dragon</td>\n",
       "      <td>False</td>\n",
       "      <td>0.61</td>\n",
       "      <td>8.5</td>\n",
       "      <td>45</td>\n",
       "      <td>bipedal_tailed</td>\n",
       "    </tr>\n",
       "    <tr>\n",
       "      <th>4</th>\n",
       "      <td>5</td>\n",
       "      <td>Charmeleon</td>\n",
       "      <td>Fire</td>\n",
       "      <td>NaN</td>\n",
       "      <td>405</td>\n",
       "      <td>58</td>\n",
       "      <td>64</td>\n",
       "      <td>58</td>\n",
       "      <td>80</td>\n",
       "      <td>65</td>\n",
       "      <td>...</td>\n",
       "      <td>Red</td>\n",
       "      <td>True</td>\n",
       "      <td>0.875</td>\n",
       "      <td>Monster</td>\n",
       "      <td>Dragon</td>\n",
       "      <td>False</td>\n",
       "      <td>1.09</td>\n",
       "      <td>19.0</td>\n",
       "      <td>45</td>\n",
       "      <td>bipedal_tailed</td>\n",
       "    </tr>\n",
       "  </tbody>\n",
       "</table>\n",
       "<p>5 rows × 23 columns</p>\n",
       "</div>"
      ],
      "text/plain": [
       "   Number        Name Type_1  Type_2  Total  HP  Attack  Defense  Sp_Atk  \\\n",
       "0       1   Bulbasaur  Grass  Poison    318  45      49       49      65   \n",
       "1       2     Ivysaur  Grass  Poison    405  60      62       63      80   \n",
       "2       3    Venusaur  Grass  Poison    525  80      82       83     100   \n",
       "3       4  Charmander   Fire     NaN    309  39      52       43      60   \n",
       "4       5  Charmeleon   Fire     NaN    405  58      64       58      80   \n",
       "\n",
       "   Sp_Def  ...  Color  hasGender  Pr_Male Egg_Group_1  Egg_Group_2  \\\n",
       "0      65  ...  Green       True    0.875     Monster        Grass   \n",
       "1      80  ...  Green       True    0.875     Monster        Grass   \n",
       "2     100  ...  Green       True    0.875     Monster        Grass   \n",
       "3      50  ...    Red       True    0.875     Monster       Dragon   \n",
       "4      65  ...    Red       True    0.875     Monster       Dragon   \n",
       "\n",
       "   hasMegaEvolution Height_m Weight_kg  Catch_Rate      Body_Style  \n",
       "0             False     0.71       6.9          45       quadruped  \n",
       "1             False     0.99      13.0          45       quadruped  \n",
       "2              True     2.01     100.0          45       quadruped  \n",
       "3             False     0.61       8.5          45  bipedal_tailed  \n",
       "4             False     1.09      19.0          45  bipedal_tailed  \n",
       "\n",
       "[5 rows x 23 columns]"
      ]
     },
     "execution_count": 5,
     "metadata": {},
     "output_type": "execute_result"
    }
   ],
   "source": [
    "df.head()"
   ]
  },
  {
   "cell_type": "markdown",
   "metadata": {},
   "source": [
    "As an example (modern cultural/gender studies project?), let's train a GLM to predict whether or not a pokemon species is gendered.\n",
    "\n",
    "First, we define our vector of outputs:"
   ]
  },
  {
   "cell_type": "code",
   "execution_count": 6,
   "metadata": {
    "scrolled": true
   },
   "outputs": [],
   "source": [
    "y = df.hasGender.values"
   ]
  },
  {
   "cell_type": "markdown",
   "metadata": {},
   "source": [
    "Next, we define our design matrix of inputs. First, let's select which columns we want to use as predictors:"
   ]
  },
  {
   "cell_type": "code",
   "execution_count": 7,
   "metadata": {
    "scrolled": true
   },
   "outputs": [
    {
     "data": {
      "text/html": [
       "<div>\n",
       "<style scoped>\n",
       "    .dataframe tbody tr th:only-of-type {\n",
       "        vertical-align: middle;\n",
       "    }\n",
       "\n",
       "    .dataframe tbody tr th {\n",
       "        vertical-align: top;\n",
       "    }\n",
       "\n",
       "    .dataframe thead th {\n",
       "        text-align: right;\n",
       "    }\n",
       "</style>\n",
       "<table border=\"1\" class=\"dataframe\">\n",
       "  <thead>\n",
       "    <tr style=\"text-align: right;\">\n",
       "      <th></th>\n",
       "      <th>HP</th>\n",
       "      <th>Attack</th>\n",
       "      <th>Defense</th>\n",
       "      <th>Sp_Atk</th>\n",
       "      <th>Sp_Def</th>\n",
       "      <th>Speed</th>\n",
       "      <th>Generation</th>\n",
       "      <th>isLegendary</th>\n",
       "      <th>hasMegaEvolution</th>\n",
       "      <th>Height_m</th>\n",
       "      <th>Weight_kg</th>\n",
       "      <th>Catch_Rate</th>\n",
       "    </tr>\n",
       "  </thead>\n",
       "  <tbody>\n",
       "    <tr>\n",
       "      <th>0</th>\n",
       "      <td>45</td>\n",
       "      <td>49</td>\n",
       "      <td>49</td>\n",
       "      <td>65</td>\n",
       "      <td>65</td>\n",
       "      <td>45</td>\n",
       "      <td>1</td>\n",
       "      <td>False</td>\n",
       "      <td>False</td>\n",
       "      <td>0.71</td>\n",
       "      <td>6.9</td>\n",
       "      <td>45</td>\n",
       "    </tr>\n",
       "    <tr>\n",
       "      <th>1</th>\n",
       "      <td>60</td>\n",
       "      <td>62</td>\n",
       "      <td>63</td>\n",
       "      <td>80</td>\n",
       "      <td>80</td>\n",
       "      <td>60</td>\n",
       "      <td>1</td>\n",
       "      <td>False</td>\n",
       "      <td>False</td>\n",
       "      <td>0.99</td>\n",
       "      <td>13.0</td>\n",
       "      <td>45</td>\n",
       "    </tr>\n",
       "    <tr>\n",
       "      <th>2</th>\n",
       "      <td>80</td>\n",
       "      <td>82</td>\n",
       "      <td>83</td>\n",
       "      <td>100</td>\n",
       "      <td>100</td>\n",
       "      <td>80</td>\n",
       "      <td>1</td>\n",
       "      <td>False</td>\n",
       "      <td>True</td>\n",
       "      <td>2.01</td>\n",
       "      <td>100.0</td>\n",
       "      <td>45</td>\n",
       "    </tr>\n",
       "    <tr>\n",
       "      <th>3</th>\n",
       "      <td>39</td>\n",
       "      <td>52</td>\n",
       "      <td>43</td>\n",
       "      <td>60</td>\n",
       "      <td>50</td>\n",
       "      <td>65</td>\n",
       "      <td>1</td>\n",
       "      <td>False</td>\n",
       "      <td>False</td>\n",
       "      <td>0.61</td>\n",
       "      <td>8.5</td>\n",
       "      <td>45</td>\n",
       "    </tr>\n",
       "    <tr>\n",
       "      <th>4</th>\n",
       "      <td>58</td>\n",
       "      <td>64</td>\n",
       "      <td>58</td>\n",
       "      <td>80</td>\n",
       "      <td>65</td>\n",
       "      <td>80</td>\n",
       "      <td>1</td>\n",
       "      <td>False</td>\n",
       "      <td>False</td>\n",
       "      <td>1.09</td>\n",
       "      <td>19.0</td>\n",
       "      <td>45</td>\n",
       "    </tr>\n",
       "  </tbody>\n",
       "</table>\n",
       "</div>"
      ],
      "text/plain": [
       "   HP  Attack  Defense  Sp_Atk  Sp_Def  Speed  Generation  isLegendary  \\\n",
       "0  45      49       49      65      65     45           1        False   \n",
       "1  60      62       63      80      80     60           1        False   \n",
       "2  80      82       83     100     100     80           1        False   \n",
       "3  39      52       43      60      50     65           1        False   \n",
       "4  58      64       58      80      65     80           1        False   \n",
       "\n",
       "   hasMegaEvolution  Height_m  Weight_kg  Catch_Rate  \n",
       "0             False      0.71        6.9          45  \n",
       "1             False      0.99       13.0          45  \n",
       "2              True      2.01      100.0          45  \n",
       "3             False      0.61        8.5          45  \n",
       "4             False      1.09       19.0          45  "
      ]
     },
     "execution_count": 7,
     "metadata": {},
     "output_type": "execute_result"
    }
   ],
   "source": [
    "X_df = df[df.columns[(df.dtypes!='object')\n",
    "                     &(~df.columns.isin(['Pr_Male','hasGender','Total','Number']))]]\n",
    "# X_df = pd.get_dummies(df.drop(['Name','Pr_Male','hasGender','Total','Number'],axis='columns'))\n",
    "X_df.head()"
   ]
  },
  {
   "cell_type": "markdown",
   "metadata": {},
   "source": [
    "Now, we use sm.add_constant to add a column of ones (**Question** Why?)."
   ]
  },
  {
   "cell_type": "code",
   "execution_count": 8,
   "metadata": {},
   "outputs": [],
   "source": [
    "X_dsn = sm.add_constant(X_df.astype(float))\n",
    "X_dsn = X_dsn/X_dsn.max(axis=0)"
   ]
  },
  {
   "cell_type": "markdown",
   "metadata": {},
   "source": [
    "Let's take a look at this design matrix:"
   ]
  },
  {
   "cell_type": "code",
   "execution_count": 9,
   "metadata": {},
   "outputs": [
    {
     "data": {
      "text/plain": [
       "[<matplotlib.axis.XTick at 0x7fb002994c40>,\n",
       " <matplotlib.axis.XTick at 0x7fb002994c10>,\n",
       " <matplotlib.axis.XTick at 0x7fb0029942e0>,\n",
       " <matplotlib.axis.XTick at 0x7fb002410af0>,\n",
       " <matplotlib.axis.XTick at 0x7fb002414250>,\n",
       " <matplotlib.axis.XTick at 0x7fb0024149a0>,\n",
       " <matplotlib.axis.XTick at 0x7fb00241a130>,\n",
       " <matplotlib.axis.XTick at 0x7fb00241a880>,\n",
       " <matplotlib.axis.XTick at 0x7fb002414a00>,\n",
       " <matplotlib.axis.XTick at 0x7fb00247d970>,\n",
       " <matplotlib.axis.XTick at 0x7fb00241a640>,\n",
       " <matplotlib.axis.XTick at 0x7fb002421430>,\n",
       " <matplotlib.axis.XTick at 0x7fb002421b80>]"
      ]
     },
     "execution_count": 9,
     "metadata": {},
     "output_type": "execute_result"
    },
    {
     "data": {
      "image/png": "[encoded data removed]",
      "text/plain": [
       "<Figure size 1080x432 with 1 Axes>"
      ]
     },
     "metadata": {
      "needs_background": "light"
     },
     "output_type": "display_data"
    }
   ],
   "source": [
    "fig,ax = plt.subplots(figsize=(15,6))\n",
    "n_rows = 30\n",
    "ax.imshow(X_dsn.values[:n_rows,:]) #looking at only the first 30 species\n",
    "ax.set_ylabel('Species',fontsize=14)\n",
    "ax.set_xlabel('Predictors',fontsize=14)\n",
    "ax.set_yticks(ticks=np.arange(n_rows),labels=df.Name.values[:30])\n",
    "ax.set_xticks(ticks=np.arange(X_dsn.shape[1]),labels=X_dsn.columns,rotation=90)\n"
   ]
  },
  {
   "cell_type": "markdown",
   "metadata": {},
   "source": [
    "Now we're ready to make a GLM model, and fit it to data. The 'family' argument tells statsmodels which distribution to use for the output."
   ]
  },
  {
   "cell_type": "code",
   "execution_count": 10,
   "metadata": {
    "scrolled": true
   },
   "outputs": [
    {
     "data": {
      "text/html": [
       "<table class=\"simpletable\">\n",
       "<caption>Generalized Linear Model Regression Results</caption>\n",
       "<tr>\n",
       "  <th>Dep. Variable:</th>           <td>y</td>        <th>  No. Observations:  </th>  <td>   721</td> \n",
       "</tr>\n",
       "<tr>\n",
       "  <th>Model:</th>                  <td>GLM</td>       <th>  Df Residuals:      </th>  <td>   708</td> \n",
       "</tr>\n",
       "<tr>\n",
       "  <th>Model Family:</th>        <td>Binomial</td>     <th>  Df Model:          </th>  <td>    12</td> \n",
       "</tr>\n",
       "<tr>\n",
       "  <th>Link Function:</th>         <td>Logit</td>      <th>  Scale:             </th> <td>  1.0000</td>\n",
       "</tr>\n",
       "<tr>\n",
       "  <th>Method:</th>                <td>IRLS</td>       <th>  Log-Likelihood:    </th> <td> -135.17</td>\n",
       "</tr>\n",
       "<tr>\n",
       "  <th>Date:</th>            <td>Tue, 30 Aug 2022</td> <th>  Deviance:          </th> <td>  270.35</td>\n",
       "</tr>\n",
       "<tr>\n",
       "  <th>Time:</th>                <td>07:33:04</td>     <th>  Pearson chi2:      </th>  <td>  881.</td> \n",
       "</tr>\n",
       "<tr>\n",
       "  <th>No. Iterations:</th>          <td>7</td>        <th>  Pseudo R-squ. (CS):</th>  <td>0.2626</td> \n",
       "</tr>\n",
       "<tr>\n",
       "  <th>Covariance Type:</th>     <td>nonrobust</td>    <th>                     </th>     <td> </td>   \n",
       "</tr>\n",
       "</table>\n",
       "<table class=\"simpletable\">\n",
       "<tr>\n",
       "          <td></td>            <th>coef</th>     <th>std err</th>      <th>z</th>      <th>P>|z|</th>  <th>[0.025</th>    <th>0.975]</th>  \n",
       "</tr>\n",
       "<tr>\n",
       "  <th>const</th>            <td>    4.2214</td> <td>    1.447</td> <td>    2.917</td> <td> 0.004</td> <td>    1.385</td> <td>    7.057</td>\n",
       "</tr>\n",
       "<tr>\n",
       "  <th>HP</th>               <td>    5.7535</td> <td>    2.907</td> <td>    1.979</td> <td> 0.048</td> <td>    0.055</td> <td>   11.452</td>\n",
       "</tr>\n",
       "<tr>\n",
       "  <th>Attack</th>           <td>    0.6058</td> <td>    1.474</td> <td>    0.411</td> <td> 0.681</td> <td>   -2.282</td> <td>    3.494</td>\n",
       "</tr>\n",
       "<tr>\n",
       "  <th>Defense</th>          <td>   -2.3399</td> <td>    1.599</td> <td>   -1.464</td> <td> 0.143</td> <td>   -5.473</td> <td>    0.793</td>\n",
       "</tr>\n",
       "<tr>\n",
       "  <th>Sp_Atk</th>           <td>   -2.9851</td> <td>    1.166</td> <td>   -2.561</td> <td> 0.010</td> <td>   -5.270</td> <td>   -0.700</td>\n",
       "</tr>\n",
       "<tr>\n",
       "  <th>Sp_Def</th>           <td>   -3.1065</td> <td>    1.661</td> <td>   -1.870</td> <td> 0.061</td> <td>   -6.363</td> <td>    0.150</td>\n",
       "</tr>\n",
       "<tr>\n",
       "  <th>Speed</th>            <td>   -1.8864</td> <td>    1.245</td> <td>   -1.515</td> <td> 0.130</td> <td>   -4.327</td> <td>    0.555</td>\n",
       "</tr>\n",
       "<tr>\n",
       "  <th>Generation</th>       <td>    0.6909</td> <td>    0.608</td> <td>    1.137</td> <td> 0.256</td> <td>   -0.500</td> <td>    1.882</td>\n",
       "</tr>\n",
       "<tr>\n",
       "  <th>isLegendary</th>      <td>   -3.9195</td> <td>    0.681</td> <td>   -5.755</td> <td> 0.000</td> <td>   -5.254</td> <td>   -2.585</td>\n",
       "</tr>\n",
       "<tr>\n",
       "  <th>hasMegaEvolution</th> <td>    2.1060</td> <td>    0.866</td> <td>    2.433</td> <td> 0.015</td> <td>    0.409</td> <td>    3.803</td>\n",
       "</tr>\n",
       "<tr>\n",
       "  <th>Height_m</th>         <td>   10.4754</td> <td>    4.223</td> <td>    2.481</td> <td> 0.013</td> <td>    2.199</td> <td>   18.752</td>\n",
       "</tr>\n",
       "<tr>\n",
       "  <th>Weight_kg</th>        <td>   -9.4866</td> <td>    2.426</td> <td>   -3.911</td> <td> 0.000</td> <td>  -14.241</td> <td>   -4.733</td>\n",
       "</tr>\n",
       "<tr>\n",
       "  <th>Catch_Rate</th>       <td>    0.5129</td> <td>    0.972</td> <td>    0.528</td> <td> 0.598</td> <td>   -1.392</td> <td>    2.418</td>\n",
       "</tr>\n",
       "</table>"
      ],
      "text/plain": [
       "<class 'statsmodels.iolib.summary.Summary'>\n",
       "\"\"\"\n",
       "                 Generalized Linear Model Regression Results                  \n",
       "==============================================================================\n",
       "Dep. Variable:                      y   No. Observations:                  721\n",
       "Model:                            GLM   Df Residuals:                      708\n",
       "Model Family:                Binomial   Df Model:                           12\n",
       "Link Function:                  Logit   Scale:                          1.0000\n",
       "Method:                          IRLS   Log-Likelihood:                -135.17\n",
       "Date:                Tue, 30 Aug 2022   Deviance:                       270.35\n",
       "Time:                        07:33:04   Pearson chi2:                     881.\n",
       "No. Iterations:                     7   Pseudo R-squ. (CS):             0.2626\n",
       "Covariance Type:            nonrobust                                         \n",
       "====================================================================================\n",
       "                       coef    std err          z      P>|z|      [0.025      0.975]\n",
       "------------------------------------------------------------------------------------\n",
       "const                4.2214      1.447      2.917      0.004       1.385       7.057\n",
       "HP                   5.7535      2.907      1.979      0.048       0.055      11.452\n",
       "Attack               0.6058      1.474      0.411      0.681      -2.282       3.494\n",
       "Defense             -2.3399      1.599     -1.464      0.143      -5.473       0.793\n",
       "Sp_Atk              -2.9851      1.166     -2.561      0.010      -5.270      -0.700\n",
       "Sp_Def              -3.1065      1.661     -1.870      0.061      -6.363       0.150\n",
       "Speed               -1.8864      1.245     -1.515      0.130      -4.327       0.555\n",
       "Generation           0.6909      0.608      1.137      0.256      -0.500       1.882\n",
       "isLegendary         -3.9195      0.681     -5.755      0.000      -5.254      -2.585\n",
       "hasMegaEvolution     2.1060      0.866      2.433      0.015       0.409       3.803\n",
       "Height_m            10.4754      4.223      2.481      0.013       2.199      18.752\n",
       "Weight_kg           -9.4866      2.426     -3.911      0.000     -14.241      -4.733\n",
       "Catch_Rate           0.5129      0.972      0.528      0.598      -1.392       2.418\n",
       "====================================================================================\n",
       "\"\"\""
      ]
     },
     "execution_count": 10,
     "metadata": {},
     "output_type": "execute_result"
    }
   ],
   "source": [
    "glm = sm.GLM(y,X_dsn,family=sm.families.Binomial())\n",
    "results = glm.fit()\n",
    "results.summary()"
   ]
  },
  {
   "cell_type": "code",
   "execution_count": 11,
   "metadata": {},
   "outputs": [
    {
     "data": {
      "text/plain": [
       "Text(0, 0.5, 'Coefficient (MLE $\\\\pm$ SEM)')"
      ]
     },
     "execution_count": 11,
     "metadata": {},
     "output_type": "execute_result"
    },
    {
     "data": {
      "image/png": "[encoded data removed]",
      "text/plain": [
       "<Figure size 432x288 with 1 Axes>"
      ]
     },
     "metadata": {
      "needs_background": "light"
     },
     "output_type": "display_data"
    }
   ],
   "source": [
    "fig,ax = plt.subplots()\n",
    "ax.errorbar(np.arange(X_dsn.shape[1]),results.params,yerr=results.bse,fmt='*')\n",
    "ax.axhline(0,color='k')\n",
    "ax.set_xticks(ticks = np.arange(X_dsn.shape[1]),labels = X_dsn.columns, rotation=90)\n",
    "ax.set_ylim([-15,15])\n",
    "ax.set_xlabel('Predictor',fontsize=14)\n",
    "ax.set_ylabel('Coefficient (MLE $\\pm$ SEM)',fontsize=14)\n"
   ]
  },
  {
   "cell_type": "markdown",
   "metadata": {},
   "source": [
    "We can interrogate 'results' to evaluate our fitted model:"
   ]
  },
  {
   "cell_type": "code",
   "execution_count": 12,
   "metadata": {},
   "outputs": [
    {
     "name": "stdout",
     "output_type": "stream",
     "text": [
      "Accuracy:  0.9361997226074896\n",
      "Average likelihood:  0.8290442917904213\n"
     ]
    }
   ],
   "source": [
    "y_pred = results.predict(X_dsn)>0.5\n",
    "accuracy = np.mean(y_pred==y)\n",
    "print('Accuracy: ', accuracy)\n",
    "print('Average likelihood: ', np.exp(results.llf/X_dsn.shape[0]))"
   ]
  },
  {
   "cell_type": "markdown",
   "metadata": {},
   "source": [
    "<div style=\"border-left: 3px solid #000; padding: 1px; padding-left: 10px; background: #F0FAFF; \">\n",
    "<p>\n",
    "    To model neural spiking, $y_i$ will be the number of spikes a neuron fires in time bin $i$, and $\\vec{x}_i$ will be a vector of all the predictors used to predict $y_i$. This will include three types of predictors:</p>\n",
    "   \n",
    "\n",
    " 1. The stimulus incident on our neuron during time bin $i$, and for $d-1$ time bins leading up to it\n",
    "    \n",
    " 2. The spiking history of our neuron for $d$ time bins leading up to time bin $i$\n",
    "    \n",
    " 3. A constant $1$ - the corresponding element of $\\vec{w}$ will be an offset term\n",
    "\n",
    "<p>\n",
    "Each vector will therefore look like this: \n",
    "    $\\vec{x}_i = [stimulus_i,...,stimulus_{i-d+1},y_{i-1},...,y_{i-d},1]^T$\n",
    "</p>\n",
    "\n",
    "<img src=\"images/GLM_Pillow.png\" width=\"480\">\n",
    "\n",
    "   \n",
    "<p>   \n",
    "We refer to the corresponding parts of $\\vec{w}$ as the \"stimulus filter\", \"spike history filter\", and \"offset\". Traditionally, when using GLMs to model neural spiking, we use a log link function, i.e. $g^{-1}(a) = e^a$, and a Poisson distribution.\n",
    "</p>\n",
    "\n",
    "<p>\n",
    "For this model, the design matrix looks like this: </p>\n",
    "</div>\n",
    "\n",
    "<div style=\"border-left: 3px solid #000; padding: 1px; padding-left: 10px; background: #F0FAFF; font-size: 70%;\">\n",
    "    \n",
    "$$\\begin{bmatrix} \\vec{x}_1^T \\\\ \\vdots \\\\ \\vec{x}_N^T \\end{bmatrix} = \\begin{bmatrix} stimulus_{d+1} & stimulus_{d} & ... & stimulus_{3} & stimulus_{2} & y_{d} & y_{d-1} & ... & y_{2} & y_{1} & 1 \\\\ stimulus_{d+2} & stimulus_{d+1} & ... & stimulus_{4} & stimulus_{3} & y_{d+1} & y_{d} & ... & y_{3} & y_{2} & 1 \\\\ \\vdots &\\vdots & \\ddots & \\vdots &\\vdots &\\vdots &\\vdots& \\ddots & \\vdots &\\vdots &\\vdots\\\\ stimulus_{d+N} & stimulus_{d+N-1} & ... & stimulus_{N+2} & stimulus_{N+1} & y_{d+N-1} & y_{d+N-2} & ... & y_{N+1} & y_{N} & 1 \\end{bmatrix}$$\n",
    "    \n",
    "</div>\n",
    "\n",
    "<div style=\"border-left: 3px solid #000; padding: 1px; padding-left: 10px; background: #F0FAFF;\">    \n",
    "    \n",
    "<p> And the vector of outputs is: </p>\n",
    "$$\\begin{bmatrix} y_{d+1} \\\\ \\vdots \\\\ y_{d+N}\\end{bmatrix}$$\n",
    "    \n",
    "</div>"
   ]
  },
  {
   "cell_type": "markdown",
   "metadata": {},
   "source": [
    "Below, we define a few helper functions to take care of simulating the spiking output of a GLM and fitting a spiking GLM to data (including constructing the design matrix)."
   ]
  },
  {
   "cell_type": "code",
   "execution_count": 13,
   "metadata": {},
   "outputs": [],
   "source": [
    "def sim_GLM(stim, stim_filt, spk_filt, offset,max_spikes_per_bin=5):\n",
    "    \"\"\"\n",
    "    Simulate a GLM's response to a 1D stimulus\n",
    "    Inputs:\n",
    "    stim: The stimulus - np array with shape (T,) \n",
    "    stim_filt: Stimulus filter - np array with shape (d,)\n",
    "    spk_filt: Spike history filter - np array with shape (d,)\n",
    "    offset: Offset term - scalar\n",
    "    max_spikes_per_bin: Maximum number of spikes allowed in a single time bin\n",
    "\n",
    "    Outputs:\n",
    "    spks: the spiking response - (T,) ndarray\n",
    "    \"\"\"\n",
    "    \n",
    "    d = stim_filt.size\n",
    "    T = stim.size\n",
    "    spks = np.zeros((T,)) # spiking starts at time step d\n",
    "    rate = np.zeros((T,))\n",
    "    for i in range(d,T):\n",
    "        rate[i] = np.exp(np.flip(stim_filt,-1).dot(stim[i-d+1:i+1])\n",
    "                         +np.flip(spk_filt,-1).dot(spks[i-d:i])\n",
    "                         +offset)\n",
    "        spks[i] = np.random.poisson(rate[i])\n",
    "        spks[i] = min(spks[i],max_spikes_per_bin)\n",
    "    return spks\n",
    "\n",
    "\n",
    "\n",
    "\n",
    "def construct_Xdsn(flat_stimulus, binned_spikes, d):\n",
    "    \"\"\"\n",
    "    Construct the design matrix for a given stimulus and spiking response\n",
    "    Inputs:\n",
    "    flat_stimulus: the stimulus - an (MxT) ndarray, \n",
    "                M is the dimension of the stimulus, \n",
    "                T is the number of time samples\n",
    "    binned_spikes: the spiking response - a (T,) ndarray \n",
    "    d: integer - how many time bins of history to use as predictors\n",
    "\n",
    "    Outputs:\n",
    "    y: the dependent variable to be predicted (spiking response) - (T-d,) ndarray\n",
    "    X_dsn: the design matrix of independent variables - 2D ndarray\n",
    "    \"\"\"\n",
    "    \n",
    "    T = binned_spikes.size # T is number of time bins\n",
    "    sh = flat_stimulus.shape # M is the size of a stimulus\n",
    "    if len(sh)==1:\n",
    "        M = 1\n",
    "        T1 = sh[0]\n",
    "        flat_stimulus = np.expand_dims(flat_stimulus,axis=0)\n",
    "    else:\n",
    "        (M,T1) = sh  \n",
    "    assert T==T1, \"arrays have a different number of time samples\"\n",
    "    \n",
    "    y = binned_spikes[d:]\n",
    "    X_dsn = np.ones((T-d,M*d+d+1)) #the last column is constant 1s\n",
    "    for t in range(T-d):\n",
    "        #stimulus inputs\n",
    "        X_dsn[t,:M*d] = np.flip(flat_stimulus[:,t+1:t+d+1],-1).reshape((1,-1)) \n",
    "        #spike history inputs\n",
    "        X_dsn[t,M*d:-1] = np.flip(binned_spikes[t:t+d],-1).reshape((1,-1)) \n",
    "    return y, X_dsn\n",
    "\n",
    "\n",
    "\n",
    "def fit_GLM(flat_stimulus, binned_spikes, d):\n",
    "    \"\"\"\n",
    "    Fit GLM parameters for a given stimulus and spiking response\n",
    "    Inputs:\n",
    "    flat_stimulus: the stimulus - an (MxT) ndarray, \n",
    "                    M is the dimension of the stimulus, \n",
    "                    T is the number of time samples\n",
    "    binned_spikes: the spiking response - a (T,) ndarray \n",
    "    d: integer - how many time bins of history to use as predictors\n",
    "\n",
    "    Outputs:\n",
    "    stim_filt, spk_filt, b: \n",
    "            the stimulus filter, spike history filter, and offset term\n",
    "    stim_se, spk_se, b_se: \n",
    "            the standard errors for these parameter estimates\n",
    "    \"\"\"\n",
    "    y, Xdsn = construct_Xdsn(flat_stimulus,binned_spikes,d)\n",
    "    model =  sm.GLM(y,Xdsn,family = sm.families.Poisson())\n",
    "    model_results = model.fit()\n",
    "    pred_rate = model_results.predict(Xdsn)\n",
    "    p = model_results.params\n",
    "    se = model_results.bse\n",
    "    \n",
    "    b = p[-1]\n",
    "    b_se = se[-1]\n",
    "    stim_filt = p[:-1-d]\n",
    "    stim_se = se[:-1-d]\n",
    "    spk_filt = p[-1-d:-1]\n",
    "    spk_se = se[-1-d:-1]\n",
    "    if stim_filt.size>d:\n",
    "        stim_filt = stim_filt.reshape([-1,d])\n",
    "        stim_se = stim_se.reshape([-1,d])\n",
    "    return stim_filt, spk_filt, b, stim_se, spk_se, b_se"
   ]
  },
  {
   "cell_type": "markdown",
   "metadata": {},
   "source": [
    "Now let's play around with simulating a GLM with some hand-picked parameters."
   ]
  },
  {
   "cell_type": "code",
   "execution_count": 14,
   "metadata": {},
   "outputs": [
    {
     "data": {
      "text/plain": [
       "Text(0.5, 0, 'time (bins)')"
      ]
     },
     "execution_count": 14,
     "metadata": {},
     "output_type": "execute_result"
    },
    {
     "data": {
      "image/png": "[encoded data removed]",
      "text/plain": [
       "<Figure size 432x288 with 2 Axes>"
      ]
     },
     "metadata": {
      "needs_background": "light"
     },
     "output_type": "display_data"
    }
   ],
   "source": [
    "d = 15 #how long our filters are (time bins)\n",
    "t_f = np.arange(d)\n",
    "spk_filt = -200*np.exp(-t_f/1.0) # self-interaction filter\n",
    "stim_filt = 20*np.exp(-t_f/1.0)  # stimulus filter\n",
    "b = -15.5 #offset\n",
    "\n",
    "fig, ax = plt.subplots(2,1)\n",
    "ax[0].plot(stim_filt,label='true')\n",
    "ax[0].set_ylabel('Stimulus filter')\n",
    "ax[1].plot(spk_filt,label='true')\n",
    "ax[1].set_ylabel('Spike history filter')\n",
    "ax[1].set_ylim([-20,2])\n",
    "ax[1].set_xlabel('time (bins)')"
   ]
  },
  {
   "cell_type": "markdown",
   "metadata": {},
   "source": [
    "Let's simulate a random Gaussian stimulus to feed into our GLM, and simulate the spiking response"
   ]
  },
  {
   "cell_type": "code",
   "execution_count": 15,
   "metadata": {},
   "outputs": [
    {
     "data": {
      "text/plain": [
       "Text(0.5, 0, 'time (samples)')"
      ]
     },
     "execution_count": 15,
     "metadata": {},
     "output_type": "execute_result"
    },
    {
     "data": {
      "image/png": "[encoded data removed]",
      "text/plain": [
       "<Figure size 432x288 with 2 Axes>"
      ]
     },
     "metadata": {
      "needs_background": "light"
     },
     "output_type": "display_data"
    }
   ],
   "source": [
    "T = 20000\n",
    "stim = np.random.normal(loc=0.3, scale=0.1,size=(T,))\n",
    "# stim = (1+np.sin(np.arange(T)/200))*0.2\n",
    "stim[0:T//10] = 0\n",
    "spks = sim_GLM(stim,stim_filt,spk_filt,b)\n",
    "\n",
    "fig,ax = plt.subplots(2,1)\n",
    "ax[0].plot(stim)\n",
    "ax[0].set_ylabel('stimulus',fontsize=14)\n",
    "\n",
    "ax[1].plot(spks)\n",
    "ax[1].set_ylabel('spiking response',fontsize=14)\n",
    "ax[1].set_xlabel('time (samples)',fontsize=14)"
   ]
  },
  {
   "cell_type": "markdown",
   "metadata": {},
   "source": [
    "Now let's use our fit_GLM function to see how well we can recover the true parameters. First, let's make and take a look at our design matrix:"
   ]
  },
  {
   "cell_type": "code",
   "execution_count": 16,
   "metadata": {},
   "outputs": [
    {
     "data": {
      "text/plain": [
       "Text(0, 0.5, 'sample')"
      ]
     },
     "execution_count": 16,
     "metadata": {},
     "output_type": "execute_result"
    },
    {
     "data": {
      "image/png": "[encoded data removed]",
      "text/plain": [
       "<Figure size 432x288 with 1 Axes>"
      ]
     },
     "metadata": {
      "needs_background": "light"
     },
     "output_type": "display_data"
    }
   ],
   "source": [
    "y, Xdsn = construct_Xdsn(stim,spks,d)\n",
    "plt.imshow(Xdsn[6000:6050,:])\n",
    "plt.xlabel('input dimension')\n",
    "plt.ylabel('sample')"
   ]
  },
  {
   "cell_type": "markdown",
   "metadata": {},
   "source": [
    "**Question:** If we wanted to split our data into train, validation, and test sets, should we shuffle the time points?\n",
    "\n",
    "\n",
    "Now, let's fit the GLM and take a look at the fitted parameters:"
   ]
  },
  {
   "cell_type": "code",
   "execution_count": 17,
   "metadata": {},
   "outputs": [
    {
     "name": "stdout",
     "output_type": "stream",
     "text": [
      "true offset = -15.5  fit offset = -15.417434729934648 +/- 0.7461843000162521\n"
     ]
    },
    {
     "data": {
      "image/png": "[encoded data removed]",
      "text/plain": [
       "<Figure size 432x288 with 2 Axes>"
      ]
     },
     "metadata": {
      "needs_background": "light"
     },
     "output_type": "display_data"
    }
   ],
   "source": [
    "stim_filt_fit, spk_filt_fit, b_fit, stim_se, spk_se, b_se = fit_GLM(stim,spks,d)\n",
    "fig,ax = plt.subplots(2,1)\n",
    "ax[0].plot(stim_filt,label='true')\n",
    "ax[0].errorbar(np.arange(d),stim_filt_fit,yerr=stim_se,label='estimated')\n",
    "ax[0].legend(fontsize=14)\n",
    "ax[0].set_ylabel('stimulus filter',fontsize=14)\n",
    "\n",
    "ax[1].plot(spk_filt,label='true')\n",
    "ax[1].errorbar(np.arange(d),spk_filt_fit,yerr=spk_se,label='estimated')\n",
    "ax[1].legend(fontsize=14)\n",
    "ax[1].set_ylabel('spike filter',fontsize=14)\n",
    "ax[1].set_ylim([-30,1])\n",
    "\n",
    "print('true offset =', b, ' fit offset =', b_fit, '+/-', b_se)"
   ]
  },
  {
   "cell_type": "markdown",
   "metadata": {},
   "source": [
    "**Question:** Why is the estimated spike filter \"bottoming out\"?"
   ]
  },
  {
   "cell_type": "markdown",
   "metadata": {},
   "source": [
    "Now let's practice fitting a GLM to Neuropixels data"
   ]
  },
  {
   "cell_type": "code",
   "execution_count": 18,
   "metadata": {},
   "outputs": [],
   "source": [
    "import platform\n",
    "platstring = platform.platform()\n",
    "\n",
    "data_dirname = 'visual-behavior-neuropixels'\n",
    "use_static = False\n",
    "if 'Darwin' in platstring or 'macOS' in platstring:\n",
    "    # macOS \n",
    "    data_root = \"/Volumes/Brain2022/\"\n",
    "elif 'Windows'  in platstring:\n",
    "    # Windows (replace with the drive letter of USB drive)\n",
    "    data_root = \"E:/\"\n",
    "elif ('amzn' in platstring):\n",
    "    # then on AWS\n",
    "    data_root = \"/data/\"\n",
    "    data_dirname = 'visual-behavior-neuropixels-data'\n",
    "    use_static = True\n",
    "else:\n",
    "    # then your own linux platform\n",
    "    # EDIT location where you mounted hard drive\n",
    "    data_root = \"/media/$USERNAME/Brain2022/\""
   ]
  },
  {
   "cell_type": "code",
   "execution_count": 19,
   "metadata": {},
   "outputs": [],
   "source": [
    "from allensdk.brain_observatory.behavior.behavior_project_cache.\\\n",
    "    behavior_neuropixels_project_cache \\\n",
    "    import VisualBehaviorNeuropixelsProjectCache\n",
    "\n",
    "# this path should point to the location of the dataset on your platform\n",
    "cache_dir = os.path.join(data_root, data_dirname)\n",
    "\n",
    "cache = VisualBehaviorNeuropixelsProjectCache.from_local_cache(\n",
    "            cache_dir=cache_dir, use_static_cache=use_static)"
   ]
  },
  {
   "cell_type": "code",
   "execution_count": 20,
   "metadata": {},
   "outputs": [
    {
     "name": "stderr",
     "output_type": "stream",
     "text": [
      "/srv/conda/envs/notebook/lib/python3.8/site-packages/hdmf/spec/namespace.py:531: UserWarning: Ignoring cached namespace 'core' version 2.4.0 because version 2.5.0 is already loaded.\n",
      "  warn(\"Ignoring cached namespace '%s' version %s because version %s is already loaded.\"\n"
     ]
    }
   ],
   "source": [
    "session_id = 1065437523  # This is the same session we used in the VBN intro\n",
    "session = cache.get_ecephys_session(ecephys_session_id=session_id)"
   ]
  },
  {
   "cell_type": "markdown",
   "metadata": {},
   "source": [
    "For now, let's stick with a simple stimulus, flashes"
   ]
  },
  {
   "cell_type": "code",
   "execution_count": 21,
   "metadata": {},
   "outputs": [],
   "source": [
    "stimulus_presentations = session.stimulus_presentations\n",
    "stim_table = stimulus_presentations[stimulus_presentations.stimulus_name=='flash_250ms']"
   ]
  },
  {
   "cell_type": "code",
   "execution_count": 22,
   "metadata": {},
   "outputs": [
    {
     "data": {
      "text/plain": [
       "150"
      ]
     },
     "execution_count": 22,
     "metadata": {},
     "output_type": "execute_result"
    }
   ],
   "source": [
    "len(stim_table)"
   ]
  },
  {
   "cell_type": "code",
   "execution_count": 23,
   "metadata": {},
   "outputs": [
    {
     "data": {
      "text/html": [
       "<div>\n",
       "<style scoped>\n",
       "    .dataframe tbody tr th:only-of-type {\n",
       "        vertical-align: middle;\n",
       "    }\n",
       "\n",
       "    .dataframe tbody tr th {\n",
       "        vertical-align: top;\n",
       "    }\n",
       "\n",
       "    .dataframe thead th {\n",
       "        text-align: right;\n",
       "    }\n",
       "</style>\n",
       "<table border=\"1\" class=\"dataframe\">\n",
       "  <thead>\n",
       "    <tr style=\"text-align: right;\">\n",
       "      <th></th>\n",
       "      <th>active</th>\n",
       "      <th>color</th>\n",
       "      <th>contrast</th>\n",
       "      <th>duration</th>\n",
       "      <th>end_frame</th>\n",
       "      <th>flashes_since_change</th>\n",
       "      <th>image_name</th>\n",
       "      <th>is_change</th>\n",
       "      <th>omitted</th>\n",
       "      <th>orientation</th>\n",
       "      <th>...</th>\n",
       "      <th>position_y</th>\n",
       "      <th>rewarded</th>\n",
       "      <th>spatial_frequency</th>\n",
       "      <th>start_frame</th>\n",
       "      <th>start_time</th>\n",
       "      <th>stimulus_block</th>\n",
       "      <th>stimulus_index</th>\n",
       "      <th>stimulus_name</th>\n",
       "      <th>stop_time</th>\n",
       "      <th>temporal_frequency</th>\n",
       "    </tr>\n",
       "    <tr>\n",
       "      <th>stimulus_presentations_id</th>\n",
       "      <th></th>\n",
       "      <th></th>\n",
       "      <th></th>\n",
       "      <th></th>\n",
       "      <th></th>\n",
       "      <th></th>\n",
       "      <th></th>\n",
       "      <th></th>\n",
       "      <th></th>\n",
       "      <th></th>\n",
       "      <th></th>\n",
       "      <th></th>\n",
       "      <th></th>\n",
       "      <th></th>\n",
       "      <th></th>\n",
       "      <th></th>\n",
       "      <th></th>\n",
       "      <th></th>\n",
       "      <th></th>\n",
       "      <th></th>\n",
       "      <th></th>\n",
       "    </tr>\n",
       "  </thead>\n",
       "  <tbody>\n",
       "    <tr>\n",
       "      <th>8444</th>\n",
       "      <td>False</td>\n",
       "      <td>-1.0</td>\n",
       "      <td>0.8</td>\n",
       "      <td>0.250201</td>\n",
       "      <td>288601</td>\n",
       "      <td>NaN</td>\n",
       "      <td>NaN</td>\n",
       "      <td>NaN</td>\n",
       "      <td>NaN</td>\n",
       "      <td>NaN</td>\n",
       "      <td>...</td>\n",
       "      <td>NaN</td>\n",
       "      <td>NaN</td>\n",
       "      <td>NaN</td>\n",
       "      <td>288586</td>\n",
       "      <td>4859.225759</td>\n",
       "      <td>4</td>\n",
       "      <td>1.0</td>\n",
       "      <td>flash_250ms</td>\n",
       "      <td>4859.475960</td>\n",
       "      <td>NaN</td>\n",
       "    </tr>\n",
       "    <tr>\n",
       "      <th>8445</th>\n",
       "      <td>False</td>\n",
       "      <td>1.0</td>\n",
       "      <td>0.8</td>\n",
       "      <td>0.250216</td>\n",
       "      <td>288721</td>\n",
       "      <td>NaN</td>\n",
       "      <td>NaN</td>\n",
       "      <td>NaN</td>\n",
       "      <td>NaN</td>\n",
       "      <td>NaN</td>\n",
       "      <td>...</td>\n",
       "      <td>NaN</td>\n",
       "      <td>NaN</td>\n",
       "      <td>NaN</td>\n",
       "      <td>288706</td>\n",
       "      <td>4861.227399</td>\n",
       "      <td>4</td>\n",
       "      <td>1.0</td>\n",
       "      <td>flash_250ms</td>\n",
       "      <td>4861.477615</td>\n",
       "      <td>NaN</td>\n",
       "    </tr>\n",
       "    <tr>\n",
       "      <th>8446</th>\n",
       "      <td>False</td>\n",
       "      <td>1.0</td>\n",
       "      <td>0.8</td>\n",
       "      <td>0.250208</td>\n",
       "      <td>288841</td>\n",
       "      <td>NaN</td>\n",
       "      <td>NaN</td>\n",
       "      <td>NaN</td>\n",
       "      <td>NaN</td>\n",
       "      <td>NaN</td>\n",
       "      <td>...</td>\n",
       "      <td>NaN</td>\n",
       "      <td>NaN</td>\n",
       "      <td>NaN</td>\n",
       "      <td>288826</td>\n",
       "      <td>4863.229099</td>\n",
       "      <td>4</td>\n",
       "      <td>1.0</td>\n",
       "      <td>flash_250ms</td>\n",
       "      <td>4863.479307</td>\n",
       "      <td>NaN</td>\n",
       "    </tr>\n",
       "    <tr>\n",
       "      <th>8447</th>\n",
       "      <td>False</td>\n",
       "      <td>-1.0</td>\n",
       "      <td>0.8</td>\n",
       "      <td>0.250211</td>\n",
       "      <td>288961</td>\n",
       "      <td>NaN</td>\n",
       "      <td>NaN</td>\n",
       "      <td>NaN</td>\n",
       "      <td>NaN</td>\n",
       "      <td>NaN</td>\n",
       "      <td>...</td>\n",
       "      <td>NaN</td>\n",
       "      <td>NaN</td>\n",
       "      <td>NaN</td>\n",
       "      <td>288946</td>\n",
       "      <td>4865.230769</td>\n",
       "      <td>4</td>\n",
       "      <td>1.0</td>\n",
       "      <td>flash_250ms</td>\n",
       "      <td>4865.480980</td>\n",
       "      <td>NaN</td>\n",
       "    </tr>\n",
       "    <tr>\n",
       "      <th>8448</th>\n",
       "      <td>False</td>\n",
       "      <td>-1.0</td>\n",
       "      <td>0.8</td>\n",
       "      <td>0.250211</td>\n",
       "      <td>289081</td>\n",
       "      <td>NaN</td>\n",
       "      <td>NaN</td>\n",
       "      <td>NaN</td>\n",
       "      <td>NaN</td>\n",
       "      <td>NaN</td>\n",
       "      <td>...</td>\n",
       "      <td>NaN</td>\n",
       "      <td>NaN</td>\n",
       "      <td>NaN</td>\n",
       "      <td>289066</td>\n",
       "      <td>4867.232469</td>\n",
       "      <td>4</td>\n",
       "      <td>1.0</td>\n",
       "      <td>flash_250ms</td>\n",
       "      <td>4867.482680</td>\n",
       "      <td>NaN</td>\n",
       "    </tr>\n",
       "  </tbody>\n",
       "</table>\n",
       "<p>5 rows × 21 columns</p>\n",
       "</div>"
      ],
      "text/plain": [
       "                           active  color  contrast  duration  end_frame  \\\n",
       "stimulus_presentations_id                                                 \n",
       "8444                        False   -1.0       0.8  0.250201     288601   \n",
       "8445                        False    1.0       0.8  0.250216     288721   \n",
       "8446                        False    1.0       0.8  0.250208     288841   \n",
       "8447                        False   -1.0       0.8  0.250211     288961   \n",
       "8448                        False   -1.0       0.8  0.250211     289081   \n",
       "\n",
       "                           flashes_since_change image_name is_change omitted  \\\n",
       "stimulus_presentations_id                                                      \n",
       "8444                                        NaN        NaN       NaN     NaN   \n",
       "8445                                        NaN        NaN       NaN     NaN   \n",
       "8446                                        NaN        NaN       NaN     NaN   \n",
       "8447                                        NaN        NaN       NaN     NaN   \n",
       "8448                                        NaN        NaN       NaN     NaN   \n",
       "\n",
       "                           orientation  ...  position_y  rewarded  \\\n",
       "stimulus_presentations_id               ...                         \n",
       "8444                               NaN  ...         NaN       NaN   \n",
       "8445                               NaN  ...         NaN       NaN   \n",
       "8446                               NaN  ...         NaN       NaN   \n",
       "8447                               NaN  ...         NaN       NaN   \n",
       "8448                               NaN  ...         NaN       NaN   \n",
       "\n",
       "                          spatial_frequency  start_frame   start_time  \\\n",
       "stimulus_presentations_id                                               \n",
       "8444                                    NaN       288586  4859.225759   \n",
       "8445                                    NaN       288706  4861.227399   \n",
       "8446                                    NaN       288826  4863.229099   \n",
       "8447                                    NaN       288946  4865.230769   \n",
       "8448                                    NaN       289066  4867.232469   \n",
       "\n",
       "                           stimulus_block  stimulus_index  stimulus_name  \\\n",
       "stimulus_presentations_id                                                  \n",
       "8444                                    4             1.0    flash_250ms   \n",
       "8445                                    4             1.0    flash_250ms   \n",
       "8446                                    4             1.0    flash_250ms   \n",
       "8447                                    4             1.0    flash_250ms   \n",
       "8448                                    4             1.0    flash_250ms   \n",
       "\n",
       "                             stop_time  temporal_frequency  \n",
       "stimulus_presentations_id                                   \n",
       "8444                       4859.475960                 NaN  \n",
       "8445                       4861.477615                 NaN  \n",
       "8446                       4863.479307                 NaN  \n",
       "8447                       4865.480980                 NaN  \n",
       "8448                       4867.482680                 NaN  \n",
       "\n",
       "[5 rows x 21 columns]"
      ]
     },
     "execution_count": 23,
     "metadata": {},
     "output_type": "execute_result"
    }
   ],
   "source": [
    "stim_table.head()"
   ]
  },
  {
   "cell_type": "markdown",
   "metadata": {},
   "source": [
    "We need to make a choice about how represent the stimulus during each time bin as a vector. for now, we'll choose 20ms bins with a scalar value:\n",
    " - +1 if a bright flash takes up most of the bin\n",
    " - -1 if a dark flash takes up most of the bin\n",
    " - 0 otherwise\n",
    " \n",
    " First, let's figure out the timestamps of the data we want to use:"
   ]
  },
  {
   "cell_type": "code",
   "execution_count": 24,
   "metadata": {},
   "outputs": [
    {
     "name": "stdout",
     "output_type": "stream",
     "text": [
      "4858.93 5158.03 14954\n"
     ]
    }
   ],
   "source": [
    "flashes = 150\n",
    "start = np.round(stim_table.start_time.iloc[0]-0.3,decimals=2)\n",
    "stop = np.round(stim_table.stop_time.iloc[flashes-1]+0.3,decimals=2)\n",
    "dt = 0.02\n",
    "T = int((stop-start)/dt)\n",
    "print(start,stop,T)"
   ]
  },
  {
   "cell_type": "markdown",
   "metadata": {},
   "source": [
    "Next, go through each flash and fill in the stimulus vector during that flash with the appropriate value."
   ]
  },
  {
   "cell_type": "code",
   "execution_count": 25,
   "metadata": {},
   "outputs": [
    {
     "data": {
      "text/plain": [
       "(4858.93, 4888.93)"
      ]
     },
     "execution_count": 25,
     "metadata": {},
     "output_type": "execute_result"
    },
    {
     "data": {
      "image/png": "[encoded data removed]",
      "text/plain": [
       "<Figure size 432x288 with 1 Axes>"
      ]
     },
     "metadata": {
      "needs_background": "light"
     },
     "output_type": "display_data"
    }
   ],
   "source": [
    "time_vector = np.arange(T)*dt+start\n",
    "stim_vector = np.zeros((T,))\n",
    "stim_matrix = np.zeros((2,T))\n",
    "for flash in range(flashes):\n",
    "    start_bin = int(np.round((stim_table.start_time.iloc[flash]-start)/dt))\n",
    "    stop_bin = int(np.round((stim_table.stop_time.iloc[flash]-start)/dt))\n",
    "    stim_vector[start_bin:stop_bin] = stim_table.color.iloc[flash]\n",
    "    stim_matrix[int(stim_table.color.iloc[flash]>0),start_bin:stop_bin] = 1\n",
    "plt.plot(time_vector,stim_vector.T)\n",
    "plt.xlabel('time (s)')\n",
    "plt.ylabel('stimulus')\n",
    "plt.xlim(time_vector[0],time_vector[0]+30)"
   ]
  },
  {
   "cell_type": "markdown",
   "metadata": {},
   "source": [
    "Now let's pick a single neuron and count how many times it spikes in each of these bins"
   ]
  },
  {
   "cell_type": "code",
   "execution_count": 26,
   "metadata": {},
   "outputs": [],
   "source": [
    "units = session.get_units()\n",
    "channels = session.get_channels()\n",
    "units = units.merge(channels, left_on='peak_channel_id', right_index=True)\n",
    "\n",
    "unit_id = units[units.structure_acronym=='VISp'].index[12] #interesting neurons: 12,13,15,17,20"
   ]
  },
  {
   "cell_type": "code",
   "execution_count": 27,
   "metadata": {},
   "outputs": [
    {
     "data": {
      "text/plain": [
       "(4858.93, 4888.93)"
      ]
     },
     "execution_count": 27,
     "metadata": {},
     "output_type": "execute_result"
    },
    {
     "data": {
      "image/png": "[encoded data removed]",
      "text/plain": [
       "<Figure size 432x288 with 1 Axes>"
      ]
     },
     "metadata": {
      "needs_background": "light"
     },
     "output_type": "display_data"
    }
   ],
   "source": [
    "spk_vector = np.zeros_like(stim_vector)\n",
    "for spike_time in session.spike_times[unit_id]:\n",
    "    if (spike_time>start) and (spike_time<stop):\n",
    "        spk_bin = int((spike_time-start)/dt)\n",
    "        spk_vector[spk_bin] += 1   \n",
    "\n",
    "plt.xlabel('time (s)')\n",
    "plt.plot(time_vector,spk_vector,label='spikes')\n",
    "plt.plot(time_vector,stim_vector,label='stimulus')\n",
    "plt.legend()\n",
    "plt.xlim(time_vector[0],time_vector[0]+30)"
   ]
  },
  {
   "cell_type": "markdown",
   "metadata": {},
   "source": [
    "Now let's fit a GLM to this data and see what the parameters look like"
   ]
  },
  {
   "cell_type": "code",
   "execution_count": 28,
   "metadata": {},
   "outputs": [
    {
     "name": "stdout",
     "output_type": "stream",
     "text": [
      "estimated offset =  -4.422665900253607  $\\pm$  0.07971065829018141\n"
     ]
    },
    {
     "data": {
      "image/png": "[encoded data removed]",
      "text/plain": [
       "<Figure size 432x288 with 2 Axes>"
      ]
     },
     "metadata": {
      "needs_background": "light"
     },
     "output_type": "display_data"
    }
   ],
   "source": [
    "d = 15\n",
    "tuple_of_params = fit_GLM(stim_vector,spk_vector,d) #stim_vector or stim_matrix\n",
    "stim_filt_fit, spk_filt_fit, b_fit, stim_se, spk_se, b_se = tuple_of_params\n",
    "fig,ax = plt.subplots(2,1)\n",
    "\n",
    "if len(stim_filt_fit.shape)==1:\n",
    "    ax[0].errorbar(np.arange(d)*dt,stim_filt_fit,yerr=stim_se)\n",
    "else:\n",
    "    ax[0].errorbar(np.arange(d)*dt,stim_filt_fit[0,:],yerr=stim_se[0,:],label='black')\n",
    "    ax[0].errorbar(np.arange(d)*dt,stim_filt_fit[1,:],yerr=stim_se[1,:],label='white')\n",
    "    ax[0].legend()\n",
    "ax[0].axhline(c='k')\n",
    "ax[0].set_ylabel('stimulus filter',fontsize=14)\n",
    "\n",
    "ax[1].errorbar(np.arange(d)*dt,spk_filt_fit,yerr=spk_se,label='estimated')\n",
    "ax[1].axhline(c='k')\n",
    "ax[1].set_ylabel('spike filter',fontsize=14)\n",
    "ax[1].set_xlabel('time (s)',fontsize=14)\n",
    "# ax[1].set_ylim([-3,3])\n",
    "\n",
    "print('estimated offset = ', b_fit, ' $\\pm$ ', b_se)"
   ]
  },
  {
   "cell_type": "code",
   "execution_count": null,
   "metadata": {},
   "outputs": [],
   "source": []
  }
 ],
 "metadata": {
  "anaconda-cloud": {},
  "kernelspec": {
   "display_name": "Python 3 (ipykernel)",
   "language": "python",
   "name": "python3"
  },
  "language_info": {
   "codemirror_mode": {
    "name": "ipython",
    "version": 3
   },
   "file_extension": ".py",
   "mimetype": "text/x-python",
   "name": "python",
   "nbconvert_exporter": "python",
   "pygments_lexer": "ipython3",
   "version": "3.8.10"
  }
 },
 "nbformat": 4,
 "nbformat_minor": 4
}
