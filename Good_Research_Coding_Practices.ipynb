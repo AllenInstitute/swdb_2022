{
 "cells": [
  {
   "cell_type": "markdown",
   "id": "0085149a",
   "metadata": {},
   "source": [
    "<img src=\"resources/cropped-SummerWorkshop_Header.png\">  \n",
    "\n",
    "<h1 align=\"center\">Research Coding Workshop SWDB 2022 </h1> \n",
    "<h3 align=\"center\">August 2022</h3> "
   ]
  },
  {
   "cell_type": "markdown",
   "id": "6235128f",
   "metadata": {},
   "source": [
    "<div style=\"border-left: 3px solid #000; padding: 1px; padding-left: 10px; background: #F0FAFF; \">\n",
    "\n",
    "<h2>Introduction</h2>\n",
    "    \n",
    "<p>In this workshop, we'll go over some good coding practices that you can adopt to make your source code easier to debug and share with others. There are handy references out there which discuss coding practices geared towards research scientists <a href=\"https://goodresearch.dev/\">The Good Reseach Code Handbook</a> for example.\n",
    "\n",
    "</div>"
   ]
  },
  {
   "cell_type": "markdown",
   "id": "18852967",
   "metadata": {},
   "source": [
    "<div style=\"border-left: 3px solid #000; padding: 1px; padding-left: 10px; background: #F0FAFF; \">\n",
    "    \n",
    "<h2>Agile Manifesto</h2>\n",
    "   \n",
    "<ul> \n",
    "  <li> Individuals and interactions over processes and tools\n",
    "  <li> Working software over comprehensive documentation\n",
    "  <li> Customer collaboration over contract negotiation\n",
    "  <li> Responding to change over following a plan\n",
    "</ul>\n",
    "    \n",
    "<img src=\"resources/research_coding/dilbert_agile.png\" style=\"width: 60%; height: 60%\"/>"
   ]
  },
  {
   "cell_type": "markdown",
   "id": "8837769b",
   "metadata": {},
   "source": [
    "<div style=\"border-left: 3px solid #000; padding: 1px; padding-left: 10px; background: #F0FAFF; \">\n",
    "    \n",
    "<h2>Decoupled Code</h2>\n",
    "   \n",
    "A <a href=\"https://en.wikipedia.org/wiki/Code_smell\">code smell</a> is a characteristic of source code revealed in a quick glance that indicates a deeper underlying issue or lack of clarity. We'll review a few of the more common ones that show up in research code.\n",
    "</div>"
   ]
  },
  {
   "cell_type": "markdown",
   "id": "d7aa1286",
   "metadata": {},
   "source": [
    "<div style=\"border-left: 3px solid #000; padding: 1px; padding-left: 10px; background: #F0FAFF; \">\n",
    "    \n",
    "<h4>Mysterious Names</h4>\n",
    "   \n",
    "<p>Avoid single letter and ambiguous variables as much as possible."
   ]
  },
  {
   "cell_type": "code",
   "execution_count": 1,
   "id": "5d1fc36e",
   "metadata": {},
   "outputs": [
    {
     "name": "stdout",
     "output_type": "stream",
     "text": [
      "John\n",
      "Jane\n"
     ]
    }
   ],
   "source": [
    "# This code works, but it's difficult to understand the meaning at first glance\n",
    "l = ['John', 'Jane']\n",
    "for i in l:\n",
    "    print(i)"
   ]
  },
  {
   "cell_type": "code",
   "execution_count": 2,
   "id": "7de256cb",
   "metadata": {},
   "outputs": [
    {
     "name": "stdout",
     "output_type": "stream",
     "text": [
      "John\n",
      "Jane\n"
     ]
    }
   ],
   "source": [
    "# It's a bit of an art, but variable names should be short yet descriptive\n",
    "# Even counters in loops should try to convey their meaning\n",
    "students = ['John', 'Jane']\n",
    "for student in students:\n",
    "    print(student)"
   ]
  },
  {
   "cell_type": "markdown",
   "id": "4a8819c8",
   "metadata": {},
   "source": [
    "<div style=\"border-left: 3px solid #000; padding: 1px; padding-left: 10px; background: #F0FAFF; \">\n",
    "    \n",
    "<h4>Magic Numbers</h4>\n",
    "   \n",
    "<p>In most contexts, avoid hard-coding unnamed numerical constants. Like mysterious names, it makes the software unclear. It is also makes your software rigid and difficult to update later. <a href=\"https://en.wikipedia.org/wiki/Magic_number_(programming)\">Wikipedia</a> has a decent article on the topic."
   ]
  },
  {
   "cell_type": "code",
   "execution_count": 3,
   "id": "335c400e",
   "metadata": {},
   "outputs": [
    {
     "name": "stdout",
     "output_type": "stream",
     "text": [
      "Jane's Score:  97.3\n",
      "John's Score:  86.35\n"
     ]
    }
   ],
   "source": [
    "student_test_scores = {'John': [85.0, 87.7], 'Jane': [98.0, 96.6]}\n",
    "\n",
    "# This function assumes the number of tests will always be 2 and will give an incorrect in other contexts.\n",
    "def get_average_score(test_scores):\n",
    "    return (test_scores[0] + test_scores[1]) / 2\n",
    "\n",
    "janes_avg_score = get_average_score(student_test_scores['Jane'])\n",
    "print(\"Jane's Score: \", janes_avg_score)\n",
    "\n",
    "# Much better. Even though there are more lines of code, it is easier to understand and is flexible\n",
    "def get_average_score(test_scores):\n",
    "    num_of_tests = len(test_scores)\n",
    "    running_total = 0\n",
    "    for test_score in test_scores:\n",
    "        running_total += test_score\n",
    "    return running_total / num_of_tests\n",
    "\n",
    "johns_avg_score = get_average_score(student_test_scores['John'])\n",
    "print(\"John's Score: \", johns_avg_score)"
   ]
  },
  {
   "cell_type": "markdown",
   "id": "379594c8",
   "metadata": {},
   "source": [
    "<div style=\"border-left: 3px solid #000; padding: 1px; padding-left: 10px; background: #F0FAFF; \">\n",
    "    \n",
    "<h4>Uncontrolled Side Effects</h4>\n",
    "   \n",
    "<p>Avoid writing functions that mutate your input as much as possible. "
   ]
  },
  {
   "cell_type": "code",
   "execution_count": 4,
   "id": "7a4940ca",
   "metadata": {},
   "outputs": [
    {
     "name": "stdout",
     "output_type": "stream",
     "text": [
      "List of students:  ['John', 'Jane']\n",
      "First student by name:  Jane\n",
      "List of students:  ['Jane']\n",
      "John is missing!\n"
     ]
    }
   ],
   "source": [
    "def first_student_by_name(students):\n",
    "    first_student = students.pop(0)\n",
    "    for student in students:\n",
    "        first_student = student if student < first_student else first_student\n",
    "    return first_student\n",
    "\n",
    "print(\"List of students: \", students)\n",
    "first_student = first_student_by_name(students)\n",
    "print(\"First student by name: \", first_student)\n",
    "print(\"List of students: \", students)\n",
    "print(\"John is missing!\")"
   ]
  },
  {
   "cell_type": "markdown",
   "id": "79c5740d",
   "metadata": {},
   "source": [
    "<div style=\"border-left: 3px solid #000; padding: 1px; padding-left: 10px; background: #F0FAFF; \">\n",
    " \n",
    "<p>Python variables are mutable, so we need to be careful on how we access the elements. Try to write <a href=\"https://en.wikipedia.org/wiki/Pure_function\">pure functions</a> as much as possible."
   ]
  },
  {
   "cell_type": "code",
   "execution_count": 5,
   "id": "44313282",
   "metadata": {},
   "outputs": [
    {
     "name": "stdout",
     "output_type": "stream",
     "text": [
      "List of students:  ['John', 'Jane']\n",
      "First student by name:  Jane\n",
      "List of students:  ['John', 'Jane']\n",
      "Students are all there!\n"
     ]
    }
   ],
   "source": [
    "students = ['John', 'Jane']\n",
    "\n",
    "def first_student_by_name(students):\n",
    "    first_student = students[0]\n",
    "    for student in students:\n",
    "        first_student = student if student < first_student else first_student\n",
    "    return first_student\n",
    "\n",
    "print(\"List of students: \", students)\n",
    "first_student = first_student_by_name(students)\n",
    "print(\"First student by name: \", first_student)\n",
    "print(\"List of students: \", students)\n",
    "print(\"Students are all there!\")"
   ]
  },
  {
   "cell_type": "markdown",
   "id": "9a85d901",
   "metadata": {},
   "source": [
    "<div style=\"border-left: 3px solid #000; padding: 1px; padding-left: 10px; background: #F0FAFF; \">\n",
    "    \n",
    "<h4>Embedded Configurations</h4>\n",
    "   \n",
    "<p>Avoid hard-coding configurations, such as I/O paths, directly in your source code"
   ]
  },
  {
   "cell_type": "code",
   "execution_count": 6,
   "id": "77b8ea16",
   "metadata": {},
   "outputs": [],
   "source": [
    "import json\n",
    "\n",
    "# This method is unlikely to work for any other than the original writer!\n",
    "def get_results():\n",
    "    with open('C:\\\\Users\\\\john.doe\\\\Documents\\\\results.json') as file:\n",
    "        results = json.load(file)\n",
    "    return results"
   ]
  },
  {
   "cell_type": "markdown",
   "id": "429149e8",
   "metadata": {},
   "source": [
    "<div style=\"border-left: 3px solid #000; padding: 1px; padding-left: 10px; background: #F0FAFF; \">\n",
    "   \n",
    "<p>Instead, it's good practice to move configurations into a config file. Python has configparser packaged in the standard library."
   ]
  },
  {
   "cell_type": "code",
   "execution_count": 7,
   "id": "2491e788",
   "metadata": {},
   "outputs": [
    {
     "name": "stdout",
     "output_type": "stream",
     "text": [
      "C:\\Users\\john.doe\\Documents\\results.json\n"
     ]
    }
   ],
   "source": [
    "# It's better to put the configration loader into it's own module\n",
    "import configparser\n",
    "\n",
    "config = configparser.ConfigParser()\n",
    "config.read('resources/research_coding/config.ini')\n",
    "\n",
    "results_file_location = config['PATHS']['results']\n",
    "print(results_file_location)\n",
    "# A different user only needs to modify the config.ini file for their environment"
   ]
  },
  {
   "cell_type": "markdown",
   "id": "42f75bdd",
   "metadata": {},
   "source": [
    "<div style=\"border-left: 3px solid #000; padding: 1px; padding-left: 10px; background: #F0FAFF; \">\n",
    "    \n",
    "<h2>Testing</h2>\n",
    "\n",
    "<p> Testing is essential for maintaining long term, healthy code bases and for enabling safe contributions from collaborators. Test can vary from small unit tests to complete integration tests. It's important that your code base has a percentage of test coverage (the amount of source code that your tests evaluate). Python has a unittest package that comes bundled with the standard library, although many people prefer to install pytest."
   ]
  },
  {
   "cell_type": "code",
   "execution_count": 8,
   "id": "b940ae2c",
   "metadata": {},
   "outputs": [],
   "source": [
    "# Suppose we write an implementation of Newton's method to approximate a square root\n",
    "def square_root_newton(input_number, \n",
    "                       tolerance = 1E-6,\n",
    "                       max_count = 1E3):\n",
    "    \n",
    "    current_number = input_number\n",
    "    iter_count = 0\n",
    " \n",
    "    while (iter_count < max_count) :\n",
    "        iter_count += 1\n",
    "        root = 0.5 * (current_number + (input_number / current_number))\n",
    "        if (abs(root - current_number) < tolerance):\n",
    "            break\n",
    "        current_number = root\n",
    " \n",
    "    return root"
   ]
  },
  {
   "cell_type": "code",
   "execution_count": 9,
   "id": "acaf50e1",
   "metadata": {},
   "outputs": [],
   "source": [
    "# We can add tests to see if our method has some expected behavior.\n",
    "import unittest\n",
    "\n",
    "class TestSquareRootNewton(unittest.TestCase):\n",
    "    def test_hundred(self):\n",
    "        self.assertAlmostEqual(10.0, square_root_newton(100.0), 1E-6)\n",
    "    def test_negative_number(self):\n",
    "        self.assertIsNone(square_root_newton(-100.0), 1E-6)"
   ]
  },
  {
   "cell_type": "code",
   "execution_count": 10,
   "id": "ee19669c",
   "metadata": {},
   "outputs": [
    {
     "name": "stderr",
     "output_type": "stream",
     "text": [
      "test_hundred (__main__.TestSquareRootNewton) ... ok\n",
      "test_negative_number (__main__.TestSquareRootNewton) ... FAIL\n",
      "\n",
      "======================================================================\n",
      "FAIL: test_negative_number (__main__.TestSquareRootNewton)\n",
      "----------------------------------------------------------------------\n",
      "Traceback (most recent call last):\n",
      "  File \"/tmp/ipykernel_29412/3980611700.py\", line 8, in test_negative_number\n",
      "    self.assertIsNone(square_root_newton(-100.0), 1E-6)\n",
      "AssertionError: -0.12333895788218374 is not None : 1e-06\n",
      "\n",
      "----------------------------------------------------------------------\n",
      "Ran 2 tests in 0.004s\n",
      "\n",
      "FAILED (failures=1)\n"
     ]
    },
    {
     "data": {
      "text/plain": [
       "<unittest.main.TestProgram at 0x7fe2ec138910>"
      ]
     },
     "execution_count": 10,
     "metadata": {},
     "output_type": "execute_result"
    }
   ],
   "source": [
    "unittest.main(argv=[''], verbosity=2, exit=False)"
   ]
  },
  {
   "cell_type": "code",
   "execution_count": 11,
   "id": "2ed93e9a",
   "metadata": {},
   "outputs": [],
   "source": [
    "# Drats! We forgot to handle negative numbers. We can add that functionality.\n",
    "def square_root_newton(input_number, \n",
    "                       tolerance = 1E-6,\n",
    "                       max_count = 1E3):\n",
    "    if(input_number < 0):\n",
    "        return None\n",
    "    \n",
    "    current_number = input_number\n",
    "    iter_count = 0\n",
    " \n",
    "    while (iter_count < max_count) :\n",
    "        iter_count += 1\n",
    "        root = 0.5 * (current_number + (input_number / current_number))\n",
    "        if (abs(root - current_number) < tolerance):\n",
    "            break\n",
    "        current_number = root\n",
    " \n",
    "    return root"
   ]
  },
  {
   "cell_type": "code",
   "execution_count": 12,
   "id": "a0d56068",
   "metadata": {},
   "outputs": [
    {
     "name": "stderr",
     "output_type": "stream",
     "text": [
      "test_hundred (__main__.TestSquareRootNewton) ... ok\n",
      "test_negative_number (__main__.TestSquareRootNewton) ... ok\n",
      "\n",
      "----------------------------------------------------------------------\n",
      "Ran 2 tests in 0.003s\n",
      "\n",
      "OK\n"
     ]
    },
    {
     "data": {
      "text/plain": [
       "<unittest.main.TestProgram at 0x7fe2ee20a7f0>"
      ]
     },
     "execution_count": 12,
     "metadata": {},
     "output_type": "execute_result"
    }
   ],
   "source": [
    "unittest.main(argv=[''], verbosity=2, exit=False)"
   ]
  },
  {
   "cell_type": "markdown",
   "id": "9d15c98c",
   "metadata": {},
   "source": [
    "<div style=\"border-left: 3px solid #000; padding: 1px; padding-left: 10px; background: #F0FAFF; \">\n",
    "    \n",
    "<h2>Logging</h2>\n",
    "\n",
    "<p>Python has a logging framework built into the standard library. You can adjust the log levels based on what information you want conveyed to your user. Some useful information to log are execution times and loop progression."
   ]
  },
  {
   "cell_type": "code",
   "execution_count": 13,
   "id": "fb907f1b",
   "metadata": {},
   "outputs": [],
   "source": [
    "import logging\n",
    "logging.basicConfig(level=logging.INFO)\n",
    "\n",
    "\n",
    "# Let's modify our square root method to log helpful information\n",
    "def square_root_newton(input_number, \n",
    "                       tolerance = 1E-6,\n",
    "                       max_count = 1E3):\n",
    "    if(input_number < 0):\n",
    "        logging.info(f' input_number {input_number} is negative.')\n",
    "        return None\n",
    "    current_number = input_number\n",
    "    iter_count = 0\n",
    "    while (iter_count < max_count) :\n",
    "        iter_count += 1\n",
    "        root = 0.5 * (current_number + (input_number / current_number))\n",
    "        logging.debug(f' Iteration count: {iter_count}.'\n",
    "                      f' Approximate root: {root}.'\n",
    "                      f' Previous root: {current_number}')\n",
    "        if (abs(root - current_number) < tolerance):\n",
    "            break\n",
    "        current_number = root\n",
    "    if(iter_count == max_count):\n",
    "        logging.warning(f' Max iteration count, {max_count}, reached!')\n",
    "    return root"
   ]
  },
  {
   "cell_type": "code",
   "execution_count": 14,
   "id": "d6812c21",
   "metadata": {},
   "outputs": [
    {
     "name": "stderr",
     "output_type": "stream",
     "text": [
      "INFO:root: input_number -100 is negative.\n"
     ]
    }
   ],
   "source": [
    "square_root_newton(-100)"
   ]
  },
  {
   "cell_type": "code",
   "execution_count": 15,
   "id": "c67088c8",
   "metadata": {},
   "outputs": [
    {
     "name": "stderr",
     "output_type": "stream",
     "text": [
      "WARNING:root: Max iteration count, 5, reached!\n"
     ]
    },
    {
     "data": {
      "text/plain": [
       "10.032578510960604"
      ]
     },
     "execution_count": 15,
     "metadata": {},
     "output_type": "execute_result"
    }
   ],
   "source": [
    "# Let's set the tolerance and max count to low numbers\n",
    "square_root_newton(100, tolerance=1E-12, max_count=5)"
   ]
  },
  {
   "cell_type": "code",
   "execution_count": 16,
   "id": "7bcd56e5",
   "metadata": {},
   "outputs": [],
   "source": [
    "# We can set the logging level to debug to check if more information is available\n",
    "logging.getLogger().setLevel(logging.DEBUG)"
   ]
  },
  {
   "cell_type": "code",
   "execution_count": 17,
   "id": "04a05d59",
   "metadata": {},
   "outputs": [
    {
     "name": "stderr",
     "output_type": "stream",
     "text": [
      "DEBUG:root: Iteration count: 1. Approximate root: 50.5. Previous root: 100\n",
      "DEBUG:root: Iteration count: 2. Approximate root: 26.24009900990099. Previous root: 50.5\n",
      "DEBUG:root: Iteration count: 3. Approximate root: 15.025530119986813. Previous root: 26.24009900990099\n",
      "DEBUG:root: Iteration count: 4. Approximate root: 10.840434673026925. Previous root: 15.025530119986813\n",
      "DEBUG:root: Iteration count: 5. Approximate root: 10.032578510960604. Previous root: 10.840434673026925\n",
      "WARNING:root: Max iteration count, 5, reached!\n"
     ]
    },
    {
     "data": {
      "text/plain": [
       "10.032578510960604"
      ]
     },
     "execution_count": 17,
     "metadata": {},
     "output_type": "execute_result"
    }
   ],
   "source": [
    "square_root_newton(100, tolerance=1E-12, max_count=5)"
   ]
  },
  {
   "cell_type": "code",
   "execution_count": 18,
   "id": "914596a9",
   "metadata": {},
   "outputs": [],
   "source": [
    "# Some useful information to log can be execution times.\n",
    "from time import time\n",
    "\n",
    "# Let's modify our square root method to log execution time\n",
    "def square_root_newton(input_number, \n",
    "                       tolerance = 1E-6,\n",
    "                       max_count = 1E3):\n",
    "    start_time = time()\n",
    "    if(input_number < 0):\n",
    "        logging.info(f' input_number {input_number} is negative.')\n",
    "        return None\n",
    "    current_number = input_number\n",
    "    iter_count = 0\n",
    "    while (iter_count < max_count) :\n",
    "        iter_count += 1\n",
    "        root = 0.5 * (current_number + (input_number / current_number))\n",
    "        logging.debug(f' Iteration count: {iter_count}.'\n",
    "                      f' Approximate root: {root}.'\n",
    "                      f' Previous root: {current_number}')\n",
    "        if (abs(root - current_number) < tolerance):\n",
    "            break\n",
    "        current_number = root\n",
    "    if(iter_count == max_count):\n",
    "        logging.warning(f' Max iteration count, {max_count}, reached!')\n",
    "    logging.debug(f' Program took {time()-start_time} seconds to compute.')\n",
    "    return root"
   ]
  },
  {
   "cell_type": "code",
   "execution_count": 19,
   "id": "1f5efdb4",
   "metadata": {},
   "outputs": [
    {
     "name": "stderr",
     "output_type": "stream",
     "text": [
      "DEBUG:root: Iteration count: 1. Approximate root: 617284.445. Previous root: 1234567.89\n",
      "DEBUG:root: Iteration count: 2. Approximate root: 308643.22249918996. Previous root: 617284.445\n",
      "DEBUG:root: Iteration count: 3. Approximate root: 154323.611241495. Previous root: 308643.22249918996\n",
      "DEBUG:root: Iteration count: 4. Approximate root: 77165.80555270887. Previous root: 154323.611241495\n",
      "DEBUG:root: Iteration count: 5. Approximate root: 38590.90222559984. Previous root: 77165.80555270887\n",
      "DEBUG:root: Iteration count: 6. Approximate root: 19311.44669490348. Previous root: 38590.90222559984\n",
      "DEBUG:root: Iteration count: 7. Approximate root: 9687.688013525303. Previous root: 19311.44669490348\n",
      "DEBUG:root: Iteration count: 8. Approximate root: 4907.562403157972. Previous root: 9687.688013525303\n",
      "DEBUG:root: Iteration count: 9. Approximate root: 2579.563391246668. Previous root: 4907.562403157972\n",
      "DEBUG:root: Iteration count: 10. Approximate root: 1529.0795345888944. Previous root: 2579.563391246668\n",
      "DEBUG:root: Iteration count: 11. Approximate root: 1168.2361944825607. Previous root: 1529.0795345888944\n",
      "DEBUG:root: Iteration count: 12. Approximate root: 1112.5077738455134. Previous root: 1168.2361944825607\n",
      "DEBUG:root: Iteration count: 13. Approximate root: 1111.1119827599532. Previous root: 1112.5077738455134\n",
      "DEBUG:root: Iteration count: 14. Approximate root: 1111.1111060559015. Previous root: 1111.1119827599532\n",
      "DEBUG:root: Iteration count: 15. Approximate root: 1111.1111060555554. Previous root: 1111.1111060559015\n",
      "DEBUG:root: Iteration count: 16. Approximate root: 1111.1111060555554. Previous root: 1111.1111060555554\n",
      "DEBUG:root: Program took 0.009706497192382812 seconds to compute.\n"
     ]
    },
    {
     "data": {
      "text/plain": [
       "1111.1111060555554"
      ]
     },
     "execution_count": 19,
     "metadata": {},
     "output_type": "execute_result"
    }
   ],
   "source": [
    "square_root_newton(1234567.89, tolerance=1E-12)"
   ]
  },
  {
   "cell_type": "code",
   "execution_count": 20,
   "id": "0d39c5cb",
   "metadata": {},
   "outputs": [],
   "source": [
    "# We can set the logging level back to info to suppress the debug logs\n",
    "logging.getLogger().setLevel(logging.INFO)"
   ]
  },
  {
   "cell_type": "code",
   "execution_count": 21,
   "id": "6b5ab30c",
   "metadata": {},
   "outputs": [
    {
     "data": {
      "text/plain": [
       "1111.1111060555554"
      ]
     },
     "execution_count": 21,
     "metadata": {},
     "output_type": "execute_result"
    }
   ],
   "source": [
    "square_root_newton(1234567.89, tolerance=1E-12)"
   ]
  },
  {
   "cell_type": "markdown",
   "id": "f93fb727",
   "metadata": {},
   "source": [
    "<div style=\"border-left: 3px solid #000; padding: 1px; padding-left: 10px; background: #F0FAFF; \">\n",
    "    \n",
    "<h2>Error Handling</h2>\n",
    "\n",
    "<p>You should catch and handle errors as best as possible. Let's return back to our get_results_method."
   ]
  },
  {
   "cell_type": "code",
   "execution_count": 22,
   "id": "b6b3d3e1",
   "metadata": {},
   "outputs": [],
   "source": [
    "config = configparser.ConfigParser()"
   ]
  },
  {
   "cell_type": "code",
   "execution_count": 23,
   "id": "83dc2349",
   "metadata": {},
   "outputs": [],
   "source": [
    "def get_results():\n",
    "    results_file_location = config['PATHS']['results']\n",
    "    with open(results_file_location) as file:\n",
    "        results = json.load(file)\n",
    "    return results"
   ]
  },
  {
   "cell_type": "code",
   "execution_count": 24,
   "id": "d2434af2",
   "metadata": {},
   "outputs": [
    {
     "ename": "KeyError",
     "evalue": "'PATHS'",
     "output_type": "error",
     "traceback": [
      "\u001b[0;31m---------------------------------------------------------------------------\u001b[0m",
      "\u001b[0;31mKeyError\u001b[0m                                  Traceback (most recent call last)",
      "Input \u001b[0;32mIn [24]\u001b[0m, in \u001b[0;36m<cell line: 1>\u001b[0;34m()\u001b[0m\n\u001b[0;32m----> 1\u001b[0m \u001b[43mget_results\u001b[49m\u001b[43m(\u001b[49m\u001b[43m)\u001b[49m\n",
      "Input \u001b[0;32mIn [23]\u001b[0m, in \u001b[0;36mget_results\u001b[0;34m()\u001b[0m\n\u001b[1;32m      1\u001b[0m \u001b[38;5;28;01mdef\u001b[39;00m \u001b[38;5;21mget_results\u001b[39m():\n\u001b[0;32m----> 2\u001b[0m     results_file_location \u001b[38;5;241m=\u001b[39m \u001b[43mconfig\u001b[49m\u001b[43m[\u001b[49m\u001b[38;5;124;43m'\u001b[39;49m\u001b[38;5;124;43mPATHS\u001b[39;49m\u001b[38;5;124;43m'\u001b[39;49m\u001b[43m]\u001b[49m[\u001b[38;5;124m'\u001b[39m\u001b[38;5;124mresults\u001b[39m\u001b[38;5;124m'\u001b[39m]\n\u001b[1;32m      3\u001b[0m     \u001b[38;5;28;01mwith\u001b[39;00m \u001b[38;5;28mopen\u001b[39m(results_file_location) \u001b[38;5;28;01mas\u001b[39;00m file:\n\u001b[1;32m      4\u001b[0m         results \u001b[38;5;241m=\u001b[39m json\u001b[38;5;241m.\u001b[39mload(file)\n",
      "File \u001b[0;32m~/miniconda3/envs/bootcamp/lib/python3.8/configparser.py:960\u001b[0m, in \u001b[0;36mRawConfigParser.__getitem__\u001b[0;34m(self, key)\u001b[0m\n\u001b[1;32m    958\u001b[0m \u001b[38;5;28;01mdef\u001b[39;00m \u001b[38;5;21m__getitem__\u001b[39m(\u001b[38;5;28mself\u001b[39m, key):\n\u001b[1;32m    959\u001b[0m     \u001b[38;5;28;01mif\u001b[39;00m key \u001b[38;5;241m!=\u001b[39m \u001b[38;5;28mself\u001b[39m\u001b[38;5;241m.\u001b[39mdefault_section \u001b[38;5;129;01mand\u001b[39;00m \u001b[38;5;129;01mnot\u001b[39;00m \u001b[38;5;28mself\u001b[39m\u001b[38;5;241m.\u001b[39mhas_section(key):\n\u001b[0;32m--> 960\u001b[0m         \u001b[38;5;28;01mraise\u001b[39;00m \u001b[38;5;167;01mKeyError\u001b[39;00m(key)\n\u001b[1;32m    961\u001b[0m     \u001b[38;5;28;01mreturn\u001b[39;00m \u001b[38;5;28mself\u001b[39m\u001b[38;5;241m.\u001b[39m_proxies[key]\n",
      "\u001b[0;31mKeyError\u001b[0m: 'PATHS'"
     ]
    }
   ],
   "source": [
    "get_results()"
   ]
  },
  {
   "cell_type": "code",
   "execution_count": 25,
   "id": "203ab10b",
   "metadata": {},
   "outputs": [],
   "source": [
    "def get_results():\n",
    "    try:\n",
    "        results_file_location = config['PATHS']['results']\n",
    "        with open(results_file_location) as file:\n",
    "            results = json.load(file)\n",
    "    except KeyError:\n",
    "        # We can add a more informative message to a key error\n",
    "        raise KeyError(f'KeyError: Check that config.ini file is loaded and contains [PATHS] and results!')\n",
    "    return results"
   ]
  },
  {
   "cell_type": "code",
   "execution_count": 26,
   "id": "6df69740",
   "metadata": {},
   "outputs": [
    {
     "ename": "KeyError",
     "evalue": "'KeyError: Check that config.ini file is loaded and contains [PATHS] and results!'",
     "output_type": "error",
     "traceback": [
      "\u001b[0;31m---------------------------------------------------------------------------\u001b[0m",
      "\u001b[0;31mKeyError\u001b[0m                                  Traceback (most recent call last)",
      "Input \u001b[0;32mIn [25]\u001b[0m, in \u001b[0;36mget_results\u001b[0;34m()\u001b[0m\n\u001b[1;32m      2\u001b[0m \u001b[38;5;28;01mtry\u001b[39;00m:\n\u001b[0;32m----> 3\u001b[0m     results_file_location \u001b[38;5;241m=\u001b[39m \u001b[43mconfig\u001b[49m\u001b[43m[\u001b[49m\u001b[38;5;124;43m'\u001b[39;49m\u001b[38;5;124;43mPATHS\u001b[39;49m\u001b[38;5;124;43m'\u001b[39;49m\u001b[43m]\u001b[49m[\u001b[38;5;124m'\u001b[39m\u001b[38;5;124mresults\u001b[39m\u001b[38;5;124m'\u001b[39m]\n\u001b[1;32m      4\u001b[0m     \u001b[38;5;28;01mwith\u001b[39;00m \u001b[38;5;28mopen\u001b[39m(results_file_location) \u001b[38;5;28;01mas\u001b[39;00m file:\n",
      "File \u001b[0;32m~/miniconda3/envs/bootcamp/lib/python3.8/configparser.py:960\u001b[0m, in \u001b[0;36mRawConfigParser.__getitem__\u001b[0;34m(self, key)\u001b[0m\n\u001b[1;32m    959\u001b[0m \u001b[38;5;28;01mif\u001b[39;00m key \u001b[38;5;241m!=\u001b[39m \u001b[38;5;28mself\u001b[39m\u001b[38;5;241m.\u001b[39mdefault_section \u001b[38;5;129;01mand\u001b[39;00m \u001b[38;5;129;01mnot\u001b[39;00m \u001b[38;5;28mself\u001b[39m\u001b[38;5;241m.\u001b[39mhas_section(key):\n\u001b[0;32m--> 960\u001b[0m     \u001b[38;5;28;01mraise\u001b[39;00m \u001b[38;5;167;01mKeyError\u001b[39;00m(key)\n\u001b[1;32m    961\u001b[0m \u001b[38;5;28;01mreturn\u001b[39;00m \u001b[38;5;28mself\u001b[39m\u001b[38;5;241m.\u001b[39m_proxies[key]\n",
      "\u001b[0;31mKeyError\u001b[0m: 'PATHS'",
      "\nDuring handling of the above exception, another exception occurred:\n",
      "\u001b[0;31mKeyError\u001b[0m                                  Traceback (most recent call last)",
      "Input \u001b[0;32mIn [26]\u001b[0m, in \u001b[0;36m<cell line: 1>\u001b[0;34m()\u001b[0m\n\u001b[0;32m----> 1\u001b[0m \u001b[43mget_results\u001b[49m\u001b[43m(\u001b[49m\u001b[43m)\u001b[49m\n",
      "Input \u001b[0;32mIn [25]\u001b[0m, in \u001b[0;36mget_results\u001b[0;34m()\u001b[0m\n\u001b[1;32m      5\u001b[0m         results \u001b[38;5;241m=\u001b[39m json\u001b[38;5;241m.\u001b[39mload(file)\n\u001b[1;32m      6\u001b[0m \u001b[38;5;28;01mexcept\u001b[39;00m \u001b[38;5;167;01mKeyError\u001b[39;00m:\n\u001b[1;32m      7\u001b[0m     \u001b[38;5;66;03m# We can add a more informative message to a key error\u001b[39;00m\n\u001b[0;32m----> 8\u001b[0m     \u001b[38;5;28;01mraise\u001b[39;00m \u001b[38;5;167;01mKeyError\u001b[39;00m(\u001b[38;5;124mf\u001b[39m\u001b[38;5;124m'\u001b[39m\u001b[38;5;124mKeyError: Check that config.ini file is loaded and contains [PATHS] and results!\u001b[39m\u001b[38;5;124m'\u001b[39m)\n\u001b[1;32m      9\u001b[0m \u001b[38;5;28;01mreturn\u001b[39;00m results\n",
      "\u001b[0;31mKeyError\u001b[0m: 'KeyError: Check that config.ini file is loaded and contains [PATHS] and results!'"
     ]
    }
   ],
   "source": [
    "get_results()"
   ]
  },
  {
   "cell_type": "code",
   "execution_count": 27,
   "id": "5ffa7854",
   "metadata": {},
   "outputs": [
    {
     "data": {
      "text/plain": [
       "['resources/research_coding/config.ini']"
      ]
     },
     "execution_count": 27,
     "metadata": {},
     "output_type": "execute_result"
    }
   ],
   "source": [
    "# We need to read in a file\n",
    "config.read('resources/research_coding/config.ini')"
   ]
  },
  {
   "cell_type": "code",
   "execution_count": 28,
   "id": "c479efd3",
   "metadata": {},
   "outputs": [
    {
     "ename": "FileNotFoundError",
     "evalue": "[Errno 2] No such file or directory: 'C:\\\\Users\\\\john.doe\\\\Documents\\\\results.json'",
     "output_type": "error",
     "traceback": [
      "\u001b[0;31m---------------------------------------------------------------------------\u001b[0m",
      "\u001b[0;31mFileNotFoundError\u001b[0m                         Traceback (most recent call last)",
      "Input \u001b[0;32mIn [28]\u001b[0m, in \u001b[0;36m<cell line: 1>\u001b[0;34m()\u001b[0m\n\u001b[0;32m----> 1\u001b[0m \u001b[43mget_results\u001b[49m\u001b[43m(\u001b[49m\u001b[43m)\u001b[49m\n",
      "Input \u001b[0;32mIn [25]\u001b[0m, in \u001b[0;36mget_results\u001b[0;34m()\u001b[0m\n\u001b[1;32m      2\u001b[0m \u001b[38;5;28;01mtry\u001b[39;00m:\n\u001b[1;32m      3\u001b[0m     results_file_location \u001b[38;5;241m=\u001b[39m config[\u001b[38;5;124m'\u001b[39m\u001b[38;5;124mPATHS\u001b[39m\u001b[38;5;124m'\u001b[39m][\u001b[38;5;124m'\u001b[39m\u001b[38;5;124mresults\u001b[39m\u001b[38;5;124m'\u001b[39m]\n\u001b[0;32m----> 4\u001b[0m     \u001b[38;5;28;01mwith\u001b[39;00m \u001b[38;5;28;43mopen\u001b[39;49m\u001b[43m(\u001b[49m\u001b[43mresults_file_location\u001b[49m\u001b[43m)\u001b[49m \u001b[38;5;28;01mas\u001b[39;00m file:\n\u001b[1;32m      5\u001b[0m         results \u001b[38;5;241m=\u001b[39m json\u001b[38;5;241m.\u001b[39mload(file)\n\u001b[1;32m      6\u001b[0m \u001b[38;5;28;01mexcept\u001b[39;00m \u001b[38;5;167;01mKeyError\u001b[39;00m:\n\u001b[1;32m      7\u001b[0m     \u001b[38;5;66;03m# We can add a more informative message to a key error\u001b[39;00m\n",
      "\u001b[0;31mFileNotFoundError\u001b[0m: [Errno 2] No such file or directory: 'C:\\\\Users\\\\john.doe\\\\Documents\\\\results.json'"
     ]
    }
   ],
   "source": [
    "get_results()"
   ]
  },
  {
   "cell_type": "code",
   "execution_count": 29,
   "id": "d192413d",
   "metadata": {},
   "outputs": [],
   "source": [
    "def get_results():\n",
    "    try:\n",
    "        results_file_location = config['PATHS']['results']\n",
    "        with open(results_file_location) as file:\n",
    "            results = json.load(file)\n",
    "    except KeyError:\n",
    "        # We can add a more informative message to a key error\n",
    "        raise KeyError(f'KeyError: Check that config.ini file is loaded and contains [PATHS] and results!')\n",
    "    except FileNotFoundError:\n",
    "        # We don't have to raise an exception. Maybe we want to set the results to None if the file doesn't exist.\n",
    "        logging.warning(f' Results file not found at {results_file_location}. Defaulting to None.')\n",
    "        results = None\n",
    "    return results"
   ]
  },
  {
   "cell_type": "code",
   "execution_count": 30,
   "id": "46d1e7a0",
   "metadata": {},
   "outputs": [
    {
     "name": "stderr",
     "output_type": "stream",
     "text": [
      "WARNING:root: Results file not found at C:\\Users\\john.doe\\Documents\\results.json. Defaulting to None.\n"
     ]
    }
   ],
   "source": [
    "get_results()"
   ]
  },
  {
   "cell_type": "code",
   "execution_count": null,
   "id": "ad17e951",
   "metadata": {},
   "outputs": [],
   "source": []
  }
 ],
 "metadata": {
  "kernelspec": {
   "display_name": "Python 3 (ipykernel)",
   "language": "python",
   "name": "python3"
  },
  "language_info": {
   "codemirror_mode": {
    "name": "ipython",
    "version": 3
   },
   "file_extension": ".py",
   "mimetype": "text/x-python",
   "name": "python",
   "nbconvert_exporter": "python",
   "pygments_lexer": "ipython3",
   "version": "3.8.13"
  }
 },
 "nbformat": 4,
 "nbformat_minor": 5
}
