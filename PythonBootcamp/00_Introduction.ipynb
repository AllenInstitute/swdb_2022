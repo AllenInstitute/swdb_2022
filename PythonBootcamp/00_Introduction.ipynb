{
 "cells": [
  {
   "cell_type": "markdown",
   "metadata": {},
   "source": [
    "<img src=\"support_files/images/cropped-SummerWorkshop_Header.png\">  \n",
    "\n",
    "<h1 align=\"center\">Python Bootcamp</h1> \n",
    "<h3 align=\"center\">August 20-21, 2022</h3> "
   ]
  },
  {
   "cell_type": "markdown",
   "metadata": {},
   "source": [
    "<div style=\"border-left: 3px solid #000; padding: 1px; padding-left: 10px; background: #F0FAFF; \">\n",
    "<center><h1>Introduction: What is Python?</h1></center>\n",
    "\n",
    "<p>How does Python compare to other programming languages? What are its strengths and weaknesses? Why have we chosen Python for this course?\n",
    "\n",
    "</div>"
   ]
  },
  {
   "cell_type": "markdown",
   "metadata": {},
   "source": [
    "<div style=\"border-left: 3px solid #000; padding: 1px; padding-left: 10px; background: #F0FAFF; \">\n",
    "    <h2>1. Python is a *general purpose* programming language.</h2>\n",
    "\n",
    "<p>Most programming languages used by scientists were designed from the beginning to handle numerical and scientific tasks:\n",
    "\n",
    "<ul>\n",
    "<li>    R\n",
    "<li> MATLAB\n",
    "<li> Igor\n",
    "<li> Mathematica \n",
    "<li> IDL\n",
    "</ul>\n",
    "\n",
    "<p>Advantages of specialized languages:\n",
    "\n",
    "<ul>\n",
    "<li>Usually the first to support high-level functionality needed in science\n",
    "<li>Language and programming environment are tailored to meet the needs of scientific developers\n",
    "<li>Lower learning curve\n",
    "</ul>\n",
    "\n",
    "<p>**General-purpose languages such as Python are intended to be useful for any type of programming, regardless of the topic or functionality needed:**\n",
    "\n",
    "<ul>\n",
    "<li>    C\n",
    "<li>    C++\n",
    "<li>   Java\n",
    "<li>  Python\n",
    "</ul>\n",
    "\n",
    "<p>Python is used in virtually every corner of the software development landscape--web sites, server infrastructure, user interfaces, device control, machine learning, etc. \n",
    "\n",
    "<p>Advantages of general-purpose languages:\n",
    "\n",
    "<ul>\n",
    "<li>More flexibility\n",
    "<li>Languages require a lot of effort to learn; general-purpose languages offer greater return on that investment\n",
    "<li>Much larger community of developers, greater longevity\n",
    "<li>Better language design\n",
    "</ul>\n",
    "\n",
    "</div>"
   ]
  },
  {
   "cell_type": "markdown",
   "metadata": {},
   "source": [
    "<div style=\"border-left: 3px solid #000; padding: 1px; padding-left: 10px; background: #F0FAFF; \">\n",
    "<h2>2. Python is an *interpreted* programming language.</h2>\n",
    "\n",
    "<p>Programming languages can be compiled, interpreted, or a hybrid of the two. \n",
    "\n",
    "<p><b>Compiled languages</b> like C, C++, Java, and Julia take the program you write and convert it into optimized, machine-executable code. Often, compiled languages are both <b>faster to execute</b> and <b>more difficult to use</b>. \n",
    "\n",
    "<p><b>Interpreted languages</b> like Python, MATLAB, Igor, and PHP use a pre-compiled interpreter to read your program code and execute it, one step at a time. Often, interpreted languages are <b>slower to execute</b> and <b>easier to use</b>.\n",
    "\n",
    "<p><b>Question:</b> Is Python a slow language?<br>\n",
    "    <b>Answer:</b> It depends on how you use it.\n",
    "\n",
    "<p>Ideally, we would like to have a language that is both fast to execute and easy to use, and Python (like many other languages) uses many different techniques to reduce the overhead incurred by being an interpreted language. We will learn about many of these throughout the day.\n",
    "\n",
    "</div>"
   ]
  },
  {
   "cell_type": "markdown",
   "metadata": {},
   "source": [
    "<div style=\"border-left: 3px solid #000; padding: 1px; padding-left: 10px; background: #F0FAFF; \">\n",
    "<h2>3. Python is a community of developers</h2>\n",
    "\n",
    "<p>Commercial development environments like MATLAB or Igor benefit from a monolithic community structure:\n",
    "\n",
    "<ul>\n",
    "<li>One official source for core software packages\n",
    "<li>One default IDE used by everybody\n",
    "<li>One cohesive community of developers and staff for support\n",
    "<li>Usually excellent, comprehensive documentation\n",
    "</ul>\n",
    "\n",
    "<p>Newcomers to Python are often overwhelmed by the vast and confusing landscape of communities, distributions, 3rd-party modules, and development tools. Never fear! The scientific Python community has organized around a central \"stack\" of tools that are well supported and maintained, and have become the de-facto standards in the field. We will guide you through these core tools before releasing you into the wild.\n",
    "\n",
    "<p>Scientific Python Stack (<a href=http://scipy.org>SciPy</a>):\n",
    "    \n",
    "<ul>\n",
    "<li>    NumPy: N-dimensional array package\n",
    "<li>    SciPy: Fundamental library for scientific computing\n",
    "<li>    Matplotlib: Comprehensive 2D Plotting\n",
    "<li>    pandas: Data structures & analysis\n",
    "<li>    Sympy: symbolic mathematics\n",
    "<li>    IPython/Jupyter: Enhanced Interactive Console\n",
    "</ul>\n",
    "\n",
    "<p>Python is also an industry standard language for machine learning, with several packages.\n",
    "    \n",
    "<ul>    \n",
    "<li>    scikit-learn:  Machine learning\n",
    "<li>    Tensorflow:  library for automatic differentiation on graph, e.g. for \"deep learning\"\n",
    "<li>    PyTorch:  another \"deep learning\" library\n",
    "</ul>\n",
    "\n",
    "</div>"
   ]
  },
  {
   "cell_type": "markdown",
   "metadata": {},
   "source": [
    "<div style=\"border-left: 3px solid #000; padding: 1px; padding-left: 10px; background: #F0FAFF; \">\n",
    "<h2>4. A carefully designed, open-source programming language</h2>\n",
    "\n",
    "<p>The older, commercial specialty languages come with baggage:\n",
    "\n",
    "<ul>\n",
    "<li>Evolved from simpler systems, retained idiosyncracies\n",
    "<li>Lack modern object-oriented language features, or these are tacked on to the original language\n",
    "<li>Expensive, unreliable, cumbersome licensing schemes\n",
    "<li>Closed source\n",
    "</ul>\n",
    "\n",
    "<p>Python is widely regarded as one of the easiest, most intuitive, and most readable programming languages. Its language design combined with its open-source license are major factors in its widespread success.\n",
    "\n",
    "</div>"
   ]
  },
  {
   "cell_type": "markdown",
   "metadata": {},
   "source": [
    "<div style=\"border-left: 3px solid #000; padding: 1px; padding-left: 10px; background: #F0FAFF; \">\n",
    "<h2>Where to get help</h2>\n",
    "\n",
    "<p><a href=https://www.python.org/doc/>Python Documentation</a>\n",
    "<ul>\n",
    "    <li><a href=https://docs.python.org/3/tutorial/index.html>Tutorial</a>\n",
    "    <li><a href=https://docs.python.org/3/library/index.html>Library Reference</a>\n",
    "</ul>\n",
    "\n",
    "<p>MATLAB-to-Python cheat sheets: \n",
    "<ul>\n",
    "    <li><a href=http://mathesaurus.sourceforge.net/matlab-numpy.html>NumPy for MATLAB users</a>\n",
    "    <li><a href=http://mathesaurus.sourceforge.net/matlab-python-xref.pdf>MATLAB commands in NumPy</a>\n",
    "</ul>\n",
    "\n",
    "\n",
    "[Scientific python stack documentation: numpy, scipy, matplotlib](https://docs.scipy.org/doc/scipy/)\n",
    "\n",
    "[Stack Overflow](http://stackoverflow.com)\n",
    "    \n",
    "</div>"
   ]
  },
  {
   "cell_type": "code",
   "execution_count": null,
   "metadata": {},
   "outputs": [],
   "source": []
  }
 ],
 "metadata": {
  "kernelspec": {
   "display_name": "Python 3 (ipykernel)",
   "language": "python",
   "name": "python3"
  },
  "language_info": {
   "codemirror_mode": {
    "name": "ipython",
    "version": 3
   },
   "file_extension": ".py",
   "mimetype": "text/x-python",
   "name": "python",
   "nbconvert_exporter": "python",
   "pygments_lexer": "ipython3",
   "version": "3.8.13"
  }
 },
 "nbformat": 4,
 "nbformat_minor": 1
}
