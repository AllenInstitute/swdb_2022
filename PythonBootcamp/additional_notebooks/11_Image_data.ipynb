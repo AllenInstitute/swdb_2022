{
 "cells": [
  {
   "cell_type": "markdown",
   "metadata": {},
   "source": [
    "<img src=\"support_files/images/cropped-SummerWorkshop_Header.png\">  \n",
    "\n",
    "<h1 align=\"center\">Python Bootcamp</h1> \n",
    "<h3 align=\"center\">August 20-21, 2022</h3> "
   ]
  },
  {
   "cell_type": "markdown",
   "metadata": {},
   "source": [
    "<div style=\"border-left: 3px solid #000; padding: 1px; padding-left: 10px; background: #F0FAFF; \">\n",
    "<center><h1>Exercise: Numpy, Scipy, Matplotlib</h1></center>\n",
    "\n",
    "<p>The following series of exercises are designed to give you more practice manipulating and plotting data using Numpy, Scipy, and Matplotlib\n",
    "</div>"
   ]
  },
  {
   "cell_type": "code",
   "execution_count": null,
   "metadata": {
    "collapsed": true
   },
   "outputs": [],
   "source": [
    "import numpy as np\n",
    "import matplotlib.pyplot as plt\n",
    "import scipy.misc\n",
    "import scipy.ndimage\n",
    "from __future__ import print_function\n",
    "\n",
    "%matplotlib notebook"
   ]
  },
  {
   "cell_type": "markdown",
   "metadata": {},
   "source": [
    "\n",
    "<div style=\"border-left: 3px solid #000; padding: 1px; padding-left: 10px; background: #F0FAFF; \">\n",
    "<left><h1>Scipy has a built in image called 'face' that we can use to do some image processing</h1></left>\n",
    "<p>The exercises below will walk you through various basic operations on this image\n",
    "<p>First, make a variabled called \"face\" that contains the image\n",
    "\n",
    "</div>"
   ]
  },
  {
   "cell_type": "code",
   "execution_count": null,
   "metadata": {},
   "outputs": [],
   "source": [
    "face = scipy.misc.face()"
   ]
  },
  {
   "cell_type": "markdown",
   "metadata": {},
   "source": [
    "\n",
    "<div style=\"border-left: 3px solid #000; padding: 1px; padding-left: 10px; background: #F0FAFF; \">\n",
    "<left><h1>What is the image?</h1></left>\n",
    "<p>Show the image using matplotlib\n",
    "</div>"
   ]
  },
  {
   "cell_type": "code",
   "execution_count": null,
   "metadata": {},
   "outputs": [],
   "source": [
    "# Use imshow"
   ]
  },
  {
   "cell_type": "markdown",
   "metadata": {},
   "source": [
    "<div style=\"border<p>-left: 3px solid #000; padding: 1px; padding-left: 10px; background: #F0FAFF; \">\n",
    "<left><h1>What is the shape of the image?</h1></left>\n",
    "<p>\n",
    "</div>"
   ]
  },
  {
   "cell_type": "code",
   "execution_count": null,
   "metadata": {},
   "outputs": [],
   "source": []
  },
  {
   "cell_type": "markdown",
   "metadata": {},
   "source": [
    "\n",
    "<div style=\"border-left: 3px solid #000; padding: 1px; padding-left: 10px; background: #F0FAFF; \">\n",
    "<p>Make note of the fact that the first two dimensions are ROWS x COLUMNS. When indexing into this array, you'll need to use this convention, as opposed to thinking of X and Y position (which would actually be column and row, respectively).\n",
    "</div>"
   ]
  },
  {
   "cell_type": "markdown",
   "metadata": {},
   "source": [
    "<div style=\"border-left: 3px solid #000; padding: 1px; padding-left: 10px; background: #F0FAFF; \">\n",
    "<left><h1>What is the intensity range for the pixel values?</h1></left>\n",
    "<p>hint: use the 'flatten' method to make a 1-D array, then make a histogram\n",
    "</div>"
   ]
  },
  {
   "cell_type": "code",
   "execution_count": null,
   "metadata": {
    "scrolled": false
   },
   "outputs": [],
   "source": [
    "face_flat = face.flatten()\n",
    "#now make a histogram"
   ]
  },
  {
   "cell_type": "markdown",
   "metadata": {},
   "source": [
    "<div style=\"border-left: 3px solid #000; padding: 1px; padding-left: 10px; background: #F0FAFF; \">\n",
    "    \n",
    "<left><h1>The third image dimension refers to the number of color channels (R,G,B).</h1></left>\n",
    "\n",
    "Try making an array of equal size to the image, but that contains only the color at a given pixel (for example, find a pixel on a leaf, then display an array that contains only that color)\n",
    "\n",
    "Below is an example of how the plot might look\n",
    "    \n",
    "<img src=\"support_files/images/image_data/leafplot.png\"> \n",
    "\n",
    "</div>"
   ]
  },
  {
   "cell_type": "code",
   "execution_count": null,
   "metadata": {},
   "outputs": [],
   "source": []
  },
  {
   "cell_type": "markdown",
   "metadata": {},
   "source": [
    "<div style=\"border-left: 3px solid #000; padding: 1px; padding-left: 10px; background: #F0FAFF; \">\n",
    "<left><h1>Convert the image to grayscale instead</h1></left>\n",
    "<p>To start with, look at any (or all) of the color channels individually. Are they all the same?\n",
    "<p>Below is an example of what a plot of each individual color channel might look like. \n",
    "<p>Note that Matplotlib does not make it easy to put individual colorbars on subplots - scour the documentation or just check out the key to figure this out.\n",
    "<img src=\"support_files/images/image_data/grayscales.png\"> \n",
    "</div>\n"
   ]
  },
  {
   "cell_type": "code",
   "execution_count": null,
   "metadata": {},
   "outputs": [],
   "source": []
  },
  {
   "cell_type": "markdown",
   "metadata": {
    "collapsed": true
   },
   "source": [
    "\n",
    "<div style=\"border-left: 3px solid #000; padding: 1px; padding-left: 10px; background: #F0FAFF; \">\n",
    "<p>To properly convert the color channels to gray (luminance), you need to account for our visual system's sensitivity to each individual color: https://en.wikipedia.org/wiki/Grayscale#Converting_color_to_grayscale. Try writing a function to do this, then applying it to the image.\n",
    "</div>"
   ]
  },
  {
   "cell_type": "code",
   "execution_count": null,
   "metadata": {
    "collapsed": true
   },
   "outputs": [],
   "source": [
    "#try making a function that converts each pixel from RBG to gray"
   ]
  },
  {
   "cell_type": "code",
   "execution_count": null,
   "metadata": {},
   "outputs": [],
   "source": [
    "#apply the function, make a grayscale plot. Be sure to set the colormap appropriately."
   ]
  },
  {
   "cell_type": "markdown",
   "metadata": {},
   "source": [
    "<div style=\"border-left: 3px solid #000; padding: 1px; padding-left: 10px; background: #F0FAFF; \">\n",
    "<left><h1>Try using scipy's gaussian filter method to smooth (blur) the grayscaled face image</h1></left>\n",
    "<p>Hint: Look up documentation for scipy.ndimage.filters.gaussian_filter\n",
    "<p>Here's what a blurred image might look like:\n",
    "<img src=\"support_files/images/image_data/blurred.png\"> \n",
    "</div>\n"
   ]
  },
  {
   "cell_type": "code",
   "execution_count": null,
   "metadata": {
    "collapsed": true
   },
   "outputs": [],
   "source": []
  },
  {
   "cell_type": "markdown",
   "metadata": {},
   "source": [
    "<div style=\"border-left: 3px solid #000; padding: 1px; padding-left: 10px; background: #F0FAFF; \">\n",
    "<left><h1>In the grayscale image, find the pixel with the highest intensity</h1></left>\n",
    "<p>plot an X over it in the image\n",
    "<p>Here's what it should look like:\n",
    "\n",
    "<img src=\"support_files/images/image_data/maxpixel.png\"> \n",
    "</div>"
   ]
  },
  {
   "cell_type": "code",
   "execution_count": null,
   "metadata": {},
   "outputs": [],
   "source": []
  },
  {
   "cell_type": "markdown",
   "metadata": {},
   "source": [
    "<div style=\"border-left: 3px solid #000; padding: 1px; padding-left: 10px; background: #F0FAFF; \">\n",
    "<left><h1>In the grayscale image, choose a threshold, then make all values above that threshold white and all values below that threshold black</h1></left>\n",
    "<p>**Bonus exercise: Use a sliderbar widget to make the threshold dynamically adjustable:**\n",
    "<p>see: http://ipywidgets.readthedocs.io/en/latest/examples/Using%20Interact.html\n",
    "<p>Here's what it should look like:\n",
    "<img src=\"support_files/images/image_data/thresholdedimage.png\"> \n",
    "</div>\n"
   ]
  },
  {
   "cell_type": "code",
   "execution_count": null,
   "metadata": {},
   "outputs": [],
   "source": [
    "# basic answer\n",
    "gray_face_thresholded = gray_face.copy() #make a copy of the data so you don't affect the original image\n",
    "\n",
    "threshold = 150\n",
    "gray_face_thresholded[gray_face_thresholded<=threshold] = 0\n",
    "gray_face_thresholded[gray_face_thresholded>threshold] = 1\n",
    "\n",
    "fig,ax=plt.subplots()\n",
    "\n",
    "ax.imshow(gray_face_thresholded,cmap='gray')"
   ]
  },
  {
   "cell_type": "code",
   "execution_count": null,
   "metadata": {},
   "outputs": [],
   "source": [
    "# Answer with slider bar\n",
    "# have to run 'pip install ipywidgets' from the command line first\n",
    "from ipywidgets import interact\n",
    "@interact\n",
    "def show_thresholded(threshold=(0,255,1)):\n",
    "    gray_face_thresholded = gray_face.copy() #make a copy of the data so you don't affect the original image\n",
    "\n",
    "    gray_face_thresholded[gray_face_thresholded<=threshold] = 0\n",
    "    gray_face_thresholded[gray_face_thresholded>threshold] = 1\n",
    "\n",
    "    fig,ax=plt.subplots()\n",
    "\n",
    "    ax.imshow(gray_face_thresholded,cmap='gray')"
   ]
  },
  {
   "cell_type": "markdown",
   "metadata": {},
   "source": [
    "\n",
    "<div style=\"border-left: 3px solid #000; padding: 1px; padding-left: 10px; background: #F0FAFF; \">\n",
    "<left><h1>Try making plots of intensity values for an x,y cross section through the image</h1></left>\n",
    "<p>For example, a plot might look like this:\n",
    "<img src=\"support_files/images/image_data/cross_sections.png\"> \n",
    "</div>"
   ]
  },
  {
   "cell_type": "code",
   "execution_count": null,
   "metadata": {},
   "outputs": [],
   "source": [
    "#hint: Use gridspec to define the size and locations of the three plots"
   ]
  }
 ],
 "metadata": {
  "kernelspec": {
   "display_name": "Python 3",
   "language": "python",
   "name": "python3"
  },
  "language_info": {
   "codemirror_mode": {
    "name": "ipython",
    "version": 3
   },
   "file_extension": ".py",
   "mimetype": "text/x-python",
   "name": "python",
   "nbconvert_exporter": "python",
   "pygments_lexer": "ipython3",
   "version": "3.8.3"
  }
 },
 "nbformat": 4,
 "nbformat_minor": 1
}
