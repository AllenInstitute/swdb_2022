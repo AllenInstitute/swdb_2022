{
 "cells": [
  {
   "cell_type": "markdown",
   "metadata": {},
   "source": [
    "<img src=\"support_files/images/cropped-SummerWorkshop_Header.png\">  \n",
    "\n",
    "<h1 align=\"center\">Python Bootcamp</h1> \n",
    "<h3 align=\"center\">August 20-21, 2022</h3> "
   ]
  },
  {
   "cell_type": "markdown",
   "metadata": {},
   "source": [
    "<div class=\"alert alert-success\">\n",
    "<font size=\"6\">Exercise</font>  \n",
    "<font size=\"4\"> </font>  \n",
    "<font size=\"5\">Numpy, Scipy, Pandas</font>\n",
    "<p>\n",
    "**Weisberg (1985) makes available a dataset of faculty salaries, along with sevaral possible predictors. We will analyze these data using a general linear model**\n",
    "</p>\n",
    "<p>\n",
    "This exercise covers:\n",
    "<ul style=\"list-style-type:disc\">\n",
    "  <li>Unexpected Formats</li>\n",
    "  <li>Statistics with numpy and scipy</li>\n",
    "  <li>Testing methods on dummy data</li>\n",
    "</ul>\n",
    "</p>\n",
    "</div>"
   ]
  },
  {
   "cell_type": "markdown",
   "metadata": {},
   "source": [
    "## Requirements\n",
    "\n",
    "* pandas\n",
    "* numpy\n",
    "* scipy stats\n",
    "\n",
    "You should also proabbly import division from \\__future__ - just to be safe."
   ]
  },
  {
   "cell_type": "code",
   "execution_count": 1,
   "metadata": {
    "collapsed": true
   },
   "outputs": [],
   "source": [
    "from __future__ import division\n",
    "\n",
    "import pandas as pd\n",
    "import numpy as np\n",
    "import scipy.stats"
   ]
  },
  {
   "cell_type": "markdown",
   "metadata": {},
   "source": [
    "## The Data\n",
    "\n",
    "These data come from a study of salaries among university faculty. The data file is [here](http://data.princeton.edu/wws509/datasets/salary.dat) and a description of the coding is [here](http://data.princeton.edu/wws509/datasets/#salary) (You should probably at least glance at this).\n",
    "\n",
    "Load these data into a pandas dataframe. Note - the delimiter is not a comma!"
   ]
  },
  {
   "cell_type": "code",
   "execution_count": 2,
   "metadata": {},
   "outputs": [],
   "source": [
    "data = pd.read_csv('http://data.princeton.edu/wws509/datasets/salary.dat', sep='\\s+')"
   ]
  },
  {
   "cell_type": "markdown",
   "metadata": {},
   "source": [
    "## A fitting excercise\n",
    "\n",
    "We'll use a general linear model to analyze these data. In order to do this, we need to be able to fit such models. Fortunately, numpy's linalg module contains a method for least squares fitting. Learn how to use this by generating some noisy (gaussian) data from a toy linear model (try numpy's random module) and then recovering your coefficents.\n",
    "\n",
    "Note: functions are good."
   ]
  },
  {
   "cell_type": "code",
   "execution_count": 3,
   "metadata": {
    "collapsed": true
   },
   "outputs": [],
   "source": [
    "def make_test_data(nobs, true_coefs, sigma):\n",
    "    \n",
    "    npar = len(true_coefs)\n",
    "    design = np.random.rand(nobs, npar)\n",
    "    target = np.dot(design, true_coefs) + np.random.randn(nobs) * sigma\n",
    "    \n",
    "    return design, target"
   ]
  },
  {
   "cell_type": "code",
   "execution_count": 4,
   "metadata": {},
   "outputs": [],
   "source": [
    "test_design, test_target = make_test_data(20, np.array([2, 3, 7]), 0.1)"
   ]
  },
  {
   "cell_type": "code",
   "execution_count": 5,
   "metadata": {
    "collapsed": true
   },
   "outputs": [],
   "source": [
    "coefficients, residuals, rank, sv = np.linalg.lstsq(test_design, test_target)"
   ]
  },
  {
   "cell_type": "code",
   "execution_count": 6,
   "metadata": {},
   "outputs": [
    {
     "name": "stdout",
     "output_type": "stream",
     "text": [
      "[ 2.03368024  2.92780121  6.96839643]\n"
     ]
    }
   ],
   "source": [
    "print(coefficients)"
   ]
  },
  {
   "cell_type": "markdown",
   "metadata": {},
   "source": [
    "## Reformatting the data\n",
    "\n",
    "If you've taken a look at the data (hint), you probably know that it is not properly formatted for the method of least-squares fitting that we are using here. It has:\n",
    "\n",
    "* categorical variables in single columns\n",
    "* no distinction between the predictor and estimand columns\n",
    "* no way to specify an intercept\n",
    "\n",
    "Write a function to rectify this situation. Your function should have the following signature:\n",
    "\n",
    "```python\n",
    "def glm_data_reformat(dataframe, target_name, cont_pred=None, cat_pred=None, intercept=True):\n",
    "    '''Sets up a dataframe for fitting with numpy (main effects only)\n",
    "    \n",
    "    Parameters\n",
    "    ---------\n",
    "    dataframe : pandas df\n",
    "        contains mix of categorical and continuous predictors\n",
    "    target_name : str\n",
    "        column header of target variable (treated as continuous)\n",
    "    cont_pred : list of str, optional\n",
    "        column headers of continuous predictors, if any\n",
    "    cat_pred : list of str, optional\n",
    "        column headers of categorical predictors, if any\n",
    "    intercept : bool, optional\n",
    "        fit an intercept? Defaults to yes.\n",
    "        \n",
    "    Returns\n",
    "    -------\n",
    "    design : ndarray (n_observations x n_parameters)\n",
    "        predictor data.\n",
    "    target : ndarray (n_observations)\n",
    "        estimand\n",
    "    design_names : list of str\n",
    "        names of parameters in design matrix columns\n",
    "     \n",
    "    '''\n",
    "\n",
    "    # your code here\n",
    "\n",
    "    return design, target, design_names\n",
    "```\n",
    "\n",
    "Note: You will need to code the continuous variables somehow. This will require spooling them out into multiple columns of the design matrix."
   ]
  },
  {
   "cell_type": "code",
   "execution_count": 7,
   "metadata": {
    "collapsed": true
   },
   "outputs": [],
   "source": [
    "def glm_data_reformat(dataframe, target_name, cont_pred=None, cat_pred=None, intercept=True):\n",
    "    '''Sets up a dataframe for fitting with numpy (main effects only)\n",
    "\n",
    "    Parameters\n",
    "    ---------\n",
    "    dataframe : pandas df\n",
    "        contains mix of categorical and continuous predictors\n",
    "    target_name : str\n",
    "        column header of target variable (treated as continuous)\n",
    "    cont_pred : list of str, optional\n",
    "        column headers of continuous predictors, if any\n",
    "    cat_pred : list of str, optional\n",
    "        column headers of categorical predictors, if any\n",
    "    intercept : bool, optional\n",
    "        fit an intercept? Defaults to yes.\n",
    "\n",
    "    Returns\n",
    "    -------\n",
    "    design : ndarray (n_observations x n_parameters)\n",
    "        predictor data.\n",
    "    target : ndarray (n_observations)\n",
    "        estimand\n",
    "    design_names : list of str\n",
    "        names of parameters in design matrix columns\n",
    "\n",
    "    '''\n",
    "\n",
    "    if cont_pred is None: cont_pred = []\n",
    "    if cat_pred is None: cat_pred = []\n",
    "        \n",
    "    design_names = []\n",
    "    columns = []\n",
    "        \n",
    "    for var_name in cont_pred:\n",
    "        columns.append(dataframe[var_name])\n",
    "        design_names.append(var_name)\n",
    "        \n",
    "    for var_name in cat_pred:\n",
    "        \n",
    "        levels = dataframe[var_name].unique()\n",
    "        nlevels = len(levels)\n",
    "        \n",
    "        if nlevels < 2:\n",
    "            continue\n",
    "        \n",
    "        for ii, level in enumerate(levels):\n",
    "            \n",
    "            if ii == nlevels - 1 :\n",
    "                break\n",
    "                \n",
    "            indicator = np.zeros(dataframe.shape[0])\n",
    "            indicator[np.where(dataframe[var_name] == level)] = 1\n",
    "            columns.append(indicator)\n",
    "            design_names.append('{0}_as_{1}'.format(var_name, level))\n",
    "            \n",
    "    if intercept:\n",
    "        columns.append(np.ones(dataframe.shape[0]))\n",
    "        design_names.append('intercept')\n",
    "        \n",
    "\n",
    "    return np.array(columns).T, np.array(dataframe[target_name]), design_names\n"
   ]
  },
  {
   "cell_type": "code",
   "execution_count": 8,
   "metadata": {
    "collapsed": true
   },
   "outputs": [],
   "source": [
    "full_design, full_target, full_design_names = glm_data_reformat(\n",
    "    data, target_name='sl', cont_pred=['yr', 'yd'], cat_pred=['dg', 'rk', 'sx'], intercept=True\n",
    "    )"
   ]
  },
  {
   "cell_type": "markdown",
   "metadata": {},
   "source": [
    "If you have not already, test your function:"
   ]
  },
  {
   "cell_type": "code",
   "execution_count": null,
   "metadata": {
    "collapsed": true
   },
   "outputs": [],
   "source": []
  },
  {
   "cell_type": "markdown",
   "metadata": {},
   "source": [
    "Now use this function and the linalg module to format the data and fit a model of your choice."
   ]
  },
  {
   "cell_type": "code",
   "execution_count": 9,
   "metadata": {},
   "outputs": [],
   "source": [
    "full_coefficients, residuals, rank, sv = np.linalg.lstsq(full_design, full_target)"
   ]
  },
  {
   "cell_type": "markdown",
   "metadata": {},
   "source": [
    "## Analysis\n",
    "\n",
    "You have a model, let's do something with it. In particular, we will investigate whether there is an effect of sex on salary in these data. We can use a sequential sum of squares f-test, where:\n",
    "\n",
    "$$\n",
    "f = \\frac{\\frac{SSE_{red} - SSE_{full}}{DFE_{red} - DFE{full}}}  {\\frac{SSE_{full}}{DFE_{full}}}\n",
    "$$\n",
    "Here SSE is the sum of squared errors (i.e. the residuals). DFE is the error degrees of freedom (number of observations - number of design matrix columns). The full model is exactly what it sounds like, while the red (reduced) model is just the same model sans one parameter.\n",
    "\n",
    "Fit a full and reduced model for a parameter of interest and generate an f-value."
   ]
  },
  {
   "cell_type": "code",
   "execution_count": 10,
   "metadata": {},
   "outputs": [],
   "source": [
    "red_design, red_target, red_design_names = glm_data_reformat(\n",
    "    data, target_name='sl', cont_pred=['yr', 'yd'], cat_pred=['dg', 'rk'], intercept=True\n",
    "    )\n",
    "red_coefficients, _, _, _ = np.linalg.lstsq(red_design, red_target)\n"
   ]
  },
  {
   "cell_type": "code",
   "execution_count": 11,
   "metadata": {},
   "outputs": [],
   "source": [
    "full_sse = ((np.dot(full_design, full_coefficients) - full_target)**2).sum()\n",
    "red_sse = ((np.dot(red_design, red_coefficients) - red_target)**2).sum()\n",
    "\n",
    "full_dfm = len(full_design_names) \n",
    "red_dfm = len(red_design_names)\n",
    "\n",
    "full_dfe = full_design.shape[0] - full_dfm\n",
    "red_dfe = red_design.shape[0] - red_dfm"
   ]
  },
  {
   "cell_type": "code",
   "execution_count": 12,
   "metadata": {},
   "outputs": [],
   "source": [
    "fhat = ( (red_sse - full_sse) / (red_dfe - full_dfe) ) / (full_sse / full_dfe)"
   ]
  },
  {
   "cell_type": "code",
   "execution_count": 13,
   "metadata": {},
   "outputs": [
    {
     "name": "stdout",
     "output_type": "stream",
     "text": [
      "1.58802561117\n"
     ]
    }
   ],
   "source": [
    "print(fhat)"
   ]
  },
  {
   "cell_type": "markdown",
   "metadata": {},
   "source": [
    "Now get a p-value by using the cdf of an f-distributed random variable. Scipy.stats has a handy function for this.\n",
    "\n",
    "Note that your f-distribution's parameters should be:\n",
    "\n",
    "1. $DFM_{full} - DFM_{red}$ where DFM is the number of columns in a model's design matrix.\n",
    "2. $DFE_{full}$"
   ]
  },
  {
   "cell_type": "code",
   "execution_count": 14,
   "metadata": {},
   "outputs": [],
   "source": [
    "fvar = scipy.stats.f\n",
    "\n",
    "pvalue = 1 - fvar.cdf(fhat, full_dfm - red_dfm, full_dfe)"
   ]
  },
  {
   "cell_type": "code",
   "execution_count": 15,
   "metadata": {},
   "outputs": [
    {
     "name": "stdout",
     "output_type": "stream",
     "text": [
      "0.214104335593\n"
     ]
    }
   ],
   "source": [
    "print(pvalue)"
   ]
  },
  {
   "cell_type": "markdown",
   "metadata": {},
   "source": [
    "## Continuations\n",
    "\n",
    "* extend your glm_data_reformat to handle interactions\n",
    "* evaluate the model's performance using leave-one-out cross-validation"
   ]
  }
 ],
 "metadata": {
  "kernelspec": {
   "display_name": "Python 3",
   "language": "python",
   "name": "python3"
  },
  "language_info": {
   "codemirror_mode": {
    "name": "ipython",
    "version": 3
   },
   "file_extension": ".py",
   "mimetype": "text/x-python",
   "name": "python",
   "nbconvert_exporter": "python",
   "pygments_lexer": "ipython3",
   "version": "3.8.3"
  }
 },
 "nbformat": 4,
 "nbformat_minor": 1
}
