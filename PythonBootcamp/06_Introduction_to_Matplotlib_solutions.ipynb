{
 "cells": [
  {
   "cell_type": "markdown",
   "metadata": {},
   "source": [
    "<img src=\"../../resources/cropped-SummerWorkshop_Header.png\">  \n",
    "\n",
    "<h1 align=\"center\">Python Bootcamp</h1> \n",
    "<h3 align=\"center\">August 20, 2022</h3> "
   ]
  },
  {
   "cell_type": "markdown",
   "metadata": {},
   "source": [
    "<div style=\"border-left: 3px solid #000; padding: 1px; padding-left: 10px; background: #F0FAFF; \">\n",
    "<center><h1>Introduction to Matplotlib</h1></center>\n",
    "\n",
    "<p>\n",
    "Python has many tools available for visualization. The most commonly used plotting tool is <b>matplotlib</b>. We will give a basic introduction here and a more in-depth tutorial on visualization later in the course.\n",
    "\n",
    "Matplotlib is designed after MATLAB's plotting, which has some benefits and drawbacks.\n",
    "    \n",
    "This package has a lot of functionality! Check out the <a href=\"http://matplotlib.org/gallery\">matplotlib gallery</a> for examples.\n",
    "\n",
    "For the most part, we will use arrays as the input to matplotlib and outputs will appear in the notebook or get saved to files (.png, .svg, etc.) \n",
    "    \n",
    "</div>"
   ]
  },
  {
   "cell_type": "code",
   "execution_count": null,
   "metadata": {},
   "outputs": [],
   "source": [
    "# Import numpy and pyplot \n",
    "import matplotlib.pyplot as plt\n",
    "import numpy as np"
   ]
  },
  {
   "cell_type": "markdown",
   "metadata": {},
   "source": [
    "<div style=\"border-left: 3px solid #000; padding: 1px; padding-left: 10px; background: #F0FAFF; \">\n",
    "<h2>Simple line plots</h2>\n",
    "\n",
    "<p>Start by making some sample data with which to generate an x,y line plot\n",
    "</div>\n",
    "\n"
   ]
  },
  {
   "cell_type": "code",
   "execution_count": null,
   "metadata": {
    "scrolled": true
   },
   "outputs": [],
   "source": [
    "x = np.arange(0, 10, 0.01)  # make evenly spaced points between 0 and 10 at intervals of 0.01\n",
    "y = np.sin(2 * np.pi * x) * np.exp(-0.5 * x)  # some function of x\n",
    "\n",
    "print(\"X     Y\")\n",
    "for i in range(7):\n",
    "    print(f\"{x[i]:0.2f}, {y[i]:0.2f}\")\n",
    "print(\"...\")"
   ]
  },
  {
   "cell_type": "markdown",
   "metadata": {},
   "source": [
    "<div style=\"border-left: 3px solid #000; padding: 1px; padding-left: 10px; background: #F0FAFF; \">\n",
    "\n",
    "<p> Create a figure and axis, then plot our data on the axis\n",
    "</div>"
   ]
  },
  {
   "cell_type": "code",
   "execution_count": null,
   "metadata": {
    "scrolled": true
   },
   "outputs": [],
   "source": [
    "# Create a blank figure to plot in\n",
    "fig, ax = plt.subplots()\n",
    "\n",
    "# Plot our data!\n",
    "ax.plot(x, y, color='red', linewidth=2);"
   ]
  },
  {
   "cell_type": "markdown",
   "metadata": {},
   "source": [
    "<div style=\"border-left: 3px solid #000; padding: 1px; padding-left: 10px; background: #F0FAFF; \">\n",
    "<h2>Adding labels</h2> \n",
    "\n",
    "<p>The Axes object (ax) that we created above provides many methods to help us annotate our plots:\n",
    "\n",
    "</div>"
   ]
  },
  {
   "cell_type": "code",
   "execution_count": null,
   "metadata": {},
   "outputs": [],
   "source": [
    "fig, ax = plt.subplots()\n",
    "\n",
    "# Plot x,y again, but now we give this data a `label` to appear later in the legend\n",
    "ax.plot(x, y, color='red', linewidth=2, label='τ=2.0')\n",
    "\n",
    "# Add a title at the top of the plot\n",
    "ax.set_title('A Damped Oscillator')\n",
    "\n",
    "# Add x/y axis labels\n",
    "ax.set_xlabel('Time (s)')\n",
    "ax.set_ylabel('Amplitude')\n",
    "\n",
    "# Add a legend. Note the `label` argument to ax.plot!\n",
    "ax.legend();"
   ]
  },
  {
   "cell_type": "markdown",
   "metadata": {},
   "source": [
    "<div style=\"border-left: 3px solid #000; padding: 1px; padding-left: 10px; background: #F0FAFF; \">\n",
    "\n",
    "Many more otions are available here -- you can customize the the border, axis ticks, tick labels, line styles, fonts, spacing, etc. The <a href=\"https://matplotlib.org/stable/api/axes_api.html\">documentation</a> and examples available online are good, so usually a google search will get you answers quickly."
   ]
  },
  {
   "cell_type": "markdown",
   "metadata": {},
   "source": [
    "<div style=\"background: #DFF0D8; border-radius: 3px; padding: 10px;\">\n",
    "\n",
    "**EXERCISE:** \n",
    "\n",
    "Make a line plot like above, but with a few modifications:\n",
    "    \n",
    "<ul>\n",
    "    <li>Plot two different curves on top of each other in different colors\n",
    "    <li>Force the x axis range to be from 0 to 5 (see \"Axis limits\" in the documentation link above)\n",
    "    <li>Remove the top and right frame lines from the plot (try asking ask google)\n",
    "    <li>Make the figure larger (see <a href=\"https://matplotlib.org/stable/api/_as_gen/matplotlib.pyplot.subplots.html\">the suplots() documentation</a>)\n",
    "</div>"
   ]
  },
  {
   "cell_type": "code",
   "execution_count": null,
   "metadata": {},
   "outputs": [],
   "source": []
  },
  {
   "cell_type": "markdown",
   "metadata": {},
   "source": [
    "<div style=\"border-left: 3px solid #000; padding: 1px; padding-left: 10px; background: #F0FAFF; \">\n",
    "<h2>More plot styles</h2> \n",
    "\n",
    "<p>Let's look at a few other types of plot we can generate:\n",
    "\n",
    "</div>"
   ]
  },
  {
   "cell_type": "code",
   "execution_count": null,
   "metadata": {
    "scrolled": true
   },
   "outputs": [],
   "source": [
    "# Histogram\n",
    "fig, ax = plt.subplots()\n",
    "ax.hist(y, bins=30);"
   ]
  },
  {
   "cell_type": "code",
   "execution_count": null,
   "metadata": {
    "scrolled": true
   },
   "outputs": [],
   "source": [
    "# Scatter plot\n",
    "fig, ax = plt.subplots()\n",
    "ax.scatter(x[::20], y[::20]);"
   ]
  },
  {
   "cell_type": "code",
   "execution_count": null,
   "metadata": {},
   "outputs": [],
   "source": [
    "# Bar plot and error bars\n",
    "x = np.array([0, 1, 2, 3, 4])\n",
    "y = np.array([3, 2, 7, 4, 5])\n",
    "labels = ['A', 'B', 'C', 'D', 'E']\n",
    "\n",
    "fig, ax = plt.subplots()\n",
    "ax.bar(x, y)\n",
    "ax.errorbar(x, y, yerr=y**0.5, ecolor='black', linestyle='')\n",
    "\n",
    "\n",
    "# for bar charts, we often want to customize the x axis ticks and labels\n",
    "ax.set_xticks(x)\n",
    "ax.set_xticklabels(labels);"
   ]
  },
  {
   "cell_type": "markdown",
   "metadata": {},
   "source": [
    "<div style=\"border-left: 3px solid #000; padding: 1px; padding-left: 10px; background: #F0FAFF; \">\n",
    "<h2>Plotting Image Data</h2>\n",
    "    \n",
    "Any time we have a 2D array of values, it may be useful to visualize the array as an image. Matplotlib gives us many options to control how data values are converted to image pixel colors.    \n",
    "\n",
    "</div>"
   ]
  },
  {
   "cell_type": "code",
   "execution_count": null,
   "metadata": {},
   "outputs": [],
   "source": [
    "# First, make an interesting 2D array of values\n",
    "x = np.linspace(-10, 10, 100)\n",
    "y = np.linspace(-5, 5, 50)\n",
    "r = (y[:, None]**2 + x[None, :]**2)**0.5\n",
    "data = np.sin(r) / r + np.random.normal(size=(50, 100), scale=0.1)\n",
    "\n",
    "print(\"Array shape:\", data.shape)"
   ]
  },
  {
   "cell_type": "code",
   "execution_count": null,
   "metadata": {
    "scrolled": true
   },
   "outputs": [],
   "source": [
    "# show as an image\n",
    "fig, ax = plt.subplots()\n",
    "ax.imshow(data, cmap='plasma');"
   ]
  },
  {
   "cell_type": "markdown",
   "metadata": {},
   "source": [
    "<div style=\"border-left: 3px solid #000; padding: 1px; padding-left: 10px; background: #F0FAFF; \">\n",
    "Note that Matbplotlib automatically determined the minimum and maximum values in our data, and used those to map from our data values to the colors in the \"plasma\" colormap. We can control the range of this mapping by using the `clim` argument:\n",
    "\n",
    "</div>"
   ]
  },
  {
   "cell_type": "code",
   "execution_count": null,
   "metadata": {
    "scrolled": true
   },
   "outputs": [],
   "source": [
    "fig, ax = plt.subplots()\n",
    "image = ax.imshow(data, cmap='plasma', clim=(-0.3, 0.3))\n",
    "\n",
    "# Add a colorbar using the previously-returned image object (which carries information about the colormap and limits)\n",
    "plt.colorbar(image, ax=ax, shrink=0.7);"
   ]
  },
  {
   "cell_type": "markdown",
   "metadata": {},
   "source": [
    "<div style=\"border-left: 3px solid #000; padding: 1px; padding-left: 10px; background: #F0FAFF; \">\n",
    "<h2>Working with Colormaps</h2>\n",
    "\n",
    "Colormaps may be used more broadly as a way to define coloring based on scalar values. For example:\n",
    "</div>"
   ]
  },
  {
   "cell_type": "code",
   "execution_count": null,
   "metadata": {
    "scrolled": true
   },
   "outputs": [],
   "source": [
    "# Matplotlib comes with many colormaps to choose from, such as \"viridis\", \"plasma\", and \"coolwarm\"\n",
    "plt.cm.viridis"
   ]
  },
  {
   "cell_type": "code",
   "execution_count": null,
   "metadata": {},
   "outputs": [],
   "source": [
    "plt.cm.plasma"
   ]
  },
  {
   "cell_type": "code",
   "execution_count": null,
   "metadata": {},
   "outputs": [],
   "source": [
    "plt.cm.coolwarm"
   ]
  },
  {
   "cell_type": "code",
   "execution_count": null,
   "metadata": {},
   "outputs": [],
   "source": [
    "# We can get the RGBA values from any location along a colormap  (from 0 to 1)\n",
    "plt.cm.viridis(0.5)"
   ]
  },
  {
   "cell_type": "markdown",
   "metadata": {},
   "source": [
    "<div style=\"border-left: 3px solid #000; padding: 1px; padding-left: 10px; background: #F0FAFF; \">\n",
    "Like we saw with the image example above, however, usually it takes a bit more work to generate colors because we also have to map the <i>range</i> of our data to the range of the colormap (0 to 1) -- that is, we need to decide what min/max values in our data correspond to the leftmost and rightmost points on the colormap, and whether everything in between should be spread out linearly, logarithmically, or otherwise.  \n",
    "</div>"
   ]
  },
  {
   "cell_type": "code",
   "execution_count": null,
   "metadata": {},
   "outputs": [],
   "source": [
    "x = np.linspace(0, 10, 100)\n",
    "y = 7 * np.sin(x)\n",
    "\n",
    "# Use the \"coolwarm\" colormap to make positive values red and negative values blue.\n",
    "# This happens in 2 steps; first, normalize the y values to the range (0, 1)\n",
    "norm_y = plt.Normalize(-7, 7)(y)\n",
    "\n",
    "print(f\"  original Y min/max: {y.min()}, {y.max()}\")\n",
    "print(f\"normalized Y min/max: {norm_y.min()}, {norm_y.max()}\")\n"
   ]
  },
  {
   "cell_type": "code",
   "execution_count": null,
   "metadata": {
    "scrolled": true
   },
   "outputs": [],
   "source": [
    "# Next, generate color from norm_y \n",
    "color = plt.cm.coolwarm(norm_y)\n",
    "\n",
    "# Scatter plot with color\n",
    "fig, ax = plt.subplots()\n",
    "ax.scatter(x, y, color=color);"
   ]
  },
  {
   "cell_type": "markdown",
   "metadata": {},
   "source": [
    "This procedure -- normalization followed by color mapping -- is so common that matplotlib provides a shorthand in many situations:"
   ]
  },
  {
   "cell_type": "code",
   "execution_count": null,
   "metadata": {},
   "outputs": [],
   "source": [
    "fig, ax = plt.subplots()\n",
    "ax.scatter(x, y, c=y, norm=plt.Normalize(-7, 7), cmap='coolwarm');"
   ]
  },
  {
   "cell_type": "markdown",
   "metadata": {},
   "source": [
    "<div style=\"background: #DFF0D8; border-radius: 3px; padding: 10px;\">\n",
    "\n",
    "**EXERCISE:** \n",
    "\n",
    "The code below generates 5 arrays of y values. \n",
    "\n",
    "Modify it to draw 5 line plots on top of each other, using the `tau` value to select a color for each plot from the viridis colormap. \n",
    "Include a legend!\n",
    "</div>"
   ]
  },
  {
   "cell_type": "code",
   "execution_count": null,
   "metadata": {},
   "outputs": [],
   "source": [
    "for i, tau in enumerate(np.linspace(0.2, 4.0, 5)):\n",
    "    y = np.exp(-x / tau)\n",
    "    label = f'τ={tau:0.2f}'\n"
   ]
  },
  {
   "cell_type": "markdown",
   "metadata": {},
   "source": [
    "<div style=\"border-left: 3px solid #000; padding: 1px; padding-left: 10px; background: #F0FAFF; \">\n",
    "<h2>Figures with Subplots</h2> \n",
    "\n",
    "<p>A given figure can have more than one axis. The <code>subplot</code> command, which we used above, generates a single axis by default. But we can specify the number of axes that we want.\n",
    "\n",
    "</div>"
   ]
  },
  {
   "cell_type": "code",
   "execution_count": null,
   "metadata": {},
   "outputs": [],
   "source": [
    "# Make two sets of x,y data to plot:\n",
    "x = np.arange(0, 2 * np.pi, 0.1)\n",
    "y1 = np.sin(x)\n",
    "y2 = np.cos(x)\n",
    "\n",
    "# Create a new figure with two subplots inside. The `sharex` argument forces both\n",
    "# plots to display the same range along the X axis.\n",
    "fig, axes = plt.subplots(nrows=2, ncols=1, sharex=True)\n",
    "\n",
    "# The second return value *axes* is a numpy array that contains references to the two subplots.\n",
    "# Plot on each subplot by indexing into 'axes':\n",
    "axes[0].plot(x, y1, label='sin(x)')\n",
    "axes[1].plot(x, y2, label='cos(x)', color='red')\n",
    "\n",
    "# We can loop over the `axes` array to set properties in every subplot (no matter how many)\n",
    "for ax in axes:\n",
    "    ax.legend(loc='best')\n",
    "    ax.set_ylabel('Amplitude', fontsize=12)\n",
    "\n",
    "axes[1].set_xlabel('Phase', fontsize=12);"
   ]
  },
  {
   "cell_type": "markdown",
   "metadata": {},
   "source": [
    "<div style=\"border-left: 3px solid #000; padding: 1px; padding-left: 10px; background: #F0FAFF; \">\n",
    "\n",
    "<h2>More complex figures with Gridspec </h2>\n",
    "\n",
    "<p>Gridspec is useful when you have uneven subplots. It can get tricky for more complex plots, so first try to use <code>ax.subplots()</code> (like in the previous examples) if possible.  \n",
    "\n",
    "<p>The documentation for gridspec is <a href=\"http://matplotlib.org/users/gridspec.html\">here</a>.\n",
    "</div>\n"
   ]
  },
  {
   "cell_type": "code",
   "execution_count": null,
   "metadata": {},
   "outputs": [],
   "source": [
    "fig = plt.figure()\n",
    "\n",
    "# Create grispec object and define each subplot\n",
    "gs = fig.add_gridspec(nrows=2, ncols=2)\n",
    "ax0 = fig.add_subplot(gs[0, 0]) # Top left corner\n",
    "ax1 = fig.add_subplot(gs[0, 1]) # Top right corner\n",
    "ax2 = fig.add_subplot(gs[1, :]) # Bottom, span entire width\n",
    "\n",
    "# Make up some data to plot\n",
    "x = np.arange(0., 5., 0.01)\n",
    "y1 = np.cos(5 * x)\n",
    "y2 = np.exp(-1 * x)\n",
    "y3 = np.cos(5 * x) * np.exp(-x)\n",
    "\n",
    "ax0.plot(x, y1, c='b')\n",
    "ax1.plot(x, y2, c='g')\n",
    "ax2.plot(x, y3, c='k');"
   ]
  }
 ],
 "metadata": {
  "anaconda-cloud": {},
  "kernelspec": {
   "display_name": "Python 3 (ipykernel)",
   "language": "python",
   "name": "python3"
  },
  "language_info": {
   "codemirror_mode": {
    "name": "ipython",
    "version": 3
   },
   "file_extension": ".py",
   "mimetype": "text/x-python",
   "name": "python",
   "nbconvert_exporter": "python",
   "pygments_lexer": "ipython3",
   "version": "3.10.4"
  }
 },
 "nbformat": 4,
 "nbformat_minor": 4
}
