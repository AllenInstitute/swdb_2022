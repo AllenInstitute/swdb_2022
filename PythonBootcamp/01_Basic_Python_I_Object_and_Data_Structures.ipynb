{
 "cells": [
  {
   "cell_type": "markdown",
   "metadata": {},
   "source": [
    "<img src=\"support_files/images/cropped-SummerWorkshop_Header.png\">  \n",
    "\n",
    "<h1 align=\"center\">Python Bootcamp</h1> \n",
    "<h3 align=\"center\">August 20-21, 2022</h3> "
   ]
  },
  {
   "cell_type": "markdown",
   "metadata": {},
   "source": [
    "<div style=\"border-left: 3px solid #000; padding: 1px; padding-left: 10px; background: #F0FAFF; \">\n",
    "<center><h1>Basic Python Part 1</h1></center>\n",
    "\n",
    "<p>Python is an interpreted language. This means that there is a running Python process that reads and interprets each line of your code, one at a time, and immediately executes that line before moving to the next. This is similar to languages like Matlab and IgorPro, but different from lower level languages like C and Java, in which the program must be compiled and restarted whenever the code changes.\n",
    "\n",
    "<p>We are interacting with Python though a Jupyter Notebook, one of many interfaces to Python. Jupyter keeps a Python process (called a \"kernel\") running in the background. Every time you execute a block of code, Jupyter passes your code to the Python interpreter and then displays the result immediately following the code block that was executed.\n",
    "\n",
    "<p>Execute your first Python command by highlighting the cell below and typing Shift-Return.\n",
    "</div>"
   ]
  },
  {
   "cell_type": "code",
   "execution_count": null,
   "metadata": {},
   "outputs": [],
   "source": [
    "# Python is an interpreted language.\n",
    "# It executes commands as it receives them.\n",
    "# It ignores lines that begin with '#'.  These are called 'comments'.\n",
    "\n",
    "print(\"Hello, world\")"
   ]
  },
  {
   "cell_type": "markdown",
   "metadata": {},
   "source": [
    "<div style=\"border-left: 3px solid #000; padding: 1px; padding-left: 10px; background: #F0FAFF; \">\n",
    "    <p>In Python, a single piece of data is called an <b>object</b>, and each object has a specific <b>type</b> (types are also called \"classes\"). These include simple types like integers, floats, and strings, and more complex types like lists, arrays, and dictionaries.\n",
    "\n",
    "<p>In the example above, we created an object with the value \"hello, world\". If we want to know what type this object has, we can ask the Python interpreter:\n",
    "</div>"
   ]
  },
  {
   "cell_type": "code",
   "execution_count": null,
   "metadata": {},
   "outputs": [],
   "source": [
    "type(\"Hello, world\")"
   ]
  },
  {
   "cell_type": "markdown",
   "metadata": {},
   "source": [
    "<div style=\"border-left: 3px solid #000; padding: 1px; padding-left: 10px; background: #F0FAFF; \">\n",
    "    <p><code>hello, world</code> is a string (this type is called <code>str</code> in Python). \n",
    "\n",
    "<p>Note 1: Usually we need to use <code>print()</code> if we want output printed in the notebook. However, Jupyter will also display the output of the last line in each cell for us, so it was not necessary to use <code>print()</code> in this case.\n",
    "\n",
    "<p>Note 2: Python allows the use of single or double quotes when defining strings, as long as the same type of quote is used to begin and end each string:\n",
    "</div>"
   ]
  },
  {
   "cell_type": "code",
   "execution_count": null,
   "metadata": {},
   "outputs": [],
   "source": [
    "print('Hello, world 1')\n",
    "print(\"Hello, world 2\")"
   ]
  },
  {
   "cell_type": "markdown",
   "metadata": {},
   "source": [
    "<div style=\"border-left: 3px solid #000; padding: 1px; padding-left: 10px; background: #F0FAFF; \">\n",
    "    <p>It is important to know the <b>types</b> of your objects, because this will tell you what you can <b>do</b> with each object.\n",
    "\n",
    "<p>In \"object-oriented\" programming, both data and the functions that operate on that data are encapsulated together in an object. That is, each object gives us access to both its data (an integer, a string, etc.) and a set of functions (called \"methods\") that we can use to manipulate the data:\n",
    "</div>"
   ]
  },
  {
   "cell_type": "code",
   "execution_count": null,
   "metadata": {},
   "outputs": [],
   "source": [
    "# For example, we can convert a string to all lower-case using its `lower()` method.\n",
    "# We use \"dot\" notation to access a method from an object:\n",
    "\"HELLO, WORLD\".lower()"
   ]
  },
  {
   "cell_type": "markdown",
   "metadata": {},
   "source": [
    "<div style=\"background: #DFF0D8; border-radius: 3px; padding: 10px;\">\n",
    "    <p><b>Exercise 1.1:</b>\n",
    "Capitalize the letters in a string.\n",
    "\n",
    "<p>&nbsp;&nbsp;&nbsp;&nbsp;'hello' -> 'HELLO'\n",
    "\n",
    "<p>See: <a href=\"https://docs.python.org/3/library/stdtypes.html#string-methods\">string methods documentation</a>\n",
    "</div>"
   ]
  },
  {
   "cell_type": "code",
   "execution_count": null,
   "metadata": {},
   "outputs": [],
   "source": []
  },
  {
   "cell_type": "code",
   "execution_count": null,
   "metadata": {},
   "outputs": [],
   "source": [
    "# We can also use the `replace()` method to modify a string:\n",
    "\"Hello, world\".replace(\"Hello\", \"Howdy\")"
   ]
  },
  {
   "cell_type": "markdown",
   "metadata": {},
   "source": [
    "<div style=\"border-left: 3px solid #000; padding: 1px; padding-left: 10px; background: #F0FAFF; \">\n",
    "<h2>Assigning variables</h2>\n",
    "\n",
    "<p>We can assign new variable names to our objects so that we can access them again later:\n",
    "</div>"
   ]
  },
  {
   "cell_type": "code",
   "execution_count": null,
   "metadata": {},
   "outputs": [],
   "source": [
    "# Create a new variable called `hello` and assign it to a string object:\n",
    "hello = 'Hello, world'\n",
    "\n",
    "# Now we can access the same object using the variable name:\n",
    "print(hello)"
   ]
  },
  {
   "cell_type": "markdown",
   "metadata": {},
   "source": [
    "<div style=\"border-left: 3px solid #000; padding: 1px; padding-left: 10px; background: #F0FAFF; \">\n",
    "<p>Variable names must conform to two simple rules:\n",
    "\n",
    "<ol>\n",
    "<li>May contain only letters, numbers, and underscores\n",
    "<li>May not begin with a number\n",
    "</ol>\n",
    "\n",
    "<p>Note 1: An object in Python has a specific type (int, str, etc.), and this type cannot be changed once the object is created. In contrast, variable names simply point to an object, and have no type of their own. These names can be reassigned to objects of different types at any time.\n",
    "\n",
    "<p>If you assign a name to an object, then that name can be used in all the same ways as the object itself:\n",
    "</div>"
   ]
  },
  {
   "cell_type": "code",
   "execution_count": null,
   "metadata": {
    "scrolled": true
   },
   "outputs": [],
   "source": [
    "# We can check the object's type:\n",
    "print(type(hello))\n",
    "\n",
    "# We can access the object's methods:\n",
    "print(hello.replace(\"Hello\", \"Hola\"))\n",
    "\n",
    "# We can even assign new names to the same object:\n",
    "hello2 = hello\n",
    "print(hello2)"
   ]
  },
  {
   "cell_type": "markdown",
   "metadata": {},
   "source": [
    "<div style=\"border-left: 3px solid #000; padding: 1px; padding-left: 10px; background: #F0FAFF; \">\n",
    "<h2>A word about names</h2>\n",
    "\n",
    "<p>Python uses a different model than you may be familiar with for assigning names.  The assignment operator (<code>=</code>) in Python creates a <b>reference</b> to an object in memory.  It does <b>not</b> create a new variable with the new name.  You can test this with the builtin function <code>id</code>, which returns a unique identifier for every object.\n",
    "\n",
    "<p>Now let's play with some of the numerical data types:\n",
    "</div>"
   ]
  },
  {
   "cell_type": "code",
   "execution_count": null,
   "metadata": {},
   "outputs": [],
   "source": [
    "print(type(1.0))\n",
    "print(type(3))"
   ]
  },
  {
   "cell_type": "markdown",
   "metadata": {},
   "source": [
    "<div style=\"border-left: 3px solid #000; padding: 1px; padding-left: 10px; background: #F0FAFF; \">\n",
    "\n",
    "<p>There are two basic numerical types here: <code>float</code> and <code>int</code>. Note that simply writing a decimal point with the number is sufficient to inform Python that a <code>float</code> is intended.\n",
    "\n",
    "<p>Most of the basic arithmetic tools you are familiar with are available for these types:\n",
    "</div>"
   ]
  },
  {
   "cell_type": "code",
   "execution_count": null,
   "metadata": {},
   "outputs": [],
   "source": [
    "a = 1 + 3           # addition / subtraction\n",
    "b = 10.0 * 4 / 2      # multiplication / division\n",
    "c = 8.5**3          # exponent\n",
    "d = 173 % 12        # modulo\n",
    "e = 1e2 * (c + a)   # scientific notation, parentheses\n",
    "f = 5//2            # integer division\n",
    "print(a, b, c, d, e, f)"
   ]
  },
  {
   "cell_type": "markdown",
   "metadata": {},
   "source": [
    "<div style=\"border-left: 3px solid #000; padding: 1px; padding-left: 10px; background: #F0FAFF; \">\n",
    "\n",
    "<p>Strings also have the sum operation\n",
    "\n",
    "</div>"
   ]
  },
  {
   "cell_type": "code",
   "execution_count": null,
   "metadata": {},
   "outputs": [],
   "source": [
    "hello = 'hello' + ' world'\n",
    "\n",
    "print(hello)"
   ]
  },
  {
   "cell_type": "markdown",
   "metadata": {},
   "source": [
    "<div style=\"border-left: 3px solid #000; padding: 1px; padding-left: 10px; background: #F0FAFF; \">\n",
    "\n",
    "<p>We can also easily convert objects of one type into another. Note that we are not changing the types of each object, but rather creating new objects of different types:\n",
    "</div>"
   ]
  },
  {
   "cell_type": "code",
   "execution_count": null,
   "metadata": {},
   "outputs": [],
   "source": [
    "a = float(3)      # create float from int\n",
    "b = int(3.5)      # coerce float to int (this rounds the value down)\n",
    "c = float(\"9.5\")  # convert str to float\n",
    "d = str(10)       # convert into to str\n",
    "print([a, b, c, d])"
   ]
  },
  {
   "cell_type": "markdown",
   "metadata": {},
   "source": [
    "<div style=\"background: #DFF0D8; border-radius: 3px; padding: 10px;\">\n",
    "    <p><b>Exercise 1.2:</b>  Add two string representations of an integer.\n",
    "\n",
    "<p>   &nbsp;&nbsp;&nbsp;         '345', '20' ->  '365' \n",
    "            \n",
    "</div>    "
   ]
  },
  {
   "cell_type": "code",
   "execution_count": null,
   "metadata": {},
   "outputs": [],
   "source": []
  },
  {
   "cell_type": "markdown",
   "metadata": {},
   "source": [
    "<div style=\"background: #DFF0D8; border-radius: 3px; padding: 10px;\">\n",
    "    <p><b>Exercise 1.3:</b>  Many countries use a comma instead of period to indicate a decimal point. However, Python does not support this notation. Modify the following string and convert it to a float object using tools learned above.\n",
    "\n",
    "<p>   <code>strval = \"124,78\"</code> \n",
    "            \n",
    "</div> "
   ]
  },
  {
   "cell_type": "code",
   "execution_count": null,
   "metadata": {},
   "outputs": [],
   "source": [
    "  "
   ]
  },
  {
   "cell_type": "markdown",
   "metadata": {},
   "source": [
    "<div style=\"border-left: 3px solid #000; padding: 1px; padding-left: 10px; background: #F0FAFF; \">\n",
    "<p>Another very common operation to perform on strings is to split the string into smaller pieces. For example, let's say we want to take the string <code>\"Hello, world\"</code> and split it into the two parts that come before and after the comma. Strings provide a handy <code>split()</code> method for this purpose:\n",
    "</div>"
   ]
  },
  {
   "cell_type": "code",
   "execution_count": null,
   "metadata": {},
   "outputs": [],
   "source": [
    "hello = \"Hello, world\"\n",
    "words_from_hello = hello.split(\", \")\n",
    "print(words_from_hello)"
   ]
  },
  {
   "cell_type": "markdown",
   "metadata": {},
   "source": [
    "<div style=\"border-left: 3px solid #000; padding: 1px; padding-left: 10px; background: #F0FAFF; \">\n",
    "    <p>If everything is an object, what is <code>words_from_hello</code>?\n",
    "</div>"
   ]
  },
  {
   "cell_type": "code",
   "execution_count": null,
   "metadata": {},
   "outputs": [],
   "source": [
    "type(words_from_hello)"
   ]
  },
  {
   "cell_type": "markdown",
   "metadata": {},
   "source": [
    "<div style=\"border-left: 3px solid #000; padding: 1px; padding-left: 10px; background: #F0FAFF; \">\n",
    "    <p><code>list</code> is a fundamental type in Python.\n",
    "\n",
    "<p>What is a list?  A list is a collection of objects that is:\n",
    "\n",
    "<ol>\n",
    "<li><b>ordered</b> - the objects are arranged in a certain order.\n",
    "<li><b>addressable</b> - we can request each object by its address (its position in the list).\n",
    "<li><b>mutable</b> - the list can be changed after it is created.\n",
    "</ol>\n",
    "\n",
    "<p>Note that lists may contain <b>any</b> type of Python object, and the objects in a list need not be of the same type.\n",
    "</div>"
   ]
  },
  {
   "cell_type": "code",
   "execution_count": null,
   "metadata": {},
   "outputs": [],
   "source": [
    "# A 'list' is an object that is \n",
    "\n",
    "# 1) ordered\n",
    "# words_from_hello[0] comes before words_from_hello[1]\n",
    "# There is a method to reverse the order\n",
    "words_from_hello.reverse()\n",
    "print(words_from_hello)\n",
    "words_from_hello.reverse()\n",
    "\n",
    "# 2) addressable       \n",
    "# Data in a list can be accessed with an index, starting from 0\n",
    "print(words_from_hello[0])\n",
    "print(words_from_hello[1])\n",
    "\n",
    "# 3) mutable\n",
    "words_from_hello[0] = 'goodbye'      # overwrite the first value\n",
    "words_from_hello.insert(1, 'cruel')  # insert a new value\n",
    "print(words_from_hello)"
   ]
  },
  {
   "cell_type": "markdown",
   "metadata": {},
   "source": [
    "<div style=\"border-left: 3px solid #000; padding: 1px; padding-left: 10px; background: #F0FAFF; \">\n",
    "<p>Another word about names\n",
    "</div>"
   ]
  },
  {
   "cell_type": "markdown",
   "metadata": {},
   "source": [
    "<div style=\"background: #DFF0D8; border-radius: 3px; padding: 10px;\">\n",
    "    <p><b>Exercise 1.4:</b>  The cell below creates the name <code>my_new_list</code> and assigns it with <code>words_from_hello</code>.  Assign a new value to the first element of <code>my_new_list</code>.  What are the values of <code>my_new_list</code> and <code>words_from_hello</code>?  \n",
    "</div>"
   ]
  },
  {
   "cell_type": "code",
   "execution_count": null,
   "metadata": {},
   "outputs": [],
   "source": [
    "my_new_list = words_from_hello"
   ]
  },
  {
   "cell_type": "markdown",
   "metadata": {},
   "source": [
    "<div style=\"border-left: 3px solid #000; padding: 1px; padding-left: 10px; background: #F0FAFF; \">\n",
    "<p>Use the cell below:\n",
    "</div>"
   ]
  },
  {
   "cell_type": "code",
   "execution_count": null,
   "metadata": {},
   "outputs": [],
   "source": []
  },
  {
   "cell_type": "markdown",
   "metadata": {},
   "source": [
    "<div style=\"border-left: 3px solid #000; padding: 1px; padding-left: 10px; background: #F0FAFF; \">\n",
    "<p>Assignment creates new names, not new objects!\n",
    "    \n",
    "<p>Also, It's important enough to say again:\n",
    "\n",
    "<p><strong>Python indexes from 0!</strong>\n",
    "</div>"
   ]
  },
  {
   "cell_type": "code",
   "execution_count": null,
   "metadata": {},
   "outputs": [],
   "source": [
    "print(words_from_hello[0])"
   ]
  },
  {
   "cell_type": "code",
   "execution_count": null,
   "metadata": {},
   "outputs": [],
   "source": [
    "print(words_from_hello[3])"
   ]
  },
  {
   "cell_type": "markdown",
   "metadata": {},
   "source": [
    "<div style=\"border-left: 3px solid #000; padding: 1px; padding-left: 10px; background: #F0FAFF; \">\n",
    "    <p>What just happened?  <code>words_from_hello</code> is a list of length 3, i.e. it has three elements with indexes 0, 1, and 2.  Trying to access an index that would point outside that range (such as 3) produces an error. For now, let's focus on the last line of this error message:\n",
    "\n",
    "   <p> IndexError: list index out of range\n",
    "\n",
    "<p>There are some important clues in this message: \n",
    "\n",
    "<ol>\n",
    "    <li>We were accessing a <code>list</code> when the error occurred\n",
    "<li>The index we used to access the list (in this case 3) was invalid\n",
    "</ol>\n",
    "\n",
    "<p>Python handles errors by creating an object that describes the error. The type of the error object depends on the kind of error that occurred.  Using a bad index here generates an <code>IndexError</code>.  We will see many other error types later.\n",
    "</div>"
   ]
  },
  {
   "cell_type": "code",
   "execution_count": null,
   "metadata": {},
   "outputs": [],
   "source": [
    "# Common methods for lists\n",
    "words_from_hello.append('!')        # add an object to a list\n",
    "print(words_from_hello)\n",
    "words_from_hello.remove('cruel')    # remove the first instance of a given object\n",
    "print(words_from_hello)\n",
    "words_from_hello.insert(1,'cruel')  # insert an object at a given index\n",
    "print(words_from_hello)\n",
    "words_from_hello.pop(3)             # remove the item at a specific index\n",
    "print(words_from_hello)"
   ]
  },
  {
   "cell_type": "markdown",
   "metadata": {},
   "source": [
    "<div style=\"background: #DFF0D8; border-radius: 3px; padding: 10px;\">\n",
    "    <p><b>Exercise 1.5:</b>  Using the methods above, change <code>words_from_hello</code> such that its value is \n",
    "['hello','beautiful','world','!']\n",
    "</div>"
   ]
  },
  {
   "cell_type": "code",
   "execution_count": null,
   "metadata": {},
   "outputs": [],
   "source": []
  },
  {
   "cell_type": "markdown",
   "metadata": {},
   "source": [
    "<div style=\"border-left: 3px solid #000; padding: 1px; padding-left: 10px; background: #F0FAFF; \">\n",
    "<p>So we have learned that all data in Python is represented as <b>objects</b>, that each object is of a specific <b>type</b>, and that each type has specific <b>methods</b> associated with it (strings have <code>lower()</code> and <code>replace()</code>, lists have <code>append()</code> and <code>remove()</code>, etc).\n",
    "\n",
    "<p>Given an object of a particular type, how can we determine the list of all methods available for that object? We have a few options:\n",
    "\n",
    "<ol>\n",
    "<li>Read the documentation for that type.\n",
    "<li>Use Python's built-in help system.\n",
    "<li>Directly list the available attributes of the object.\n",
    "</ol>\n",
    "\n",
    "<p>The documentation for Python's built-in object types can be found <a href=\"https://docs.python.org/3/library/functions.html\">here</a>. Later, we will make use of object types that are useful for numerical and scientific work, but that are not built directly into Python. Each of these third-party types will have its own source for documentation.\n",
    "\n",
    "<p>One very useful feature of Python is that it allows you to embed the documentation for your code directly into the code itself. This allows us to retrieve the documentation directly from the Python interpreter using the <code>help()</code> function:\n",
    "</div>"
   ]
  },
  {
   "cell_type": "code",
   "execution_count": null,
   "metadata": {
    "scrolled": false
   },
   "outputs": [],
   "source": [
    "help(words_from_hello)"
   ]
  },
  {
   "cell_type": "markdown",
   "metadata": {},
   "source": [
    "<div style=\"border-left: 3px solid #000; padding: 1px; padding-left: 10px; background: #F0FAFF; \">\n",
    "    <p>In the help documentation above, we see many methods that begin with an underscore <code>_</code>. These methods are considered private to the object; ignore these for now. The remaining methods are meant to be public (we are encouraged to use them).\n",
    "\n",
    "<p>Another very useful feature of Python is that is allows <b>introspection</b>--we can ask the Python interpreter questions like \"what variables are available from here\", \"what type is this object\", and \"what methods are available through this object\".\n",
    "</div>"
   ]
  },
  {
   "cell_type": "code",
   "execution_count": null,
   "metadata": {},
   "outputs": [],
   "source": [
    "# List all attributes of `words_from_hello`.\n",
    "print(dir(words_from_hello))"
   ]
  },
  {
   "cell_type": "markdown",
   "metadata": {},
   "source": [
    "<div style=\"background: #DFF0D8; border-radius: 3px; padding: 10px;\">\n",
    "    <p><b>Exercise 1.6:</b>  Sort words in <code>words_from_hello</code> alphabetically.\n",
    "</div>"
   ]
  },
  {
   "cell_type": "code",
   "execution_count": null,
   "metadata": {},
   "outputs": [],
   "source": []
  },
  {
   "cell_type": "markdown",
   "metadata": {},
   "source": [
    "<div style=\"border-left: 3px solid #000; padding: 1px; padding-left: 10px; background: #F0FAFF; \">\n",
    "<p>You can create new lists using a comma-separated list of objects inside square brackets <code>[]</code>.  Lists may contain *any* kind of python object, including, for example, other lists.  Every element in a list need not be of the same type.\n",
    "</div>"
   ]
  },
  {
   "cell_type": "code",
   "execution_count": null,
   "metadata": {},
   "outputs": [],
   "source": [
    "my_new_list = [hello, 'hey', 1.0, 3, words_from_hello]\n",
    "print(my_new_list)"
   ]
  },
  {
   "cell_type": "markdown",
   "metadata": {},
   "source": [
    "<div style=\"border-left: 3px solid #000; padding: 1px; padding-left: 10px; background: #F0FAFF; \">\n",
    "    <p>Python has a type called <code>range</code> that describes sequences of <code>int</code>s.  We can create <code>range</code>s by calling the builtin function also called <code>range</code>.  Casting these to a <code>list</code> is an easy way to create lists of integers.  \n",
    "        \n",
    " Notice that the entries here run from 0 to 9 when we ask for a list of length 10.\n",
    "</div>"
   ]
  },
  {
   "cell_type": "code",
   "execution_count": null,
   "metadata": {},
   "outputs": [],
   "source": [
    "my_ints = list(range(10))\n",
    "print(my_ints)"
   ]
  },
  {
   "cell_type": "markdown",
   "metadata": {},
   "source": [
    "<div style=\"border-left: 3px solid #000; padding: 1px; padding-left: 10px; background: #F0FAFF; \">\n",
    "    <p><code>len()</code> is a convenient function to find out the length of certain types of objects, like strings and lists:\n",
    "</div>"
   ]
  },
  {
   "cell_type": "code",
   "execution_count": null,
   "metadata": {},
   "outputs": [],
   "source": [
    "print(len(my_ints))\n",
    "print(len(words_from_hello))\n",
    "print(len(hello))"
   ]
  },
  {
   "cell_type": "markdown",
   "metadata": {},
   "source": [
    "<div style=\"border-left: 3px solid #000; padding: 1px; padding-left: 10px; background: #F0FAFF; \">\n",
    "<p>We have already seen that we can access specific items in a list by indexing:\n",
    "<p>\n",
    "\n",
    "<code>second_item = my_list[1]\n",
    "</code>\n",
    "\n",
    "   \n",
    "<p>We can also access a subset of a list with <b>slicing</b>:\n",
    "</div>"
   ]
  },
  {
   "cell_type": "code",
   "execution_count": null,
   "metadata": {},
   "outputs": [],
   "source": [
    "print(my_new_list)\n",
    "print(my_new_list[2:4])    # The upper limit of '4' is non-inclusive; this will return a list of length 2\n",
    "print(my_new_list[:3])     # This will return the first three elements\n",
    "print(my_new_list[-2:])    # You can also index from the end of an array.  This returns the last two elements."
   ]
  },
  {
   "cell_type": "markdown",
   "metadata": {},
   "source": [
    "<div style=\"background: #DFF0D8; border-radius: 3px; padding: 10px;\">\n",
    "    <p><b>Exercise 1.7:</b>  Replace the suffix in a filename string' without using the `replace` method.\n",
    "\n",
    "<p>&nbsp;&nbsp;&nbsp;            'my_file.txt' -> 'my_file.pdf'\n",
    "</div>"
   ]
  },
  {
   "cell_type": "code",
   "execution_count": null,
   "metadata": {},
   "outputs": [],
   "source": []
  },
  {
   "cell_type": "markdown",
   "metadata": {},
   "source": [
    "<div style=\"border-left: 3px solid #000; padding: 1px; padding-left: 10px; background: #F0FAFF; \">\n",
    "<p><strong>Tuples</strong> are another type of object, very similar to a list.\n",
    "\n",
    "<p>A tuple is 1) <b>addressable</b>, 2) <b>ordered</b>, 3) <b>immutable</b>.\n",
    "\n",
    "<p>The primary difference from a 'list' is that tuples are <b>immutable</b>.  They cannot be altered once created.  They are indicated by parentheses rather than brackets.\n",
    "</div>"
   ]
  },
  {
   "cell_type": "code",
   "execution_count": null,
   "metadata": {},
   "outputs": [],
   "source": [
    "my_new_tuple = ('hey', 2.0, 3, words_from_hello)"
   ]
  },
  {
   "cell_type": "code",
   "execution_count": null,
   "metadata": {},
   "outputs": [],
   "source": [
    "my_new_tuple[0] = 'hi'"
   ]
  },
  {
   "cell_type": "markdown",
   "metadata": {},
   "source": [
    "<div style=\"border-left: 3px solid #000; padding: 1px; padding-left: 10px; background: #F0FAFF; \">\n",
    "    <p>In trying to change the first element of the tuple <code>my_new_tuple</code>, we get an error called <code>TypeError</code>.\n",
    "\n",
    "<p>A word of caution:  If the elements in the tuple are themselves mutable (such as lists), then you can still change the data within those elements.\n",
    "</div>"
   ]
  },
  {
   "cell_type": "code",
   "execution_count": null,
   "metadata": {},
   "outputs": [],
   "source": [
    "print(my_new_tuple)\n",
    "my_new_tuple[3][0] = 'hello'  # assigning the first element of a list.  The list is the 4th element of our tuple.\n",
    "print(my_new_tuple)"
   ]
  },
  {
   "cell_type": "markdown",
   "metadata": {},
   "source": [
    "<div style=\"border-left: 3px solid #000; padding: 1px; padding-left: 10px; background: #F0FAFF; \">\n",
    "<p>Fun with tuples!\n",
    "\n",
    "<p>Tuples and lists allow you to perform \"multiple assignment\"\n",
    "</div>"
   ]
  },
  {
   "cell_type": "code",
   "execution_count": null,
   "metadata": {},
   "outputs": [],
   "source": [
    "x,y,z = 1,2,3\n",
    "print(x)\n",
    "print(y)\n",
    "print(z)"
   ]
  },
  {
   "cell_type": "code",
   "execution_count": null,
   "metadata": {},
   "outputs": [],
   "source": [
    "x,y,z,w = my_new_tuple\n",
    "print(x)\n",
    "print(y)\n",
    "print(z)\n",
    "print(w)"
   ]
  },
  {
   "cell_type": "markdown",
   "metadata": {},
   "source": [
    "<div style=\"border-left: 3px solid #000; padding: 1px; padding-left: 10px; background: #F0FAFF; \">\n",
    "<p>Lists and tuples have sum operations.  Note:  These operations create <b>new</b> objects.\n",
    "</div>"
   ]
  },
  {
   "cell_type": "code",
   "execution_count": null,
   "metadata": {},
   "outputs": [],
   "source": [
    "my_list = ['why'] + words_from_hello\n",
    "my_tuple = (1,) + (2,3)\n",
    "\n",
    "print(my_list)\n",
    "print(my_tuple)"
   ]
  },
  {
   "cell_type": "markdown",
   "metadata": {},
   "source": [
    "<div style=\"border-left: 3px solid #000; padding: 1px; padding-left: 10px; background: #F0FAFF; \">\n",
    "<p>In certain cases, you can cast data types.\n",
    "\n",
    "<p>We saw above that we can access items from lists and tuples by indexing with integers:\n",
    "\n",
    "<code>an_item = a_list[7]</code>\n",
    "    \n",
    "<p>This is a very useful structure if you already happen to know which index you are looking for. There are many scenarios, however, where this assumption is not true. For example, consider a phonebook (if you can remember what a phonebook looks like). We know the name of a person we want to call, and with that information we can retrieve their phone number. If the phone numbers were stored in a list, then we would need to know that \"Michael\" is the 7354th entry in the list in order to retrieve his phone number. Not so helpful.\n",
    "\n",
    "<p>What we would like is an object like a list that lets us retrieve its items by <b>name</b> rather than by <b>position</b>:\n",
    "\n",
    "\n",
    "\n",
    "<code>phone_number = phonebook['Michael']</code>\n",
    "\n",
    "<p>This turns out to be a very common problem in programming, and Python solves it by providing a built-in type called a <code>dict</code> (short for dictionary). Other languages call this a \"mapping\", \"hash map\", or sometimes just \"object\". \n",
    "\n",
    "<p>A <code>dict</code> maps arbitrary (mostly) objects to elements.  A <code>dict</code> is a data structure that is\n",
    "1) <b>addressable</b>, 2) <b>unordered</b>, 3) <b>mutable</b>\n",
    "</div>\n"
   ]
  },
  {
   "cell_type": "code",
   "execution_count": null,
   "metadata": {},
   "outputs": [],
   "source": [
    "# A phonebook, the awkward way:\n",
    "phonebook_names = ['Luke', 'Michael', 'Shawn']\n",
    "phonebook_numbers = [9194280943, 2048675309, 5780239432]\n",
    "\n",
    "# Look up Luke's index, and then phone number:\n",
    "luke_index = phonebook_names.index('Luke')\n",
    "print(phonebook_numbers[luke_index])\n",
    "\n",
    "# A phonebook, as Guido intended:\n",
    "phonebook = {'Luke': 9194280943, 'Michael': 2048675309, 'Shawn': 5780239432}\n",
    "print(phonebook['Luke'])\n"
   ]
  },
  {
   "cell_type": "markdown",
   "metadata": {},
   "source": [
    "<div style=\"border-left: 3px solid #000; padding: 1px; padding-left: 10px; background: #F0FAFF; \">\n",
    "<p>Empty dictionaries are created with {}.  You can add to a <code>dict</code> by assignment to a new key.  Trying to access a key that isn't there without assignment generates a KeyError.\n",
    "</div>"
   ]
  },
  {
   "cell_type": "code",
   "execution_count": null,
   "metadata": {},
   "outputs": [],
   "source": [
    "words_dict = {}\n",
    "print(words_dict)\n",
    "\n",
    "words_dict['X'] = 1\n",
    "words_dict['Y'] = 2\n",
    "words_dict['Z'] = \"hello\"\n",
    "\n",
    "print(words_dict)\n",
    "\n",
    "words_dict['Z']"
   ]
  },
  {
   "cell_type": "markdown",
   "metadata": {},
   "source": [
    "<div style=\"background: #DFF0D8; border-radius: 3px; padding: 10px;\">\n",
    "    <p><b>Exercise 1.8:</b>  Make a dictionary with 'school', 'major', 'hobby', and 'year of graduation' as keys and provide values appropriate for yourself.\n",
    "</div>"
   ]
  },
  {
   "cell_type": "code",
   "execution_count": null,
   "metadata": {},
   "outputs": [],
   "source": []
  },
  {
   "cell_type": "markdown",
   "metadata": {},
   "source": [
    "<div style=\"background: #DFF0D8; border-radius: 3px; padding: 10px;\">\n",
    "    <p><b>Exercise 1.9:</b>  Make a dictionary where the keys are your name and those of the two people sitting closest to you.  The values should be the dictionaries as in the previous exercise.\n",
    "</div>"
   ]
  },
  {
   "cell_type": "code",
   "execution_count": null,
   "metadata": {},
   "outputs": [],
   "source": []
  },
  {
   "cell_type": "markdown",
   "metadata": {},
   "source": [
    "<div style=\"border-left: 3px solid #000; padding: 1px; padding-left: 10px; background: #F0FAFF; \">\n",
    "<p><h2>Review</h2>\n",
    "\n",
    "<ol>\n",
    "<li>All variables are objects.  Objects have methods.\n",
    "<li>Data Structures: list, tuple, dict\n",
    "<li>Data Types:  str, float, int\n",
    "</ol>\n",
    "\n",
    "</div>"
   ]
  },
  {
   "cell_type": "markdown",
   "metadata": {},
   "source": [
    "<div style=\"background: #DFF0D8; border-radius: 3px; padding: 10px;\">\n",
    "<h2>Exercises</h2>\n",
    "\n",
    "<strong>Exercise 1.10:</strong>  The following variables are allowed (T/F):\n",
    "<ol>\n",
    "<li>3Dgraph\n",
    "<li>hello_world\n",
    "<li>January2008\n",
    "<li>Trial#1\n",
    "<li>myData   \n",
    "<ol>         \n",
    "             \n",
    "</div>"
   ]
  },
  {
   "cell_type": "markdown",
   "metadata": {},
   "source": []
  },
  {
   "cell_type": "markdown",
   "metadata": {},
   "source": [
    "<div style=\"background: #DFF0D8; border-radius: 3px; padding: 10px;\">\n",
    "\n",
    "<strong>Exercise 1.11:</strong>  Write a series of statements that perform the following functions:\n",
    "<ol>\n",
    "<li>  Assign 3 to 'a'.\n",
    "<li>  Add 5 to 'a' and assign the result to 'b'.\n",
    "<li>  Divide 'b' by 2 and assign the result to 'c'.\n",
    "<li>  Print 'c'.\n",
    "<ol>\n",
    "</div>"
   ]
  },
  {
   "cell_type": "code",
   "execution_count": null,
   "metadata": {},
   "outputs": [],
   "source": []
  },
  {
   "cell_type": "markdown",
   "metadata": {},
   "source": [
    "<div style=\"background: #DFF0D8; border-radius: 3px; padding: 10px;\">\n",
    "<strong>Exercise 1.12:</strong>  Convert a temperature in Celsius to Fahrenheit (f = 9/5 x c + 32) (Hint: keep in mind how using float and int types can affect multiplication and division).\n",
    "             \n",
    "</div>"
   ]
  },
  {
   "cell_type": "code",
   "execution_count": null,
   "metadata": {},
   "outputs": [],
   "source": []
  },
  {
   "cell_type": "markdown",
   "metadata": {},
   "source": [
    "<div style=\"background: #DFF0D8; border-radius: 3px; padding: 10px;\">\n",
    "<strong>Exercise 1.13:</strong>  Print the last five objects in this list: [1,2,3,4,5,6,7,8,9]\n",
    "       \n",
    "</div>"
   ]
  },
  {
   "cell_type": "code",
   "execution_count": null,
   "metadata": {},
   "outputs": [],
   "source": []
  },
  {
   "cell_type": "markdown",
   "metadata": {},
   "source": [
    "<div style=\"background: #DFF0D8; border-radius: 3px; padding: 10px;\">\n",
    "\n",
    "\n",
    "<strong>Exercise 1.14:</strong>  Replace every instance of a character (e.g. 'l') in a string with another (e.g. 'y').\n",
    "\n",
    "<p>             'hello' -> 'heyyo'\n",
    "             \n",
    "</div>"
   ]
  },
  {
   "cell_type": "code",
   "execution_count": null,
   "metadata": {},
   "outputs": [],
   "source": []
  },
  {
   "cell_type": "markdown",
   "metadata": {},
   "source": [
    "<div style=\"background: #DFF0D8; border-radius: 3px; padding: 10px;\">\n",
    "<p><strong>Exercise 1.15:</strong>  Reverse the word order in a sentence.\n",
    "</div>"
   ]
  },
  {
   "cell_type": "code",
   "execution_count": null,
   "metadata": {},
   "outputs": [],
   "source": [
    "sentence = 'that rug really tied the room together'"
   ]
  },
  {
   "cell_type": "code",
   "execution_count": null,
   "metadata": {},
   "outputs": [],
   "source": []
  },
  {
   "cell_type": "markdown",
   "metadata": {},
   "source": [
    "<div style=\"background: #DFF0D8; border-radius: 3px; padding: 10px;\">\n",
    "<p><strong>Exercise 1.16:</strong> Write a function to get the the decimal component of a float without using subtraction.\n",
    "\n",
    "<p>`12.345` -> `0.345`\n",
    "            \n",
    "            \n",
    "</div>"
   ]
  },
  {
   "cell_type": "code",
   "execution_count": null,
   "metadata": {},
   "outputs": [],
   "source": []
  },
  {
   "cell_type": "markdown",
   "metadata": {},
   "source": [
    "<div style=\"background: #DFF0D8; border-radius: 3px; padding: 10px;\">\n",
    "    <p><b>Exercise 1.17:</b>  Find the maximum and minimum element in a list of numbers.  (This can be done with tools you have just seen or with a built in function.)\n",
    "</div>"
   ]
  },
  {
   "cell_type": "code",
   "execution_count": null,
   "metadata": {},
   "outputs": [],
   "source": []
  },
  {
   "cell_type": "markdown",
   "metadata": {},
   "source": [
    "<div style=\"background: #DFF0D8; border-radius: 3px; padding: 10px;\">\n",
    "<p><strong>Exercise 1.18:</strong>  Take a look at the methods available on the `dict` object.  Using the supplied dictionaries below, insert the contents of dictionary `b` into dictionary `a`.\n",
    "</div>"
   ]
  },
  {
   "cell_type": "code",
   "execution_count": null,
   "metadata": {},
   "outputs": [],
   "source": [
    "a = { 'a': 100, 'c': 400 }\n",
    "b = { 'a': 300, 'b': 200 }"
   ]
  },
  {
   "cell_type": "code",
   "execution_count": null,
   "metadata": {},
   "outputs": [],
   "source": []
  }
 ],
 "metadata": {
  "kernelspec": {
   "display_name": "Python 3 (ipykernel)",
   "language": "python",
   "name": "python3"
  },
  "language_info": {
   "codemirror_mode": {
    "name": "ipython",
    "version": 3
   },
   "file_extension": ".py",
   "mimetype": "text/x-python",
   "name": "python",
   "nbconvert_exporter": "python",
   "pygments_lexer": "ipython3",
   "version": "3.8.13"
  }
 },
 "nbformat": 4,
 "nbformat_minor": 1
}
