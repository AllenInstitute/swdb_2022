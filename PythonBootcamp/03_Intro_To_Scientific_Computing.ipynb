{
 "cells": [
  {
   "cell_type": "markdown",
   "metadata": {},
   "source": [
    "<img src=\"support_files/images/cropped-SummerWorkshop_Header.png\">  \n",
    "\n",
    "<h1 align=\"center\">Python Bootcamp</h1> \n",
    "<h3 align=\"center\">August 20-21, 2022</h3> "
   ]
  },
  {
   "cell_type": "markdown",
   "metadata": {},
   "source": [
    "<div style=\"border-left: 3px solid #000; padding: 1px; padding-left: 10px; background: #F0FAFF; \">\n",
    "<center><h1>Importing Modules</h1></center>\n",
    "\n",
    "<p>When you first start up a Python interpreter (or a new Jupyter notebook), there is only a limited set of commands and objects available for you to work with. To extend this functionality, there is a vast collection of tools that extend the functionality of Python, but that must be explicitly <i>imported</i> to make them available.\n",
    "\n",
    "<p>This is in contrast to tools like MATLAB, Igor, and R, which implicitly provide access to a larger array of functionality. This is a reflection of the fact that Python is a general-purpose language; whereas MATLAB assumes the user is interested in linear algebra, Python tries to make no assumptions about what functionality we will need.\n",
    "\n",
    "</div>"
   ]
  },
  {
   "cell_type": "markdown",
   "metadata": {},
   "source": [
    "<div style=\"border-left: 3px solid #000; padding: 1px; padding-left: 10px; background: #F0FAFF; \">\n",
    "    <h2>Libraries</h2>\n",
    "\n",
    "<p>Python itself comes with a large number of handy standard libraries that can be imported and used:  \n",
    "\n",
    "<a href=https://docs.python.org/3.7/library/>Python Standard Library</a>\n",
    "    \n",
    "<p>However, the real power of Python for <i>scientific computing</i> comes from the wealth of open-source, community driven packages that are available. Many of these popular external packages com bundled with the Anaconda Python distribution. Here's a full list of the packages that come with Anaconda: \n",
    "    \n",
    "<a href=https://docs.continuum.io/anaconda/pkg-docs>Anaconda package lists</a>\n",
    "    \n",
    "<p>To help prepare you for the Summer Workshop on the Dynamic Brain, we are going to focus on four commonly used and extremely powerful scientific computing libraries:\n",
    "<ul>\n",
    "<li>Numpy - Matrix manipulation and optimized mathematical functions (<a href=http://www.numpy.org/>http://www.numpy.org</a>)\n",
    "<li>Scipy - A suite of powerful scientific modules that extends on Numpy's functionality (<a href=http://docs.scipy.org/doc/scipy/reference/>http://docs.scipy.org/doc/scipy/reference/</a>)\n",
    "<li>Matplotlib - A python 2D plotting library that produces publication quality figures (<a href=http://matplotlib.org/>http://matplotlib.org/</a>)\n",
    "<li>Pandas - A high-performance library for data manipulation and analysis (<a href=http://pandas.pydata.org/>http://pandas.pydata.org/</a>)\n",
    "</ul>\n",
    "\n",
    "\n",
    "</div>"
   ]
  },
  {
   "cell_type": "markdown",
   "metadata": {},
   "source": [
    "<div style=\"border-left: 3px solid #000; padding: 1px; padding-left: 10px; background: #F0FAFF; \">\n",
    "<h2>Packages and Modules</h2>\n",
    "\n",
    "<p>Before we get into the details of these packages, we need some definitions:\n",
    "\n",
    "<p><b>Module:</b> \n",
    "<ol>\n",
    "<li>A file that contains the code defining a set of python functions, classes, and data.\n",
    "<li>A type of Python object that contains a set of python functions, classes, and data. Modules are loaded by Python using the <code>import</code> statement, and the functionality contained in the module is accessed as attributes of the module object.\n",
    "</ol>\n",
    "\n",
    "<p><b>Package:</b>\n",
    "<ol>\n",
    "<li>A special type of module (object) that contains submodules and/or subpackages, providing a hierarchical organization for modules. Packages, just like modules, are loaded using the <code>import</code> statement.\n",
    "<li>A container of one or more related Python modules that can be installed together (for example, numpy is a package containing many submodules. It can be downloaded, installed, and imported.) The name \"library\" is sometimes used interchangeably with package.\n",
    "</ol>\n",
    "</div>"
   ]
  },
  {
   "cell_type": "markdown",
   "metadata": {},
   "source": [
    "<div style=\"border-left: 3px solid #000; padding: 1px; padding-left: 10px; background: #F0FAFF; \">\n",
    "\n",
    "<p>Let's start by importing numpy. This is one of the most important libraries in the scientific Python stack; we will explore it in detail in the next section.\n",
    "\n",
    "</div>"
   ]
  },
  {
   "cell_type": "code",
   "execution_count": null,
   "metadata": {},
   "outputs": [],
   "source": [
    "import numpy"
   ]
  },
  {
   "cell_type": "markdown",
   "metadata": {},
   "source": [
    "<div style=\"border-left: 3px solid #000; padding: 1px; padding-left: 10px; background: #F0FAFF; \">\n",
    "<p>This statement did two things:\n",
    "<ol>\n",
    "<li>Created a new module object by loading the \"numpy\" module\n",
    "<li>Assigned the name \"numpy\" to this new object\n",
    "</ol>\n",
    "\n",
    "</div>"
   ]
  },
  {
   "cell_type": "code",
   "execution_count": null,
   "metadata": {},
   "outputs": [],
   "source": [
    "numpy"
   ]
  },
  {
   "cell_type": "markdown",
   "metadata": {},
   "source": [
    "<div style=\"border-left: 3px solid #000; padding: 1px; padding-left: 10px; background: #F0FAFF; \">\n",
    "<p>The functionality contained within this module are accessed as <i>attributes</i>:\n",
    "\n",
    "</div>"
   ]
  },
  {
   "cell_type": "code",
   "execution_count": null,
   "metadata": {},
   "outputs": [],
   "source": [
    "numpy.pi"
   ]
  },
  {
   "cell_type": "markdown",
   "metadata": {},
   "source": [
    "<div style=\"border-left: 3px solid #000; padding: 1px; padding-left: 10px; background: #F0FAFF; \">\n",
    "\n",
    "<p>Numpy is a large library. Let's use the <code>dir</code> function, which you learned earlier, to view all of the available methods.\n",
    "\n",
    "</div>"
   ]
  },
  {
   "cell_type": "code",
   "execution_count": null,
   "metadata": {},
   "outputs": [],
   "source": [
    "print(dir(numpy))"
   ]
  },
  {
   "cell_type": "markdown",
   "metadata": {},
   "source": [
    "<div style=\"border-left: 3px solid #000; padding: 1px; padding-left: 10px; background: #F0FAFF; \">\n",
    "<p>We can also use the <code>dir</code> command without an argument to see what's in our notebook's global 'namespace':\n",
    "\n",
    "</div>"
   ]
  },
  {
   "cell_type": "code",
   "execution_count": null,
   "metadata": {},
   "outputs": [],
   "source": [
    "print(dir())"
   ]
  },
  {
   "cell_type": "markdown",
   "metadata": {},
   "source": [
    "<div style=\"border-left: 3px solid #000; padding: 1px; padding-left: 10px; background: #F0FAFF; \">\n",
    "<p>Most of these are behind-the-scenes variables that your kernel is using to keep track of command history or other low-level attributes.\n",
    "\n",
    "<p>At this point, the only variable we've actually declared is <code>numpy</code>\n",
    "\n",
    "</div>"
   ]
  },
  {
   "cell_type": "markdown",
   "metadata": {},
   "source": [
    "<div style=\"border-left: 3px solid #000; padding: 1px; padding-left: 10px; background: #F0FAFF; \">\n",
    "<p><b>Importing specific functions from a module</b>\n",
    "<p>Another importing option is to import the specific functions that you need from a libary\n",
    "\n",
    "</div>"
   ]
  },
  {
   "cell_type": "code",
   "execution_count": null,
   "metadata": {},
   "outputs": [],
   "source": [
    "from numpy import cos,pi"
   ]
  },
  {
   "cell_type": "markdown",
   "metadata": {},
   "source": [
    "<div style=\"border-left: 3px solid #000; padding: 1px; padding-left: 10px; background: #F0FAFF; \">\n",
    "<p>Note that, if we now look at the global namespace using <code>dir</code>, the two names that we've just imported are now visible, which means that they're globally accessible.\n",
    "\n",
    "</div>"
   ]
  },
  {
   "cell_type": "code",
   "execution_count": null,
   "metadata": {},
   "outputs": [],
   "source": [
    "print(dir())"
   ]
  },
  {
   "cell_type": "code",
   "execution_count": null,
   "metadata": {},
   "outputs": [],
   "source": [
    "cos(pi)"
   ]
  },
  {
   "cell_type": "markdown",
   "metadata": {},
   "source": [
    "<div style=\"border-left: 3px solid #000; padding: 1px; padding-left: 10px; background: #F0FAFF; \">\n",
    "<p><b>Importing all attributes into the global namespace - A word of caution:</b>\n",
    "<p>It is possible to import all objects from a module:\n",
    "<pre>\n",
    "    from numpy import *\n",
    "</pre>\n",
    "\n",
    "<p>THIS IS GENERALLY DISCOURAGED. It makes a mess of your namespace, it makes it difficult to tell where any given name was defined, and it increases the likelihood of name conflicts.  In addition, against intuitive interpretation, it does not \"import everything\".  The behavior of this command is defined by the implementation of the module, so it can be difficult to predict what you will get.\n",
    "\n",
    "</div>"
   ]
  },
  {
   "cell_type": "markdown",
   "metadata": {},
   "source": [
    "<div style=\"border-left: 3px solid #000; padding: 1px; padding-left: 10px; background: #F0FAFF; \">\n",
    "<p><b>This is a common way to import:</b>\n",
    "<p>Packages can be renamed on import and standard shorthand notation has developed for various packages. For instance, Numpy is commonly imported as <code>np</code>. Following this convention is not required, but doing so makes it makes it easier to share code.\n",
    "</div>"
   ]
  },
  {
   "cell_type": "code",
   "execution_count": null,
   "metadata": {},
   "outputs": [],
   "source": [
    "import numpy as np"
   ]
  },
  {
   "cell_type": "code",
   "execution_count": null,
   "metadata": {},
   "outputs": [],
   "source": [
    "print(np.sqrt(np.pi))"
   ]
  },
  {
   "cell_type": "markdown",
   "metadata": {},
   "source": [
    "<div style=\"border-left: 3px solid #000; padding: 1px; padding-left: 10px; background: #F0FAFF; \">\n",
    "<h2>Installing new modules</h2>\n",
    "\n",
    "<p>Python comes with a large set of useful packages pre-installed, and Anaconda builds on those with an even larger set of computational tools. But every once in a while, we may need to install something new.\n",
    "\n",
    "<p>The most common place for developers to publish new packages is on the <a href=http://pypi.python.org>Python Package Index</a>, and the easiest way to install these packages is with the <code>pip</code> command. \n",
    "\n",
    "<p>Open a command prompt:\n",
    "<ul>\n",
    "<li>On Windows, ...\n",
    "<li>On macOS, ...\n",
    " <li>on Linux, ...\n",
    "</ul>\n",
    "\n",
    "\n",
    "<div style='color: #CCC; background-color: #000; font-family: monospace; white-space: pre; padding: 15px; margin: 10px; margin-left: 30px'><span style=\"color: #8DA; font-weight: bold;\">$ </span><span style=\"color: #FFF; font-weight: bold;\">pip install git+https://github.com/alleninstitute/allensdk@swdb_2019</span>\n",
    "\n",
    "Collecting allensdk\n",
    "  Downloading allensdk-0.13.2.tar.bz2 (377kB)\n",
    "    100% |████████████████████████████████| 378kB 1.5MB/s \n",
    ". . .\n",
    "Successfully installed allensdk-0.13.2\n",
    "</div>\n",
    "\n",
    "Under normal circumstances we would have used <code>pip install allensdk</code>.  For this workshop we will be using a prelease version of <code>allensdk</code>, which requires that we execute the more complicated command above.\n",
    "\n",
    "We have just installed a set of tools published by the Allen Institute that will allow us to access its released data. The <code>pip</code> command automatically downloads and installs the package from pypi.python.org, as well as any other packages that it depends on.\n",
    "\n",
    "Let's make sure the package is importable:\n",
    "<div> <!-- NOTE: this div is a workaround for a jupyter HTML export bug --> </div>\n",
    "</div>"
   ]
  },
  {
   "cell_type": "code",
   "execution_count": null,
   "metadata": {},
   "outputs": [],
   "source": [
    "import allensdk\n",
    "allensdk"
   ]
  },
  {
   "cell_type": "markdown",
   "metadata": {},
   "source": [
    "<div style=\"border-left: 3px solid #000; padding: 1px; padding-left: 10px; background: #F0FAFF; \">\n",
    "<h2>Module import paths</h2>\n",
    "\n",
    "<p>When you imported numpy and allensdk above, you didn't need to specify the location of the module files. How did Python know where to find them?\n",
    "\n",
    "<p>Python keeps a list of locations on your filesystem where installed packages may reside. When we ask Python to import a new module, it checks each location in the list for either a module or a package with the name you specified.\n",
    "\n",
    "<p>We can access this list from the <code>sys</code> module, which is part of the Python standard library:\n",
    "</div>"
   ]
  },
  {
   "cell_type": "code",
   "execution_count": null,
   "metadata": {},
   "outputs": [],
   "source": [
    "import sys\n",
    "sys.path"
   ]
  },
  {
   "cell_type": "markdown",
   "metadata": {},
   "source": [
    "<div style=\"border-left: 3px solid #000; padding: 1px; padding-left: 10px; background: #F0FAFF; \">\n",
    "<p>When we install new packages, their files must be added to one of the entries in <code>sys.path</code>; otherwise, they will not be importable. (We could also modify <code>sys.path</code> to include the new location of the package, but this is generally discouraged.)\n",
    "\n",
    "<p>Let's see what happens when we try to import a module that cannot be found:\n",
    "</div>"
   ]
  },
  {
   "cell_type": "code",
   "execution_count": null,
   "metadata": {},
   "outputs": [],
   "source": [
    "import not_a_real_module"
   ]
  },
  {
   "cell_type": "markdown",
   "metadata": {},
   "source": [
    "<div style=\"border-left: 3px solid #000; padding: 1px; padding-left: 10px; background: #F0FAFF; \">\n",
    "<p>The error above is a common source of frustration for Python beginners, and it happens most frequently when there are multiple Python environments installed on a machine. When we install new packages, it is important to be aware of <i>which environment</i> the package is being installed into. Find the actual installed location of the module files, and verify that these are indeed in your <code>sys.path</code>. \n",
    "\n",
    "</div>"
   ]
  },
  {
   "cell_type": "markdown",
   "metadata": {},
   "source": [
    "<div style=\"background: #DFF0D8; border-radius: 3px; padding: 10px;\">\n",
    "<p><b>Exercise 3.1:</b>\n",
    "<p>Find the location of the allensdk module on your disk and verify that it is in <code>sys.path</code>.\n",
    "</div>"
   ]
  },
  {
   "cell_type": "markdown",
   "metadata": {},
   "source": [
    "<div style=\"border-left: 3px solid #000; padding: 1px; padding-left: 10px; background: #F0FAFF; \">\n",
    "<h2>Using the OS module for dealing with paths, filenames and other miscellaneous operating system functions</h2>\n",
    "\n",
    "<p>Directories (folders) and files on your hard drives(s) are organized in a tree structure. Nodes are directories and files, while edges indicate containment. As you navigate from directory to directory, you trace out a path through this tree. Paths can be represented as strings like this in Linux and Mac:\n",
    "\n",
    "<p>&nbsp;&nbsp;&nbsp;&nbsp;<code>path = \"/folder_a/folder_b/file.name\"</code>\n",
    "\n",
    "<p>And like this on Windows:\n",
    "\n",
    "<p>&nbsp;&nbsp;&nbsp;&nbsp;<code>path = \"C:\\\\folder_a\\\\folder_b\\\\file.name\"</code>\n",
    "\n",
    "<p>We use these path strings when instructing Python to read and write files.\n",
    "\n",
    "<p>Dealing with paths will be substantially easier if you first import the <code>os</code> module:\n",
    "\n",
    "</div>"
   ]
  },
  {
   "cell_type": "code",
   "execution_count": null,
   "metadata": {},
   "outputs": [],
   "source": [
    "import os"
   ]
  },
  {
   "cell_type": "markdown",
   "metadata": {},
   "source": [
    "<div style=\"background: #DFF0D8; border-radius: 3px; padding: 10px;\">\n",
    "<p><b>Exercise 3.2:</b>\n",
    "<p><code>os.path.join</code> is a simple function that joins together multiple folder names using either a forward slash <code>/</code> or backslash <code>\\</code> depending on the operating system. \n",
    "\n",
    "<p>&nbsp;&nbsp;&nbsp;&nbsp;<code>os.path.join('Users', 'my_username', 'my_data_folder')</code>\n",
    "\n",
    "<p>This is a convenient way to generate path names in code that you want to be portable.\n",
    "\n",
    "<p>Replace the names above with real folder names to a path on your system and see what is output:\n",
    "\n",
    "</div>"
   ]
  },
  {
   "cell_type": "code",
   "execution_count": null,
   "metadata": {},
   "outputs": [],
   "source": [
    "name_1='users'\n",
    "name_2='me'\n",
    "name_3='desktop'\n",
    "print(os.path.join(name_1, name_2, name_3))"
   ]
  },
  {
   "cell_type": "markdown",
   "metadata": {},
   "source": [
    "<div style=\"border-left: 3px solid #000; padding: 1px; padding-left: 10px; background: #F0FAFF; \">\n",
    "<p>Another couple of handy functions are <code>getcwd</code> and <code>listdir</code>\n",
    "</div>"
   ]
  },
  {
   "cell_type": "code",
   "execution_count": null,
   "metadata": {},
   "outputs": [],
   "source": [
    "print(\"current directory:\")\n",
    "print(os.getcwd())\n",
    "print('\\n')\n",
    "print(\"files in current directory:\")\n",
    "os.listdir(os.getcwd())"
   ]
  },
  {
   "cell_type": "markdown",
   "metadata": {},
   "source": [
    "<div style=\"border-left: 3px solid #000; padding: 1px; padding-left: 10px; background: #F0FAFF; \">\n",
    "<p>To find out if a path actually exists on your drive, use:\n",
    "<p>&nbsp;&nbsp;&nbsp;&nbsp;<code>os.path.exists(path)</code>\n",
    "</div>"
   ]
  },
  {
   "cell_type": "markdown",
   "metadata": {},
   "source": [
    "<div style=\"background: #DFF0D8; border-radius: 3px; padding: 10px;\">\n",
    "<p><b>Exercise 3.3:</b>\n",
    "<p>Create a folder called <code>TempFolder</code> somewhere on your local drive\n",
    "<ol>\n",
    "<li>Generate the full path using the <code>os.path.join</code> function\n",
    "<li>Use the <code>os.path.exists</code> function to ensure that the folder doesn't already exist (confirm that it returns False)\n",
    "<li>Create the directory using <code>os.mkdir</code>\n",
    "<li>Confirm that it now exists using the <code>os.path.exists</code> function again\n",
    "<li>Navigate to the folder using your file explorer to confirm that it's there\n",
    "</ol>\n",
    "</div>"
   ]
  },
  {
   "cell_type": "code",
   "execution_count": null,
   "metadata": {},
   "outputs": [],
   "source": []
  },
  {
   "cell_type": "markdown",
   "metadata": {
    "collapsed": true
   },
   "source": [
    "<div style=\"border-left: 3px solid #000; padding: 1px; padding-left: 10px; background: #F0FAFF; \">\n",
    "<left><h1>A Brief Introduction to Scipy</h1></left>\n",
    "<p>The Scipy library has a lot of useful functions for signal processing, linear algebra, statistical testing, etc. Given its breadth, and its overlap with Numpy, we've elected not to cover it in detail here.\n",
    "\n",
    "</div>"
   ]
  },
  {
   "cell_type": "markdown",
   "metadata": {
    "collapsed": true
   },
   "source": [
    "<div style=\"border-left: 3px solid #000; padding: 1px; padding-left: 10px; background: #F0FAFF; \">\n",
    "\n",
    "<p><b>The Scipy library has ~20 subpackages</b>\n",
    "<p>each subpackage contains a lot of useful functions<p>\n",
    "\n",
    "<ol>\n",
    "<li><b>Clustering package</b> (scipy.cluster)\n",
    "<li>Constants (scipy.constants)\n",
    "<li><b>Discrete Fourier transforms</b> (scipy.fftpack)\n",
    "<li>Integration and ODEs (scipy.integrate)\n",
    "<li>Interpolation (scipy.interpolate)\n",
    "<li>Input and output (scipy.io)\n",
    "<li><b>Linear algebra</b> (scipy.linalg)\n",
    "<li>Miscellaneous routines (scipy.misc)\n",
    "<li><b>Multi-dimensional image processing</b> (scipy.ndimage)\n",
    "<li>Orthogonal distance regression (scipy.odr)\n",
    "<li>Optimization and root finding (scipy.optimize)\n",
    "<li><b>Signal processing</b> (scipy.signal)\n",
    "<li>Sparse matrices (scipy.sparse)\n",
    "<li>Sparse linear algebra (scipy.sparse.linalg)\n",
    "<li>Compressed Sparse Graph Routines (scipy.sparse.csgraph)\n",
    "<li>Spatial algorithms and data structures (scipy.spatial)\n",
    "<li>Special functions (scipy.special)\n",
    "<li><b>Statistical functions</b> (scipy.stats)\n",
    "<li>Statistical functions for masked arrays (scipy.stats.mstats)\n",
    "<li>C/C++ integration (scipy.weave)\n",
    "</ol>\n",
    "</div>"
   ]
  },
  {
   "cell_type": "markdown",
   "metadata": {},
   "source": [
    "<div style=\"background: #DFF0D8; border-radius: 3px; padding: 10px;\">\n",
    "<p><b>Exercise 3.4:</b>\n",
    "<p>Spend a few minutes exploring the scipy documnention here:\n",
    "<p><a href=http://docs.scipy.org/doc/scipy/reference/>scipy reference</a>\n",
    "\n",
    "\n",
    "</div>"
   ]
  }
 ],
 "metadata": {
  "kernelspec": {
   "display_name": "Python 3",
   "language": "python",
   "name": "python3"
  },
  "language_info": {
   "codemirror_mode": {
    "name": "ipython",
    "version": 3
   },
   "file_extension": ".py",
   "mimetype": "text/x-python",
   "name": "python",
   "nbconvert_exporter": "python",
   "pygments_lexer": "ipython3",
   "version": "3.8.3"
  }
 },
 "nbformat": 4,
 "nbformat_minor": 1
}
