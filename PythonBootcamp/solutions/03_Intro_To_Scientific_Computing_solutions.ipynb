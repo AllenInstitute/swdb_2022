{
 "cells": [
  {
   "cell_type": "markdown",
   "metadata": {},
   "source": [
    "<img src=\"../support_files/cropped-SummerWorkshop_Header.png\">  \n",
    "\n",
    "<h1 align=\"center\">Python Bootcamp</h1> \n",
    "<h3 align=\"center\">August 21-22, 2021</h3> "
   ]
  },
  {
   "cell_type": "markdown",
   "metadata": {},
   "source": [
    "<div style=\"border-left: 3px solid #000; padding: 1px; padding-left: 10px; background: #F0FAFF; \">\n",
    "<center><h1>Importing Modules</h1></center>\n",
    "\n",
    "<p>When you first start up a Python interpreter (or a new Jupyter notebook), there is only a limited set of commands and objects available for you to work with. To extend this functionality, there is a vast collection of tools that extend the functionality of Python, but that must be explicitly <i>imported</i> to make them available.\n",
    "\n",
    "<p>This is in contrast to tools like MATLAB, Igor, and R, which implicitly provide access to a larger array of functionality. This is a reflection of the fact that Python is a general-purpose language; whereas MATLAB assumes the user is interested in linear algebra, Python tries to make no assumptions about what functionality we will need.\n",
    "\n",
    "</div>"
   ]
  },
  {
   "cell_type": "markdown",
   "metadata": {},
   "source": [
    "<div style=\"border-left: 3px solid #000; padding: 1px; padding-left: 10px; background: #F0FAFF; \">\n",
    "    <h2>Libraries</h2>\n",
    "\n",
    "<p>Python itself comes with a large number of handy standard libraries that can be imported and used:  \n",
    "\n",
    "<a href=https://docs.python.org/3.7/library/>Python Standard Library</a>\n",
    "    \n",
    "<p>However, the real power of Python for <i>scientific computing</i> comes from the wealth of open-source, community driven packages that are available. Many of these popular external packages com bundled with the Anaconda Python distribution. Here's a full list of the packages that come with Anaconda: \n",
    "    \n",
    "<a href=https://docs.continuum.io/anaconda/pkg-docs>Anaconda package lists</a>\n",
    "    \n",
    "<p>To help prepare you for the Summer Workshop on the Dynamic Brain, we are going to focus on four commonly used and extremely powerful scientific computing libraries:\n",
    "<ul>\n",
    "<li>Numpy - Matrix manipulation and optimized mathematical functions (<a href=http://www.numpy.org/>http://www.numpy.org</a>)\n",
    "<li>Scipy - A suite of powerful scientific modules that extends on Numpy's functionality (<a href=http://docs.scipy.org/doc/scipy/reference/>http://docs.scipy.org/doc/scipy/reference/</a>)\n",
    "<li>Matplotlib - A python 2D plotting library that produces publication quality figures (<a href=http://matplotlib.org/>http://matplotlib.org/</a>)\n",
    "<li>Pandas - A high-performance library for data manipulation and analysis (<a href=http://pandas.pydata.org/>http://pandas.pydata.org/</a>)\n",
    "</ul>\n",
    "\n",
    "\n",
    "</div>"
   ]
  },
  {
   "cell_type": "markdown",
   "metadata": {},
   "source": [
    "<div style=\"border-left: 3px solid #000; padding: 1px; padding-left: 10px; background: #F0FAFF; \">\n",
    "<h2>Packages and Modules</h2>\n",
    "\n",
    "<p>Before we get into the details of these packages, we need some definitions:\n",
    "\n",
    "<p><b>Module:</b> \n",
    "<ol>\n",
    "<li>A file that contains the code defining a set of python functions, classes, and data.\n",
    "<li>A type of Python object that contains a set of python functions, classes, and data. Modules are loaded by Python using the <code>import</code> statement, and the functionality contained in the module is accessed as attributes of the module object.\n",
    "</ol>\n",
    "\n",
    "<p><b>Package:</b>\n",
    "<ol>\n",
    "<li>A special type of module (object) that contains submodules and/or subpackages, providing a hierarchical organization for modules. Packages, just like modules, are loaded using the <code>import</code> statement.\n",
    "<li>A container of one or more related Python modules that can be installed together (for example, numpy is a package containing many submodules. It can be downloaded, installed, and imported.) The name \"library\" is sometimes used interchangeably with package.\n",
    "</ol>\n",
    "</div>"
   ]
  },
  {
   "cell_type": "markdown",
   "metadata": {},
   "source": [
    "<div style=\"border-left: 3px solid #000; padding: 1px; padding-left: 10px; background: #F0FAFF; \">\n",
    "\n",
    "<p>Let's start by importing numpy. This is one of the most important libraries in the scientific Python stack; we will explore it in detail in the next section.\n",
    "\n",
    "</div>"
   ]
  },
  {
   "cell_type": "code",
   "execution_count": 1,
   "metadata": {},
   "outputs": [],
   "source": [
    "import numpy"
   ]
  },
  {
   "cell_type": "markdown",
   "metadata": {},
   "source": [
    "<div style=\"border-left: 3px solid #000; padding: 1px; padding-left: 10px; background: #F0FAFF; \">\n",
    "<p>This statement did two things:\n",
    "<ol>\n",
    "<li>Created a new module object by loading the \"numpy\" module\n",
    "<li>Assigned the name \"numpy\" to this new object\n",
    "</ol>\n",
    "\n",
    "</div>"
   ]
  },
  {
   "cell_type": "code",
   "execution_count": 2,
   "metadata": {},
   "outputs": [
    {
     "data": {
      "text/plain": [
       "<module 'numpy' from '/home/luke/.local/lib/python3.6/site-packages/numpy/__init__.py'>"
      ]
     },
     "execution_count": 2,
     "metadata": {},
     "output_type": "execute_result"
    }
   ],
   "source": [
    "numpy"
   ]
  },
  {
   "cell_type": "markdown",
   "metadata": {},
   "source": [
    "<div style=\"border-left: 3px solid #000; padding: 1px; padding-left: 10px; background: #F0FAFF; \">\n",
    "<p>The functionality contained within this module are accessed as <i>attributes</i>:\n",
    "\n",
    "</div>"
   ]
  },
  {
   "cell_type": "code",
   "execution_count": 3,
   "metadata": {},
   "outputs": [
    {
     "data": {
      "text/plain": [
       "3.141592653589793"
      ]
     },
     "execution_count": 3,
     "metadata": {},
     "output_type": "execute_result"
    }
   ],
   "source": [
    "numpy.pi"
   ]
  },
  {
   "cell_type": "markdown",
   "metadata": {},
   "source": [
    "<div style=\"border-left: 3px solid #000; padding: 1px; padding-left: 10px; background: #F0FAFF; \">\n",
    "\n",
    "<p>Numpy is a large library. Let's use the <code>dir</code> function, which you learned earlier, to view all of the available methods.\n",
    "\n",
    "</div>"
   ]
  },
  {
   "cell_type": "code",
   "execution_count": 4,
   "metadata": {},
   "outputs": [
    {
     "name": "stdout",
     "output_type": "stream",
     "text": [
      "['ALLOW_THREADS', 'AxisError', 'BUFSIZE', 'CLIP', 'ComplexWarning', 'DataSource', 'ERR_CALL', 'ERR_DEFAULT', 'ERR_IGNORE', 'ERR_LOG', 'ERR_PRINT', 'ERR_RAISE', 'ERR_WARN', 'FLOATING_POINT_SUPPORT', 'FPE_DIVIDEBYZERO', 'FPE_INVALID', 'FPE_OVERFLOW', 'FPE_UNDERFLOW', 'False_', 'Inf', 'Infinity', 'MAXDIMS', 'MAY_SHARE_BOUNDS', 'MAY_SHARE_EXACT', 'MachAr', 'ModuleDeprecationWarning', 'NAN', 'NINF', 'NZERO', 'NaN', 'PINF', 'PZERO', 'PackageLoader', 'RAISE', 'RankWarning', 'SHIFT_DIVIDEBYZERO', 'SHIFT_INVALID', 'SHIFT_OVERFLOW', 'SHIFT_UNDERFLOW', 'ScalarType', 'Tester', 'TooHardError', 'True_', 'UFUNC_BUFSIZE_DEFAULT', 'UFUNC_PYVALS_NAME', 'VisibleDeprecationWarning', 'WRAP', '_NoValue', '__NUMPY_SETUP__', '__all__', '__builtins__', '__cached__', '__config__', '__doc__', '__file__', '__git_revision__', '__loader__', '__name__', '__package__', '__path__', '__spec__', '__version__', '_distributor_init', '_globals', '_import_tools', '_mat', '_numpy_tester', 'abs', 'absolute', 'absolute_import', 'add', 'add_docstring', 'add_newdoc', 'add_newdoc_ufunc', 'add_newdocs', 'alen', 'all', 'allclose', 'alltrue', 'amax', 'amin', 'angle', 'any', 'append', 'apply_along_axis', 'apply_over_axes', 'arange', 'arccos', 'arccosh', 'arcsin', 'arcsinh', 'arctan', 'arctan2', 'arctanh', 'argmax', 'argmin', 'argpartition', 'argsort', 'argwhere', 'around', 'array', 'array2string', 'array_equal', 'array_equiv', 'array_repr', 'array_split', 'array_str', 'asanyarray', 'asarray', 'asarray_chkfinite', 'ascontiguousarray', 'asfarray', 'asfortranarray', 'asmatrix', 'asscalar', 'atleast_1d', 'atleast_2d', 'atleast_3d', 'average', 'bartlett', 'base_repr', 'bench', 'binary_repr', 'bincount', 'bitwise_and', 'bitwise_not', 'bitwise_or', 'bitwise_xor', 'blackman', 'block', 'bmat', 'bool', 'bool8', 'bool_', 'broadcast', 'broadcast_arrays', 'broadcast_to', 'busday_count', 'busday_offset', 'busdaycalendar', 'byte', 'byte_bounds', 'bytes0', 'bytes_', 'c_', 'can_cast', 'cast', 'cbrt', 'cdouble', 'ceil', 'cfloat', 'char', 'character', 'chararray', 'choose', 'clip', 'clongdouble', 'clongfloat', 'column_stack', 'common_type', 'compare_chararrays', 'compat', 'complex', 'complex128', 'complex256', 'complex64', 'complex_', 'complexfloating', 'compress', 'concatenate', 'conj', 'conjugate', 'convolve', 'copy', 'copysign', 'copyto', 'core', 'corrcoef', 'correlate', 'cos', 'cosh', 'count_nonzero', 'cov', 'cross', 'csingle', 'ctypeslib', 'cumprod', 'cumproduct', 'cumsum', 'datetime64', 'datetime_as_string', 'datetime_data', 'deg2rad', 'degrees', 'delete', 'deprecate', 'deprecate_with_doc', 'diag', 'diag_indices', 'diag_indices_from', 'diagflat', 'diagonal', 'diff', 'digitize', 'disp', 'divide', 'division', 'divmod', 'dot', 'double', 'dsplit', 'dstack', 'dtype', 'e', 'ediff1d', 'einsum', 'einsum_path', 'emath', 'empty', 'empty_like', 'equal', 'errstate', 'euler_gamma', 'exp', 'exp2', 'expand_dims', 'expm1', 'extract', 'eye', 'fabs', 'fastCopyAndTranspose', 'fft', 'fill_diagonal', 'find_common_type', 'finfo', 'fix', 'flatiter', 'flatnonzero', 'flexible', 'flip', 'fliplr', 'flipud', 'float', 'float128', 'float16', 'float32', 'float64', 'float_', 'float_power', 'floating', 'floor', 'floor_divide', 'fmax', 'fmin', 'fmod', 'format_float_positional', 'format_float_scientific', 'format_parser', 'frexp', 'frombuffer', 'fromfile', 'fromfunction', 'fromiter', 'frompyfunc', 'fromregex', 'fromstring', 'full', 'full_like', 'fv', 'generic', 'genfromtxt', 'geomspace', 'get_array_wrap', 'get_include', 'get_printoptions', 'getbufsize', 'geterr', 'geterrcall', 'geterrobj', 'gradient', 'greater', 'greater_equal', 'half', 'hamming', 'hanning', 'heaviside', 'histogram', 'histogram2d', 'histogramdd', 'hsplit', 'hstack', 'hypot', 'i0', 'identity', 'iinfo', 'imag', 'in1d', 'index_exp', 'indices', 'inexact', 'inf', 'info', 'infty', 'inner', 'insert', 'int', 'int0', 'int16', 'int32', 'int64', 'int8', 'int_', 'int_asbuffer', 'intc', 'integer', 'interp', 'intersect1d', 'intp', 'invert', 'ipmt', 'irr', 'is_busday', 'isclose', 'iscomplex', 'iscomplexobj', 'isfinite', 'isfortran', 'isin', 'isinf', 'isnan', 'isnat', 'isneginf', 'isposinf', 'isreal', 'isrealobj', 'isscalar', 'issctype', 'issubclass_', 'issubdtype', 'issubsctype', 'iterable', 'ix_', 'kaiser', 'kron', 'ldexp', 'left_shift', 'less', 'less_equal', 'lexsort', 'lib', 'linalg', 'linspace', 'little_endian', 'load', 'loads', 'loadtxt', 'log', 'log10', 'log1p', 'log2', 'logaddexp', 'logaddexp2', 'logical_and', 'logical_not', 'logical_or', 'logical_xor', 'logspace', 'long', 'longcomplex', 'longdouble', 'longfloat', 'longlong', 'lookfor', 'ma', 'mafromtxt', 'mask_indices', 'mat', 'math', 'matmul', 'matrix', 'matrixlib', 'max', 'maximum', 'maximum_sctype', 'may_share_memory', 'mean', 'median', 'memmap', 'meshgrid', 'mgrid', 'min', 'min_scalar_type', 'minimum', 'mintypecode', 'mirr', 'mod', 'modf', 'moveaxis', 'msort', 'multiply', 'nan', 'nan_to_num', 'nanargmax', 'nanargmin', 'nancumprod', 'nancumsum', 'nanmax', 'nanmean', 'nanmedian', 'nanmin', 'nanpercentile', 'nanprod', 'nanstd', 'nansum', 'nanvar', 'nbytes', 'ndarray', 'ndenumerate', 'ndfromtxt', 'ndim', 'ndindex', 'nditer', 'negative', 'nested_iters', 'newaxis', 'nextafter', 'nonzero', 'not_equal', 'nper', 'npv', 'numarray', 'number', 'obj2sctype', 'object', 'object0', 'object_', 'ogrid', 'oldnumeric', 'ones', 'ones_like', 'outer', 'packbits', 'pad', 'partition', 'percentile', 'pi', 'piecewise', 'pkgload', 'place', 'pmt', 'poly', 'poly1d', 'polyadd', 'polyder', 'polydiv', 'polyfit', 'polyint', 'polymul', 'polynomial', 'polysub', 'polyval', 'positive', 'power', 'ppmt', 'print_function', 'prod', 'product', 'promote_types', 'ptp', 'put', 'putmask', 'pv', 'r_', 'rad2deg', 'radians', 'random', 'rank', 'rate', 'ravel', 'ravel_multi_index', 'real', 'real_if_close', 'rec', 'recarray', 'recfromcsv', 'recfromtxt', 'reciprocal', 'record', 'remainder', 'repeat', 'require', 'reshape', 'resize', 'result_type', 'right_shift', 'rint', 'roll', 'rollaxis', 'roots', 'rot90', 'round', 'round_', 'row_stack', 's_', 'safe_eval', 'save', 'savetxt', 'savez', 'savez_compressed', 'sctype2char', 'sctypeDict', 'sctypeNA', 'sctypes', 'searchsorted', 'select', 'set_numeric_ops', 'set_printoptions', 'set_string_function', 'setbufsize', 'setdiff1d', 'seterr', 'seterrcall', 'seterrobj', 'setxor1d', 'shape', 'shares_memory', 'short', 'show_config', 'sign', 'signbit', 'signedinteger', 'sin', 'sinc', 'single', 'singlecomplex', 'sinh', 'size', 'sometrue', 'sort', 'sort_complex', 'source', 'spacing', 'split', 'sqrt', 'square', 'squeeze', 'stack', 'std', 'str', 'str0', 'str_', 'string_', 'subtract', 'sum', 'swapaxes', 'sys', 'take', 'tan', 'tanh', 'tensordot', 'test', 'testing', 'tile', 'timedelta64', 'trace', 'tracemalloc_domain', 'transpose', 'trapz', 'tri', 'tril', 'tril_indices', 'tril_indices_from', 'trim_zeros', 'triu', 'triu_indices', 'triu_indices_from', 'true_divide', 'trunc', 'typeDict', 'typeNA', 'typecodes', 'typename', 'ubyte', 'ufunc', 'uint', 'uint0', 'uint16', 'uint32', 'uint64', 'uint8', 'uintc', 'uintp', 'ulonglong', 'unicode', 'unicode_', 'union1d', 'unique', 'unpackbits', 'unravel_index', 'unsignedinteger', 'unwrap', 'ushort', 'vander', 'var', 'vdot', 'vectorize', 'version', 'void', 'void0', 'vsplit', 'vstack', 'warnings', 'where', 'who', 'zeros', 'zeros_like']\n"
     ]
    }
   ],
   "source": [
    "print(dir(numpy))"
   ]
  },
  {
   "cell_type": "markdown",
   "metadata": {},
   "source": [
    "<div style=\"border-left: 3px solid #000; padding: 1px; padding-left: 10px; background: #F0FAFF; \">\n",
    "<p>We can also use the <code>dir</code> command without an argument to see what's in our notebook's global 'namespace':\n",
    "\n",
    "</div>"
   ]
  },
  {
   "cell_type": "code",
   "execution_count": 5,
   "metadata": {},
   "outputs": [
    {
     "name": "stdout",
     "output_type": "stream",
     "text": [
      "['In', 'Out', '_', '_2', '_3', '__', '___', '__builtin__', '__builtins__', '__doc__', '__loader__', '__name__', '__package__', '__spec__', '_dh', '_i', '_i1', '_i2', '_i3', '_i4', '_i5', '_ih', '_ii', '_iii', '_oh', 'exit', 'get_ipython', 'numpy', 'quit']\n"
     ]
    }
   ],
   "source": [
    "print(dir())"
   ]
  },
  {
   "cell_type": "markdown",
   "metadata": {},
   "source": [
    "<div style=\"border-left: 3px solid #000; padding: 1px; padding-left: 10px; background: #F0FAFF; \">\n",
    "<p>Most of these are behind-the-scenes variables that your kernel is using to keep track of command history or other low-level attributes.\n",
    "\n",
    "<p>At this point, the only variable we've actually declared is <code>numpy</code>\n",
    "\n",
    "</div>"
   ]
  },
  {
   "cell_type": "markdown",
   "metadata": {},
   "source": [
    "<div style=\"border-left: 3px solid #000; padding: 1px; padding-left: 10px; background: #F0FAFF; \">\n",
    "<p><b>Importing specific functions from a module</b>\n",
    "<p>Another importing option is to import the specific functions that you need from a libary\n",
    "\n",
    "</div>"
   ]
  },
  {
   "cell_type": "code",
   "execution_count": 6,
   "metadata": {},
   "outputs": [],
   "source": [
    "from numpy import cos,pi"
   ]
  },
  {
   "cell_type": "markdown",
   "metadata": {},
   "source": [
    "<div style=\"border-left: 3px solid #000; padding: 1px; padding-left: 10px; background: #F0FAFF; \">\n",
    "<p>Note that, if we now look at the global namespace using <code>dir</code>, the two names that we've just imported are now visible, which means that they're globally accessible.\n",
    "\n",
    "</div>"
   ]
  },
  {
   "cell_type": "code",
   "execution_count": 7,
   "metadata": {},
   "outputs": [
    {
     "name": "stdout",
     "output_type": "stream",
     "text": [
      "['In', 'Out', '_', '_2', '_3', '__', '___', '__builtin__', '__builtins__', '__doc__', '__loader__', '__name__', '__package__', '__spec__', '_dh', '_i', '_i1', '_i2', '_i3', '_i4', '_i5', '_i6', '_i7', '_ih', '_ii', '_iii', '_oh', 'cos', 'exit', 'get_ipython', 'numpy', 'pi', 'quit']\n"
     ]
    }
   ],
   "source": [
    "print(dir())"
   ]
  },
  {
   "cell_type": "code",
   "execution_count": 8,
   "metadata": {},
   "outputs": [
    {
     "data": {
      "text/plain": [
       "-1.0"
      ]
     },
     "execution_count": 8,
     "metadata": {},
     "output_type": "execute_result"
    }
   ],
   "source": [
    "cos(pi)"
   ]
  },
  {
   "cell_type": "markdown",
   "metadata": {},
   "source": [
    "<div style=\"border-left: 3px solid #000; padding: 1px; padding-left: 10px; background: #F0FAFF; \">\n",
    "<p><b>Importing all attributes into the global namespace - A word of caution:</b>\n",
    "<p>It is possible to import all objects from a module:\n",
    "<pre>\n",
    "    from numpy import *\n",
    "</pre>\n",
    "\n",
    "<p>THIS IS GENERALLY DISCOURAGED. It makes a mess of your namespace, it makes it difficult to tell where any given name was defined, and it increases the likelihood of name conflicts.  In addition, against intuitive interpretation, it does not \"import everything\".  The behavior of this command is defined by the implementation of the module, so it can be difficult to predict what you will get.\n",
    "\n",
    "</div>"
   ]
  },
  {
   "cell_type": "markdown",
   "metadata": {},
   "source": [
    "<div style=\"border-left: 3px solid #000; padding: 1px; padding-left: 10px; background: #F0FAFF; \">\n",
    "<p><b>This is a common way to import:</b>\n",
    "<p>Packages can be renamed on import and standard shorthand notation has developed for various packages. For instance, Numpy is commonly imported as <code>np</code>. Following this convention is not required, but doing so makes it makes it easier to share code.\n",
    "</div>"
   ]
  },
  {
   "cell_type": "code",
   "execution_count": 9,
   "metadata": {},
   "outputs": [],
   "source": [
    "import numpy as np"
   ]
  },
  {
   "cell_type": "code",
   "execution_count": 10,
   "metadata": {},
   "outputs": [
    {
     "name": "stdout",
     "output_type": "stream",
     "text": [
      "1.7724538509055159\n"
     ]
    }
   ],
   "source": [
    "print(np.sqrt(np.pi))"
   ]
  },
  {
   "cell_type": "markdown",
   "metadata": {},
   "source": [
    "<div style=\"border-left: 3px solid #000; padding: 1px; padding-left: 10px; background: #F0FAFF; \">\n",
    "<h2>Installing new modules</h2>\n",
    "\n",
    "<p>Python comes with a large set of useful packages pre-installed, and Anaconda builds on those with an even larger set of computational tools. But every once in a while, we may need to install something new.\n",
    "\n",
    "<p>The most common place for developers to publish new packages is on the <a href=http://pypi.python.org>Python Package Index</a>, and the easiest way to install these packages is with the <code>pip</code> command. \n",
    "\n",
    "<p>Open a command prompt:\n",
    "<ul>\n",
    "<li>On Windows, ...\n",
    "<li>On macOS, ...\n",
    " <li>on Linux, ...\n",
    "</ul>\n",
    "\n",
    "\n",
    "<div style='color: #CCC; background-color: #000; font-family: monospace; white-space: pre; padding: 15px; margin: 10px; margin-left: 30px'><span style=\"color: #8DA; font-weight: bold;\">$ </span><span style=\"color: #FFF; font-weight: bold;\">pip install git+https://github.com/alleninstitute/allensdk@swdb_2019</span>\n",
    "\n",
    "Collecting allensdk\n",
    "  Downloading allensdk-0.13.2.tar.bz2 (377kB)\n",
    "    100% |████████████████████████████████| 378kB 1.5MB/s \n",
    ". . .\n",
    "Successfully installed allensdk-0.13.2\n",
    "</div>\n",
    "\n",
    "Under normal circumstances we would have used <code>pip install allensdk</code>.  For this workshop we will be using a prelease version of <code>allensdk</code>, which requires that we execute the more complicated command above.\n",
    "\n",
    "We have just installed a set of tools published by the Allen Institute that will allow us to access its released data. The <code>pip</code> command automatically downloads and installs the package from pypi.python.org, as well as any other packages that it depends on.\n",
    "\n",
    "Let's make sure the package is importable:\n",
    "<div> <!-- NOTE: this div is a workaround for a jupyter HTML export bug --> </div>\n",
    "</div>"
   ]
  },
  {
   "cell_type": "code",
   "execution_count": 11,
   "metadata": {},
   "outputs": [
    {
     "data": {
      "text/plain": [
       "<module 'allensdk' from '/home/luke/anaconda3/lib/python3.6/site-packages/allensdk/__init__.py'>"
      ]
     },
     "execution_count": 11,
     "metadata": {},
     "output_type": "execute_result"
    }
   ],
   "source": [
    "import allensdk\n",
    "allensdk"
   ]
  },
  {
   "cell_type": "markdown",
   "metadata": {},
   "source": [
    "<div style=\"border-left: 3px solid #000; padding: 1px; padding-left: 10px; background: #F0FAFF; \">\n",
    "<h2>Module import paths</h2>\n",
    "\n",
    "<p>When you imported numpy and allensdk above, you didn't need to specify the location of the module files. How did Python know where to find them?\n",
    "\n",
    "<p>Python keeps a list of locations on your filesystem where installed packages may reside. When we ask Python to import a new module, it checks each location in the list for either a module or a package with the name you specified.\n",
    "\n",
    "<p>We can access this list from the <code>sys</code> module, which is part of the Python standard library:\n",
    "</div>"
   ]
  },
  {
   "cell_type": "code",
   "execution_count": 12,
   "metadata": {},
   "outputs": [
    {
     "data": {
      "text/plain": [
       "['',\n",
       " '/home/luke/anaconda3/lib/python36.zip',\n",
       " '/home/luke/anaconda3/lib/python3.6',\n",
       " '/home/luke/anaconda3/lib/python3.6/lib-dynload',\n",
       " '/home/luke/.local/lib/python3.6/site-packages',\n",
       " '/home/luke/anaconda3/lib/python3.6/site-packages',\n",
       " '/home/luke/pyqtgraph',\n",
       " '/home/luke/anaconda3/lib/python3.6/site-packages/IPython/extensions',\n",
       " '/home/luke/.ipython']"
      ]
     },
     "execution_count": 12,
     "metadata": {},
     "output_type": "execute_result"
    }
   ],
   "source": [
    "import sys\n",
    "sys.path"
   ]
  },
  {
   "cell_type": "markdown",
   "metadata": {},
   "source": [
    "<div style=\"border-left: 3px solid #000; padding: 1px; padding-left: 10px; background: #F0FAFF; \">\n",
    "<p>When we install new packages, their files must be added to one of the entries in <code>sys.path</code>; otherwise, they will not be importable. (We could also modify <code>sys.path</code> to include the new location of the package, but this is generally discouraged.)\n",
    "\n",
    "<p>Let's see what happens when we try to import a module that cannot be found:\n",
    "</div>"
   ]
  },
  {
   "cell_type": "code",
   "execution_count": 13,
   "metadata": {},
   "outputs": [
    {
     "ename": "ModuleNotFoundError",
     "evalue": "No module named 'not_a_real_module'",
     "output_type": "error",
     "traceback": [
      "\u001b[0;31m---------------------------------------------------------------------------\u001b[0m",
      "\u001b[0;31mModuleNotFoundError\u001b[0m                       Traceback (most recent call last)",
      "\u001b[0;32m<ipython-input-13-01a55128fc3a>\u001b[0m in \u001b[0;36m<module>\u001b[0;34m()\u001b[0m\n\u001b[0;32m----> 1\u001b[0;31m \u001b[0;32mimport\u001b[0m \u001b[0mnot_a_real_module\u001b[0m\u001b[0;34m\u001b[0m\u001b[0m\n\u001b[0m",
      "\u001b[0;31mModuleNotFoundError\u001b[0m: No module named 'not_a_real_module'"
     ]
    }
   ],
   "source": [
    "import not_a_real_module"
   ]
  },
  {
   "cell_type": "markdown",
   "metadata": {},
   "source": [
    "<div style=\"border-left: 3px solid #000; padding: 1px; padding-left: 10px; background: #F0FAFF; \">\n",
    "<p>The error above is a common source of frustration for Python beginners, and it happens most frequently when there are multiple Python environments installed on a machine. When we install new packages, it is important to be aware of <i>which environment</i> the package is being installed into. Find the actual installed location of the module files, and verify that these are indeed in your <code>sys.path</code>. \n",
    "\n",
    "</div>"
   ]
  },
  {
   "cell_type": "markdown",
   "metadata": {},
   "source": [
    "<div style=\"background: #DFF0D8; border-radius: 3px; padding: 10px;\">\n",
    "<p><b>Exercise 3.1:</b>\n",
    "<p>Find the location of the allensdk module on your disk and verify that it is in <code>sys.path</code>.\n",
    "</div>"
   ]
  },
  {
   "cell_type": "markdown",
   "metadata": {},
   "source": [
    "<div style=\"border-left: 3px solid #000; padding: 1px; padding-left: 10px; background: #F0FAFF; \">\n",
    "<h2>Using the OS module for dealing with paths, filenames and other miscellaneous operating system functions</h2>\n",
    "\n",
    "<p>Directories (folders) and files on your hard drives(s) are organized in a tree structure. Nodes are directories and files, while edges indicate containment. As you navigate from directory to directory, you trace out a path through this tree. Paths can be represented as strings like this in Linux and Mac:\n",
    "\n",
    "<p>&nbsp;&nbsp;&nbsp;&nbsp;<code>path = \"/folder_a/folder_b/file.name\"</code>\n",
    "\n",
    "<p>And like this on Windows:\n",
    "\n",
    "<p>&nbsp;&nbsp;&nbsp;&nbsp;<code>path = \"C:\\\\folder_a\\\\folder_b\\\\file.name\"</code>\n",
    "\n",
    "<p>We use these path strings when instructing Python to read and write files.\n",
    "\n",
    "<p>Dealing with paths will be substantially easier if you first import the <code>os</code> module:\n",
    "\n",
    "</div>"
   ]
  },
  {
   "cell_type": "code",
   "execution_count": 14,
   "metadata": {},
   "outputs": [],
   "source": [
    "import os"
   ]
  },
  {
   "cell_type": "markdown",
   "metadata": {},
   "source": [
    "<div style=\"background: #DFF0D8; border-radius: 3px; padding: 10px;\">\n",
    "<p><b>Exercise 3.2:</b>\n",
    "<p><code>os.path.join</code> is a simple function that joins together multiple folder names using either a forward slash <code>/</code> or backslash <code>\\</code> depending on the operating system. \n",
    "\n",
    "<p>&nbsp;&nbsp;&nbsp;&nbsp;<code>os.path.join('Users', 'my_username', 'my_data_folder')</code>\n",
    "\n",
    "<p>This is a convenient way to generate path names in code that you want to be portable.\n",
    "\n",
    "<p>Replace the names above with real folder names to a path on your system and see what is output:\n",
    "\n",
    "</div>"
   ]
  },
  {
   "cell_type": "code",
   "execution_count": 15,
   "metadata": {},
   "outputs": [
    {
     "name": "stdout",
     "output_type": "stream",
     "text": [
      "users/me/desktop\n"
     ]
    }
   ],
   "source": [
    "name_1='users'\n",
    "name_2='me'\n",
    "name_3='desktop'\n",
    "print(os.path.join(name_1, name_2, name_3))"
   ]
  },
  {
   "cell_type": "markdown",
   "metadata": {},
   "source": [
    "<div style=\"border-left: 3px solid #000; padding: 1px; padding-left: 10px; background: #F0FAFF; \">\n",
    "<p>Another couple of handy functions are <code>getcwd</code> and <code>listdir</code>\n",
    "</div>"
   ]
  },
  {
   "cell_type": "code",
   "execution_count": 16,
   "metadata": {},
   "outputs": [
    {
     "name": "stdout",
     "output_type": "stream",
     "text": [
      "current directory:\n",
      "/home/luke/SWDB_2018/PythonBootcamp/solutions\n",
      "\n",
      "\n",
      "files in current directory:\n"
     ]
    },
    {
     "data": {
      "text/plain": [
       "['05_Custom_Modules_and_Version_Control_solutions.html',\n",
       " '01_Basic_Python_I_Object_and_Data_Structures_solutions.html',\n",
       " '.ipynb_checkpoints',\n",
       " '06_Introduction_To_Matplotlib_solutions.ipynb',\n",
       " '09_bike_crossing_solutions.ipynb',\n",
       " '03_Intro_To_Scientific_Computing_solutions.html',\n",
       " '05_Custom_Modules_and_Version_Control_solutions.ipynb',\n",
       " '01_Basic_Python_I_Object_and_Data_Structures_solutions.ipynb',\n",
       " '04_Introduction_To_Numpy_solutions.html',\n",
       " '04_Introduction_To_Numpy_solutions.ipynb',\n",
       " '02_Basic_Python_II_Control_Flow_and_Functions_solutions.html',\n",
       " '09_bike_crossing_solutions.html',\n",
       " '11_Image_data_solutions.html',\n",
       " '02_Basic_Python_II_Control_Flow_and_Functions_solutions.ipynb',\n",
       " '06_Introduction_To_Matplotlib_solutions.html',\n",
       " '11_Image_data_solutions.ipynb',\n",
       " '07_Introduction_To_Pandas_solutions.ipynb',\n",
       " '07_Introduction_To_Pandas_solutions.html',\n",
       " '03_Intro_To_Scientific_Computing_solutions.ipynb']"
      ]
     },
     "execution_count": 16,
     "metadata": {},
     "output_type": "execute_result"
    }
   ],
   "source": [
    "print(\"current directory:\")\n",
    "print(os.getcwd())\n",
    "print('\\n')\n",
    "print(\"files in current directory:\")\n",
    "os.listdir(os.getcwd())"
   ]
  },
  {
   "cell_type": "markdown",
   "metadata": {},
   "source": [
    "<div style=\"border-left: 3px solid #000; padding: 1px; padding-left: 10px; background: #F0FAFF; \">\n",
    "<p>To find out if a path actually exists on your drive, use:\n",
    "<p>&nbsp;&nbsp;&nbsp;&nbsp;<code>os.path.exists(path)</code>\n",
    "</div>"
   ]
  },
  {
   "cell_type": "markdown",
   "metadata": {},
   "source": [
    "<div style=\"background: #DFF0D8; border-radius: 3px; padding: 10px;\">\n",
    "<p><b>Exercise 3.3:</b>\n",
    "<p>Create a folder called <code>TempFolder</code> somewhere on your local drive\n",
    "<ol>\n",
    "<li>Generate the full path using the <code>os.path.join</code> function\n",
    "<li>Use the <code>os.path.exists</code> function to ensure that the folder doesn't already exist (confirm that it returns False)\n",
    "<li>Create the directory using <code>os.mkdir</code>\n",
    "<li>Confirm that it now exists using the <code>os.path.exists</code> function again\n",
    "<li>Navigate to the folder using your file explorer to confirm that it's there\n",
    "</ol>\n",
    "</div>"
   ]
  },
  {
   "cell_type": "code",
   "execution_count": 17,
   "metadata": {},
   "outputs": [
    {
     "name": "stdout",
     "output_type": "stream",
     "text": [
      "False\n",
      "True\n"
     ]
    }
   ],
   "source": [
    "new_path = os.path.join('..', 'support_files', 'TempFolder')\n",
    "\n",
    "print(os.path.exists(new_path))\n",
    "\n",
    "os.mkdir(new_path)\n",
    "\n",
    "print(os.path.exists(new_path))"
   ]
  },
  {
   "cell_type": "markdown",
   "metadata": {
    "collapsed": true
   },
   "source": [
    "<div style=\"border-left: 3px solid #000; padding: 1px; padding-left: 10px; background: #F0FAFF; \">\n",
    "<left><h1>A Brief Introduction to Scipy</h1></left>\n",
    "<p>The Scipy library has a lot of useful functions for signal processing, linear algebra, statistical testing, etc. Given its breadth, and its overlap with Numpy, we've elected not to cover it in detail here.\n",
    "\n",
    "</div>"
   ]
  },
  {
   "cell_type": "markdown",
   "metadata": {
    "collapsed": true
   },
   "source": [
    "<div style=\"border-left: 3px solid #000; padding: 1px; padding-left: 10px; background: #F0FAFF; \">\n",
    "\n",
    "<p><b>The Scipy library has ~20 subpackages</b>\n",
    "<p>each subpackage contains a lot of useful functions<p>\n",
    "\n",
    "<ol>\n",
    "<li><b>Clustering package</b> (scipy.cluster)\n",
    "<li>Constants (scipy.constants)\n",
    "<li><b>Discrete Fourier transforms</b> (scipy.fftpack)\n",
    "<li>Integration and ODEs (scipy.integrate)\n",
    "<li>Interpolation (scipy.interpolate)\n",
    "<li>Input and output (scipy.io)\n",
    "<li><b>Linear algebra</b> (scipy.linalg)\n",
    "<li>Miscellaneous routines (scipy.misc)\n",
    "<li><b>Multi-dimensional image processing</b> (scipy.ndimage)\n",
    "<li>Orthogonal distance regression (scipy.odr)\n",
    "<li>Optimization and root finding (scipy.optimize)\n",
    "<li><b>Signal processing</b> (scipy.signal)\n",
    "<li>Sparse matrices (scipy.sparse)\n",
    "<li>Sparse linear algebra (scipy.sparse.linalg)\n",
    "<li>Compressed Sparse Graph Routines (scipy.sparse.csgraph)\n",
    "<li>Spatial algorithms and data structures (scipy.spatial)\n",
    "<li>Special functions (scipy.special)\n",
    "<li><b>Statistical functions</b> (scipy.stats)\n",
    "<li>Statistical functions for masked arrays (scipy.stats.mstats)\n",
    "<li>C/C++ integration (scipy.weave)\n",
    "</ol>\n",
    "</div>"
   ]
  },
  {
   "cell_type": "markdown",
   "metadata": {},
   "source": [
    "<div style=\"background: #DFF0D8; border-radius: 3px; padding: 10px;\">\n",
    "<p><b>Exercise 3.4:</b>\n",
    "<p>Spend a few minutes exploring the scipy documnention here:\n",
    "<p><a href=http://docs.scipy.org/doc/scipy/reference/>scipy reference</a>\n",
    "\n",
    "\n",
    "</div>"
   ]
  }
 ],
 "metadata": {
  "kernelspec": {
   "display_name": "Python 3",
   "language": "python",
   "name": "python3"
  },
  "language_info": {
   "codemirror_mode": {
    "name": "ipython",
    "version": 3
   },
   "file_extension": ".py",
   "mimetype": "text/x-python",
   "name": "python",
   "nbconvert_exporter": "python",
   "pygments_lexer": "ipython3",
   "version": "3.7.3"
  }
 },
 "nbformat": 4,
 "nbformat_minor": 1
}
